{
 "cells": [
  {
   "cell_type": "markdown",
   "metadata": {},
   "source": [
    "![example](images/director_shot.jpeg)"
   ]
  },
  {
   "cell_type": "markdown",
   "metadata": {},
   "source": [
    "# Project Title\n",
    "\n",
    "**Authors:** Student 1, Student 2, Student 3\n",
    "***"
   ]
  },
  {
   "cell_type": "markdown",
   "metadata": {},
   "source": [
    "## 1. Overview\n",
    "\n",
    "A one-paragraph overview of the project, including the business problem, data, methods, results and recommendations."
   ]
  },
  {
   "cell_type": "markdown",
   "metadata": {},
   "source": [
    "## 2. Business Problem\n",
    "\n",
    "Summary of the business problem you are trying to solve, and the data questions that you plan to answer to solve them.\n",
    "\n",
    "***\n",
    "Questions to consider:\n",
    "* What are the business's pain points related to this project?\n",
    "* How did you pick the data analysis question(s) that you did?\n",
    "* Why are these questions important from a business perspective?\n",
    "***"
   ]
  },
  {
   "cell_type": "markdown",
   "metadata": {},
   "source": [
    "## 3. Data Understanding\n",
    "\n",
    "Describe the data being used for this project.\n",
    "***\n",
    "Questions to consider:\n",
    "* Where did the data come from, and how do they relate to the data analysis questions?\n",
    "* What do the data represent? Who is in the sample and what variables are included?\n",
    "* What is the target variable?\n",
    "* What are the properties of the variables you intend to use?\n",
    "***"
   ]
  },
  {
   "cell_type": "code",
   "execution_count": 69,
   "metadata": {},
   "outputs": [],
   "source": [
    "# Import standard packages\n",
    "import pandas as pd\n",
    "import numpy as np\n",
    "import matplotlib.pyplot as plt\n",
    "import seaborn as sns\n",
    "from scipy import stats\n",
    "import statistics \n",
    "\n",
    "%matplotlib inline"
   ]
  },
  {
   "cell_type": "code",
   "execution_count": 70,
   "metadata": {},
   "outputs": [],
   "source": [
    "# Converting some of the csv files into panda dataframes\n",
    "\n",
    "imdb_title = pd.read_csv('./data/zippedData/imdb.title.basics.csv.gz')\n",
    "imdb_title_akas = pd.read_csv('./data/zippedData/imdb.title.akas.csv.gz')\n",
    "imdb_ratings = pd.read_csv('./data/zippedData/imdb.title.ratings.csv.gz')\n",
    "imdb_names = pd.read_csv('./data/zippedData/imdb.name.basics.csv.gz') \n",
    "imdb_principals = pd.read_csv('./data/zippedData/imdb.title.principals.csv.gz') \n",
    "imdb_crew = pd.read_csv('./data/zippedData/imdb.title.crew.csv.gz') \n",
    "bom_gross = pd.read_csv('./data/zippedData/bom.movie_gross.csv.gz')\n"
   ]
  },
  {
   "cell_type": "markdown",
   "metadata": {},
   "source": [
    "### 3.1 Exploring databases using .info()\n",
    "\n",
    "#### 3.1.1. Database imdb.title.basics\n",
    "Below, we notice that only the columns runtime_minutes and genres have null values"
   ]
  },
  {
   "cell_type": "code",
   "execution_count": 71,
   "metadata": {
    "scrolled": true
   },
   "outputs": [
    {
     "name": "stdout",
     "output_type": "stream",
     "text": [
      "<class 'pandas.core.frame.DataFrame'>\n",
      "RangeIndex: 146144 entries, 0 to 146143\n",
      "Data columns (total 6 columns):\n",
      " #   Column           Non-Null Count   Dtype  \n",
      "---  ------           --------------   -----  \n",
      " 0   tconst           146144 non-null  object \n",
      " 1   primary_title    146144 non-null  object \n",
      " 2   original_title   146123 non-null  object \n",
      " 3   start_year       146144 non-null  int64  \n",
      " 4   runtime_minutes  114405 non-null  float64\n",
      " 5   genres           140736 non-null  object \n",
      "dtypes: float64(1), int64(1), object(4)\n",
      "memory usage: 6.7+ MB\n"
     ]
    }
   ],
   "source": [
    "imdb_title.info()\n"
   ]
  },
  {
   "cell_type": "markdown",
   "metadata": {},
   "source": [
    "#### 3.1.2. Database imdb.title.akas\n",
    "Below, we notice that few columns have null values\n"
   ]
  },
  {
   "cell_type": "code",
   "execution_count": 72,
   "metadata": {},
   "outputs": [
    {
     "name": "stdout",
     "output_type": "stream",
     "text": [
      "<class 'pandas.core.frame.DataFrame'>\n",
      "RangeIndex: 331703 entries, 0 to 331702\n",
      "Data columns (total 8 columns):\n",
      " #   Column             Non-Null Count   Dtype  \n",
      "---  ------             --------------   -----  \n",
      " 0   title_id           331703 non-null  object \n",
      " 1   ordering           331703 non-null  int64  \n",
      " 2   title              331703 non-null  object \n",
      " 3   region             278410 non-null  object \n",
      " 4   language           41715 non-null   object \n",
      " 5   types              168447 non-null  object \n",
      " 6   attributes         14925 non-null   object \n",
      " 7   is_original_title  331678 non-null  float64\n",
      "dtypes: float64(1), int64(1), object(6)\n",
      "memory usage: 20.2+ MB\n"
     ]
    }
   ],
   "source": [
    "imdb_title_akas.info()\n"
   ]
  },
  {
   "cell_type": "markdown",
   "metadata": {},
   "source": [
    "#### 3.1.3. Database imdb.ratings\n",
    "Below we notice that all columns have values"
   ]
  },
  {
   "cell_type": "code",
   "execution_count": 73,
   "metadata": {},
   "outputs": [
    {
     "name": "stdout",
     "output_type": "stream",
     "text": [
      "<class 'pandas.core.frame.DataFrame'>\n",
      "RangeIndex: 73856 entries, 0 to 73855\n",
      "Data columns (total 3 columns):\n",
      " #   Column         Non-Null Count  Dtype  \n",
      "---  ------         --------------  -----  \n",
      " 0   tconst         73856 non-null  object \n",
      " 1   averagerating  73856 non-null  float64\n",
      " 2   numvotes       73856 non-null  int64  \n",
      "dtypes: float64(1), int64(1), object(1)\n",
      "memory usage: 1.7+ MB\n"
     ]
    }
   ],
   "source": [
    "imdb_ratings.info()\n"
   ]
  },
  {
   "cell_type": "markdown",
   "metadata": {},
   "source": [
    "#### 3.1.4. Database bom_gross\n",
    "Unlike imdb datasets, this one gives us information about domestic and foreign gross. All columns except title have null values"
   ]
  },
  {
   "cell_type": "code",
   "execution_count": 74,
   "metadata": {},
   "outputs": [
    {
     "name": "stdout",
     "output_type": "stream",
     "text": [
      "<class 'pandas.core.frame.DataFrame'>\n",
      "RangeIndex: 3387 entries, 0 to 3386\n",
      "Data columns (total 5 columns):\n",
      " #   Column          Non-Null Count  Dtype  \n",
      "---  ------          --------------  -----  \n",
      " 0   title           3387 non-null   object \n",
      " 1   studio          3382 non-null   object \n",
      " 2   domestic_gross  3359 non-null   float64\n",
      " 3   foreign_gross   2037 non-null   object \n",
      " 4   year            3387 non-null   int64  \n",
      "dtypes: float64(1), int64(1), object(3)\n",
      "memory usage: 132.4+ KB\n"
     ]
    }
   ],
   "source": [
    "bom_gross.info()\n"
   ]
  },
  {
   "cell_type": "markdown",
   "metadata": {},
   "source": [
    "### 3.2 Exploring databases using .head() and .value_counts()"
   ]
  },
  {
   "cell_type": "markdown",
   "metadata": {},
   "source": [
    "#### 3.2.1. Database imdb.title.basics"
   ]
  },
  {
   "cell_type": "code",
   "execution_count": 75,
   "metadata": {},
   "outputs": [
    {
     "data": {
      "text/html": [
       "<div>\n",
       "<style scoped>\n",
       "    .dataframe tbody tr th:only-of-type {\n",
       "        vertical-align: middle;\n",
       "    }\n",
       "\n",
       "    .dataframe tbody tr th {\n",
       "        vertical-align: top;\n",
       "    }\n",
       "\n",
       "    .dataframe thead th {\n",
       "        text-align: right;\n",
       "    }\n",
       "</style>\n",
       "<table border=\"1\" class=\"dataframe\">\n",
       "  <thead>\n",
       "    <tr style=\"text-align: right;\">\n",
       "      <th></th>\n",
       "      <th>tconst</th>\n",
       "      <th>primary_title</th>\n",
       "      <th>original_title</th>\n",
       "      <th>start_year</th>\n",
       "      <th>runtime_minutes</th>\n",
       "      <th>genres</th>\n",
       "    </tr>\n",
       "  </thead>\n",
       "  <tbody>\n",
       "    <tr>\n",
       "      <th>0</th>\n",
       "      <td>tt0063540</td>\n",
       "      <td>Sunghursh</td>\n",
       "      <td>Sunghursh</td>\n",
       "      <td>2013</td>\n",
       "      <td>175.0</td>\n",
       "      <td>Action,Crime,Drama</td>\n",
       "    </tr>\n",
       "    <tr>\n",
       "      <th>1</th>\n",
       "      <td>tt0066787</td>\n",
       "      <td>One Day Before the Rainy Season</td>\n",
       "      <td>Ashad Ka Ek Din</td>\n",
       "      <td>2019</td>\n",
       "      <td>114.0</td>\n",
       "      <td>Biography,Drama</td>\n",
       "    </tr>\n",
       "    <tr>\n",
       "      <th>2</th>\n",
       "      <td>tt0069049</td>\n",
       "      <td>The Other Side of the Wind</td>\n",
       "      <td>The Other Side of the Wind</td>\n",
       "      <td>2018</td>\n",
       "      <td>122.0</td>\n",
       "      <td>Drama</td>\n",
       "    </tr>\n",
       "    <tr>\n",
       "      <th>3</th>\n",
       "      <td>tt0069204</td>\n",
       "      <td>Sabse Bada Sukh</td>\n",
       "      <td>Sabse Bada Sukh</td>\n",
       "      <td>2018</td>\n",
       "      <td>NaN</td>\n",
       "      <td>Comedy,Drama</td>\n",
       "    </tr>\n",
       "    <tr>\n",
       "      <th>4</th>\n",
       "      <td>tt0100275</td>\n",
       "      <td>The Wandering Soap Opera</td>\n",
       "      <td>La Telenovela Errante</td>\n",
       "      <td>2017</td>\n",
       "      <td>80.0</td>\n",
       "      <td>Comedy,Drama,Fantasy</td>\n",
       "    </tr>\n",
       "  </tbody>\n",
       "</table>\n",
       "</div>"
      ],
      "text/plain": [
       "      tconst                    primary_title              original_title  \\\n",
       "0  tt0063540                        Sunghursh                   Sunghursh   \n",
       "1  tt0066787  One Day Before the Rainy Season             Ashad Ka Ek Din   \n",
       "2  tt0069049       The Other Side of the Wind  The Other Side of the Wind   \n",
       "3  tt0069204                  Sabse Bada Sukh             Sabse Bada Sukh   \n",
       "4  tt0100275         The Wandering Soap Opera       La Telenovela Errante   \n",
       "\n",
       "   start_year  runtime_minutes                genres  \n",
       "0        2013            175.0    Action,Crime,Drama  \n",
       "1        2019            114.0       Biography,Drama  \n",
       "2        2018            122.0                 Drama  \n",
       "3        2018              NaN          Comedy,Drama  \n",
       "4        2017             80.0  Comedy,Drama,Fantasy  "
      ]
     },
     "execution_count": 75,
     "metadata": {},
     "output_type": "execute_result"
    }
   ],
   "source": [
    "imdb_title.head()"
   ]
  },
  {
   "cell_type": "code",
   "execution_count": 76,
   "metadata": {},
   "outputs": [
    {
     "data": {
      "text/plain": [
       "tt9188000    1\n",
       "tt5167966    1\n",
       "tt4522176    1\n",
       "tt9151326    1\n",
       "tt4729856    1\n",
       "            ..\n",
       "tt7617140    1\n",
       "tt8059118    1\n",
       "tt2870706    1\n",
       "tt7314118    1\n",
       "tt9120490    1\n",
       "Name: tconst, Length: 146144, dtype: int64"
      ]
     },
     "execution_count": 76,
     "metadata": {},
     "output_type": "execute_result"
    }
   ],
   "source": [
    "imdb_title['tconst'].value_counts()"
   ]
  },
  {
   "cell_type": "markdown",
   "metadata": {},
   "source": [
    "**Observation:** each tconst have a unique value. IMDB website defines tconst as \"alphanumer unique identifier of the title\". As such, we will use tconst to merge title_basics and ratings"
   ]
  },
  {
   "cell_type": "code",
   "execution_count": 77,
   "metadata": {},
   "outputs": [
    {
     "data": {
      "text/plain": [
       "Home                        24\n",
       "The Return                  20\n",
       "Broken                      20\n",
       "Homecoming                  16\n",
       "Alone                       16\n",
       "                            ..\n",
       "State of Bacon               1\n",
       "XX                           1\n",
       "You Can Just Learn It        1\n",
       "Marilyn! The New Musical     1\n",
       "Ghosts of Darkness           1\n",
       "Name: primary_title, Length: 136071, dtype: int64"
      ]
     },
     "execution_count": 77,
     "metadata": {},
     "output_type": "execute_result"
    }
   ],
   "source": [
    "imdb_title['primary_title'].value_counts()\n"
   ]
  },
  {
   "cell_type": "markdown",
   "metadata": {},
   "source": [
    "**Observation:** IMDB website defines Primary title as follows: the more popular title / the title used by the filmmakers on promotional materials at the point of release"
   ]
  },
  {
   "cell_type": "code",
   "execution_count": 78,
   "metadata": {},
   "outputs": [
    {
     "data": {
      "text/plain": [
       "Broken                        19\n",
       "Home                          18\n",
       "The Return                    17\n",
       "Alone                         13\n",
       "Freedom                       13\n",
       "                              ..\n",
       "White Wash                     1\n",
       "Sex & Drugs & Rock & Roll      1\n",
       "Conversation with a Cactus     1\n",
       "Yajuu onna keiji Mia           1\n",
       "Ghosts of Darkness             1\n",
       "Name: original_title, Length: 137773, dtype: int64"
      ]
     },
     "execution_count": 78,
     "metadata": {},
     "output_type": "execute_result"
    }
   ],
   "source": [
    "imdb_title['original_title'].value_counts()\n"
   ]
  },
  {
   "cell_type": "code",
   "execution_count": 79,
   "metadata": {},
   "outputs": [
    {
     "data": {
      "text/plain": [
       "2017    17504\n",
       "2016    17272\n",
       "2018    16849\n",
       "2015    16243\n",
       "2014    15589\n",
       "2013    14709\n",
       "2012    13787\n",
       "2011    12900\n",
       "2010    11849\n",
       "2019     8379\n",
       "2020      937\n",
       "2021       83\n",
       "2022       32\n",
       "2023        5\n",
       "2024        2\n",
       "2027        1\n",
       "2026        1\n",
       "2025        1\n",
       "2115        1\n",
       "Name: start_year, dtype: int64"
      ]
     },
     "execution_count": 79,
     "metadata": {},
     "output_type": "execute_result"
    }
   ],
   "source": [
    "imdb_title['start_year'].value_counts()\n"
   ]
  },
  {
   "cell_type": "markdown",
   "metadata": {},
   "source": [
    "**Note:** How is it possible that the start year are beyon actual year? eg 2115"
   ]
  },
  {
   "cell_type": "code",
   "execution_count": 80,
   "metadata": {},
   "outputs": [
    {
     "data": {
      "text/plain": [
       "90.0     7131\n",
       "80.0     3526\n",
       "85.0     2915\n",
       "100.0    2662\n",
       "95.0     2549\n",
       "         ... \n",
       "382.0       1\n",
       "724.0       1\n",
       "808.0       1\n",
       "287.0       1\n",
       "540.0       1\n",
       "Name: runtime_minutes, Length: 367, dtype: int64"
      ]
     },
     "execution_count": 80,
     "metadata": {},
     "output_type": "execute_result"
    }
   ],
   "source": [
    "imdb_title['runtime_minutes'].value_counts()\n"
   ]
  },
  {
   "cell_type": "code",
   "execution_count": 81,
   "metadata": {},
   "outputs": [
    {
     "data": {
      "text/plain": [
       "Documentary                     32185\n",
       "Drama                           21486\n",
       "Comedy                           9177\n",
       "Horror                           4372\n",
       "Comedy,Drama                     3519\n",
       "                                ...  \n",
       "Comedy,Documentary,Western          1\n",
       "Adventure,History,Sci-Fi            1\n",
       "Action,Documentary,Thriller         1\n",
       "Documentary,Music,Reality-TV        1\n",
       "Comedy,History,Sport                1\n",
       "Name: genres, Length: 1085, dtype: int64"
      ]
     },
     "execution_count": 81,
     "metadata": {},
     "output_type": "execute_result"
    }
   ],
   "source": [
    "imdb_title['genres'].value_counts()\n"
   ]
  },
  {
   "cell_type": "markdown",
   "metadata": {},
   "source": [
    "#### 3.2.1. Database imdb.ratings"
   ]
  },
  {
   "cell_type": "code",
   "execution_count": 82,
   "metadata": {},
   "outputs": [
    {
     "data": {
      "text/html": [
       "<div>\n",
       "<style scoped>\n",
       "    .dataframe tbody tr th:only-of-type {\n",
       "        vertical-align: middle;\n",
       "    }\n",
       "\n",
       "    .dataframe tbody tr th {\n",
       "        vertical-align: top;\n",
       "    }\n",
       "\n",
       "    .dataframe thead th {\n",
       "        text-align: right;\n",
       "    }\n",
       "</style>\n",
       "<table border=\"1\" class=\"dataframe\">\n",
       "  <thead>\n",
       "    <tr style=\"text-align: right;\">\n",
       "      <th></th>\n",
       "      <th>tconst</th>\n",
       "      <th>averagerating</th>\n",
       "      <th>numvotes</th>\n",
       "    </tr>\n",
       "  </thead>\n",
       "  <tbody>\n",
       "    <tr>\n",
       "      <th>0</th>\n",
       "      <td>tt10356526</td>\n",
       "      <td>8.3</td>\n",
       "      <td>31</td>\n",
       "    </tr>\n",
       "    <tr>\n",
       "      <th>1</th>\n",
       "      <td>tt10384606</td>\n",
       "      <td>8.9</td>\n",
       "      <td>559</td>\n",
       "    </tr>\n",
       "    <tr>\n",
       "      <th>2</th>\n",
       "      <td>tt1042974</td>\n",
       "      <td>6.4</td>\n",
       "      <td>20</td>\n",
       "    </tr>\n",
       "    <tr>\n",
       "      <th>3</th>\n",
       "      <td>tt1043726</td>\n",
       "      <td>4.2</td>\n",
       "      <td>50352</td>\n",
       "    </tr>\n",
       "    <tr>\n",
       "      <th>4</th>\n",
       "      <td>tt1060240</td>\n",
       "      <td>6.5</td>\n",
       "      <td>21</td>\n",
       "    </tr>\n",
       "  </tbody>\n",
       "</table>\n",
       "</div>"
      ],
      "text/plain": [
       "       tconst  averagerating  numvotes\n",
       "0  tt10356526            8.3        31\n",
       "1  tt10384606            8.9       559\n",
       "2   tt1042974            6.4        20\n",
       "3   tt1043726            4.2     50352\n",
       "4   tt1060240            6.5        21"
      ]
     },
     "execution_count": 82,
     "metadata": {},
     "output_type": "execute_result"
    }
   ],
   "source": [
    "imdb_ratings.head()\n"
   ]
  },
  {
   "cell_type": "code",
   "execution_count": 83,
   "metadata": {},
   "outputs": [
    {
     "data": {
      "text/plain": [
       "tt9188000    1\n",
       "tt2325645    1\n",
       "tt3492076    1\n",
       "tt2536780    1\n",
       "tt7921182    1\n",
       "            ..\n",
       "tt1763217    1\n",
       "tt1305618    1\n",
       "tt3766040    1\n",
       "tt7921248    1\n",
       "tt4111826    1\n",
       "Name: tconst, Length: 73856, dtype: int64"
      ]
     },
     "execution_count": 83,
     "metadata": {},
     "output_type": "execute_result"
    }
   ],
   "source": [
    "imdb_ratings['tconst'].value_counts()"
   ]
  },
  {
   "cell_type": "code",
   "execution_count": 84,
   "metadata": {},
   "outputs": [
    {
     "data": {
      "text/plain": [
       "7.0     2262\n",
       "6.6     2251\n",
       "7.2     2249\n",
       "6.8     2239\n",
       "6.5     2221\n",
       "        ... \n",
       "9.6       18\n",
       "10.0      16\n",
       "9.8       15\n",
       "9.7       12\n",
       "9.9        5\n",
       "Name: averagerating, Length: 91, dtype: int64"
      ]
     },
     "execution_count": 84,
     "metadata": {},
     "output_type": "execute_result"
    }
   ],
   "source": [
    "imdb_ratings['averagerating'].value_counts()"
   ]
  },
  {
   "cell_type": "code",
   "execution_count": 85,
   "metadata": {},
   "outputs": [
    {
     "data": {
      "text/plain": [
       "6        2875\n",
       "5        2699\n",
       "7        2476\n",
       "8        2167\n",
       "9        1929\n",
       "         ... \n",
       "18286       1\n",
       "16289       1\n",
       "1958        1\n",
       "4007        1\n",
       "4098        1\n",
       "Name: numvotes, Length: 7349, dtype: int64"
      ]
     },
     "execution_count": 85,
     "metadata": {},
     "output_type": "execute_result"
    }
   ],
   "source": [
    "imdb_ratings['numvotes'].value_counts()"
   ]
  },
  {
   "cell_type": "markdown",
   "metadata": {},
   "source": [
    "## Data Preparation\n",
    "\n",
    "Describe and justify the process for preparing the data for analysis.\n",
    "\n",
    "***\n",
    "Questions to consider:\n",
    "* Were there variables you dropped or created?\n",
    "* How did you address missing values or outliers?\n",
    "* Why are these choices appropriate given the data and the business problem?\n",
    "***"
   ]
  },
  {
   "cell_type": "code",
   "execution_count": 86,
   "metadata": {},
   "outputs": [],
   "source": [
    "# Here you run your code to clean the data"
   ]
  },
  {
   "cell_type": "markdown",
   "metadata": {},
   "source": [
    "**Comments:** I decide not to delete or create any column or raw at the moment. I want to keep all the information availalbe at the moment and clean it down the track, once the strategy is more defined. "
   ]
  },
  {
   "cell_type": "code",
   "execution_count": 87,
   "metadata": {},
   "outputs": [],
   "source": [
    "# Merge imdb_title and imdb_ratins on tconst, which is an alphanumer unique identifier of the movie title.\n",
    "#I merge using left join because imdb_title has more raws than ratings, and I want to maintain all the information at the moment.\n",
    "\n",
    "imdb_title_rating  = pd.merge(imdb_title, \n",
    "                              imdb_ratings, \n",
    "                              on=['tconst'], \n",
    "                              how='left') \n"
   ]
  },
  {
   "cell_type": "code",
   "execution_count": 88,
   "metadata": {},
   "outputs": [
    {
     "data": {
      "text/html": [
       "<div>\n",
       "<style scoped>\n",
       "    .dataframe tbody tr th:only-of-type {\n",
       "        vertical-align: middle;\n",
       "    }\n",
       "\n",
       "    .dataframe tbody tr th {\n",
       "        vertical-align: top;\n",
       "    }\n",
       "\n",
       "    .dataframe thead th {\n",
       "        text-align: right;\n",
       "    }\n",
       "</style>\n",
       "<table border=\"1\" class=\"dataframe\">\n",
       "  <thead>\n",
       "    <tr style=\"text-align: right;\">\n",
       "      <th></th>\n",
       "      <th>tconst</th>\n",
       "      <th>primary_title</th>\n",
       "      <th>original_title</th>\n",
       "      <th>start_year</th>\n",
       "      <th>runtime_minutes</th>\n",
       "      <th>genres</th>\n",
       "      <th>averagerating</th>\n",
       "      <th>numvotes</th>\n",
       "    </tr>\n",
       "  </thead>\n",
       "  <tbody>\n",
       "    <tr>\n",
       "      <th>0</th>\n",
       "      <td>tt0063540</td>\n",
       "      <td>Sunghursh</td>\n",
       "      <td>Sunghursh</td>\n",
       "      <td>2013</td>\n",
       "      <td>175.0</td>\n",
       "      <td>Action,Crime,Drama</td>\n",
       "      <td>7.0</td>\n",
       "      <td>77.0</td>\n",
       "    </tr>\n",
       "    <tr>\n",
       "      <th>1</th>\n",
       "      <td>tt0066787</td>\n",
       "      <td>One Day Before the Rainy Season</td>\n",
       "      <td>Ashad Ka Ek Din</td>\n",
       "      <td>2019</td>\n",
       "      <td>114.0</td>\n",
       "      <td>Biography,Drama</td>\n",
       "      <td>7.2</td>\n",
       "      <td>43.0</td>\n",
       "    </tr>\n",
       "    <tr>\n",
       "      <th>2</th>\n",
       "      <td>tt0069049</td>\n",
       "      <td>The Other Side of the Wind</td>\n",
       "      <td>The Other Side of the Wind</td>\n",
       "      <td>2018</td>\n",
       "      <td>122.0</td>\n",
       "      <td>Drama</td>\n",
       "      <td>6.9</td>\n",
       "      <td>4517.0</td>\n",
       "    </tr>\n",
       "    <tr>\n",
       "      <th>3</th>\n",
       "      <td>tt0069204</td>\n",
       "      <td>Sabse Bada Sukh</td>\n",
       "      <td>Sabse Bada Sukh</td>\n",
       "      <td>2018</td>\n",
       "      <td>NaN</td>\n",
       "      <td>Comedy,Drama</td>\n",
       "      <td>6.1</td>\n",
       "      <td>13.0</td>\n",
       "    </tr>\n",
       "    <tr>\n",
       "      <th>4</th>\n",
       "      <td>tt0100275</td>\n",
       "      <td>The Wandering Soap Opera</td>\n",
       "      <td>La Telenovela Errante</td>\n",
       "      <td>2017</td>\n",
       "      <td>80.0</td>\n",
       "      <td>Comedy,Drama,Fantasy</td>\n",
       "      <td>6.5</td>\n",
       "      <td>119.0</td>\n",
       "    </tr>\n",
       "  </tbody>\n",
       "</table>\n",
       "</div>"
      ],
      "text/plain": [
       "      tconst                    primary_title              original_title  \\\n",
       "0  tt0063540                        Sunghursh                   Sunghursh   \n",
       "1  tt0066787  One Day Before the Rainy Season             Ashad Ka Ek Din   \n",
       "2  tt0069049       The Other Side of the Wind  The Other Side of the Wind   \n",
       "3  tt0069204                  Sabse Bada Sukh             Sabse Bada Sukh   \n",
       "4  tt0100275         The Wandering Soap Opera       La Telenovela Errante   \n",
       "\n",
       "   start_year  runtime_minutes                genres  averagerating  numvotes  \n",
       "0        2013            175.0    Action,Crime,Drama            7.0      77.0  \n",
       "1        2019            114.0       Biography,Drama            7.2      43.0  \n",
       "2        2018            122.0                 Drama            6.9    4517.0  \n",
       "3        2018              NaN          Comedy,Drama            6.1      13.0  \n",
       "4        2017             80.0  Comedy,Drama,Fantasy            6.5     119.0  "
      ]
     },
     "execution_count": 88,
     "metadata": {},
     "output_type": "execute_result"
    }
   ],
   "source": [
    "#I confirm that the merging has been sucesfful\n",
    "\n",
    "imdb_title_rating.head()"
   ]
  },
  {
   "cell_type": "code",
   "execution_count": 89,
   "metadata": {},
   "outputs": [
    {
     "name": "stdout",
     "output_type": "stream",
     "text": [
      "<class 'pandas.core.frame.DataFrame'>\n",
      "Int64Index: 146144 entries, 0 to 146143\n",
      "Data columns (total 8 columns):\n",
      " #   Column           Non-Null Count   Dtype  \n",
      "---  ------           --------------   -----  \n",
      " 0   tconst           146144 non-null  object \n",
      " 1   primary_title    146144 non-null  object \n",
      " 2   original_title   146123 non-null  object \n",
      " 3   start_year       146144 non-null  int64  \n",
      " 4   runtime_minutes  114405 non-null  float64\n",
      " 5   genres           140736 non-null  object \n",
      " 6   averagerating    73856 non-null   float64\n",
      " 7   numvotes         73856 non-null   float64\n",
      "dtypes: float64(3), int64(1), object(4)\n",
      "memory usage: 10.0+ MB\n"
     ]
    }
   ],
   "source": [
    "imdb_title_rating.info()"
   ]
  },
  {
   "cell_type": "markdown",
   "metadata": {},
   "source": [
    "## INSIGHTS #1:  Top 25 Highest-Rated Movies \n",
    "In this section, we will get insights from the Top 25 Highest-rated movies, based on IMDB scores"
   ]
  },
  {
   "cell_type": "code",
   "execution_count": 90,
   "metadata": {},
   "outputs": [],
   "source": [
    "#DATA CLEANING: To achieve our Strategy 1, we need to know the average rating of each movie, so we can select \n",
    "#the top 25 for furhter studies. Herein, we delete all the columns that have no averagerating:\n",
    "\n",
    "imdb_title_rating.dropna(subset = ['averagerating'], inplace=True)"
   ]
  },
  {
   "cell_type": "code",
   "execution_count": 91,
   "metadata": {},
   "outputs": [
    {
     "data": {
      "text/html": [
       "<div>\n",
       "<style scoped>\n",
       "    .dataframe tbody tr th:only-of-type {\n",
       "        vertical-align: middle;\n",
       "    }\n",
       "\n",
       "    .dataframe tbody tr th {\n",
       "        vertical-align: top;\n",
       "    }\n",
       "\n",
       "    .dataframe thead th {\n",
       "        text-align: right;\n",
       "    }\n",
       "</style>\n",
       "<table border=\"1\" class=\"dataframe\">\n",
       "  <thead>\n",
       "    <tr style=\"text-align: right;\">\n",
       "      <th></th>\n",
       "      <th>tconst</th>\n",
       "      <th>primary_title</th>\n",
       "      <th>original_title</th>\n",
       "      <th>start_year</th>\n",
       "      <th>runtime_minutes</th>\n",
       "      <th>genres</th>\n",
       "      <th>averagerating</th>\n",
       "      <th>numvotes</th>\n",
       "    </tr>\n",
       "  </thead>\n",
       "  <tbody>\n",
       "    <tr>\n",
       "      <th>117359</th>\n",
       "      <td>tt6991826</td>\n",
       "      <td>A Dedicated Life: Phoebe Brand Beyond the Group</td>\n",
       "      <td>A Dedicated Life: Phoebe Brand Beyond the Group</td>\n",
       "      <td>2015</td>\n",
       "      <td>93.0</td>\n",
       "      <td>Documentary</td>\n",
       "      <td>10.0</td>\n",
       "      <td>5.0</td>\n",
       "    </tr>\n",
       "    <tr>\n",
       "      <th>71954</th>\n",
       "      <td>tt4109192</td>\n",
       "      <td>I Was Born Yesterday!</td>\n",
       "      <td>I Was Born Yesterday!</td>\n",
       "      <td>2015</td>\n",
       "      <td>31.0</td>\n",
       "      <td>Documentary</td>\n",
       "      <td>10.0</td>\n",
       "      <td>6.0</td>\n",
       "    </tr>\n",
       "    <tr>\n",
       "      <th>1857</th>\n",
       "      <td>tt10176328</td>\n",
       "      <td>Exteriores: Mulheres Brasileiras na Diplomacia</td>\n",
       "      <td>Exteriores: Mulheres Brasileiras na Diplomacia</td>\n",
       "      <td>2018</td>\n",
       "      <td>52.0</td>\n",
       "      <td>Documentary</td>\n",
       "      <td>10.0</td>\n",
       "      <td>5.0</td>\n",
       "    </tr>\n",
       "    <tr>\n",
       "      <th>4016</th>\n",
       "      <td>tt10378660</td>\n",
       "      <td>The Dark Knight: The Ballad of the N Word</td>\n",
       "      <td>The Dark Knight: The Ballad of the N Word</td>\n",
       "      <td>2018</td>\n",
       "      <td>129.0</td>\n",
       "      <td>Comedy,Drama</td>\n",
       "      <td>10.0</td>\n",
       "      <td>5.0</td>\n",
       "    </tr>\n",
       "    <tr>\n",
       "      <th>93040</th>\n",
       "      <td>tt5390098</td>\n",
       "      <td>The Paternal Bond: Barbary Macaques</td>\n",
       "      <td>Atlas Mountain: Barbary Macaques - Childcaring...</td>\n",
       "      <td>2015</td>\n",
       "      <td>59.0</td>\n",
       "      <td>Documentary</td>\n",
       "      <td>10.0</td>\n",
       "      <td>5.0</td>\n",
       "    </tr>\n",
       "  </tbody>\n",
       "</table>\n",
       "</div>"
      ],
      "text/plain": [
       "            tconst                                    primary_title  \\\n",
       "117359   tt6991826  A Dedicated Life: Phoebe Brand Beyond the Group   \n",
       "71954    tt4109192                            I Was Born Yesterday!   \n",
       "1857    tt10176328   Exteriores: Mulheres Brasileiras na Diplomacia   \n",
       "4016    tt10378660        The Dark Knight: The Ballad of the N Word   \n",
       "93040    tt5390098              The Paternal Bond: Barbary Macaques   \n",
       "\n",
       "                                           original_title  start_year  \\\n",
       "117359    A Dedicated Life: Phoebe Brand Beyond the Group        2015   \n",
       "71954                               I Was Born Yesterday!        2015   \n",
       "1857       Exteriores: Mulheres Brasileiras na Diplomacia        2018   \n",
       "4016            The Dark Knight: The Ballad of the N Word        2018   \n",
       "93040   Atlas Mountain: Barbary Macaques - Childcaring...        2015   \n",
       "\n",
       "        runtime_minutes        genres  averagerating  numvotes  \n",
       "117359             93.0   Documentary           10.0       5.0  \n",
       "71954              31.0   Documentary           10.0       6.0  \n",
       "1857               52.0   Documentary           10.0       5.0  \n",
       "4016              129.0  Comedy,Drama           10.0       5.0  \n",
       "93040              59.0   Documentary           10.0       5.0  "
      ]
     },
     "execution_count": 91,
     "metadata": {},
     "output_type": "execute_result"
    }
   ],
   "source": [
    "#We start exploring the movies with the highest average rating by sorting by \"average rating\" and applying .tail().\n",
    "\n",
    "imdb_title_rating.sort_values('averagerating').tail()"
   ]
  },
  {
   "cell_type": "markdown",
   "metadata": {},
   "source": [
    "From the above table, we notince that those movies with a high averareating value have very low number of votes. In the IMDB website, they mentioned that minimum votes required to be listed in the Top Rated 250 list is currently 25,000 (More info in this link: https://help.imdb.com/article/imdb/track-movies-tv/ratings-faq/G67Y87TFYYP6TWAV#). \n",
    "We will follow the same strategy and delete all the movies with less than 25,000 votes."
   ]
  },
  {
   "cell_type": "code",
   "execution_count": 92,
   "metadata": {},
   "outputs": [],
   "source": [
    "#we want to delete the columns with less than 25000 votes\n",
    "imdb_title_rating.drop(imdb_title_rating[imdb_title_rating['numvotes'] < 25000].index, inplace=True)\n",
    "\n",
    "\n",
    "\n"
   ]
  },
  {
   "cell_type": "code",
   "execution_count": 93,
   "metadata": {},
   "outputs": [
    {
     "data": {
      "text/html": [
       "<div>\n",
       "<style scoped>\n",
       "    .dataframe tbody tr th:only-of-type {\n",
       "        vertical-align: middle;\n",
       "    }\n",
       "\n",
       "    .dataframe tbody tr th {\n",
       "        vertical-align: top;\n",
       "    }\n",
       "\n",
       "    .dataframe thead th {\n",
       "        text-align: right;\n",
       "    }\n",
       "</style>\n",
       "<table border=\"1\" class=\"dataframe\">\n",
       "  <thead>\n",
       "    <tr style=\"text-align: right;\">\n",
       "      <th></th>\n",
       "      <th>tconst</th>\n",
       "      <th>primary_title</th>\n",
       "      <th>original_title</th>\n",
       "      <th>start_year</th>\n",
       "      <th>runtime_minutes</th>\n",
       "      <th>genres</th>\n",
       "      <th>averagerating</th>\n",
       "      <th>numvotes</th>\n",
       "    </tr>\n",
       "  </thead>\n",
       "  <tbody>\n",
       "    <tr>\n",
       "      <th>107713</th>\n",
       "      <td>tt6316138</td>\n",
       "      <td>Ayla: The Daughter of War</td>\n",
       "      <td>Ayla: The Daughter of War</td>\n",
       "      <td>2017</td>\n",
       "      <td>125.0</td>\n",
       "      <td>Drama,History,War</td>\n",
       "      <td>8.7</td>\n",
       "      <td>26743.0</td>\n",
       "    </tr>\n",
       "    <tr>\n",
       "      <th>7066</th>\n",
       "      <td>tt1375666</td>\n",
       "      <td>Inception</td>\n",
       "      <td>Inception</td>\n",
       "      <td>2010</td>\n",
       "      <td>148.0</td>\n",
       "      <td>Action,Adventure,Sci-Fi</td>\n",
       "      <td>8.8</td>\n",
       "      <td>1841066.0</td>\n",
       "    </tr>\n",
       "    <tr>\n",
       "      <th>72821</th>\n",
       "      <td>tt4154796</td>\n",
       "      <td>Avengers: Endgame</td>\n",
       "      <td>Avengers: Endgame</td>\n",
       "      <td>2019</td>\n",
       "      <td>181.0</td>\n",
       "      <td>Action,Adventure,Sci-Fi</td>\n",
       "      <td>8.8</td>\n",
       "      <td>441135.0</td>\n",
       "    </tr>\n",
       "    <tr>\n",
       "      <th>43533</th>\n",
       "      <td>tt2592910</td>\n",
       "      <td>CM101MMXI Fundamentals</td>\n",
       "      <td>CM101MMXI Fundamentals</td>\n",
       "      <td>2013</td>\n",
       "      <td>139.0</td>\n",
       "      <td>Comedy,Documentary</td>\n",
       "      <td>9.2</td>\n",
       "      <td>41560.0</td>\n",
       "    </tr>\n",
       "    <tr>\n",
       "      <th>99483</th>\n",
       "      <td>tt5813916</td>\n",
       "      <td>The Mountain II</td>\n",
       "      <td>Dag II</td>\n",
       "      <td>2016</td>\n",
       "      <td>135.0</td>\n",
       "      <td>Action,Drama,War</td>\n",
       "      <td>9.3</td>\n",
       "      <td>100568.0</td>\n",
       "    </tr>\n",
       "  </tbody>\n",
       "</table>\n",
       "</div>"
      ],
      "text/plain": [
       "           tconst              primary_title             original_title  \\\n",
       "107713  tt6316138  Ayla: The Daughter of War  Ayla: The Daughter of War   \n",
       "7066    tt1375666                  Inception                  Inception   \n",
       "72821   tt4154796          Avengers: Endgame          Avengers: Endgame   \n",
       "43533   tt2592910     CM101MMXI Fundamentals     CM101MMXI Fundamentals   \n",
       "99483   tt5813916            The Mountain II                     Dag II   \n",
       "\n",
       "        start_year  runtime_minutes                   genres  averagerating  \\\n",
       "107713        2017            125.0        Drama,History,War            8.7   \n",
       "7066          2010            148.0  Action,Adventure,Sci-Fi            8.8   \n",
       "72821         2019            181.0  Action,Adventure,Sci-Fi            8.8   \n",
       "43533         2013            139.0       Comedy,Documentary            9.2   \n",
       "99483         2016            135.0         Action,Drama,War            9.3   \n",
       "\n",
       "         numvotes  \n",
       "107713    26743.0  \n",
       "7066    1841066.0  \n",
       "72821    441135.0  \n",
       "43533     41560.0  \n",
       "99483    100568.0  "
      ]
     },
     "execution_count": 93,
     "metadata": {},
     "output_type": "execute_result"
    }
   ],
   "source": [
    "imdb_title_rating.sort_values('averagerating').tail()"
   ]
  },
  {
   "cell_type": "markdown",
   "metadata": {},
   "source": [
    "We will focus our studies in recent movies -> movies with less than 5 years. This data include movies from up to 2019, and as such, we will narrow our 5 years range between 2015 - 2019 (both inclusive)"
   ]
  },
  {
   "cell_type": "code",
   "execution_count": 94,
   "metadata": {},
   "outputs": [],
   "source": [
    "#we create a list with the 25 movies between 2015 - 2019 that have the highest average rating\n",
    "\n",
    "imdb_top25 = imdb_title_rating[imdb_title_rating['start_year'] >= 2015].sort_values('averagerating').tail(25)"
   ]
  },
  {
   "cell_type": "code",
   "execution_count": 95,
   "metadata": {},
   "outputs": [
    {
     "data": {
      "text/html": [
       "<div>\n",
       "<style scoped>\n",
       "    .dataframe tbody tr th:only-of-type {\n",
       "        vertical-align: middle;\n",
       "    }\n",
       "\n",
       "    .dataframe tbody tr th {\n",
       "        vertical-align: top;\n",
       "    }\n",
       "\n",
       "    .dataframe thead th {\n",
       "        text-align: right;\n",
       "    }\n",
       "</style>\n",
       "<table border=\"1\" class=\"dataframe\">\n",
       "  <thead>\n",
       "    <tr style=\"text-align: right;\">\n",
       "      <th></th>\n",
       "      <th>tconst</th>\n",
       "      <th>primary_title</th>\n",
       "      <th>original_title</th>\n",
       "      <th>start_year</th>\n",
       "      <th>runtime_minutes</th>\n",
       "      <th>genres</th>\n",
       "      <th>averagerating</th>\n",
       "      <th>numvotes</th>\n",
       "    </tr>\n",
       "  </thead>\n",
       "  <tbody>\n",
       "    <tr>\n",
       "      <th>70269</th>\n",
       "      <td>tt4016934</td>\n",
       "      <td>The Handmaiden</td>\n",
       "      <td>Ah-ga-ssi</td>\n",
       "      <td>2016</td>\n",
       "      <td>145.0</td>\n",
       "      <td>Drama,Romance,Thriller</td>\n",
       "      <td>8.1</td>\n",
       "      <td>79272.0</td>\n",
       "    </tr>\n",
       "    <tr>\n",
       "      <th>76697</th>\n",
       "      <td>tt4387040</td>\n",
       "      <td>Airlift</td>\n",
       "      <td>Airlift</td>\n",
       "      <td>2016</td>\n",
       "      <td>130.0</td>\n",
       "      <td>Drama,History</td>\n",
       "      <td>8.1</td>\n",
       "      <td>48323.0</td>\n",
       "    </tr>\n",
       "    <tr>\n",
       "      <th>29109</th>\n",
       "      <td>tt2119532</td>\n",
       "      <td>Hacksaw Ridge</td>\n",
       "      <td>Hacksaw Ridge</td>\n",
       "      <td>2016</td>\n",
       "      <td>139.0</td>\n",
       "      <td>Biography,Drama,History</td>\n",
       "      <td>8.1</td>\n",
       "      <td>366904.0</td>\n",
       "    </tr>\n",
       "    <tr>\n",
       "      <th>21849</th>\n",
       "      <td>tt1895587</td>\n",
       "      <td>Spotlight</td>\n",
       "      <td>Spotlight</td>\n",
       "      <td>2015</td>\n",
       "      <td>129.0</td>\n",
       "      <td>Crime,Drama</td>\n",
       "      <td>8.1</td>\n",
       "      <td>365110.0</td>\n",
       "    </tr>\n",
       "    <tr>\n",
       "      <th>56763</th>\n",
       "      <td>tt3315342</td>\n",
       "      <td>Logan</td>\n",
       "      <td>Logan</td>\n",
       "      <td>2017</td>\n",
       "      <td>137.0</td>\n",
       "      <td>Action,Drama,Sci-Fi</td>\n",
       "      <td>8.1</td>\n",
       "      <td>560270.0</td>\n",
       "    </tr>\n",
       "    <tr>\n",
       "      <th>7213</th>\n",
       "      <td>tt1392190</td>\n",
       "      <td>Mad Max: Fury Road</td>\n",
       "      <td>Mad Max: Fury Road</td>\n",
       "      <td>2015</td>\n",
       "      <td>120.0</td>\n",
       "      <td>Action,Adventure,Sci-Fi</td>\n",
       "      <td>8.1</td>\n",
       "      <td>780910.0</td>\n",
       "    </tr>\n",
       "    <tr>\n",
       "      <th>127087</th>\n",
       "      <td>tt7775622</td>\n",
       "      <td>Free Solo</td>\n",
       "      <td>Free Solo</td>\n",
       "      <td>2018</td>\n",
       "      <td>100.0</td>\n",
       "      <td>Documentary,Sport</td>\n",
       "      <td>8.2</td>\n",
       "      <td>32250.0</td>\n",
       "    </tr>\n",
       "    <tr>\n",
       "      <th>85228</th>\n",
       "      <td>tt4934950</td>\n",
       "      <td>Talvar</td>\n",
       "      <td>Talvar</td>\n",
       "      <td>2015</td>\n",
       "      <td>132.0</td>\n",
       "      <td>Crime,Drama,Mystery</td>\n",
       "      <td>8.2</td>\n",
       "      <td>25443.0</td>\n",
       "    </tr>\n",
       "    <tr>\n",
       "      <th>53866</th>\n",
       "      <td>tt3170832</td>\n",
       "      <td>Room</td>\n",
       "      <td>Room</td>\n",
       "      <td>2015</td>\n",
       "      <td>118.0</td>\n",
       "      <td>Drama,Thriller</td>\n",
       "      <td>8.2</td>\n",
       "      <td>316791.0</td>\n",
       "    </tr>\n",
       "    <tr>\n",
       "      <th>86657</th>\n",
       "      <td>tt5027774</td>\n",
       "      <td>Three Billboards Outside Ebbing, Missouri</td>\n",
       "      <td>Three Billboards Outside Ebbing, Missouri</td>\n",
       "      <td>2017</td>\n",
       "      <td>115.0</td>\n",
       "      <td>Crime,Drama</td>\n",
       "      <td>8.2</td>\n",
       "      <td>344047.0</td>\n",
       "    </tr>\n",
       "    <tr>\n",
       "      <th>95481</th>\n",
       "      <td>tt5571734</td>\n",
       "      <td>Pink</td>\n",
       "      <td>Pink</td>\n",
       "      <td>2016</td>\n",
       "      <td>136.0</td>\n",
       "      <td>Drama,Thriller</td>\n",
       "      <td>8.2</td>\n",
       "      <td>32238.0</td>\n",
       "    </tr>\n",
       "    <tr>\n",
       "      <th>28269</th>\n",
       "      <td>tt2096673</td>\n",
       "      <td>Inside Out</td>\n",
       "      <td>Inside Out</td>\n",
       "      <td>2015</td>\n",
       "      <td>95.0</td>\n",
       "      <td>Adventure,Animation,Comedy</td>\n",
       "      <td>8.2</td>\n",
       "      <td>536181.0</td>\n",
       "    </tr>\n",
       "    <tr>\n",
       "      <th>117014</th>\n",
       "      <td>tt6966692</td>\n",
       "      <td>Green Book</td>\n",
       "      <td>Green Book</td>\n",
       "      <td>2018</td>\n",
       "      <td>130.0</td>\n",
       "      <td>Biography,Comedy,Drama</td>\n",
       "      <td>8.3</td>\n",
       "      <td>204972.0</td>\n",
       "    </tr>\n",
       "    <tr>\n",
       "      <th>77309</th>\n",
       "      <td>tt4430212</td>\n",
       "      <td>Drishyam</td>\n",
       "      <td>Drishyam</td>\n",
       "      <td>2015</td>\n",
       "      <td>163.0</td>\n",
       "      <td>Crime,Drama,Mystery</td>\n",
       "      <td>8.3</td>\n",
       "      <td>54991.0</td>\n",
       "    </tr>\n",
       "    <tr>\n",
       "      <th>83932</th>\n",
       "      <td>tt4849438</td>\n",
       "      <td>Baahubali 2: The Conclusion</td>\n",
       "      <td>Baahubali 2: The Conclusion</td>\n",
       "      <td>2017</td>\n",
       "      <td>167.0</td>\n",
       "      <td>Action,Drama</td>\n",
       "      <td>8.3</td>\n",
       "      <td>65656.0</td>\n",
       "    </tr>\n",
       "    <tr>\n",
       "      <th>38424</th>\n",
       "      <td>tt2380307</td>\n",
       "      <td>Coco</td>\n",
       "      <td>Coco</td>\n",
       "      <td>2017</td>\n",
       "      <td>105.0</td>\n",
       "      <td>Adventure,Animation,Comedy</td>\n",
       "      <td>8.4</td>\n",
       "      <td>277194.0</td>\n",
       "    </tr>\n",
       "    <tr>\n",
       "      <th>91844</th>\n",
       "      <td>tt5311514</td>\n",
       "      <td>Your Name.</td>\n",
       "      <td>Kimi no na wa.</td>\n",
       "      <td>2016</td>\n",
       "      <td>106.0</td>\n",
       "      <td>Animation,Drama,Fantasy</td>\n",
       "      <td>8.4</td>\n",
       "      <td>134084.0</td>\n",
       "    </tr>\n",
       "    <tr>\n",
       "      <th>87402</th>\n",
       "      <td>tt5074352</td>\n",
       "      <td>Dangal</td>\n",
       "      <td>Dangal</td>\n",
       "      <td>2016</td>\n",
       "      <td>161.0</td>\n",
       "      <td>Action,Biography,Drama</td>\n",
       "      <td>8.5</td>\n",
       "      <td>123638.0</td>\n",
       "    </tr>\n",
       "    <tr>\n",
       "      <th>80655</th>\n",
       "      <td>tt4633694</td>\n",
       "      <td>Spider-Man: Into the Spider-Verse</td>\n",
       "      <td>Spider-Man: Into the Spider-Verse</td>\n",
       "      <td>2018</td>\n",
       "      <td>117.0</td>\n",
       "      <td>Action,Adventure,Animation</td>\n",
       "      <td>8.5</td>\n",
       "      <td>210869.0</td>\n",
       "    </tr>\n",
       "    <tr>\n",
       "      <th>72820</th>\n",
       "      <td>tt4154756</td>\n",
       "      <td>Avengers: Infinity War</td>\n",
       "      <td>Avengers: Infinity War</td>\n",
       "      <td>2018</td>\n",
       "      <td>149.0</td>\n",
       "      <td>Action,Adventure,Sci-Fi</td>\n",
       "      <td>8.5</td>\n",
       "      <td>670926.0</td>\n",
       "    </tr>\n",
       "    <tr>\n",
       "      <th>130754</th>\n",
       "      <td>tt8108198</td>\n",
       "      <td>Andhadhun</td>\n",
       "      <td>Andhadhun</td>\n",
       "      <td>2018</td>\n",
       "      <td>139.0</td>\n",
       "      <td>Crime,Thriller</td>\n",
       "      <td>8.5</td>\n",
       "      <td>43409.0</td>\n",
       "    </tr>\n",
       "    <tr>\n",
       "      <th>132555</th>\n",
       "      <td>tt8291224</td>\n",
       "      <td>Uri: The Surgical Strike</td>\n",
       "      <td>Uri: The Surgical Strike</td>\n",
       "      <td>2019</td>\n",
       "      <td>138.0</td>\n",
       "      <td>Action,Drama,War</td>\n",
       "      <td>8.6</td>\n",
       "      <td>30292.0</td>\n",
       "    </tr>\n",
       "    <tr>\n",
       "      <th>107713</th>\n",
       "      <td>tt6316138</td>\n",
       "      <td>Ayla: The Daughter of War</td>\n",
       "      <td>Ayla: The Daughter of War</td>\n",
       "      <td>2017</td>\n",
       "      <td>125.0</td>\n",
       "      <td>Drama,History,War</td>\n",
       "      <td>8.7</td>\n",
       "      <td>26743.0</td>\n",
       "    </tr>\n",
       "    <tr>\n",
       "      <th>72821</th>\n",
       "      <td>tt4154796</td>\n",
       "      <td>Avengers: Endgame</td>\n",
       "      <td>Avengers: Endgame</td>\n",
       "      <td>2019</td>\n",
       "      <td>181.0</td>\n",
       "      <td>Action,Adventure,Sci-Fi</td>\n",
       "      <td>8.8</td>\n",
       "      <td>441135.0</td>\n",
       "    </tr>\n",
       "    <tr>\n",
       "      <th>99483</th>\n",
       "      <td>tt5813916</td>\n",
       "      <td>The Mountain II</td>\n",
       "      <td>Dag II</td>\n",
       "      <td>2016</td>\n",
       "      <td>135.0</td>\n",
       "      <td>Action,Drama,War</td>\n",
       "      <td>9.3</td>\n",
       "      <td>100568.0</td>\n",
       "    </tr>\n",
       "  </tbody>\n",
       "</table>\n",
       "</div>"
      ],
      "text/plain": [
       "           tconst                              primary_title  \\\n",
       "70269   tt4016934                             The Handmaiden   \n",
       "76697   tt4387040                                    Airlift   \n",
       "29109   tt2119532                              Hacksaw Ridge   \n",
       "21849   tt1895587                                  Spotlight   \n",
       "56763   tt3315342                                      Logan   \n",
       "7213    tt1392190                         Mad Max: Fury Road   \n",
       "127087  tt7775622                                  Free Solo   \n",
       "85228   tt4934950                                     Talvar   \n",
       "53866   tt3170832                                       Room   \n",
       "86657   tt5027774  Three Billboards Outside Ebbing, Missouri   \n",
       "95481   tt5571734                                       Pink   \n",
       "28269   tt2096673                                 Inside Out   \n",
       "117014  tt6966692                                 Green Book   \n",
       "77309   tt4430212                                   Drishyam   \n",
       "83932   tt4849438                Baahubali 2: The Conclusion   \n",
       "38424   tt2380307                                       Coco   \n",
       "91844   tt5311514                                 Your Name.   \n",
       "87402   tt5074352                                     Dangal   \n",
       "80655   tt4633694          Spider-Man: Into the Spider-Verse   \n",
       "72820   tt4154756                     Avengers: Infinity War   \n",
       "130754  tt8108198                                  Andhadhun   \n",
       "132555  tt8291224                   Uri: The Surgical Strike   \n",
       "107713  tt6316138                  Ayla: The Daughter of War   \n",
       "72821   tt4154796                          Avengers: Endgame   \n",
       "99483   tt5813916                            The Mountain II   \n",
       "\n",
       "                                   original_title  start_year  \\\n",
       "70269                                   Ah-ga-ssi        2016   \n",
       "76697                                     Airlift        2016   \n",
       "29109                               Hacksaw Ridge        2016   \n",
       "21849                                   Spotlight        2015   \n",
       "56763                                       Logan        2017   \n",
       "7213                           Mad Max: Fury Road        2015   \n",
       "127087                                  Free Solo        2018   \n",
       "85228                                      Talvar        2015   \n",
       "53866                                        Room        2015   \n",
       "86657   Three Billboards Outside Ebbing, Missouri        2017   \n",
       "95481                                        Pink        2016   \n",
       "28269                                  Inside Out        2015   \n",
       "117014                                 Green Book        2018   \n",
       "77309                                    Drishyam        2015   \n",
       "83932                 Baahubali 2: The Conclusion        2017   \n",
       "38424                                        Coco        2017   \n",
       "91844                              Kimi no na wa.        2016   \n",
       "87402                                      Dangal        2016   \n",
       "80655           Spider-Man: Into the Spider-Verse        2018   \n",
       "72820                      Avengers: Infinity War        2018   \n",
       "130754                                  Andhadhun        2018   \n",
       "132555                   Uri: The Surgical Strike        2019   \n",
       "107713                  Ayla: The Daughter of War        2017   \n",
       "72821                           Avengers: Endgame        2019   \n",
       "99483                                      Dag II        2016   \n",
       "\n",
       "        runtime_minutes                      genres  averagerating  numvotes  \n",
       "70269             145.0      Drama,Romance,Thriller            8.1   79272.0  \n",
       "76697             130.0               Drama,History            8.1   48323.0  \n",
       "29109             139.0     Biography,Drama,History            8.1  366904.0  \n",
       "21849             129.0                 Crime,Drama            8.1  365110.0  \n",
       "56763             137.0         Action,Drama,Sci-Fi            8.1  560270.0  \n",
       "7213              120.0     Action,Adventure,Sci-Fi            8.1  780910.0  \n",
       "127087            100.0           Documentary,Sport            8.2   32250.0  \n",
       "85228             132.0         Crime,Drama,Mystery            8.2   25443.0  \n",
       "53866             118.0              Drama,Thriller            8.2  316791.0  \n",
       "86657             115.0                 Crime,Drama            8.2  344047.0  \n",
       "95481             136.0              Drama,Thriller            8.2   32238.0  \n",
       "28269              95.0  Adventure,Animation,Comedy            8.2  536181.0  \n",
       "117014            130.0      Biography,Comedy,Drama            8.3  204972.0  \n",
       "77309             163.0         Crime,Drama,Mystery            8.3   54991.0  \n",
       "83932             167.0                Action,Drama            8.3   65656.0  \n",
       "38424             105.0  Adventure,Animation,Comedy            8.4  277194.0  \n",
       "91844             106.0     Animation,Drama,Fantasy            8.4  134084.0  \n",
       "87402             161.0      Action,Biography,Drama            8.5  123638.0  \n",
       "80655             117.0  Action,Adventure,Animation            8.5  210869.0  \n",
       "72820             149.0     Action,Adventure,Sci-Fi            8.5  670926.0  \n",
       "130754            139.0              Crime,Thriller            8.5   43409.0  \n",
       "132555            138.0            Action,Drama,War            8.6   30292.0  \n",
       "107713            125.0           Drama,History,War            8.7   26743.0  \n",
       "72821             181.0     Action,Adventure,Sci-Fi            8.8  441135.0  \n",
       "99483             135.0            Action,Drama,War            9.3  100568.0  "
      ]
     },
     "execution_count": 95,
     "metadata": {},
     "output_type": "execute_result"
    }
   ],
   "source": [
    "imdb_top25"
   ]
  },
  {
   "cell_type": "markdown",
   "metadata": {},
   "source": [
    "Which insights can we get from this lis? For example, what are the most common genres? What is the average duration of the top 25 movies? \n",
    "\n",
    "Let's start with the **average duration of the top 25 IMDB movies**\n"
   ]
  },
  {
   "cell_type": "code",
   "execution_count": 96,
   "metadata": {},
   "outputs": [
    {
     "data": {
      "image/png": "[encoded data removed]",
      "text/plain": [
       "<Figure size 432x288 with 1 Axes>"
      ]
     },
     "metadata": {
      "needs_background": "light"
     },
     "output_type": "display_data"
    }
   ],
   "source": [
    "#we create a histogram of the duration, and observe that it doesn't follow a pure normal distribution, \n",
    "#so we will work with the median.\n",
    "\n",
    "imdb_top25['runtime_minutes'].plot.hist();"
   ]
  },
  {
   "cell_type": "code",
   "execution_count": 97,
   "metadata": {},
   "outputs": [
    {
     "data": {
      "image/png": "[encoded data removed]",
      "text/plain": [
       "<Figure size 216x216 with 1 Axes>"
      ]
     },
     "metadata": {
      "needs_background": "light"
     },
     "output_type": "display_data"
    }
   ],
   "source": [
    "#We create a box plot with the duration ofthe movie\n",
    "imdb_top25 = imdb_top25.rename(columns={'runtime_minutes': 'Duration'})\n",
    "\n",
    "\n",
    "fig, ax = plt.subplots(figsize=(3, 3))\n",
    "imdb_top25['Duration'].plot.box()\n",
    "ax.set_title('2015-2019 TOP25 IMDB movies \\n Average duration \\n', fontweight=\"bold\")\n",
    "ax.set_ylabel('Minutes')\n",
    "plt.text(0.7, 215, 'Median 132 ± 21.195', fontsize = 10)  #this values come from the following action\n",
    "ax.set_ylim([50, 250]);"
   ]
  },
  {
   "cell_type": "code",
   "execution_count": 98,
   "metadata": {},
   "outputs": [
    {
     "name": "stdout",
     "output_type": "stream",
     "text": [
      "132.0\n",
      "21.195754291838732\n"
     ]
    }
   ],
   "source": [
    "imdb_top25_duration_median = imdb_top25['Duration'].median()\n",
    "imdb_top25_duration_stdev = statistics.stdev(imdb_top25['Duration'])\n",
    "\n",
    "print(imdb_top25_duration_median)\n",
    "print(imdb_top25_duration_stdev)"
   ]
  },
  {
   "cell_type": "markdown",
   "metadata": {},
   "source": [
    "Now we move on to understant what are the **most common genres of the top 25 IMDB movies**\n"
   ]
  },
  {
   "cell_type": "code",
   "execution_count": 99,
   "metadata": {},
   "outputs": [
    {
     "data": {
      "text/plain": [
       "pandas.core.series.Series"
      ]
     },
     "execution_count": 99,
     "metadata": {},
     "output_type": "execute_result"
    }
   ],
   "source": [
    "#first we extract all the genres into a pandas Series\n",
    "\n",
    "genres = imdb_top25['genres'].map(lambda x: x.split(','))\n",
    "type(genres)\n"
   ]
  },
  {
   "cell_type": "code",
   "execution_count": 100,
   "metadata": {},
   "outputs": [
    {
     "data": {
      "text/plain": [
       "70269         [Drama, Romance, Thriller]\n",
       "76697                   [Drama, History]\n",
       "29109        [Biography, Drama, History]\n",
       "21849                     [Crime, Drama]\n",
       "56763            [Action, Drama, Sci-Fi]\n",
       "7213         [Action, Adventure, Sci-Fi]\n",
       "127087              [Documentary, Sport]\n",
       "85228            [Crime, Drama, Mystery]\n",
       "53866                  [Drama, Thriller]\n",
       "86657                     [Crime, Drama]\n",
       "95481                  [Drama, Thriller]\n",
       "28269     [Adventure, Animation, Comedy]\n",
       "117014        [Biography, Comedy, Drama]\n",
       "77309            [Crime, Drama, Mystery]\n",
       "83932                    [Action, Drama]\n",
       "38424     [Adventure, Animation, Comedy]\n",
       "91844        [Animation, Drama, Fantasy]\n",
       "87402         [Action, Biography, Drama]\n",
       "80655     [Action, Adventure, Animation]\n",
       "72820        [Action, Adventure, Sci-Fi]\n",
       "130754                 [Crime, Thriller]\n",
       "132555              [Action, Drama, War]\n",
       "107713             [Drama, History, War]\n",
       "72821        [Action, Adventure, Sci-Fi]\n",
       "99483               [Action, Drama, War]\n",
       "Name: genres, dtype: object"
      ]
     },
     "execution_count": 100,
     "metadata": {},
     "output_type": "execute_result"
    }
   ],
   "source": [
    "genres"
   ]
  },
  {
   "cell_type": "code",
   "execution_count": 101,
   "metadata": {},
   "outputs": [
    {
     "data": {
      "text/plain": [
       "['Drama',\n",
       " 'Romance',\n",
       " 'Thriller',\n",
       " 'Drama',\n",
       " 'History',\n",
       " 'Biography',\n",
       " 'Drama',\n",
       " 'History',\n",
       " 'Crime',\n",
       " 'Drama',\n",
       " 'Action',\n",
       " 'Drama',\n",
       " 'Sci-Fi',\n",
       " 'Action',\n",
       " 'Adventure',\n",
       " 'Sci-Fi',\n",
       " 'Documentary',\n",
       " 'Sport',\n",
       " 'Crime',\n",
       " 'Drama',\n",
       " 'Mystery',\n",
       " 'Drama',\n",
       " 'Thriller',\n",
       " 'Crime',\n",
       " 'Drama',\n",
       " 'Drama',\n",
       " 'Thriller',\n",
       " 'Adventure',\n",
       " 'Animation',\n",
       " 'Comedy',\n",
       " 'Biography',\n",
       " 'Comedy',\n",
       " 'Drama',\n",
       " 'Crime',\n",
       " 'Drama',\n",
       " 'Mystery',\n",
       " 'Action',\n",
       " 'Drama',\n",
       " 'Adventure',\n",
       " 'Animation',\n",
       " 'Comedy',\n",
       " 'Animation',\n",
       " 'Drama',\n",
       " 'Fantasy',\n",
       " 'Action',\n",
       " 'Biography',\n",
       " 'Drama',\n",
       " 'Action',\n",
       " 'Adventure',\n",
       " 'Animation',\n",
       " 'Action',\n",
       " 'Adventure',\n",
       " 'Sci-Fi',\n",
       " 'Crime',\n",
       " 'Thriller',\n",
       " 'Action',\n",
       " 'Drama',\n",
       " 'War',\n",
       " 'Drama',\n",
       " 'History',\n",
       " 'War',\n",
       " 'Action',\n",
       " 'Adventure',\n",
       " 'Sci-Fi',\n",
       " 'Action',\n",
       " 'Drama',\n",
       " 'War',\n",
       " '']"
      ]
     },
     "execution_count": 101,
     "metadata": {},
     "output_type": "execute_result"
    }
   ],
   "source": [
    "#now we want to create a unique list with all the genres listed, and remove the \",\" so we have only a list of words\n",
    "col_one_list = imdb_top25['genres'].tolist()\n",
    "\n",
    "sent_str = \"\"\n",
    "for x in col_one_list:\n",
    "    sent_str += str(x) + \",\"\n",
    "\n",
    "sent_str = sent_str.split(',')\n",
    "sent_str"
   ]
  },
  {
   "cell_type": "code",
   "execution_count": 102,
   "metadata": {},
   "outputs": [
    {
     "name": "stdout",
     "output_type": "stream",
     "text": [
      "[('Drama', 17), ('Action', 9), ('Adventure', 6), ('Crime', 5), ('Thriller', 4), ('Sci-Fi', 4), ('Animation', 4), ('History', 3), ('Biography', 3), ('Comedy', 3), ('War', 3), ('Mystery', 2), ('Romance', 1), ('Documentary', 1), ('Sport', 1), ('Fantasy', 1), ('', 1)]\n"
     ]
    },
    {
     "data": {
      "text/plain": [
       "list"
      ]
     },
     "execution_count": 102,
     "metadata": {},
     "output_type": "execute_result"
    }
   ],
   "source": [
    "#now we want to count how many times each genre appears\n",
    "\n",
    "from collections import Counter\n",
    "\n",
    "counts_average = Counter(sent_str).most_common()\n",
    "print(counts_average)\n",
    "type(counts_average)"
   ]
  },
  {
   "cell_type": "code",
   "execution_count": 103,
   "metadata": {},
   "outputs": [
    {
     "name": "stdout",
     "output_type": "stream",
     "text": [
      "['Drama', 'Action', 'Adventure', 'Crime', 'Thriller', 'Sci-Fi', 'Animation', 'History', 'Biography', 'Comedy', 'War', 'Mystery', 'Romance', 'Documentary', 'Sport', 'Fantasy', '']\n",
      "[17, 9, 6, 5, 4, 4, 4, 3, 3, 3, 3, 2, 1, 1, 1, 1, 1]\n"
     ]
    }
   ],
   "source": [
    "#As we want to ilustrate this data, we will create one list for the names of the genres, and one list with the values\n",
    "\n",
    "names = []\n",
    "for x in counts_average:\n",
    "    names.append(x[0])\n",
    "\n",
    "\n",
    "values = []\n",
    "for x in counts_average:\n",
    "    values.append(x[1])\n",
    "\n",
    "print(names)\n",
    "print(values)"
   ]
  },
  {
   "cell_type": "code",
   "execution_count": 133,
   "metadata": {
    "scrolled": true
   },
   "outputs": [
    {
     "data": {
      "image/png": "[encoded data removed]",
      "text/plain": [
       "<Figure size 432x288 with 1 Axes>"
      ]
     },
     "metadata": {
      "needs_background": "light"
     },
     "output_type": "display_data"
    }
   ],
   "source": [
    "#now we can plot both lists, names and values\n",
    "\n",
    "fig, ax = plt.subplots()\n",
    "barlist=plt.bar(range(len(counts_average)), values, tick_label=names)\n",
    "plt.xticks(rotation=90)\n",
    "ax.set_ylabel('Number of movies for each genre')\n",
    "ax.set_xlabel('\\n Genres')\n",
    "ax.set_title('2015-2019 TOP25 IMDB movies \\n Most common genres \\n', fontweight=\"bold\")\n",
    "barlist[0].set_color('blue')\n",
    "barlist[1].set_color('green')\n",
    "barlist[2].set_color('red')\n",
    "barlist[3].set_color('purple')\n",
    "plt.show()\n",
    "\n"
   ]
  },
  {
   "cell_type": "markdown",
   "metadata": {},
   "source": [
    "The graph above provides \"static\" information, it shows only the average of genre preferences during 2015-2019. But how did the preference for this genres changed across the past 5 years? Let's investigate it! "
   ]
  },
  {
   "cell_type": "code",
   "execution_count": 105,
   "metadata": {},
   "outputs": [],
   "source": [
    "# Before I had a list of list, with each item indicating the genre and the corresponding frequency (list named counts).\n",
    "# Now I want to create a dictionary from this list, so I use this function\n",
    "\n",
    "def Convert(lst):\n",
    "    res_dct = {lst[i][0]: lst[i][1] for i in range(0, len(lst), 2)}\n",
    "    return res_dct\n",
    "         "
   ]
  },
  {
   "cell_type": "code",
   "execution_count": 106,
   "metadata": {},
   "outputs": [
    {
     "data": {
      "text/plain": [
       "{'Drama': 17,\n",
       " 'Adventure': 6,\n",
       " 'Thriller': 4,\n",
       " 'Animation': 4,\n",
       " 'Biography': 3,\n",
       " 'War': 3,\n",
       " 'Romance': 1,\n",
       " 'Sport': 1,\n",
       " '': 1}"
      ]
     },
     "execution_count": 106,
     "metadata": {},
     "output_type": "execute_result"
    }
   ],
   "source": [
    "#I test the function with the list of the top25 \n",
    "counts_dict=(Convert(counts_average))\n",
    "counts_dict"
   ]
  },
  {
   "cell_type": "code",
   "execution_count": 107,
   "metadata": {},
   "outputs": [
    {
     "data": {
      "text/plain": [
       "dict"
      ]
     },
     "execution_count": 107,
     "metadata": {},
     "output_type": "execute_result"
    }
   ],
   "source": [
    "type(counts_dict)"
   ]
  },
  {
   "cell_type": "code",
   "execution_count": 108,
   "metadata": {},
   "outputs": [
    {
     "name": "stdout",
     "output_type": "stream",
     "text": [
      "17\n"
     ]
    }
   ],
   "source": [
    "#Now let's check the value of Drama\n",
    "\n",
    "print(counts_dict.get('Drama'))"
   ]
  },
  {
   "cell_type": "markdown",
   "metadata": {},
   "source": [
    "Now we have undesrtand how to get the value of each genre. Let's repeat these operations for each year, between 2015 and 2019"
   ]
  },
  {
   "cell_type": "code",
   "execution_count": 109,
   "metadata": {},
   "outputs": [],
   "source": [
    "imdb_top25_2017 = imdb_title_rating[imdb_title_rating['start_year'] == 2017].sort_values('averagerating').tail(25)\n",
    "imdb_top25_2018 = imdb_title_rating[imdb_title_rating['start_year'] == 2018].sort_values('averagerating').tail(25)\n",
    "imdb_top25_2019 = imdb_title_rating[imdb_title_rating['start_year'] == 2019].sort_values('averagerating').tail(25)\n",
    "imdb_top25_2016 = imdb_title_rating[imdb_title_rating['start_year'] == 2016].sort_values('averagerating').tail(25)\n",
    "imdb_top25_2015 = imdb_title_rating[imdb_title_rating['start_year'] == 2015].sort_values('averagerating').tail(25)"
   ]
  },
  {
   "cell_type": "code",
   "execution_count": 110,
   "metadata": {},
   "outputs": [],
   "source": [
    "genres_2017 = imdb_top25_2017['genres'].map(lambda x: x.split(','))\n",
    "genres_2018 = imdb_top25_2018['genres'].map(lambda x: x.split(','))\n",
    "genres_2019 = imdb_top25_2019['genres'].map(lambda x: x.split(','))\n",
    "genres_2016 = imdb_top25_2016['genres'].map(lambda x: x.split(','))\n",
    "genres_2015 = imdb_top25_2015['genres'].map(lambda x: x.split(','))"
   ]
  },
  {
   "cell_type": "code",
   "execution_count": 111,
   "metadata": {},
   "outputs": [],
   "source": [
    "col_one_list_2017 = imdb_top25_2017['genres'].tolist()\n",
    "col_one_list_2018 = imdb_top25_2018['genres'].tolist()\n",
    "col_one_list_2019 = imdb_top25_2019['genres'].tolist()\n",
    "col_one_list_2016 = imdb_top25_2016['genres'].tolist()\n",
    "col_one_list_2015 = imdb_top25_2015['genres'].tolist()\n",
    "\n"
   ]
  },
  {
   "cell_type": "code",
   "execution_count": 112,
   "metadata": {},
   "outputs": [],
   "source": [
    "sent_str_2015 = \"\"\n",
    "for x in col_one_list_2015:\n",
    "    sent_str_2015 += str(x) + \",\"\n",
    "\n",
    "sent_str_2015 = sent_str_2015.split(',')"
   ]
  },
  {
   "cell_type": "code",
   "execution_count": 113,
   "metadata": {},
   "outputs": [],
   "source": [
    "sent_str_2016 = \"\"\n",
    "for x in col_one_list_2016:\n",
    "    sent_str_2016 += str(x) + \",\"\n",
    "\n",
    "sent_str_2016 = sent_str_2016.split(',')"
   ]
  },
  {
   "cell_type": "code",
   "execution_count": 114,
   "metadata": {},
   "outputs": [],
   "source": [
    "sent_str_2017 = \"\"\n",
    "for x in col_one_list_2017:\n",
    "    sent_str_2017 += str(x) + \",\"\n",
    "\n",
    "sent_str_2017 = sent_str_2017.split(',')"
   ]
  },
  {
   "cell_type": "code",
   "execution_count": 115,
   "metadata": {},
   "outputs": [],
   "source": [
    "sent_str_2018 = \"\"\n",
    "for x in col_one_list_2018:\n",
    "    sent_str_2018 += str(x) + \",\"\n",
    "\n",
    "sent_str_2018 = sent_str_2018.split(',')"
   ]
  },
  {
   "cell_type": "code",
   "execution_count": 116,
   "metadata": {},
   "outputs": [],
   "source": [
    "sent_str_2019 = \"\"\n",
    "for x in col_one_list_2019:\n",
    "    sent_str_2019 += str(x) + \",\"\n",
    "\n",
    "sent_str_2019 = sent_str_2019.split(',')"
   ]
  },
  {
   "cell_type": "code",
   "execution_count": 117,
   "metadata": {},
   "outputs": [
    {
     "name": "stdout",
     "output_type": "stream",
     "text": [
      "[('Drama', 18), ('Adventure', 6), ('Action', 6), ('Crime', 5), ('Comedy', 5), ('Biography', 4), ('History', 3), ('Thriller', 3), ('Romance', 3), ('Mystery', 3), ('Animation', 2), ('War', 2), ('Documentary', 2), ('Sci-Fi', 2), ('Music', 1), ('Fantasy', 1), ('', 1)]\n"
     ]
    }
   ],
   "source": [
    "#let's check that it has worked for 2015\n",
    "\n",
    "counts_2015 = Counter(sent_str_2015).most_common()\n",
    "print(counts_2015)\n"
   ]
  },
  {
   "cell_type": "code",
   "execution_count": 118,
   "metadata": {},
   "outputs": [
    {
     "name": "stdout",
     "output_type": "stream",
     "text": [
      "[('Drama', 19), ('Comedy', 7), ('Action', 6), ('Adventure', 6), ('Biography', 5), ('Thriller', 4), ('Sci-Fi', 3), ('Animation', 3), ('History', 3), ('Mystery', 2), ('Music', 2), ('Sport', 1), ('Romance', 1), ('Crime', 1), ('Fantasy', 1), ('War', 1), ('', 1)]\n"
     ]
    }
   ],
   "source": [
    "#let's check that it has worked for 2016\n",
    "\n",
    "counts_2016 = Counter(sent_str_2016).most_common()\n",
    "print(counts_2016)\n"
   ]
  },
  {
   "cell_type": "code",
   "execution_count": 119,
   "metadata": {},
   "outputs": [
    {
     "name": "stdout",
     "output_type": "stream",
     "text": [
      "[('Drama', 17), ('Action', 9), ('Crime', 6), ('Adventure', 5), ('Comedy', 5), ('Biography', 4), ('Thriller', 3), ('Mystery', 3), ('Romance', 2), ('Animation', 2), ('Family', 2), ('History', 2), ('Sci-Fi', 2), ('Musical', 1), ('Horror', 1), ('Documentary', 1), ('Sport', 1), ('War', 1), ('', 1)]\n"
     ]
    }
   ],
   "source": [
    "#let's check that it has worked for 2017\n",
    "\n",
    "\n",
    "counts_2017 = Counter(sent_str_2017).most_common()\n",
    "print(counts_2017)\n"
   ]
  },
  {
   "cell_type": "code",
   "execution_count": 120,
   "metadata": {},
   "outputs": [
    {
     "name": "stdout",
     "output_type": "stream",
     "text": [
      "[('Drama', 14), ('Action', 7), ('Adventure', 7), ('Comedy', 6), ('Sci-Fi', 5), ('Biography', 5), ('Thriller', 5), ('Crime', 4), ('Music', 3), ('Animation', 3), ('History', 2), ('Romance', 2), ('Horror', 1), ('Mystery', 1), ('Documentary', 1), ('Sport', 1), ('', 1)]\n"
     ]
    }
   ],
   "source": [
    "#let's check that it has worked for 2018 \n",
    "\n",
    "counts_2018 = Counter(sent_str_2018).most_common()\n",
    "print(counts_2018)\n"
   ]
  },
  {
   "cell_type": "code",
   "execution_count": 121,
   "metadata": {},
   "outputs": [
    {
     "name": "stdout",
     "output_type": "stream",
     "text": [
      "[('Action', 14), ('Adventure', 12), ('Drama', 9), ('Crime', 6), ('Sci-Fi', 5), ('Comedy', 5), ('Biography', 4), ('Thriller', 4), ('Horror', 3), ('Mystery', 2), ('Family', 2), ('Fantasy', 2), ('Animation', 2), ('Documentary', 1), ('Music', 1), ('War', 1), ('', 1)]\n"
     ]
    }
   ],
   "source": [
    "#let's check that it has worked for 2019\n",
    "\n",
    "counts_2019 = Counter(sent_str_2019).most_common()\n",
    "print(counts_2019)\n"
   ]
  },
  {
   "cell_type": "code",
   "execution_count": 122,
   "metadata": {},
   "outputs": [],
   "source": [
    "counts_dict_2015=dict(counts_2015)\n",
    "counts_dict_2016=dict(counts_2016)\n",
    "counts_dict_2017=dict(counts_2017)\n",
    "counts_dict_2018=dict(counts_2018)\n",
    "counts_dict_2019=dict(counts_2019)\n"
   ]
  },
  {
   "cell_type": "code",
   "execution_count": 123,
   "metadata": {},
   "outputs": [
    {
     "name": "stdout",
     "output_type": "stream",
     "text": [
      "18\n",
      "19\n",
      "17\n",
      "14\n",
      "9\n"
     ]
    }
   ],
   "source": [
    "#Let's check the values of drama for each year\n",
    "\n",
    "print(counts_dict_2015.get('Drama'))\n",
    "print(counts_dict_2016.get('Drama'))\n",
    "print(counts_dict_2017.get('Drama'))\n",
    "print(counts_dict_2018.get('Drama'))\n",
    "print(counts_dict_2019.get('Drama'))"
   ]
  },
  {
   "cell_type": "code",
   "execution_count": 124,
   "metadata": {},
   "outputs": [],
   "source": [
    "#We create a list with the drama values for each year:\n",
    "\n",
    "drama_list = [counts_dict_2015.get('Drama'), counts_dict_2016.get('Drama'), counts_dict_2017.get('Drama'), counts_dict_2018.get('Drama'), counts_dict_2019.get('Drama')]"
   ]
  },
  {
   "cell_type": "code",
   "execution_count": 125,
   "metadata": {},
   "outputs": [
    {
     "data": {
      "text/plain": [
       "[18, 19, 17, 14, 9]"
      ]
     },
     "execution_count": 125,
     "metadata": {},
     "output_type": "execute_result"
    }
   ],
   "source": [
    "#we check that the drama_list contains the correct information\n",
    "\n",
    "drama_list"
   ]
  },
  {
   "cell_type": "code",
   "execution_count": 126,
   "metadata": {},
   "outputs": [],
   "source": [
    "##Let's repeat for Action\n",
    "\n",
    "action_list = [counts_dict_2015.get('Action'), counts_dict_2016.get('Action'), counts_dict_2017.get('Action'), counts_dict_2018.get('Action'), counts_dict_2019.get('Action')]\n"
   ]
  },
  {
   "cell_type": "code",
   "execution_count": 127,
   "metadata": {},
   "outputs": [],
   "source": [
    "##Let's repeat for Adventure\n",
    "\n",
    "adventure_list = [counts_dict_2015.get('Adventure'), counts_dict_2016.get('Adventure'), counts_dict_2017.get('Adventure'), counts_dict_2018.get('Adventure'), counts_dict_2019.get('Adventure')]\n"
   ]
  },
  {
   "cell_type": "code",
   "execution_count": 128,
   "metadata": {},
   "outputs": [],
   "source": [
    "##Let's repeat for Crime\n",
    "\n",
    "crime_list = [counts_dict_2015.get('Crime'), counts_dict_2016.get('Crime'), counts_dict_2017.get('Crime'), counts_dict_2018.get('Crime'), counts_dict_2019.get('Crime')]\n"
   ]
  },
  {
   "cell_type": "code",
   "execution_count": 132,
   "metadata": {},
   "outputs": [
    {
     "data": {
      "image/png": "[encoded data removed]",
      "text/plain": [
       "<Figure size 432x288 with 1 Axes>"
      ]
     },
     "metadata": {
      "needs_background": "light"
     },
     "output_type": "display_data"
    }
   ],
   "source": [
    "fig, ax = plt.subplots()\n",
    "ax.plot(('2015','2016','2017','2018','2019'), drama_list , color=\"blue\", lw=3, ls='-.', marker='o')\n",
    "ax.plot(('2015','2016','2017','2018','2019'), action_list , color=\"green\", lw=3, ls='-', marker='s')\n",
    "ax.plot(('2015','2016','2017','2018','2019'), adventure_list , color=\"red\", lw=3, ls=':', marker='+')\n",
    "ax.plot(('2015','2016','2017','2018','2019'), crime_list , color=\"purple\", lw=3, ls='--', marker='o')\n",
    "ax.set_title('Evolution of genres preferences \\n', fontweight=\"bold\")\n",
    "ax.set_ylabel('Number of movies for each genre')\n",
    "ax.set_xlabel('\\n Years')\n",
    "ax.set_ylim([0, 25]);\n",
    "fig.legend(ncol = 4, labels=[\"Drama\", \"Action\", \"Adventure\", \"Crime\"], bbox_to_anchor=(0.91,0.82))\n",
    "fig.tight_layout();"
   ]
  },
  {
   "cell_type": "markdown",
   "metadata": {},
   "source": [
    "# Data Modeling\n",
    "Describe and justify the process for analyzing or modeling the data.\n",
    "\n",
    "***\n",
    "Questions to consider:\n",
    "* How did you analyze or model the data?\n",
    "* How did you iterate on your initial approach to make it better?\n",
    "* Why are these choices appropriate given the data and the business problem?\n",
    "***"
   ]
  },
  {
   "cell_type": "markdown",
   "metadata": {},
   "source": [
    "## INSIGHTS #2:  Top 25 movies with the highest total gross\n",
    "For these sections, we will use the following databases: bom_gross and tn.movie_budgets.\n",
    "\n",
    "Let's refreshing what was in the bom_gross database:"
   ]
  },
  {
   "cell_type": "code",
   "execution_count": 134,
   "metadata": {},
   "outputs": [
    {
     "data": {
      "text/html": [
       "<div>\n",
       "<style scoped>\n",
       "    .dataframe tbody tr th:only-of-type {\n",
       "        vertical-align: middle;\n",
       "    }\n",
       "\n",
       "    .dataframe tbody tr th {\n",
       "        vertical-align: top;\n",
       "    }\n",
       "\n",
       "    .dataframe thead th {\n",
       "        text-align: right;\n",
       "    }\n",
       "</style>\n",
       "<table border=\"1\" class=\"dataframe\">\n",
       "  <thead>\n",
       "    <tr style=\"text-align: right;\">\n",
       "      <th></th>\n",
       "      <th>title</th>\n",
       "      <th>studio</th>\n",
       "      <th>domestic_gross</th>\n",
       "      <th>foreign_gross</th>\n",
       "      <th>year</th>\n",
       "    </tr>\n",
       "  </thead>\n",
       "  <tbody>\n",
       "    <tr>\n",
       "      <th>0</th>\n",
       "      <td>Toy Story 3</td>\n",
       "      <td>BV</td>\n",
       "      <td>415000000.0</td>\n",
       "      <td>652000000</td>\n",
       "      <td>2010</td>\n",
       "    </tr>\n",
       "    <tr>\n",
       "      <th>1</th>\n",
       "      <td>Alice in Wonderland (2010)</td>\n",
       "      <td>BV</td>\n",
       "      <td>334200000.0</td>\n",
       "      <td>691300000</td>\n",
       "      <td>2010</td>\n",
       "    </tr>\n",
       "    <tr>\n",
       "      <th>2</th>\n",
       "      <td>Harry Potter and the Deathly Hallows Part 1</td>\n",
       "      <td>WB</td>\n",
       "      <td>296000000.0</td>\n",
       "      <td>664300000</td>\n",
       "      <td>2010</td>\n",
       "    </tr>\n",
       "    <tr>\n",
       "      <th>3</th>\n",
       "      <td>Inception</td>\n",
       "      <td>WB</td>\n",
       "      <td>292600000.0</td>\n",
       "      <td>535700000</td>\n",
       "      <td>2010</td>\n",
       "    </tr>\n",
       "    <tr>\n",
       "      <th>4</th>\n",
       "      <td>Shrek Forever After</td>\n",
       "      <td>P/DW</td>\n",
       "      <td>238700000.0</td>\n",
       "      <td>513900000</td>\n",
       "      <td>2010</td>\n",
       "    </tr>\n",
       "  </tbody>\n",
       "</table>\n",
       "</div>"
      ],
      "text/plain": [
       "                                         title studio  domestic_gross  \\\n",
       "0                                  Toy Story 3     BV     415000000.0   \n",
       "1                   Alice in Wonderland (2010)     BV     334200000.0   \n",
       "2  Harry Potter and the Deathly Hallows Part 1     WB     296000000.0   \n",
       "3                                    Inception     WB     292600000.0   \n",
       "4                          Shrek Forever After   P/DW     238700000.0   \n",
       "\n",
       "  foreign_gross  year  \n",
       "0     652000000  2010  \n",
       "1     691300000  2010  \n",
       "2     664300000  2010  \n",
       "3     535700000  2010  \n",
       "4     513900000  2010  "
      ]
     },
     "execution_count": 134,
     "metadata": {},
     "output_type": "execute_result"
    }
   ],
   "source": [
    "bom_gross.head()"
   ]
  },
  {
   "cell_type": "code",
   "execution_count": 135,
   "metadata": {},
   "outputs": [
    {
     "name": "stdout",
     "output_type": "stream",
     "text": [
      "<class 'pandas.core.frame.DataFrame'>\n",
      "RangeIndex: 3387 entries, 0 to 3386\n",
      "Data columns (total 5 columns):\n",
      " #   Column          Non-Null Count  Dtype  \n",
      "---  ------          --------------  -----  \n",
      " 0   title           3387 non-null   object \n",
      " 1   studio          3382 non-null   object \n",
      " 2   domestic_gross  3359 non-null   float64\n",
      " 3   foreign_gross   2037 non-null   object \n",
      " 4   year            3387 non-null   int64  \n",
      "dtypes: float64(1), int64(1), object(3)\n",
      "memory usage: 132.4+ KB\n"
     ]
    }
   ],
   "source": [
    "bom_gross.info()"
   ]
  },
  {
   "cell_type": "markdown",
   "metadata": {},
   "source": [
    "First thing we can get from the information above, is that foreign_gross values are objects, and not float values such as domestic_gross.\n",
    "To change gross values into float, first we delete the NaN values from that columns."
   ]
  },
  {
   "cell_type": "code",
   "execution_count": 142,
   "metadata": {},
   "outputs": [],
   "source": [
    "#we delete the rows that have no values in 'foreign_gross'\n",
    "\n",
    "bom_gross.dropna(subset = ['foreign_gross'], inplace=True)"
   ]
  },
  {
   "cell_type": "code",
   "execution_count": 143,
   "metadata": {},
   "outputs": [],
   "source": [
    "# Step to convert the value into float \n",
    "\n",
    "bom_gross[\"foreign_gross\"] = [float(str(i).replace(\",\", \"\")) for i in bom_gross[\"foreign_gross\"]]\n",
    "bom_gross['foreign_gross'] = bom_gross['foreign_gross'].astype(float)\n"
   ]
  },
  {
   "cell_type": "code",
   "execution_count": 144,
   "metadata": {},
   "outputs": [
    {
     "name": "stdout",
     "output_type": "stream",
     "text": [
      "<class 'pandas.core.frame.DataFrame'>\n",
      "Int64Index: 2037 entries, 0 to 3353\n",
      "Data columns (total 5 columns):\n",
      " #   Column          Non-Null Count  Dtype  \n",
      "---  ------          --------------  -----  \n",
      " 0   title           2037 non-null   object \n",
      " 1   studio          2033 non-null   object \n",
      " 2   domestic_gross  2009 non-null   float64\n",
      " 3   foreign_gross   2037 non-null   float64\n",
      " 4   year            2037 non-null   int64  \n",
      "dtypes: float64(2), int64(1), object(2)\n",
      "memory usage: 95.5+ KB\n"
     ]
    }
   ],
   "source": [
    "#let's check that now we have forign_gross as float64\n",
    "bom_gross.info()"
   ]
  },
  {
   "cell_type": "markdown",
   "metadata": {},
   "source": [
    "Let's start by calculating the **total gross**!"
   ]
  },
  {
   "cell_type": "code",
   "execution_count": 146,
   "metadata": {},
   "outputs": [],
   "source": [
    "#calculate global gross\n",
    "\n",
    "bom_gross['total_gross'] = bom_gross['foreign_gross'] + bom_gross['domestic_gross']"
   ]
  },
  {
   "cell_type": "code",
   "execution_count": 147,
   "metadata": {},
   "outputs": [
    {
     "data": {
      "text/html": [
       "<div>\n",
       "<style scoped>\n",
       "    .dataframe tbody tr th:only-of-type {\n",
       "        vertical-align: middle;\n",
       "    }\n",
       "\n",
       "    .dataframe tbody tr th {\n",
       "        vertical-align: top;\n",
       "    }\n",
       "\n",
       "    .dataframe thead th {\n",
       "        text-align: right;\n",
       "    }\n",
       "</style>\n",
       "<table border=\"1\" class=\"dataframe\">\n",
       "  <thead>\n",
       "    <tr style=\"text-align: right;\">\n",
       "      <th></th>\n",
       "      <th>title</th>\n",
       "      <th>studio</th>\n",
       "      <th>domestic_gross</th>\n",
       "      <th>foreign_gross</th>\n",
       "      <th>year</th>\n",
       "      <th>total_gross</th>\n",
       "    </tr>\n",
       "  </thead>\n",
       "  <tbody>\n",
       "    <tr>\n",
       "      <th>0</th>\n",
       "      <td>Toy Story 3</td>\n",
       "      <td>BV</td>\n",
       "      <td>415000000.0</td>\n",
       "      <td>652000000.0</td>\n",
       "      <td>2010</td>\n",
       "      <td>1.067000e+09</td>\n",
       "    </tr>\n",
       "    <tr>\n",
       "      <th>1</th>\n",
       "      <td>Alice in Wonderland (2010)</td>\n",
       "      <td>BV</td>\n",
       "      <td>334200000.0</td>\n",
       "      <td>691300000.0</td>\n",
       "      <td>2010</td>\n",
       "      <td>1.025500e+09</td>\n",
       "    </tr>\n",
       "    <tr>\n",
       "      <th>2</th>\n",
       "      <td>Harry Potter and the Deathly Hallows Part 1</td>\n",
       "      <td>WB</td>\n",
       "      <td>296000000.0</td>\n",
       "      <td>664300000.0</td>\n",
       "      <td>2010</td>\n",
       "      <td>9.603000e+08</td>\n",
       "    </tr>\n",
       "    <tr>\n",
       "      <th>3</th>\n",
       "      <td>Inception</td>\n",
       "      <td>WB</td>\n",
       "      <td>292600000.0</td>\n",
       "      <td>535700000.0</td>\n",
       "      <td>2010</td>\n",
       "      <td>8.283000e+08</td>\n",
       "    </tr>\n",
       "    <tr>\n",
       "      <th>4</th>\n",
       "      <td>Shrek Forever After</td>\n",
       "      <td>P/DW</td>\n",
       "      <td>238700000.0</td>\n",
       "      <td>513900000.0</td>\n",
       "      <td>2010</td>\n",
       "      <td>7.526000e+08</td>\n",
       "    </tr>\n",
       "  </tbody>\n",
       "</table>\n",
       "</div>"
      ],
      "text/plain": [
       "                                         title studio  domestic_gross  \\\n",
       "0                                  Toy Story 3     BV     415000000.0   \n",
       "1                   Alice in Wonderland (2010)     BV     334200000.0   \n",
       "2  Harry Potter and the Deathly Hallows Part 1     WB     296000000.0   \n",
       "3                                    Inception     WB     292600000.0   \n",
       "4                          Shrek Forever After   P/DW     238700000.0   \n",
       "\n",
       "   foreign_gross  year   total_gross  \n",
       "0    652000000.0  2010  1.067000e+09  \n",
       "1    691300000.0  2010  1.025500e+09  \n",
       "2    664300000.0  2010  9.603000e+08  \n",
       "3    535700000.0  2010  8.283000e+08  \n",
       "4    513900000.0  2010  7.526000e+08  "
      ]
     },
     "execution_count": 147,
     "metadata": {},
     "output_type": "execute_result"
    }
   ],
   "source": [
    "bom_gross.head()"
   ]
  },
  {
   "cell_type": "code",
   "execution_count": 149,
   "metadata": {},
   "outputs": [
    {
     "data": {
      "text/html": [
       "<div>\n",
       "<style scoped>\n",
       "    .dataframe tbody tr th:only-of-type {\n",
       "        vertical-align: middle;\n",
       "    }\n",
       "\n",
       "    .dataframe tbody tr th {\n",
       "        vertical-align: top;\n",
       "    }\n",
       "\n",
       "    .dataframe thead th {\n",
       "        text-align: right;\n",
       "    }\n",
       "</style>\n",
       "<table border=\"1\" class=\"dataframe\">\n",
       "  <thead>\n",
       "    <tr style=\"text-align: right;\">\n",
       "      <th></th>\n",
       "      <th>title</th>\n",
       "      <th>studio</th>\n",
       "      <th>domestic_gross</th>\n",
       "      <th>foreign_gross</th>\n",
       "      <th>year</th>\n",
       "      <th>total_gross</th>\n",
       "    </tr>\n",
       "  </thead>\n",
       "  <tbody>\n",
       "    <tr>\n",
       "      <th>2327</th>\n",
       "      <td>The Secret Life of Pets</td>\n",
       "      <td>Uni.</td>\n",
       "      <td>368400000.0</td>\n",
       "      <td>507100000.0</td>\n",
       "      <td>2016</td>\n",
       "      <td>8.755000e+08</td>\n",
       "    </tr>\n",
       "    <tr>\n",
       "      <th>2763</th>\n",
       "      <td>Spider-Man: Homecoming</td>\n",
       "      <td>Sony</td>\n",
       "      <td>334200000.0</td>\n",
       "      <td>546000000.0</td>\n",
       "      <td>2017</td>\n",
       "      <td>8.802000e+08</td>\n",
       "    </tr>\n",
       "    <tr>\n",
       "      <th>1877</th>\n",
       "      <td>Spectre</td>\n",
       "      <td>Sony</td>\n",
       "      <td>200100000.0</td>\n",
       "      <td>680600000.0</td>\n",
       "      <td>2015</td>\n",
       "      <td>8.807000e+08</td>\n",
       "    </tr>\n",
       "    <tr>\n",
       "      <th>3084</th>\n",
       "      <td>Bohemian Rhapsody</td>\n",
       "      <td>Fox</td>\n",
       "      <td>216400000.0</td>\n",
       "      <td>687200000.0</td>\n",
       "      <td>2018</td>\n",
       "      <td>9.036000e+08</td>\n",
       "    </tr>\n",
       "    <tr>\n",
       "      <th>1872</th>\n",
       "      <td>Star Wars: The Force Awakens</td>\n",
       "      <td>BV</td>\n",
       "      <td>936700000.0</td>\n",
       "      <td>1131.6</td>\n",
       "      <td>2015</td>\n",
       "      <td>9.367011e+08</td>\n",
       "    </tr>\n",
       "    <tr>\n",
       "      <th>2762</th>\n",
       "      <td>Jumanji: Welcome to the Jungle</td>\n",
       "      <td>Sony</td>\n",
       "      <td>404500000.0</td>\n",
       "      <td>557600000.0</td>\n",
       "      <td>2017</td>\n",
       "      <td>9.621000e+08</td>\n",
       "    </tr>\n",
       "    <tr>\n",
       "      <th>2326</th>\n",
       "      <td>The Jungle Book (2016)</td>\n",
       "      <td>BV</td>\n",
       "      <td>364000000.0</td>\n",
       "      <td>602500000.0</td>\n",
       "      <td>2016</td>\n",
       "      <td>9.665000e+08</td>\n",
       "    </tr>\n",
       "    <tr>\n",
       "      <th>2325</th>\n",
       "      <td>Zootopia</td>\n",
       "      <td>BV</td>\n",
       "      <td>341300000.0</td>\n",
       "      <td>682500000.0</td>\n",
       "      <td>2016</td>\n",
       "      <td>1.023800e+09</td>\n",
       "    </tr>\n",
       "    <tr>\n",
       "      <th>2324</th>\n",
       "      <td>Finding Dory</td>\n",
       "      <td>BV</td>\n",
       "      <td>486300000.0</td>\n",
       "      <td>542300000.0</td>\n",
       "      <td>2016</td>\n",
       "      <td>1.028600e+09</td>\n",
       "    </tr>\n",
       "    <tr>\n",
       "      <th>2761</th>\n",
       "      <td>Despicable Me 3</td>\n",
       "      <td>Uni.</td>\n",
       "      <td>264600000.0</td>\n",
       "      <td>770200000.0</td>\n",
       "      <td>2017</td>\n",
       "      <td>1.034800e+09</td>\n",
       "    </tr>\n",
       "    <tr>\n",
       "      <th>2323</th>\n",
       "      <td>Rogue One: A Star Wars Story</td>\n",
       "      <td>BV</td>\n",
       "      <td>532200000.0</td>\n",
       "      <td>523900000.0</td>\n",
       "      <td>2016</td>\n",
       "      <td>1.056100e+09</td>\n",
       "    </tr>\n",
       "    <tr>\n",
       "      <th>3083</th>\n",
       "      <td>Aquaman</td>\n",
       "      <td>WB</td>\n",
       "      <td>335100000.0</td>\n",
       "      <td>812700000.0</td>\n",
       "      <td>2018</td>\n",
       "      <td>1.147800e+09</td>\n",
       "    </tr>\n",
       "    <tr>\n",
       "      <th>2322</th>\n",
       "      <td>Captain America: Civil War</td>\n",
       "      <td>BV</td>\n",
       "      <td>408100000.0</td>\n",
       "      <td>745200000.0</td>\n",
       "      <td>2016</td>\n",
       "      <td>1.153300e+09</td>\n",
       "    </tr>\n",
       "    <tr>\n",
       "      <th>1876</th>\n",
       "      <td>Minions</td>\n",
       "      <td>Uni.</td>\n",
       "      <td>336000000.0</td>\n",
       "      <td>823400000.0</td>\n",
       "      <td>2015</td>\n",
       "      <td>1.159400e+09</td>\n",
       "    </tr>\n",
       "    <tr>\n",
       "      <th>3082</th>\n",
       "      <td>Incredibles 2</td>\n",
       "      <td>BV</td>\n",
       "      <td>608600000.0</td>\n",
       "      <td>634200000.0</td>\n",
       "      <td>2018</td>\n",
       "      <td>1.242800e+09</td>\n",
       "    </tr>\n",
       "    <tr>\n",
       "      <th>2759</th>\n",
       "      <td>Beauty and the Beast (2017)</td>\n",
       "      <td>BV</td>\n",
       "      <td>504000000.0</td>\n",
       "      <td>759500000.0</td>\n",
       "      <td>2017</td>\n",
       "      <td>1.263500e+09</td>\n",
       "    </tr>\n",
       "    <tr>\n",
       "      <th>3081</th>\n",
       "      <td>Jurassic World: Fallen Kingdom</td>\n",
       "      <td>Uni.</td>\n",
       "      <td>417700000.0</td>\n",
       "      <td>891800000.0</td>\n",
       "      <td>2018</td>\n",
       "      <td>1.309500e+09</td>\n",
       "    </tr>\n",
       "    <tr>\n",
       "      <th>2758</th>\n",
       "      <td>Star Wars: The Last Jedi</td>\n",
       "      <td>BV</td>\n",
       "      <td>620200000.0</td>\n",
       "      <td>712400000.0</td>\n",
       "      <td>2017</td>\n",
       "      <td>1.332600e+09</td>\n",
       "    </tr>\n",
       "    <tr>\n",
       "      <th>3080</th>\n",
       "      <td>Black Panther</td>\n",
       "      <td>BV</td>\n",
       "      <td>700100000.0</td>\n",
       "      <td>646900000.0</td>\n",
       "      <td>2018</td>\n",
       "      <td>1.347000e+09</td>\n",
       "    </tr>\n",
       "    <tr>\n",
       "      <th>1875</th>\n",
       "      <td>Avengers: Age of Ultron</td>\n",
       "      <td>BV</td>\n",
       "      <td>459000000.0</td>\n",
       "      <td>946400000.0</td>\n",
       "      <td>2015</td>\n",
       "      <td>1.405400e+09</td>\n",
       "    </tr>\n",
       "  </tbody>\n",
       "</table>\n",
       "</div>"
      ],
      "text/plain": [
       "                               title studio  domestic_gross  foreign_gross  \\\n",
       "2327         The Secret Life of Pets   Uni.     368400000.0    507100000.0   \n",
       "2763          Spider-Man: Homecoming   Sony     334200000.0    546000000.0   \n",
       "1877                         Spectre   Sony     200100000.0    680600000.0   \n",
       "3084               Bohemian Rhapsody    Fox     216400000.0    687200000.0   \n",
       "1872    Star Wars: The Force Awakens     BV     936700000.0         1131.6   \n",
       "2762  Jumanji: Welcome to the Jungle   Sony     404500000.0    557600000.0   \n",
       "2326          The Jungle Book (2016)     BV     364000000.0    602500000.0   \n",
       "2325                        Zootopia     BV     341300000.0    682500000.0   \n",
       "2324                    Finding Dory     BV     486300000.0    542300000.0   \n",
       "2761                 Despicable Me 3   Uni.     264600000.0    770200000.0   \n",
       "2323    Rogue One: A Star Wars Story     BV     532200000.0    523900000.0   \n",
       "3083                         Aquaman     WB     335100000.0    812700000.0   \n",
       "2322      Captain America: Civil War     BV     408100000.0    745200000.0   \n",
       "1876                         Minions   Uni.     336000000.0    823400000.0   \n",
       "3082                   Incredibles 2     BV     608600000.0    634200000.0   \n",
       "2759     Beauty and the Beast (2017)     BV     504000000.0    759500000.0   \n",
       "3081  Jurassic World: Fallen Kingdom   Uni.     417700000.0    891800000.0   \n",
       "2758        Star Wars: The Last Jedi     BV     620200000.0    712400000.0   \n",
       "3080                   Black Panther     BV     700100000.0    646900000.0   \n",
       "1875         Avengers: Age of Ultron     BV     459000000.0    946400000.0   \n",
       "\n",
       "      year   total_gross  \n",
       "2327  2016  8.755000e+08  \n",
       "2763  2017  8.802000e+08  \n",
       "1877  2015  8.807000e+08  \n",
       "3084  2018  9.036000e+08  \n",
       "1872  2015  9.367011e+08  \n",
       "2762  2017  9.621000e+08  \n",
       "2326  2016  9.665000e+08  \n",
       "2325  2016  1.023800e+09  \n",
       "2324  2016  1.028600e+09  \n",
       "2761  2017  1.034800e+09  \n",
       "2323  2016  1.056100e+09  \n",
       "3083  2018  1.147800e+09  \n",
       "2322  2016  1.153300e+09  \n",
       "1876  2015  1.159400e+09  \n",
       "3082  2018  1.242800e+09  \n",
       "2759  2017  1.263500e+09  \n",
       "3081  2018  1.309500e+09  \n",
       "2758  2017  1.332600e+09  \n",
       "3080  2018  1.347000e+09  \n",
       "1875  2015  1.405400e+09  "
      ]
     },
     "execution_count": 149,
     "metadata": {},
     "output_type": "execute_result"
    }
   ],
   "source": [
    "#let's calculate what are the top 25 movies with the highest total_gross\n",
    "\n",
    "gross_top25 = bom_gross[bom_gross['year'] >= 2015].sort_values('total_gross').tail(25)\n",
    "gross_top25.dropna(subset = ['total_gross'], inplace=True)\n",
    "gross_top25\n"
   ]
  },
  {
   "cell_type": "code",
   "execution_count": 150,
   "metadata": {},
   "outputs": [
    {
     "data": {
      "text/plain": [
       "{'BV': 11, 'Uni.': 4, 'Sony': 3, 'Fox': 1, 'WB': 1}"
      ]
     },
     "execution_count": 150,
     "metadata": {},
     "output_type": "execute_result"
    }
   ],
   "source": [
    "#what are the studios of these top 25 movies? \n",
    "\n",
    "studios = dict(gross_top25['studio'].value_counts())\n",
    "studios"
   ]
  },
  {
   "cell_type": "code",
   "execution_count": 191,
   "metadata": {},
   "outputs": [
    {
     "data": {
      "image/png": "[encoded data removed]",
      "text/plain": [
       "<Figure size 216x216 with 1 Axes>"
      ]
     },
     "metadata": {
      "needs_background": "light"
     },
     "output_type": "display_data"
    }
   ],
   "source": [
    "fig, ax = plt.subplots(figsize=(3, 3))\n",
    "plt.bar(*zip(*studios.items()))\n",
    "ax.set_ylabel('Number of movies for each studio')\n",
    "ax.set_xlabel('\\n Studios')\n",
    "ax.set_title('2015-2019 TOP20 movies with \\n highest worldwide gross \\n', fontweight=\"bold\")\n",
    "plt.show();\n",
    "\n",
    "\n",
    "\n"
   ]
  },
  {
   "cell_type": "code",
   "execution_count": 167,
   "metadata": {},
   "outputs": [],
   "source": [
    "#let's calculate the total_Gross median and stdev/\n",
    "\n",
    "gross_top25_SEM = statistics.stdev(gross_top25['total_gross'])\n",
    "gross_top25_mean = statistics.median(gross_top25['total_gross'])\n"
   ]
  },
  {
   "cell_type": "code",
   "execution_count": 168,
   "metadata": {},
   "outputs": [
    {
     "data": {
      "text/plain": [
       "173.75255092657858"
      ]
     },
     "execution_count": 168,
     "metadata": {},
     "output_type": "execute_result"
    }
   ],
   "source": [
    "#let's make this values nicer, by presenting the value in millions (M) \n",
    "\n",
    "gross_top25_SEM_M=gross_top25_SEM/1000000\n",
    "gross_top25_SEM_M"
   ]
  },
  {
   "cell_type": "code",
   "execution_count": 169,
   "metadata": {},
   "outputs": [
    {
     "data": {
      "text/plain": [
       "1045.45"
      ]
     },
     "execution_count": 169,
     "metadata": {},
     "output_type": "execute_result"
    }
   ],
   "source": [
    "gross_top25_mean_M=gross_top25_mean/1000000\n",
    "gross_top25_mean_M"
   ]
  },
  {
   "cell_type": "code",
   "execution_count": 190,
   "metadata": {},
   "outputs": [
    {
     "data": {
      "image/png": "[encoded data removed]",
      "text/plain": [
       "<Figure size 432x288 with 1 Axes>"
      ]
     },
     "metadata": {
      "needs_background": "light"
     },
     "output_type": "display_data"
    }
   ],
   "source": [
    "\n",
    "x = gross_top25['title']\n",
    "y1 = gross_top25['domestic_gross']/1000000\n",
    "y2 = gross_top25['foreign_gross']/1000000\n",
    "  \n",
    "# plot bars in stack manner\n",
    "fig, ax = plt.subplots()\n",
    "plt.bar(x, y1, color='r')\n",
    "plt.bar(x, y2, bottom=y1, color='b')\n",
    "ax.set_ylabel('Million dollars')\n",
    "ax.set_xlabel('\\n Movies')\n",
    "plt.legend([\"domestic_gross\", \"foreign_gross\"])\n",
    "\n",
    "\n",
    "plt.xticks(rotation=90)\n",
    "ax.set_title('2015-2019 TOP20 BOM highest grossing movies \\n Domestic and Foreign gross \\n', fontweight=\"bold\")\n",
    "plt.show()"
   ]
  },
  {
   "cell_type": "code",
   "execution_count": 255,
   "metadata": {},
   "outputs": [
    {
     "data": {
      "image/png": "[encoded data removed]",
      "text/plain": [
       "<Figure size 216x216 with 1 Axes>"
      ]
     },
     "metadata": {
      "needs_background": "light"
     },
     "output_type": "display_data"
    }
   ],
   "source": [
    "gross_top25['total_gross_M']=gross_top25['total_gross'] / 1000000\n",
    "\n",
    "\n",
    "fig, ax = plt.subplots(figsize=(3, 3))\n",
    "gross_top25['total_gross_M'].plot.box()\n",
    "ax.set_title('2015-2019 TOP20 BOM highest grossing movies \\n Average total gross \\n', fontweight=\"bold\")\n",
    "ax.set_ylabel('Million dollars')\n",
    "plt.text(0.7, 1500, '1045.4 ± 173.75', fontsize = 10)  #this values come from the following action\n",
    "ax.set_ylim([500, 2000]);"
   ]
  },
  {
   "cell_type": "code",
   "execution_count": null,
   "metadata": {},
   "outputs": [],
   "source": []
  },
  {
   "cell_type": "markdown",
   "metadata": {},
   "source": [
    "Now we are going to explore other datasets that have gross values - tn database:  "
   ]
  },
  {
   "cell_type": "code",
   "execution_count": 194,
   "metadata": {},
   "outputs": [],
   "source": [
    "#let's first open the csv file\n",
    "tn_movie = pd.read_csv('./data/zippedData/tn.movie_budgets.csv.gz')\n"
   ]
  },
  {
   "cell_type": "code",
   "execution_count": 195,
   "metadata": {},
   "outputs": [
    {
     "name": "stdout",
     "output_type": "stream",
     "text": [
      "<class 'pandas.core.frame.DataFrame'>\n",
      "RangeIndex: 5782 entries, 0 to 5781\n",
      "Data columns (total 6 columns):\n",
      " #   Column             Non-Null Count  Dtype \n",
      "---  ------             --------------  ----- \n",
      " 0   id                 5782 non-null   int64 \n",
      " 1   release_date       5782 non-null   object\n",
      " 2   movie              5782 non-null   object\n",
      " 3   production_budget  5782 non-null   object\n",
      " 4   domestic_gross     5782 non-null   object\n",
      " 5   worldwide_gross    5782 non-null   object\n",
      "dtypes: int64(1), object(5)\n",
      "memory usage: 271.2+ KB\n"
     ]
    }
   ],
   "source": [
    "tn_movie.info()"
   ]
  },
  {
   "cell_type": "code",
   "execution_count": 196,
   "metadata": {},
   "outputs": [
    {
     "data": {
      "text/html": [
       "<div>\n",
       "<style scoped>\n",
       "    .dataframe tbody tr th:only-of-type {\n",
       "        vertical-align: middle;\n",
       "    }\n",
       "\n",
       "    .dataframe tbody tr th {\n",
       "        vertical-align: top;\n",
       "    }\n",
       "\n",
       "    .dataframe thead th {\n",
       "        text-align: right;\n",
       "    }\n",
       "</style>\n",
       "<table border=\"1\" class=\"dataframe\">\n",
       "  <thead>\n",
       "    <tr style=\"text-align: right;\">\n",
       "      <th></th>\n",
       "      <th>id</th>\n",
       "      <th>release_date</th>\n",
       "      <th>movie</th>\n",
       "      <th>production_budget</th>\n",
       "      <th>domestic_gross</th>\n",
       "      <th>worldwide_gross</th>\n",
       "    </tr>\n",
       "  </thead>\n",
       "  <tbody>\n",
       "    <tr>\n",
       "      <th>0</th>\n",
       "      <td>1</td>\n",
       "      <td>Dec 18, 2009</td>\n",
       "      <td>Avatar</td>\n",
       "      <td>$425,000,000</td>\n",
       "      <td>$760,507,625</td>\n",
       "      <td>$2,776,345,279</td>\n",
       "    </tr>\n",
       "    <tr>\n",
       "      <th>1</th>\n",
       "      <td>2</td>\n",
       "      <td>May 20, 2011</td>\n",
       "      <td>Pirates of the Caribbean: On Stranger Tides</td>\n",
       "      <td>$410,600,000</td>\n",
       "      <td>$241,063,875</td>\n",
       "      <td>$1,045,663,875</td>\n",
       "    </tr>\n",
       "    <tr>\n",
       "      <th>2</th>\n",
       "      <td>3</td>\n",
       "      <td>Jun 7, 2019</td>\n",
       "      <td>Dark Phoenix</td>\n",
       "      <td>$350,000,000</td>\n",
       "      <td>$42,762,350</td>\n",
       "      <td>$149,762,350</td>\n",
       "    </tr>\n",
       "    <tr>\n",
       "      <th>3</th>\n",
       "      <td>4</td>\n",
       "      <td>May 1, 2015</td>\n",
       "      <td>Avengers: Age of Ultron</td>\n",
       "      <td>$330,600,000</td>\n",
       "      <td>$459,005,868</td>\n",
       "      <td>$1,403,013,963</td>\n",
       "    </tr>\n",
       "    <tr>\n",
       "      <th>4</th>\n",
       "      <td>5</td>\n",
       "      <td>Dec 15, 2017</td>\n",
       "      <td>Star Wars Ep. VIII: The Last Jedi</td>\n",
       "      <td>$317,000,000</td>\n",
       "      <td>$620,181,382</td>\n",
       "      <td>$1,316,721,747</td>\n",
       "    </tr>\n",
       "  </tbody>\n",
       "</table>\n",
       "</div>"
      ],
      "text/plain": [
       "   id  release_date                                        movie  \\\n",
       "0   1  Dec 18, 2009                                       Avatar   \n",
       "1   2  May 20, 2011  Pirates of the Caribbean: On Stranger Tides   \n",
       "2   3   Jun 7, 2019                                 Dark Phoenix   \n",
       "3   4   May 1, 2015                      Avengers: Age of Ultron   \n",
       "4   5  Dec 15, 2017            Star Wars Ep. VIII: The Last Jedi   \n",
       "\n",
       "  production_budget domestic_gross worldwide_gross  \n",
       "0      $425,000,000   $760,507,625  $2,776,345,279  \n",
       "1      $410,600,000   $241,063,875  $1,045,663,875  \n",
       "2      $350,000,000    $42,762,350    $149,762,350  \n",
       "3      $330,600,000   $459,005,868  $1,403,013,963  \n",
       "4      $317,000,000   $620,181,382  $1,316,721,747  "
      ]
     },
     "execution_count": 196,
     "metadata": {},
     "output_type": "execute_result"
    }
   ],
   "source": [
    "tn_movie.head()"
   ]
  },
  {
   "cell_type": "code",
   "execution_count": 200,
   "metadata": {},
   "outputs": [],
   "source": [
    "#we see that production_budget and gross values are objects, and we want to convert them into int. \n",
    "#so first we have to remove $ and ','\n",
    "\n",
    "tn_movie['worldwide_gross_new'] = tn_movie['worldwide_gross'].str.replace('$', '')\n",
    "tn_movie['worldwide_gross_new'] = tn_movie['worldwide_gross_new'].str.replace(',', '')\n"
   ]
  },
  {
   "cell_type": "code",
   "execution_count": 202,
   "metadata": {},
   "outputs": [
    {
     "data": {
      "text/html": [
       "<div>\n",
       "<style scoped>\n",
       "    .dataframe tbody tr th:only-of-type {\n",
       "        vertical-align: middle;\n",
       "    }\n",
       "\n",
       "    .dataframe tbody tr th {\n",
       "        vertical-align: top;\n",
       "    }\n",
       "\n",
       "    .dataframe thead th {\n",
       "        text-align: right;\n",
       "    }\n",
       "</style>\n",
       "<table border=\"1\" class=\"dataframe\">\n",
       "  <thead>\n",
       "    <tr style=\"text-align: right;\">\n",
       "      <th></th>\n",
       "      <th>id</th>\n",
       "      <th>release_date</th>\n",
       "      <th>movie</th>\n",
       "      <th>production_budget</th>\n",
       "      <th>domestic_gross</th>\n",
       "      <th>worldwide_gross</th>\n",
       "      <th>worldwide_gross_new</th>\n",
       "    </tr>\n",
       "  </thead>\n",
       "  <tbody>\n",
       "    <tr>\n",
       "      <th>0</th>\n",
       "      <td>1</td>\n",
       "      <td>Dec 18, 2009</td>\n",
       "      <td>Avatar</td>\n",
       "      <td>$425,000,000</td>\n",
       "      <td>$760,507,625</td>\n",
       "      <td>$2,776,345,279</td>\n",
       "      <td>2776345279</td>\n",
       "    </tr>\n",
       "    <tr>\n",
       "      <th>1</th>\n",
       "      <td>2</td>\n",
       "      <td>May 20, 2011</td>\n",
       "      <td>Pirates of the Caribbean: On Stranger Tides</td>\n",
       "      <td>$410,600,000</td>\n",
       "      <td>$241,063,875</td>\n",
       "      <td>$1,045,663,875</td>\n",
       "      <td>1045663875</td>\n",
       "    </tr>\n",
       "    <tr>\n",
       "      <th>2</th>\n",
       "      <td>3</td>\n",
       "      <td>Jun 7, 2019</td>\n",
       "      <td>Dark Phoenix</td>\n",
       "      <td>$350,000,000</td>\n",
       "      <td>$42,762,350</td>\n",
       "      <td>$149,762,350</td>\n",
       "      <td>149762350</td>\n",
       "    </tr>\n",
       "    <tr>\n",
       "      <th>3</th>\n",
       "      <td>4</td>\n",
       "      <td>May 1, 2015</td>\n",
       "      <td>Avengers: Age of Ultron</td>\n",
       "      <td>$330,600,000</td>\n",
       "      <td>$459,005,868</td>\n",
       "      <td>$1,403,013,963</td>\n",
       "      <td>1403013963</td>\n",
       "    </tr>\n",
       "    <tr>\n",
       "      <th>4</th>\n",
       "      <td>5</td>\n",
       "      <td>Dec 15, 2017</td>\n",
       "      <td>Star Wars Ep. VIII: The Last Jedi</td>\n",
       "      <td>$317,000,000</td>\n",
       "      <td>$620,181,382</td>\n",
       "      <td>$1,316,721,747</td>\n",
       "      <td>1316721747</td>\n",
       "    </tr>\n",
       "  </tbody>\n",
       "</table>\n",
       "</div>"
      ],
      "text/plain": [
       "   id  release_date                                        movie  \\\n",
       "0   1  Dec 18, 2009                                       Avatar   \n",
       "1   2  May 20, 2011  Pirates of the Caribbean: On Stranger Tides   \n",
       "2   3   Jun 7, 2019                                 Dark Phoenix   \n",
       "3   4   May 1, 2015                      Avengers: Age of Ultron   \n",
       "4   5  Dec 15, 2017            Star Wars Ep. VIII: The Last Jedi   \n",
       "\n",
       "  production_budget domestic_gross worldwide_gross worldwide_gross_new  \n",
       "0      $425,000,000   $760,507,625  $2,776,345,279          2776345279  \n",
       "1      $410,600,000   $241,063,875  $1,045,663,875          1045663875  \n",
       "2      $350,000,000    $42,762,350    $149,762,350           149762350  \n",
       "3      $330,600,000   $459,005,868  $1,403,013,963          1403013963  \n",
       "4      $317,000,000   $620,181,382  $1,316,721,747          1316721747  "
      ]
     },
     "execution_count": 202,
     "metadata": {},
     "output_type": "execute_result"
    }
   ],
   "source": [
    "#let's check that now we have a value wihtout $ and/or \",\"\n",
    "\n",
    "tn_movie.head()"
   ]
  },
  {
   "cell_type": "code",
   "execution_count": 204,
   "metadata": {},
   "outputs": [],
   "source": [
    "#let's convert the gross value into a float\n",
    "\n",
    "tn_movie['worldwide_gross_new'] = tn_movie['worldwide_gross_new'].astype(float)"
   ]
  },
  {
   "cell_type": "code",
   "execution_count": 205,
   "metadata": {},
   "outputs": [],
   "source": [
    "#and we repeat the previous steps with production_budget, to convert the values into floats\n",
    "\n",
    "tn_movie['production_budget_new'] = tn_movie['production_budget'].str.replace('$', '')\n",
    "tn_movie['production_budget_new'] = tn_movie['production_budget_new'].str.replace(',', '')\n",
    "tn_movie['production_budget_new'] = tn_movie['production_budget_new'].astype(float)"
   ]
  },
  {
   "cell_type": "code",
   "execution_count": 206,
   "metadata": {},
   "outputs": [
    {
     "data": {
      "text/html": [
       "<div>\n",
       "<style scoped>\n",
       "    .dataframe tbody tr th:only-of-type {\n",
       "        vertical-align: middle;\n",
       "    }\n",
       "\n",
       "    .dataframe tbody tr th {\n",
       "        vertical-align: top;\n",
       "    }\n",
       "\n",
       "    .dataframe thead th {\n",
       "        text-align: right;\n",
       "    }\n",
       "</style>\n",
       "<table border=\"1\" class=\"dataframe\">\n",
       "  <thead>\n",
       "    <tr style=\"text-align: right;\">\n",
       "      <th></th>\n",
       "      <th>id</th>\n",
       "      <th>release_date</th>\n",
       "      <th>movie</th>\n",
       "      <th>production_budget</th>\n",
       "      <th>domestic_gross</th>\n",
       "      <th>worldwide_gross</th>\n",
       "      <th>worldwide_gross_new</th>\n",
       "      <th>production_budget_new</th>\n",
       "    </tr>\n",
       "  </thead>\n",
       "  <tbody>\n",
       "    <tr>\n",
       "      <th>0</th>\n",
       "      <td>1</td>\n",
       "      <td>Dec 18, 2009</td>\n",
       "      <td>Avatar</td>\n",
       "      <td>$425,000,000</td>\n",
       "      <td>$760,507,625</td>\n",
       "      <td>$2,776,345,279</td>\n",
       "      <td>2.776345e+09</td>\n",
       "      <td>425000000.0</td>\n",
       "    </tr>\n",
       "    <tr>\n",
       "      <th>1</th>\n",
       "      <td>2</td>\n",
       "      <td>May 20, 2011</td>\n",
       "      <td>Pirates of the Caribbean: On Stranger Tides</td>\n",
       "      <td>$410,600,000</td>\n",
       "      <td>$241,063,875</td>\n",
       "      <td>$1,045,663,875</td>\n",
       "      <td>1.045664e+09</td>\n",
       "      <td>410600000.0</td>\n",
       "    </tr>\n",
       "    <tr>\n",
       "      <th>2</th>\n",
       "      <td>3</td>\n",
       "      <td>Jun 7, 2019</td>\n",
       "      <td>Dark Phoenix</td>\n",
       "      <td>$350,000,000</td>\n",
       "      <td>$42,762,350</td>\n",
       "      <td>$149,762,350</td>\n",
       "      <td>1.497624e+08</td>\n",
       "      <td>350000000.0</td>\n",
       "    </tr>\n",
       "    <tr>\n",
       "      <th>3</th>\n",
       "      <td>4</td>\n",
       "      <td>May 1, 2015</td>\n",
       "      <td>Avengers: Age of Ultron</td>\n",
       "      <td>$330,600,000</td>\n",
       "      <td>$459,005,868</td>\n",
       "      <td>$1,403,013,963</td>\n",
       "      <td>1.403014e+09</td>\n",
       "      <td>330600000.0</td>\n",
       "    </tr>\n",
       "    <tr>\n",
       "      <th>4</th>\n",
       "      <td>5</td>\n",
       "      <td>Dec 15, 2017</td>\n",
       "      <td>Star Wars Ep. VIII: The Last Jedi</td>\n",
       "      <td>$317,000,000</td>\n",
       "      <td>$620,181,382</td>\n",
       "      <td>$1,316,721,747</td>\n",
       "      <td>1.316722e+09</td>\n",
       "      <td>317000000.0</td>\n",
       "    </tr>\n",
       "  </tbody>\n",
       "</table>\n",
       "</div>"
      ],
      "text/plain": [
       "   id  release_date                                        movie  \\\n",
       "0   1  Dec 18, 2009                                       Avatar   \n",
       "1   2  May 20, 2011  Pirates of the Caribbean: On Stranger Tides   \n",
       "2   3   Jun 7, 2019                                 Dark Phoenix   \n",
       "3   4   May 1, 2015                      Avengers: Age of Ultron   \n",
       "4   5  Dec 15, 2017            Star Wars Ep. VIII: The Last Jedi   \n",
       "\n",
       "  production_budget domestic_gross worldwide_gross  worldwide_gross_new  \\\n",
       "0      $425,000,000   $760,507,625  $2,776,345,279         2.776345e+09   \n",
       "1      $410,600,000   $241,063,875  $1,045,663,875         1.045664e+09   \n",
       "2      $350,000,000    $42,762,350    $149,762,350         1.497624e+08   \n",
       "3      $330,600,000   $459,005,868  $1,403,013,963         1.403014e+09   \n",
       "4      $317,000,000   $620,181,382  $1,316,721,747         1.316722e+09   \n",
       "\n",
       "   production_budget_new  \n",
       "0            425000000.0  \n",
       "1            410600000.0  \n",
       "2            350000000.0  \n",
       "3            330600000.0  \n",
       "4            317000000.0  "
      ]
     },
     "execution_count": 206,
     "metadata": {},
     "output_type": "execute_result"
    }
   ],
   "source": [
    "tn_movie.head()"
   ]
  },
  {
   "cell_type": "markdown",
   "metadata": {},
   "source": [
    "Consistently with the other data exploartion, we will focus with recent movies (i.e., from 2015). \n",
    "For this purpose, we have to convert the release date into data times"
   ]
  },
  {
   "cell_type": "code",
   "execution_count": 207,
   "metadata": {},
   "outputs": [],
   "source": [
    "tn_movie['release_date']=pd.to_datetime(tn_movie['release_date'])"
   ]
  },
  {
   "cell_type": "code",
   "execution_count": 212,
   "metadata": {},
   "outputs": [
    {
     "data": {
      "text/html": [
       "<div>\n",
       "<style scoped>\n",
       "    .dataframe tbody tr th:only-of-type {\n",
       "        vertical-align: middle;\n",
       "    }\n",
       "\n",
       "    .dataframe tbody tr th {\n",
       "        vertical-align: top;\n",
       "    }\n",
       "\n",
       "    .dataframe thead th {\n",
       "        text-align: right;\n",
       "    }\n",
       "</style>\n",
       "<table border=\"1\" class=\"dataframe\">\n",
       "  <thead>\n",
       "    <tr style=\"text-align: right;\">\n",
       "      <th></th>\n",
       "      <th>id</th>\n",
       "      <th>release_date</th>\n",
       "      <th>movie</th>\n",
       "      <th>production_budget</th>\n",
       "      <th>domestic_gross</th>\n",
       "      <th>worldwide_gross</th>\n",
       "      <th>worldwide_gross_new</th>\n",
       "      <th>production_budget_new</th>\n",
       "    </tr>\n",
       "  </thead>\n",
       "  <tbody>\n",
       "    <tr>\n",
       "      <th>437</th>\n",
       "      <td>38</td>\n",
       "      <td>2017-12-20</td>\n",
       "      <td>Jumanji: Welcome to the Jungle</td>\n",
       "      <td>$90,000,000</td>\n",
       "      <td>$404,508,916</td>\n",
       "      <td>$964,496,193</td>\n",
       "      <td>9.644962e+08</td>\n",
       "      <td>90000000.0</td>\n",
       "    </tr>\n",
       "    <tr>\n",
       "      <th>156</th>\n",
       "      <td>57</td>\n",
       "      <td>2016-03-04</td>\n",
       "      <td>Zootopia</td>\n",
       "      <td>$150,000,000</td>\n",
       "      <td>$341,268,248</td>\n",
       "      <td>$1,019,429,616</td>\n",
       "      <td>1.019430e+09</td>\n",
       "      <td>150000000.0</td>\n",
       "    </tr>\n",
       "    <tr>\n",
       "      <th>45</th>\n",
       "      <td>46</td>\n",
       "      <td>2016-06-17</td>\n",
       "      <td>Finding Dory</td>\n",
       "      <td>$200,000,000</td>\n",
       "      <td>$486,295,561</td>\n",
       "      <td>$1,021,215,193</td>\n",
       "      <td>1.021215e+09</td>\n",
       "      <td>200000000.0</td>\n",
       "    </tr>\n",
       "    <tr>\n",
       "      <th>629</th>\n",
       "      <td>30</td>\n",
       "      <td>2017-06-30</td>\n",
       "      <td>Despicable Me 3</td>\n",
       "      <td>$75,000,000</td>\n",
       "      <td>$264,624,300</td>\n",
       "      <td>$1,034,727,750</td>\n",
       "      <td>1.034728e+09</td>\n",
       "      <td>75000000.0</td>\n",
       "    </tr>\n",
       "    <tr>\n",
       "      <th>44</th>\n",
       "      <td>45</td>\n",
       "      <td>2016-12-16</td>\n",
       "      <td>Rogue One: A Star Wars Story</td>\n",
       "      <td>$200,000,000</td>\n",
       "      <td>$532,177,324</td>\n",
       "      <td>$1,049,102,856</td>\n",
       "      <td>1.049103e+09</td>\n",
       "      <td>200000000.0</td>\n",
       "    </tr>\n",
       "    <tr>\n",
       "      <th>95</th>\n",
       "      <td>96</td>\n",
       "      <td>2019-03-08</td>\n",
       "      <td>Captain Marvel</td>\n",
       "      <td>$175,000,000</td>\n",
       "      <td>$426,525,952</td>\n",
       "      <td>$1,123,061,550</td>\n",
       "      <td>1.123062e+09</td>\n",
       "      <td>175000000.0</td>\n",
       "    </tr>\n",
       "    <tr>\n",
       "      <th>16</th>\n",
       "      <td>17</td>\n",
       "      <td>2016-05-06</td>\n",
       "      <td>Captain America: Civil War</td>\n",
       "      <td>$250,000,000</td>\n",
       "      <td>$408,084,349</td>\n",
       "      <td>$1,140,069,413</td>\n",
       "      <td>1.140069e+09</td>\n",
       "      <td>250000000.0</td>\n",
       "    </tr>\n",
       "    <tr>\n",
       "      <th>135</th>\n",
       "      <td>36</td>\n",
       "      <td>2018-12-21</td>\n",
       "      <td>Aquaman</td>\n",
       "      <td>$160,000,000</td>\n",
       "      <td>$335,061,807</td>\n",
       "      <td>$1,146,894,640</td>\n",
       "      <td>1.146895e+09</td>\n",
       "      <td>160000000.0</td>\n",
       "    </tr>\n",
       "    <tr>\n",
       "      <th>672</th>\n",
       "      <td>73</td>\n",
       "      <td>2015-07-10</td>\n",
       "      <td>Minions</td>\n",
       "      <td>$74,000,000</td>\n",
       "      <td>$336,045,770</td>\n",
       "      <td>$1,160,336,173</td>\n",
       "      <td>1.160336e+09</td>\n",
       "      <td>74000000.0</td>\n",
       "    </tr>\n",
       "    <tr>\n",
       "      <th>22</th>\n",
       "      <td>23</td>\n",
       "      <td>2017-04-14</td>\n",
       "      <td>The Fate of the Furious</td>\n",
       "      <td>$250,000,000</td>\n",
       "      <td>$225,764,765</td>\n",
       "      <td>$1,234,846,267</td>\n",
       "      <td>1.234846e+09</td>\n",
       "      <td>250000000.0</td>\n",
       "    </tr>\n",
       "    <tr>\n",
       "      <th>43</th>\n",
       "      <td>44</td>\n",
       "      <td>2018-06-15</td>\n",
       "      <td>Incredibles 2</td>\n",
       "      <td>$200,000,000</td>\n",
       "      <td>$608,581,744</td>\n",
       "      <td>$1,242,520,711</td>\n",
       "      <td>1.242521e+09</td>\n",
       "      <td>200000000.0</td>\n",
       "    </tr>\n",
       "    <tr>\n",
       "      <th>134</th>\n",
       "      <td>35</td>\n",
       "      <td>2017-03-17</td>\n",
       "      <td>Beauty and the Beast</td>\n",
       "      <td>$160,000,000</td>\n",
       "      <td>$504,014,165</td>\n",
       "      <td>$1,259,199,706</td>\n",
       "      <td>1.259200e+09</td>\n",
       "      <td>160000000.0</td>\n",
       "    </tr>\n",
       "    <tr>\n",
       "      <th>112</th>\n",
       "      <td>13</td>\n",
       "      <td>2018-06-22</td>\n",
       "      <td>Jurassic World: Fallen Kingdom</td>\n",
       "      <td>$170,000,000</td>\n",
       "      <td>$417,719,760</td>\n",
       "      <td>$1,305,772,799</td>\n",
       "      <td>1.305773e+09</td>\n",
       "      <td>170000000.0</td>\n",
       "    </tr>\n",
       "    <tr>\n",
       "      <th>4</th>\n",
       "      <td>5</td>\n",
       "      <td>2017-12-15</td>\n",
       "      <td>Star Wars Ep. VIII: The Last Jedi</td>\n",
       "      <td>$317,000,000</td>\n",
       "      <td>$620,181,382</td>\n",
       "      <td>$1,316,721,747</td>\n",
       "      <td>1.316722e+09</td>\n",
       "      <td>317000000.0</td>\n",
       "    </tr>\n",
       "    <tr>\n",
       "      <th>41</th>\n",
       "      <td>42</td>\n",
       "      <td>2018-02-16</td>\n",
       "      <td>Black Panther</td>\n",
       "      <td>$200,000,000</td>\n",
       "      <td>$700,059,566</td>\n",
       "      <td>$1,348,258,224</td>\n",
       "      <td>1.348258e+09</td>\n",
       "      <td>200000000.0</td>\n",
       "    </tr>\n",
       "    <tr>\n",
       "      <th>3</th>\n",
       "      <td>4</td>\n",
       "      <td>2015-05-01</td>\n",
       "      <td>Avengers: Age of Ultron</td>\n",
       "      <td>$330,600,000</td>\n",
       "      <td>$459,005,868</td>\n",
       "      <td>$1,403,013,963</td>\n",
       "      <td>1.403014e+09</td>\n",
       "      <td>330600000.0</td>\n",
       "    </tr>\n",
       "    <tr>\n",
       "      <th>66</th>\n",
       "      <td>67</td>\n",
       "      <td>2015-04-03</td>\n",
       "      <td>Furious 7</td>\n",
       "      <td>$190,000,000</td>\n",
       "      <td>$353,007,020</td>\n",
       "      <td>$1,518,722,794</td>\n",
       "      <td>1.518723e+09</td>\n",
       "      <td>190000000.0</td>\n",
       "    </tr>\n",
       "    <tr>\n",
       "      <th>33</th>\n",
       "      <td>34</td>\n",
       "      <td>2015-06-12</td>\n",
       "      <td>Jurassic World</td>\n",
       "      <td>$215,000,000</td>\n",
       "      <td>$652,270,625</td>\n",
       "      <td>$1,648,854,864</td>\n",
       "      <td>1.648855e+09</td>\n",
       "      <td>215000000.0</td>\n",
       "    </tr>\n",
       "    <tr>\n",
       "      <th>6</th>\n",
       "      <td>7</td>\n",
       "      <td>2018-04-27</td>\n",
       "      <td>Avengers: Infinity War</td>\n",
       "      <td>$300,000,000</td>\n",
       "      <td>$678,815,482</td>\n",
       "      <td>$2,048,134,200</td>\n",
       "      <td>2.048134e+09</td>\n",
       "      <td>300000000.0</td>\n",
       "    </tr>\n",
       "    <tr>\n",
       "      <th>5</th>\n",
       "      <td>6</td>\n",
       "      <td>2015-12-18</td>\n",
       "      <td>Star Wars Ep. VII: The Force Awakens</td>\n",
       "      <td>$306,000,000</td>\n",
       "      <td>$936,662,225</td>\n",
       "      <td>$2,053,311,220</td>\n",
       "      <td>2.053311e+09</td>\n",
       "      <td>306000000.0</td>\n",
       "    </tr>\n",
       "  </tbody>\n",
       "</table>\n",
       "</div>"
      ],
      "text/plain": [
       "     id release_date                                 movie production_budget  \\\n",
       "437  38   2017-12-20        Jumanji: Welcome to the Jungle       $90,000,000   \n",
       "156  57   2016-03-04                              Zootopia      $150,000,000   \n",
       "45   46   2016-06-17                          Finding Dory      $200,000,000   \n",
       "629  30   2017-06-30                       Despicable Me 3       $75,000,000   \n",
       "44   45   2016-12-16          Rogue One: A Star Wars Story      $200,000,000   \n",
       "95   96   2019-03-08                        Captain Marvel      $175,000,000   \n",
       "16   17   2016-05-06            Captain America: Civil War      $250,000,000   \n",
       "135  36   2018-12-21                               Aquaman      $160,000,000   \n",
       "672  73   2015-07-10                               Minions       $74,000,000   \n",
       "22   23   2017-04-14               The Fate of the Furious      $250,000,000   \n",
       "43   44   2018-06-15                         Incredibles 2      $200,000,000   \n",
       "134  35   2017-03-17                  Beauty and the Beast      $160,000,000   \n",
       "112  13   2018-06-22        Jurassic World: Fallen Kingdom      $170,000,000   \n",
       "4     5   2017-12-15     Star Wars Ep. VIII: The Last Jedi      $317,000,000   \n",
       "41   42   2018-02-16                         Black Panther      $200,000,000   \n",
       "3     4   2015-05-01               Avengers: Age of Ultron      $330,600,000   \n",
       "66   67   2015-04-03                             Furious 7      $190,000,000   \n",
       "33   34   2015-06-12                        Jurassic World      $215,000,000   \n",
       "6     7   2018-04-27                Avengers: Infinity War      $300,000,000   \n",
       "5     6   2015-12-18  Star Wars Ep. VII: The Force Awakens      $306,000,000   \n",
       "\n",
       "    domestic_gross worldwide_gross  worldwide_gross_new  production_budget_new  \n",
       "437   $404,508,916    $964,496,193         9.644962e+08             90000000.0  \n",
       "156   $341,268,248  $1,019,429,616         1.019430e+09            150000000.0  \n",
       "45    $486,295,561  $1,021,215,193         1.021215e+09            200000000.0  \n",
       "629   $264,624,300  $1,034,727,750         1.034728e+09             75000000.0  \n",
       "44    $532,177,324  $1,049,102,856         1.049103e+09            200000000.0  \n",
       "95    $426,525,952  $1,123,061,550         1.123062e+09            175000000.0  \n",
       "16    $408,084,349  $1,140,069,413         1.140069e+09            250000000.0  \n",
       "135   $335,061,807  $1,146,894,640         1.146895e+09            160000000.0  \n",
       "672   $336,045,770  $1,160,336,173         1.160336e+09             74000000.0  \n",
       "22    $225,764,765  $1,234,846,267         1.234846e+09            250000000.0  \n",
       "43    $608,581,744  $1,242,520,711         1.242521e+09            200000000.0  \n",
       "134   $504,014,165  $1,259,199,706         1.259200e+09            160000000.0  \n",
       "112   $417,719,760  $1,305,772,799         1.305773e+09            170000000.0  \n",
       "4     $620,181,382  $1,316,721,747         1.316722e+09            317000000.0  \n",
       "41    $700,059,566  $1,348,258,224         1.348258e+09            200000000.0  \n",
       "3     $459,005,868  $1,403,013,963         1.403014e+09            330600000.0  \n",
       "66    $353,007,020  $1,518,722,794         1.518723e+09            190000000.0  \n",
       "33    $652,270,625  $1,648,854,864         1.648855e+09            215000000.0  \n",
       "6     $678,815,482  $2,048,134,200         2.048134e+09            300000000.0  \n",
       "5     $936,662,225  $2,053,311,220         2.053311e+09            306000000.0  "
      ]
     },
     "execution_count": 212,
     "metadata": {},
     "output_type": "execute_result"
    }
   ],
   "source": [
    "#now let's select the top 25 tn highest grossing movies\n",
    "\n",
    "tn_movie_top25 = tn_movie[tn_movie['release_date'].dt.year >= 2015].sort_values('worldwide_gross_new').tail(20)\n",
    "tn_movie_top25"
   ]
  },
  {
   "cell_type": "code",
   "execution_count": 225,
   "metadata": {},
   "outputs": [
    {
     "data": {
      "image/png": "[encoded data removed]",
      "text/plain": [
       "<Figure size 432x288 with 1 Axes>"
      ]
     },
     "metadata": {
      "needs_background": "light"
     },
     "output_type": "display_data"
    }
   ],
   "source": [
    "x = tn_movie_top25['movie']\n",
    "y = tn_movie_top25['worldwide_gross_new']/1000000\n",
    "\n",
    "fig, ax = plt.subplots()\n",
    "plt.bar(x, y)\n",
    "ax.set_ylabel('Million dollars')\n",
    "ax.set_xlabel('\\n Movies')\n",
    "ax.set_title('2015-2019 TOP20 TN movies with \\n highest worldwide gross \\n', fontweight=\"bold\")\n",
    "plt.xticks(rotation=90)\n",
    "plt.show();\n"
   ]
  },
  {
   "cell_type": "code",
   "execution_count": 231,
   "metadata": {},
   "outputs": [
    {
     "name": "stdout",
     "output_type": "stream",
     "text": [
      "200.63\n",
      "75.43711985906924\n",
      "1301.9344939500002\n",
      "309.6066114942965\n"
     ]
    }
   ],
   "source": [
    "tn_movie_top25_budget_M_mean = tn_movie_top25['production_budget_new'].mean() / 1000000\n",
    "tn_movie_top25_budget_M_stdev = statistics.stdev(tn_movie_top25['production_budget_new']) / 1000000\n",
    "tn_movie_top25_gross_M_mean = tn_movie_top25['worldwide_gross_new'].mean() / 1000000\n",
    "tn_movie_top25_gross_M_stdev = statistics.stdev(tn_movie_top25['worldwide_gross_new'])/ 1000000\n",
    "\n",
    "print(tn_movie_top25_budget_M_mean)\n",
    "print(tn_movie_top25_budget_M_stdev)\n",
    "print(tn_movie_top25_gross_M_mean)\n",
    "print(tn_movie_top25_gross_M_stdev)\n"
   ]
  },
  {
   "cell_type": "code",
   "execution_count": 262,
   "metadata": {},
   "outputs": [
    {
     "data": {
      "image/png": "[encoded data removed]",
      "text/plain": [
       "<Figure size 360x216 with 1 Axes>"
      ]
     },
     "metadata": {
      "needs_background": "light"
     },
     "output_type": "display_data"
    }
   ],
   "source": [
    "total_gross_M = tn_movie_top25['worldwide_gross_new']/1000000\n",
    "total_budget_M = tn_movie_top25['production_budget_new']/1000000\n",
    "fig, ax = plt.subplots(figsize=(5, 3))\n",
    "plt.boxplot ([total_gross_M, total_budget_M])\n",
    "ax.set_title('2015-2019 TOP20 TN highest grossing movies \\n Average total gross and budget \\n', fontweight=\"bold\")\n",
    "ax.set_ylabel('Million dollars')\n",
    "plt.xticks([1, 2], ['total_gross_M', 'total_budget_M'])\n",
    "plt.text(0.7, 1750, '1301.9 ± 309.60', fontsize = 10) #this values come from the following action;\n",
    "plt.text(1.75, 500, '200.6 ± 75.43', fontsize = 10);  #this values come from the following action;"
   ]
  },
  {
   "cell_type": "code",
   "execution_count": null,
   "metadata": {},
   "outputs": [],
   "source": []
  },
  {
   "cell_type": "code",
   "execution_count": 283,
   "metadata": {},
   "outputs": [
    {
     "data": {
      "image/png": "[encoded data removed]",
      "text/plain": [
       "<Figure size 432x288 with 1 Axes>"
      ]
     },
     "metadata": {
      "needs_background": "light"
     },
     "output_type": "display_data"
    }
   ],
   "source": [
    "fig, ax = plt.subplots()\n",
    "\n",
    "x = tn_movie_top25['production_budget_new'] / 1000000\n",
    "y = tn_movie_top25['worldwide_gross_new']/ 1000000\n",
    "\n",
    "# Graph X vs. Y as a scatter plot\n",
    "ax.scatter(x, y, s=60, alpha=0.7, edgecolors=\"k\")\n",
    "m, b = np.polyfit(x, y, 1)\n",
    "plt.plot(x, m*x + b,  color=\"black\", lw=0.5)\n",
    "ax.set_ylabel('Worldwide Gross (Million dollars)')\n",
    "ax.set_xlabel('\\n Total Budget (Million dollars)')\n",
    "ax.set_title('Worldwide gross and Total Budget correlation \\n', fontweight=\"bold\")\n",
    "plt.text(80, 1800, 'Pearson’s r = 0.6209 \\np-value = 0.003', fontsize = 10); #this values come from the following action;;\n",
    "\n"
   ]
  },
  {
   "cell_type": "code",
   "execution_count": 284,
   "metadata": {},
   "outputs": [
    {
     "data": {
      "text/plain": [
       "(0.6209169504424389, 0.0034820052718047665)"
      ]
     },
     "execution_count": 284,
     "metadata": {},
     "output_type": "execute_result"
    }
   ],
   "source": [
    "stats.pearsonr(tn_movie_top25['production_budget_new'], tn_movie_top25['worldwide_gross_new'])\n",
    "\n",
    "#Pearson’s r (0,4063—same as we got in Excel, R, etc.)\n",
    "#A p-value. This is the probability that the true value of r is zero (no correlation).\n",
    "\n"
   ]
  },
  {
   "cell_type": "markdown",
   "metadata": {},
   "source": [
    "To provide more insights, we will investigate who are the directors of these top10 highest grossing movies. We will use the tn top 20 list.\n",
    "To link the name of the movies to their corresponding directors, we have to merge several datasets. In particular, we have to merge the tn_movie_top25 with the imdb datasets that contains all the information aobut movies and directors. \n",
    "\n",
    "First, let's refresh what is contained in the tn_movie_top25 and in the imdb_title_rating datasets."
   ]
  },
  {
   "cell_type": "code",
   "execution_count": 286,
   "metadata": {},
   "outputs": [
    {
     "data": {
      "text/html": [
       "<div>\n",
       "<style scoped>\n",
       "    .dataframe tbody tr th:only-of-type {\n",
       "        vertical-align: middle;\n",
       "    }\n",
       "\n",
       "    .dataframe tbody tr th {\n",
       "        vertical-align: top;\n",
       "    }\n",
       "\n",
       "    .dataframe thead th {\n",
       "        text-align: right;\n",
       "    }\n",
       "</style>\n",
       "<table border=\"1\" class=\"dataframe\">\n",
       "  <thead>\n",
       "    <tr style=\"text-align: right;\">\n",
       "      <th></th>\n",
       "      <th>id</th>\n",
       "      <th>release_date</th>\n",
       "      <th>movie</th>\n",
       "      <th>production_budget</th>\n",
       "      <th>domestic_gross</th>\n",
       "      <th>worldwide_gross</th>\n",
       "      <th>worldwide_gross_new</th>\n",
       "      <th>production_budget_new</th>\n",
       "    </tr>\n",
       "  </thead>\n",
       "  <tbody>\n",
       "    <tr>\n",
       "      <th>437</th>\n",
       "      <td>38</td>\n",
       "      <td>2017-12-20</td>\n",
       "      <td>Jumanji: Welcome to the Jungle</td>\n",
       "      <td>$90,000,000</td>\n",
       "      <td>$404,508,916</td>\n",
       "      <td>$964,496,193</td>\n",
       "      <td>9.644962e+08</td>\n",
       "      <td>90000000.0</td>\n",
       "    </tr>\n",
       "    <tr>\n",
       "      <th>156</th>\n",
       "      <td>57</td>\n",
       "      <td>2016-03-04</td>\n",
       "      <td>Zootopia</td>\n",
       "      <td>$150,000,000</td>\n",
       "      <td>$341,268,248</td>\n",
       "      <td>$1,019,429,616</td>\n",
       "      <td>1.019430e+09</td>\n",
       "      <td>150000000.0</td>\n",
       "    </tr>\n",
       "  </tbody>\n",
       "</table>\n",
       "</div>"
      ],
      "text/plain": [
       "     id release_date                           movie production_budget  \\\n",
       "437  38   2017-12-20  Jumanji: Welcome to the Jungle       $90,000,000   \n",
       "156  57   2016-03-04                        Zootopia      $150,000,000   \n",
       "\n",
       "    domestic_gross worldwide_gross  worldwide_gross_new  production_budget_new  \n",
       "437   $404,508,916    $964,496,193         9.644962e+08             90000000.0  \n",
       "156   $341,268,248  $1,019,429,616         1.019430e+09            150000000.0  "
      ]
     },
     "execution_count": 286,
     "metadata": {},
     "output_type": "execute_result"
    }
   ],
   "source": [
    "tn_movie_top25.head(2)"
   ]
  },
  {
   "cell_type": "code",
   "execution_count": 287,
   "metadata": {},
   "outputs": [
    {
     "data": {
      "text/html": [
       "<div>\n",
       "<style scoped>\n",
       "    .dataframe tbody tr th:only-of-type {\n",
       "        vertical-align: middle;\n",
       "    }\n",
       "\n",
       "    .dataframe tbody tr th {\n",
       "        vertical-align: top;\n",
       "    }\n",
       "\n",
       "    .dataframe thead th {\n",
       "        text-align: right;\n",
       "    }\n",
       "</style>\n",
       "<table border=\"1\" class=\"dataframe\">\n",
       "  <thead>\n",
       "    <tr style=\"text-align: right;\">\n",
       "      <th></th>\n",
       "      <th>tconst</th>\n",
       "      <th>primary_title</th>\n",
       "      <th>original_title</th>\n",
       "      <th>start_year</th>\n",
       "      <th>runtime_minutes</th>\n",
       "      <th>genres</th>\n",
       "      <th>averagerating</th>\n",
       "      <th>numvotes</th>\n",
       "    </tr>\n",
       "  </thead>\n",
       "  <tbody>\n",
       "    <tr>\n",
       "      <th>48</th>\n",
       "      <td>tt0337692</td>\n",
       "      <td>On the Road</td>\n",
       "      <td>On the Road</td>\n",
       "      <td>2012</td>\n",
       "      <td>124.0</td>\n",
       "      <td>Adventure,Drama,Romance</td>\n",
       "      <td>6.1</td>\n",
       "      <td>37886.0</td>\n",
       "    </tr>\n",
       "    <tr>\n",
       "      <th>54</th>\n",
       "      <td>tt0359950</td>\n",
       "      <td>The Secret Life of Walter Mitty</td>\n",
       "      <td>The Secret Life of Walter Mitty</td>\n",
       "      <td>2013</td>\n",
       "      <td>114.0</td>\n",
       "      <td>Adventure,Comedy,Drama</td>\n",
       "      <td>7.3</td>\n",
       "      <td>275300.0</td>\n",
       "    </tr>\n",
       "  </tbody>\n",
       "</table>\n",
       "</div>"
      ],
      "text/plain": [
       "       tconst                    primary_title  \\\n",
       "48  tt0337692                      On the Road   \n",
       "54  tt0359950  The Secret Life of Walter Mitty   \n",
       "\n",
       "                     original_title  start_year  runtime_minutes  \\\n",
       "48                      On the Road        2012            124.0   \n",
       "54  The Secret Life of Walter Mitty        2013            114.0   \n",
       "\n",
       "                     genres  averagerating  numvotes  \n",
       "48  Adventure,Drama,Romance            6.1   37886.0  \n",
       "54   Adventure,Comedy,Drama            7.3  275300.0  "
      ]
     },
     "execution_count": 287,
     "metadata": {},
     "output_type": "execute_result"
    }
   ],
   "source": [
    "imdb_title_rating.head(2)"
   ]
  },
  {
   "cell_type": "code",
   "execution_count": 288,
   "metadata": {},
   "outputs": [
    {
     "data": {
      "text/html": [
       "<div>\n",
       "<style scoped>\n",
       "    .dataframe tbody tr th:only-of-type {\n",
       "        vertical-align: middle;\n",
       "    }\n",
       "\n",
       "    .dataframe tbody tr th {\n",
       "        vertical-align: top;\n",
       "    }\n",
       "\n",
       "    .dataframe thead th {\n",
       "        text-align: right;\n",
       "    }\n",
       "</style>\n",
       "<table border=\"1\" class=\"dataframe\">\n",
       "  <thead>\n",
       "    <tr style=\"text-align: right;\">\n",
       "      <th></th>\n",
       "      <th>id</th>\n",
       "      <th>release_date</th>\n",
       "      <th>original_title</th>\n",
       "      <th>production_budget</th>\n",
       "      <th>domestic_gross</th>\n",
       "      <th>worldwide_gross</th>\n",
       "      <th>worldwide_gross_new</th>\n",
       "      <th>production_budget_new</th>\n",
       "    </tr>\n",
       "  </thead>\n",
       "  <tbody>\n",
       "    <tr>\n",
       "      <th>437</th>\n",
       "      <td>38</td>\n",
       "      <td>2017-12-20</td>\n",
       "      <td>Jumanji: Welcome to the Jungle</td>\n",
       "      <td>$90,000,000</td>\n",
       "      <td>$404,508,916</td>\n",
       "      <td>$964,496,193</td>\n",
       "      <td>9.644962e+08</td>\n",
       "      <td>90000000.0</td>\n",
       "    </tr>\n",
       "    <tr>\n",
       "      <th>156</th>\n",
       "      <td>57</td>\n",
       "      <td>2016-03-04</td>\n",
       "      <td>Zootopia</td>\n",
       "      <td>$150,000,000</td>\n",
       "      <td>$341,268,248</td>\n",
       "      <td>$1,019,429,616</td>\n",
       "      <td>1.019430e+09</td>\n",
       "      <td>150000000.0</td>\n",
       "    </tr>\n",
       "  </tbody>\n",
       "</table>\n",
       "</div>"
      ],
      "text/plain": [
       "     id release_date                  original_title production_budget  \\\n",
       "437  38   2017-12-20  Jumanji: Welcome to the Jungle       $90,000,000   \n",
       "156  57   2016-03-04                        Zootopia      $150,000,000   \n",
       "\n",
       "    domestic_gross worldwide_gross  worldwide_gross_new  production_budget_new  \n",
       "437   $404,508,916    $964,496,193         9.644962e+08             90000000.0  \n",
       "156   $341,268,248  $1,019,429,616         1.019430e+09            150000000.0  "
      ]
     },
     "execution_count": 288,
     "metadata": {},
     "output_type": "execute_result"
    }
   ],
   "source": [
    "#To merge both datasets, first we have to change the name of the column that we want to merge, \n",
    "#so it has a consistent name.\n",
    "\n",
    "tn_movie_top25 = tn_movie_top25.rename(columns={'movie': 'original_title'})\n",
    "tn_movie_top25.head(2)"
   ]
  },
  {
   "cell_type": "code",
   "execution_count": 289,
   "metadata": {},
   "outputs": [],
   "source": [
    "#now we merge both datasets using the original_title column, with an inner joint\n",
    "gross_director_1  = pd.merge(tn_movie_top25, \n",
    "                              imdb_title_rating, \n",
    "                              on=['original_title'], \n",
    "                              how='inner') "
   ]
  },
  {
   "cell_type": "code",
   "execution_count": 290,
   "metadata": {},
   "outputs": [],
   "source": [
    "#now we want to join the imdb dataset that contains the directors informaiton\n",
    "gross_director_2  = pd.merge(gross_director_1, \n",
    "                              imdb_crew, \n",
    "                              on=['tconst'], \n",
    "                              how='inner') "
   ]
  },
  {
   "cell_type": "code",
   "execution_count": 291,
   "metadata": {},
   "outputs": [
    {
     "data": {
      "text/html": [
       "<div>\n",
       "<style scoped>\n",
       "    .dataframe tbody tr th:only-of-type {\n",
       "        vertical-align: middle;\n",
       "    }\n",
       "\n",
       "    .dataframe tbody tr th {\n",
       "        vertical-align: top;\n",
       "    }\n",
       "\n",
       "    .dataframe thead th {\n",
       "        text-align: right;\n",
       "    }\n",
       "</style>\n",
       "<table border=\"1\" class=\"dataframe\">\n",
       "  <thead>\n",
       "    <tr style=\"text-align: right;\">\n",
       "      <th></th>\n",
       "      <th>id</th>\n",
       "      <th>release_date</th>\n",
       "      <th>original_title</th>\n",
       "      <th>production_budget</th>\n",
       "      <th>domestic_gross</th>\n",
       "      <th>worldwide_gross</th>\n",
       "      <th>worldwide_gross_new</th>\n",
       "      <th>production_budget_new</th>\n",
       "      <th>tconst</th>\n",
       "      <th>primary_title</th>\n",
       "      <th>start_year</th>\n",
       "      <th>runtime_minutes</th>\n",
       "      <th>genres</th>\n",
       "      <th>averagerating</th>\n",
       "      <th>numvotes</th>\n",
       "      <th>directors</th>\n",
       "      <th>writers</th>\n",
       "    </tr>\n",
       "  </thead>\n",
       "  <tbody>\n",
       "    <tr>\n",
       "      <th>0</th>\n",
       "      <td>38</td>\n",
       "      <td>2017-12-20</td>\n",
       "      <td>Jumanji: Welcome to the Jungle</td>\n",
       "      <td>$90,000,000</td>\n",
       "      <td>$404,508,916</td>\n",
       "      <td>$964,496,193</td>\n",
       "      <td>9.644962e+08</td>\n",
       "      <td>90000000.0</td>\n",
       "      <td>tt2283362</td>\n",
       "      <td>Jumanji: Welcome to the Jungle</td>\n",
       "      <td>2017</td>\n",
       "      <td>119.0</td>\n",
       "      <td>Action,Adventure,Comedy</td>\n",
       "      <td>7.0</td>\n",
       "      <td>242735.0</td>\n",
       "      <td>nm0440458</td>\n",
       "      <td>nm0571344,nm1273099,nm0003298,nm0684374,nm0885...</td>\n",
       "    </tr>\n",
       "    <tr>\n",
       "      <th>1</th>\n",
       "      <td>57</td>\n",
       "      <td>2016-03-04</td>\n",
       "      <td>Zootopia</td>\n",
       "      <td>$150,000,000</td>\n",
       "      <td>$341,268,248</td>\n",
       "      <td>$1,019,429,616</td>\n",
       "      <td>1.019430e+09</td>\n",
       "      <td>150000000.0</td>\n",
       "      <td>tt2948356</td>\n",
       "      <td>Zootopia</td>\n",
       "      <td>2016</td>\n",
       "      <td>108.0</td>\n",
       "      <td>Adventure,Animation,Comedy</td>\n",
       "      <td>8.0</td>\n",
       "      <td>383446.0</td>\n",
       "      <td>nm1158544,nm0397174,nm0601781</td>\n",
       "      <td>nm0397174,nm0601781,nm1158544,nm0714114,nm2888...</td>\n",
       "    </tr>\n",
       "  </tbody>\n",
       "</table>\n",
       "</div>"
      ],
      "text/plain": [
       "   id release_date                  original_title production_budget  \\\n",
       "0  38   2017-12-20  Jumanji: Welcome to the Jungle       $90,000,000   \n",
       "1  57   2016-03-04                        Zootopia      $150,000,000   \n",
       "\n",
       "  domestic_gross worldwide_gross  worldwide_gross_new  production_budget_new  \\\n",
       "0   $404,508,916    $964,496,193         9.644962e+08             90000000.0   \n",
       "1   $341,268,248  $1,019,429,616         1.019430e+09            150000000.0   \n",
       "\n",
       "      tconst                   primary_title  start_year  runtime_minutes  \\\n",
       "0  tt2283362  Jumanji: Welcome to the Jungle        2017            119.0   \n",
       "1  tt2948356                        Zootopia        2016            108.0   \n",
       "\n",
       "                       genres  averagerating  numvotes  \\\n",
       "0     Action,Adventure,Comedy            7.0  242735.0   \n",
       "1  Adventure,Animation,Comedy            8.0  383446.0   \n",
       "\n",
       "                       directors  \\\n",
       "0                      nm0440458   \n",
       "1  nm1158544,nm0397174,nm0601781   \n",
       "\n",
       "                                             writers  \n",
       "0  nm0571344,nm1273099,nm0003298,nm0684374,nm0885...  \n",
       "1  nm0397174,nm0601781,nm1158544,nm0714114,nm2888...  "
      ]
     },
     "execution_count": 291,
     "metadata": {},
     "output_type": "execute_result"
    }
   ],
   "source": [
    "#if we have a look to our new datset, we can see that some movies have more than one director, \n",
    "#and that some directors appear multiple time\n",
    "\n",
    "gross_director_2.head(2)"
   ]
  },
  {
   "cell_type": "code",
   "execution_count": 292,
   "metadata": {},
   "outputs": [
    {
     "data": {
      "text/plain": [
       "nm0751577,nm0751648              2\n",
       "nm0336620                        1\n",
       "nm0049633,nm3210494,nm1853544    1\n",
       "nm1119880                        1\n",
       "nm1158544,nm0397174,nm0601781    1\n",
       "nm0923736                        1\n",
       "nm0281396,nm1349818              1\n",
       "nm0004056,nm0533691              1\n",
       "nm1853544,nm0049633              1\n",
       "nm0174374                        1\n",
       "nm0440458                        1\n",
       "nm1291105                        1\n",
       "nm1490123                        1\n",
       "nm0083348                        1\n",
       "nm3363032                        1\n",
       "Name: directors, dtype: int64"
      ]
     },
     "execution_count": 292,
     "metadata": {},
     "output_type": "execute_result"
    }
   ],
   "source": [
    "gross_director_2['directors'].value_counts()\n"
   ]
  },
  {
   "cell_type": "code",
   "execution_count": 293,
   "metadata": {},
   "outputs": [
    {
     "data": {
      "text/plain": [
       "['nm0440458',\n",
       " 'nm1158544',\n",
       " 'nm0397174',\n",
       " 'nm0601781',\n",
       " 'nm0004056',\n",
       " 'nm0533691',\n",
       " 'nm0049633',\n",
       " 'nm3210494',\n",
       " 'nm1853544',\n",
       " 'nm0281396',\n",
       " 'nm1349818',\n",
       " 'nm0751577',\n",
       " 'nm0751648',\n",
       " 'nm1490123',\n",
       " 'nm1853544',\n",
       " 'nm0049633',\n",
       " 'nm0336620',\n",
       " 'nm0083348',\n",
       " 'nm0174374',\n",
       " 'nm1291105',\n",
       " 'nm3363032',\n",
       " 'nm0923736',\n",
       " 'nm1119880',\n",
       " 'nm0751577',\n",
       " 'nm0751648',\n",
       " '']"
      ]
     },
     "execution_count": 293,
     "metadata": {},
     "output_type": "execute_result"
    }
   ],
   "source": [
    "#we want to create a list with all the directors id\n",
    "\n",
    "col_one_directors = gross_director_2['directors'].tolist()\n",
    "\n",
    "sent_str = \"\"\n",
    "for x in col_one_directors:\n",
    "    sent_str += str(x) + \",\"\n",
    "\n",
    "directors_str = sent_str.split(',')\n",
    "directors_str"
   ]
  },
  {
   "cell_type": "code",
   "execution_count": 295,
   "metadata": {},
   "outputs": [
    {
     "name": "stdout",
     "output_type": "stream",
     "text": [
      "[('nm0049633', 2), ('nm1853544', 2), ('nm0751577', 2), ('nm0751648', 2), ('nm0440458', 1), ('nm1158544', 1), ('nm0397174', 1), ('nm0601781', 1), ('nm0004056', 1), ('nm0533691', 1), ('nm3210494', 1), ('nm0281396', 1), ('nm1349818', 1), ('nm1490123', 1), ('nm0336620', 1), ('nm0083348', 1), ('nm0174374', 1), ('nm1291105', 1), ('nm3363032', 1), ('nm0923736', 1), ('nm1119880', 1), ('', 1)]\n"
     ]
    },
    {
     "data": {
      "text/plain": [
       "list"
      ]
     },
     "execution_count": 295,
     "metadata": {},
     "output_type": "execute_result"
    }
   ],
   "source": [
    "#we explore whether a director appears in more than one movie, by using the counter function\n",
    "\n",
    "directors = Counter(directors_str).most_common()\n",
    "print(directors)\n",
    "type(directors)"
   ]
  },
  {
   "cell_type": "code",
   "execution_count": 296,
   "metadata": {},
   "outputs": [
    {
     "data": {
      "text/plain": [
       "'nm0049633'"
      ]
     },
     "execution_count": 296,
     "metadata": {},
     "output_type": "execute_result"
    }
   ],
   "source": [
    "directors[0][0]"
   ]
  },
  {
   "cell_type": "code",
   "execution_count": 297,
   "metadata": {},
   "outputs": [
    {
     "data": {
      "text/html": [
       "<div>\n",
       "<style scoped>\n",
       "    .dataframe tbody tr th:only-of-type {\n",
       "        vertical-align: middle;\n",
       "    }\n",
       "\n",
       "    .dataframe tbody tr th {\n",
       "        vertical-align: top;\n",
       "    }\n",
       "\n",
       "    .dataframe thead th {\n",
       "        text-align: right;\n",
       "    }\n",
       "</style>\n",
       "<table border=\"1\" class=\"dataframe\">\n",
       "  <thead>\n",
       "    <tr style=\"text-align: right;\">\n",
       "      <th></th>\n",
       "      <th>nconst</th>\n",
       "      <th>primary_name</th>\n",
       "      <th>birth_year</th>\n",
       "      <th>death_year</th>\n",
       "      <th>primary_profession</th>\n",
       "      <th>known_for_titles</th>\n",
       "    </tr>\n",
       "  </thead>\n",
       "  <tbody>\n",
       "    <tr>\n",
       "      <th>0</th>\n",
       "      <td>nm0061671</td>\n",
       "      <td>Mary Ellen Bauder</td>\n",
       "      <td>NaN</td>\n",
       "      <td>NaN</td>\n",
       "      <td>miscellaneous,production_manager,producer</td>\n",
       "      <td>tt0837562,tt2398241,tt0844471,tt0118553</td>\n",
       "    </tr>\n",
       "    <tr>\n",
       "      <th>1</th>\n",
       "      <td>nm0061865</td>\n",
       "      <td>Joseph Bauer</td>\n",
       "      <td>NaN</td>\n",
       "      <td>NaN</td>\n",
       "      <td>composer,music_department,sound_department</td>\n",
       "      <td>tt0896534,tt6791238,tt0287072,tt1682940</td>\n",
       "    </tr>\n",
       "    <tr>\n",
       "      <th>2</th>\n",
       "      <td>nm0062070</td>\n",
       "      <td>Bruce Baum</td>\n",
       "      <td>NaN</td>\n",
       "      <td>NaN</td>\n",
       "      <td>miscellaneous,actor,writer</td>\n",
       "      <td>tt1470654,tt0363631,tt0104030,tt0102898</td>\n",
       "    </tr>\n",
       "    <tr>\n",
       "      <th>3</th>\n",
       "      <td>nm0062195</td>\n",
       "      <td>Axel Baumann</td>\n",
       "      <td>NaN</td>\n",
       "      <td>NaN</td>\n",
       "      <td>camera_department,cinematographer,art_department</td>\n",
       "      <td>tt0114371,tt2004304,tt1618448,tt1224387</td>\n",
       "    </tr>\n",
       "    <tr>\n",
       "      <th>4</th>\n",
       "      <td>nm0062798</td>\n",
       "      <td>Pete Baxter</td>\n",
       "      <td>NaN</td>\n",
       "      <td>NaN</td>\n",
       "      <td>production_designer,art_department,set_decorator</td>\n",
       "      <td>tt0452644,tt0452692,tt3458030,tt2178256</td>\n",
       "    </tr>\n",
       "  </tbody>\n",
       "</table>\n",
       "</div>"
      ],
      "text/plain": [
       "      nconst       primary_name  birth_year  death_year  \\\n",
       "0  nm0061671  Mary Ellen Bauder         NaN         NaN   \n",
       "1  nm0061865       Joseph Bauer         NaN         NaN   \n",
       "2  nm0062070         Bruce Baum         NaN         NaN   \n",
       "3  nm0062195       Axel Baumann         NaN         NaN   \n",
       "4  nm0062798        Pete Baxter         NaN         NaN   \n",
       "\n",
       "                                 primary_profession  \\\n",
       "0         miscellaneous,production_manager,producer   \n",
       "1        composer,music_department,sound_department   \n",
       "2                        miscellaneous,actor,writer   \n",
       "3  camera_department,cinematographer,art_department   \n",
       "4  production_designer,art_department,set_decorator   \n",
       "\n",
       "                          known_for_titles  \n",
       "0  tt0837562,tt2398241,tt0844471,tt0118553  \n",
       "1  tt0896534,tt6791238,tt0287072,tt1682940  \n",
       "2  tt1470654,tt0363631,tt0104030,tt0102898  \n",
       "3  tt0114371,tt2004304,tt1618448,tt1224387  \n",
       "4  tt0452644,tt0452692,tt3458030,tt2178256  "
      ]
     },
     "execution_count": 297,
     "metadata": {},
     "output_type": "execute_result"
    }
   ],
   "source": [
    "#let's refresh what is in the last table that we want to join to get the name of the directors\n",
    "imdb_names.head()"
   ]
  },
  {
   "cell_type": "code",
   "execution_count": 301,
   "metadata": {},
   "outputs": [],
   "source": [
    "#now we want to create a new table that will containt the id of each director (which measn the nconst) and \n",
    "#the number of times that the director has appeared in the top25 tn highest grossing movies\n",
    "\n",
    "const_directors = []\n",
    "for x in directors:\n",
    "    const_directors.append(x[0])\n",
    "\n",
    "\n",
    "repetitions_directors = []\n",
    "for x in directors:\n",
    "    repetitions_directors.append(x[1])\n"
   ]
  },
  {
   "cell_type": "code",
   "execution_count": 302,
   "metadata": {},
   "outputs": [
    {
     "data": {
      "text/html": [
       "<div>\n",
       "<style scoped>\n",
       "    .dataframe tbody tr th:only-of-type {\n",
       "        vertical-align: middle;\n",
       "    }\n",
       "\n",
       "    .dataframe tbody tr th {\n",
       "        vertical-align: top;\n",
       "    }\n",
       "\n",
       "    .dataframe thead th {\n",
       "        text-align: right;\n",
       "    }\n",
       "</style>\n",
       "<table border=\"1\" class=\"dataframe\">\n",
       "  <thead>\n",
       "    <tr style=\"text-align: right;\">\n",
       "      <th></th>\n",
       "      <th>nconst</th>\n",
       "      <th>repetition</th>\n",
       "    </tr>\n",
       "  </thead>\n",
       "  <tbody>\n",
       "    <tr>\n",
       "      <th>0</th>\n",
       "      <td>nm0049633</td>\n",
       "      <td>2</td>\n",
       "    </tr>\n",
       "    <tr>\n",
       "      <th>1</th>\n",
       "      <td>nm1853544</td>\n",
       "      <td>2</td>\n",
       "    </tr>\n",
       "    <tr>\n",
       "      <th>2</th>\n",
       "      <td>nm0751577</td>\n",
       "      <td>2</td>\n",
       "    </tr>\n",
       "    <tr>\n",
       "      <th>3</th>\n",
       "      <td>nm0751648</td>\n",
       "      <td>2</td>\n",
       "    </tr>\n",
       "    <tr>\n",
       "      <th>4</th>\n",
       "      <td>nm0440458</td>\n",
       "      <td>1</td>\n",
       "    </tr>\n",
       "    <tr>\n",
       "      <th>5</th>\n",
       "      <td>nm1158544</td>\n",
       "      <td>1</td>\n",
       "    </tr>\n",
       "    <tr>\n",
       "      <th>6</th>\n",
       "      <td>nm0397174</td>\n",
       "      <td>1</td>\n",
       "    </tr>\n",
       "    <tr>\n",
       "      <th>7</th>\n",
       "      <td>nm0601781</td>\n",
       "      <td>1</td>\n",
       "    </tr>\n",
       "    <tr>\n",
       "      <th>8</th>\n",
       "      <td>nm0004056</td>\n",
       "      <td>1</td>\n",
       "    </tr>\n",
       "    <tr>\n",
       "      <th>9</th>\n",
       "      <td>nm0533691</td>\n",
       "      <td>1</td>\n",
       "    </tr>\n",
       "    <tr>\n",
       "      <th>10</th>\n",
       "      <td>nm3210494</td>\n",
       "      <td>1</td>\n",
       "    </tr>\n",
       "    <tr>\n",
       "      <th>11</th>\n",
       "      <td>nm0281396</td>\n",
       "      <td>1</td>\n",
       "    </tr>\n",
       "    <tr>\n",
       "      <th>12</th>\n",
       "      <td>nm1349818</td>\n",
       "      <td>1</td>\n",
       "    </tr>\n",
       "    <tr>\n",
       "      <th>13</th>\n",
       "      <td>nm1490123</td>\n",
       "      <td>1</td>\n",
       "    </tr>\n",
       "    <tr>\n",
       "      <th>14</th>\n",
       "      <td>nm0336620</td>\n",
       "      <td>1</td>\n",
       "    </tr>\n",
       "    <tr>\n",
       "      <th>15</th>\n",
       "      <td>nm0083348</td>\n",
       "      <td>1</td>\n",
       "    </tr>\n",
       "    <tr>\n",
       "      <th>16</th>\n",
       "      <td>nm0174374</td>\n",
       "      <td>1</td>\n",
       "    </tr>\n",
       "    <tr>\n",
       "      <th>17</th>\n",
       "      <td>nm1291105</td>\n",
       "      <td>1</td>\n",
       "    </tr>\n",
       "    <tr>\n",
       "      <th>18</th>\n",
       "      <td>nm3363032</td>\n",
       "      <td>1</td>\n",
       "    </tr>\n",
       "    <tr>\n",
       "      <th>19</th>\n",
       "      <td>nm0923736</td>\n",
       "      <td>1</td>\n",
       "    </tr>\n",
       "    <tr>\n",
       "      <th>20</th>\n",
       "      <td>nm1119880</td>\n",
       "      <td>1</td>\n",
       "    </tr>\n",
       "    <tr>\n",
       "      <th>21</th>\n",
       "      <td></td>\n",
       "      <td>1</td>\n",
       "    </tr>\n",
       "  </tbody>\n",
       "</table>\n",
       "</div>"
      ],
      "text/plain": [
       "       nconst  repetition\n",
       "0   nm0049633           2\n",
       "1   nm1853544           2\n",
       "2   nm0751577           2\n",
       "3   nm0751648           2\n",
       "4   nm0440458           1\n",
       "5   nm1158544           1\n",
       "6   nm0397174           1\n",
       "7   nm0601781           1\n",
       "8   nm0004056           1\n",
       "9   nm0533691           1\n",
       "10  nm3210494           1\n",
       "11  nm0281396           1\n",
       "12  nm1349818           1\n",
       "13  nm1490123           1\n",
       "14  nm0336620           1\n",
       "15  nm0083348           1\n",
       "16  nm0174374           1\n",
       "17  nm1291105           1\n",
       "18  nm3363032           1\n",
       "19  nm0923736           1\n",
       "20  nm1119880           1\n",
       "21                      1"
      ]
     },
     "execution_count": 302,
     "metadata": {},
     "output_type": "execute_result"
    }
   ],
   "source": [
    "#let's create the dataframe\n",
    "\n",
    "d = {'directors':const_directors,'repetition':repetitions_directors}\n",
    "df_directors = pd.DataFrame(d)\n",
    "\n",
    "df_directors = df_directors.rename(columns={'directors': 'nconst'})\n",
    "df_directors"
   ]
  },
  {
   "cell_type": "code",
   "execution_count": 304,
   "metadata": {},
   "outputs": [
    {
     "data": {
      "text/html": [
       "<div>\n",
       "<style scoped>\n",
       "    .dataframe tbody tr th:only-of-type {\n",
       "        vertical-align: middle;\n",
       "    }\n",
       "\n",
       "    .dataframe tbody tr th {\n",
       "        vertical-align: top;\n",
       "    }\n",
       "\n",
       "    .dataframe thead th {\n",
       "        text-align: right;\n",
       "    }\n",
       "</style>\n",
       "<table border=\"1\" class=\"dataframe\">\n",
       "  <thead>\n",
       "    <tr style=\"text-align: right;\">\n",
       "      <th></th>\n",
       "      <th>nconst</th>\n",
       "      <th>repetition</th>\n",
       "      <th>primary_name</th>\n",
       "      <th>birth_year</th>\n",
       "      <th>death_year</th>\n",
       "      <th>primary_profession</th>\n",
       "      <th>known_for_titles</th>\n",
       "    </tr>\n",
       "  </thead>\n",
       "  <tbody>\n",
       "    <tr>\n",
       "      <th>0</th>\n",
       "      <td>nm0049633</td>\n",
       "      <td>2</td>\n",
       "      <td>Kyle Balda</td>\n",
       "      <td>1971.0</td>\n",
       "      <td>NaN</td>\n",
       "      <td>director,animation_department,visual_effects</td>\n",
       "      <td>tt2293640,tt1482459,tt0116996,tt3469046</td>\n",
       "    </tr>\n",
       "    <tr>\n",
       "      <th>1</th>\n",
       "      <td>nm1853544</td>\n",
       "      <td>2</td>\n",
       "      <td>Pierre Coffin</td>\n",
       "      <td>1967.0</td>\n",
       "      <td>NaN</td>\n",
       "      <td>actor,director,producer</td>\n",
       "      <td>tt1690953,tt2293640,tt3469046,tt1323594</td>\n",
       "    </tr>\n",
       "    <tr>\n",
       "      <th>2</th>\n",
       "      <td>nm0751577</td>\n",
       "      <td>2</td>\n",
       "      <td>Anthony Russo</td>\n",
       "      <td>1970.0</td>\n",
       "      <td>NaN</td>\n",
       "      <td>producer,director,writer</td>\n",
       "      <td>tt1843866,tt4154756,tt3498820,tt4154796</td>\n",
       "    </tr>\n",
       "    <tr>\n",
       "      <th>3</th>\n",
       "      <td>nm0751648</td>\n",
       "      <td>2</td>\n",
       "      <td>Joe Russo</td>\n",
       "      <td>1971.0</td>\n",
       "      <td>NaN</td>\n",
       "      <td>producer,director,writer</td>\n",
       "      <td>tt4154756,tt4154796,tt1843866,tt3498820</td>\n",
       "    </tr>\n",
       "    <tr>\n",
       "      <th>4</th>\n",
       "      <td>nm0440458</td>\n",
       "      <td>1</td>\n",
       "      <td>Jake Kasdan</td>\n",
       "      <td>1974.0</td>\n",
       "      <td>NaN</td>\n",
       "      <td>producer,director,actor</td>\n",
       "      <td>tt1956620,tt0120906,tt0473709,tt0841046</td>\n",
       "    </tr>\n",
       "    <tr>\n",
       "      <th>5</th>\n",
       "      <td>nm1158544</td>\n",
       "      <td>1</td>\n",
       "      <td>Jared Bush</td>\n",
       "      <td>1974.0</td>\n",
       "      <td>NaN</td>\n",
       "      <td>writer,miscellaneous,producer</td>\n",
       "      <td>tt3521164,tt2948356,tt0161081,tt0362404</td>\n",
       "    </tr>\n",
       "    <tr>\n",
       "      <th>6</th>\n",
       "      <td>nm0397174</td>\n",
       "      <td>1</td>\n",
       "      <td>Byron Howard</td>\n",
       "      <td>1968.0</td>\n",
       "      <td>NaN</td>\n",
       "      <td>animation_department,director,actor</td>\n",
       "      <td>tt0398286,tt0328880,tt2948356,tt0397892</td>\n",
       "    </tr>\n",
       "    <tr>\n",
       "      <th>7</th>\n",
       "      <td>nm0601781</td>\n",
       "      <td>1</td>\n",
       "      <td>Rich Moore</td>\n",
       "      <td>1963.0</td>\n",
       "      <td>NaN</td>\n",
       "      <td>miscellaneous,director,art_department</td>\n",
       "      <td>tt2948356,tt5848272,tt1772341,tt0149460</td>\n",
       "    </tr>\n",
       "    <tr>\n",
       "      <th>8</th>\n",
       "      <td>nm0004056</td>\n",
       "      <td>1</td>\n",
       "      <td>Andrew Stanton</td>\n",
       "      <td>1965.0</td>\n",
       "      <td>NaN</td>\n",
       "      <td>writer,actor,producer</td>\n",
       "      <td>tt0120623,tt0266543,tt2277860,tt0910970</td>\n",
       "    </tr>\n",
       "    <tr>\n",
       "      <th>9</th>\n",
       "      <td>nm0533691</td>\n",
       "      <td>1</td>\n",
       "      <td>Angus MacLane</td>\n",
       "      <td>NaN</td>\n",
       "      <td>NaN</td>\n",
       "      <td>animation_department,actor,writer</td>\n",
       "      <td>tt0910970,tt0317705,tt2446040,tt2277860</td>\n",
       "    </tr>\n",
       "    <tr>\n",
       "      <th>10</th>\n",
       "      <td>nm3210494</td>\n",
       "      <td>1</td>\n",
       "      <td>Eric Guillon</td>\n",
       "      <td>NaN</td>\n",
       "      <td>NaN</td>\n",
       "      <td>animation_department,art_department,production...</td>\n",
       "      <td>tt3469046,tt1482459,tt2709768,tt1690953</td>\n",
       "    </tr>\n",
       "    <tr>\n",
       "      <th>11</th>\n",
       "      <td>nm0281396</td>\n",
       "      <td>1</td>\n",
       "      <td>Ryan Fleck</td>\n",
       "      <td>1976.0</td>\n",
       "      <td>NaN</td>\n",
       "      <td>director,writer,cinematographer</td>\n",
       "      <td>tt0468489,tt4154664,tt0804497,tt0990413</td>\n",
       "    </tr>\n",
       "    <tr>\n",
       "      <th>12</th>\n",
       "      <td>nm1349818</td>\n",
       "      <td>1</td>\n",
       "      <td>Anna Boden</td>\n",
       "      <td>1979.0</td>\n",
       "      <td>NaN</td>\n",
       "      <td>director,writer,editor</td>\n",
       "      <td>tt4154664,tt0804497,tt0468489,tt0990413</td>\n",
       "    </tr>\n",
       "    <tr>\n",
       "      <th>13</th>\n",
       "      <td>nm1490123</td>\n",
       "      <td>1</td>\n",
       "      <td>James Wan</td>\n",
       "      <td>1977.0</td>\n",
       "      <td>NaN</td>\n",
       "      <td>producer,writer,director</td>\n",
       "      <td>tt1457767,tt0387564,tt3065204,tt2820852</td>\n",
       "    </tr>\n",
       "    <tr>\n",
       "      <th>14</th>\n",
       "      <td>nm0336620</td>\n",
       "      <td>1</td>\n",
       "      <td>F. Gary Gray</td>\n",
       "      <td>1969.0</td>\n",
       "      <td>NaN</td>\n",
       "      <td>director,actor,producer</td>\n",
       "      <td>tt0120768,tt0117603,tt0113118,tt0317740</td>\n",
       "    </tr>\n",
       "    <tr>\n",
       "      <th>15</th>\n",
       "      <td>nm0083348</td>\n",
       "      <td>1</td>\n",
       "      <td>Brad Bird</td>\n",
       "      <td>1957.0</td>\n",
       "      <td>NaN</td>\n",
       "      <td>miscellaneous,writer,director</td>\n",
       "      <td>tt0129167,tt3606756,tt0317705,tt0382932</td>\n",
       "    </tr>\n",
       "    <tr>\n",
       "      <th>16</th>\n",
       "      <td>nm0174374</td>\n",
       "      <td>1</td>\n",
       "      <td>Bill Condon</td>\n",
       "      <td>1955.0</td>\n",
       "      <td>NaN</td>\n",
       "      <td>director,writer,producer</td>\n",
       "      <td>tt0362269,tt0443489,tt0120684,tt0299658</td>\n",
       "    </tr>\n",
       "    <tr>\n",
       "      <th>17</th>\n",
       "      <td>nm1291105</td>\n",
       "      <td>1</td>\n",
       "      <td>J.A. Bayona</td>\n",
       "      <td>1975.0</td>\n",
       "      <td>NaN</td>\n",
       "      <td>director,writer,actor</td>\n",
       "      <td>tt1649419,tt0464141,tt3416532,tt4881806</td>\n",
       "    </tr>\n",
       "    <tr>\n",
       "      <th>18</th>\n",
       "      <td>nm3363032</td>\n",
       "      <td>1</td>\n",
       "      <td>Ryan Coogler</td>\n",
       "      <td>1986.0</td>\n",
       "      <td>NaN</td>\n",
       "      <td>director,writer,producer</td>\n",
       "      <td>tt1825683,tt6343314,tt2334649,tt3076658</td>\n",
       "    </tr>\n",
       "    <tr>\n",
       "      <th>19</th>\n",
       "      <td>nm0923736</td>\n",
       "      <td>1</td>\n",
       "      <td>Joss Whedon</td>\n",
       "      <td>1964.0</td>\n",
       "      <td>NaN</td>\n",
       "      <td>writer,producer,director</td>\n",
       "      <td>tt0118276,tt0162065,tt0848228,tt1259521</td>\n",
       "    </tr>\n",
       "    <tr>\n",
       "      <th>20</th>\n",
       "      <td>nm1119880</td>\n",
       "      <td>1</td>\n",
       "      <td>Colin Trevorrow</td>\n",
       "      <td>1976.0</td>\n",
       "      <td>NaN</td>\n",
       "      <td>writer,producer,director</td>\n",
       "      <td>tt0369610,tt4881806,tt4572792,tt1862079</td>\n",
       "    </tr>\n",
       "  </tbody>\n",
       "</table>\n",
       "</div>"
      ],
      "text/plain": [
       "       nconst  repetition     primary_name  birth_year  death_year  \\\n",
       "0   nm0049633           2       Kyle Balda      1971.0         NaN   \n",
       "1   nm1853544           2    Pierre Coffin      1967.0         NaN   \n",
       "2   nm0751577           2    Anthony Russo      1970.0         NaN   \n",
       "3   nm0751648           2        Joe Russo      1971.0         NaN   \n",
       "4   nm0440458           1      Jake Kasdan      1974.0         NaN   \n",
       "5   nm1158544           1       Jared Bush      1974.0         NaN   \n",
       "6   nm0397174           1     Byron Howard      1968.0         NaN   \n",
       "7   nm0601781           1       Rich Moore      1963.0         NaN   \n",
       "8   nm0004056           1   Andrew Stanton      1965.0         NaN   \n",
       "9   nm0533691           1    Angus MacLane         NaN         NaN   \n",
       "10  nm3210494           1     Eric Guillon         NaN         NaN   \n",
       "11  nm0281396           1       Ryan Fleck      1976.0         NaN   \n",
       "12  nm1349818           1       Anna Boden      1979.0         NaN   \n",
       "13  nm1490123           1        James Wan      1977.0         NaN   \n",
       "14  nm0336620           1     F. Gary Gray      1969.0         NaN   \n",
       "15  nm0083348           1        Brad Bird      1957.0         NaN   \n",
       "16  nm0174374           1      Bill Condon      1955.0         NaN   \n",
       "17  nm1291105           1      J.A. Bayona      1975.0         NaN   \n",
       "18  nm3363032           1     Ryan Coogler      1986.0         NaN   \n",
       "19  nm0923736           1      Joss Whedon      1964.0         NaN   \n",
       "20  nm1119880           1  Colin Trevorrow      1976.0         NaN   \n",
       "\n",
       "                                   primary_profession  \\\n",
       "0        director,animation_department,visual_effects   \n",
       "1                             actor,director,producer   \n",
       "2                            producer,director,writer   \n",
       "3                            producer,director,writer   \n",
       "4                             producer,director,actor   \n",
       "5                       writer,miscellaneous,producer   \n",
       "6                 animation_department,director,actor   \n",
       "7               miscellaneous,director,art_department   \n",
       "8                               writer,actor,producer   \n",
       "9                   animation_department,actor,writer   \n",
       "10  animation_department,art_department,production...   \n",
       "11                    director,writer,cinematographer   \n",
       "12                             director,writer,editor   \n",
       "13                           producer,writer,director   \n",
       "14                            director,actor,producer   \n",
       "15                      miscellaneous,writer,director   \n",
       "16                           director,writer,producer   \n",
       "17                              director,writer,actor   \n",
       "18                           director,writer,producer   \n",
       "19                           writer,producer,director   \n",
       "20                           writer,producer,director   \n",
       "\n",
       "                           known_for_titles  \n",
       "0   tt2293640,tt1482459,tt0116996,tt3469046  \n",
       "1   tt1690953,tt2293640,tt3469046,tt1323594  \n",
       "2   tt1843866,tt4154756,tt3498820,tt4154796  \n",
       "3   tt4154756,tt4154796,tt1843866,tt3498820  \n",
       "4   tt1956620,tt0120906,tt0473709,tt0841046  \n",
       "5   tt3521164,tt2948356,tt0161081,tt0362404  \n",
       "6   tt0398286,tt0328880,tt2948356,tt0397892  \n",
       "7   tt2948356,tt5848272,tt1772341,tt0149460  \n",
       "8   tt0120623,tt0266543,tt2277860,tt0910970  \n",
       "9   tt0910970,tt0317705,tt2446040,tt2277860  \n",
       "10  tt3469046,tt1482459,tt2709768,tt1690953  \n",
       "11  tt0468489,tt4154664,tt0804497,tt0990413  \n",
       "12  tt4154664,tt0804497,tt0468489,tt0990413  \n",
       "13  tt1457767,tt0387564,tt3065204,tt2820852  \n",
       "14  tt0120768,tt0117603,tt0113118,tt0317740  \n",
       "15  tt0129167,tt3606756,tt0317705,tt0382932  \n",
       "16  tt0362269,tt0443489,tt0120684,tt0299658  \n",
       "17  tt1649419,tt0464141,tt3416532,tt4881806  \n",
       "18  tt1825683,tt6343314,tt2334649,tt3076658  \n",
       "19  tt0118276,tt0162065,tt0848228,tt1259521  \n",
       "20  tt0369610,tt4881806,tt4572792,tt1862079  "
      ]
     },
     "execution_count": 304,
     "metadata": {},
     "output_type": "execute_result"
    }
   ],
   "source": [
    "#and now we can merge our new database with the name of the directors\n",
    "\n",
    "gross_director_3  = pd.merge(df_directors, \n",
    "                              imdb_names, \n",
    "                              on=['nconst'], \n",
    "                              how='inner') \n",
    "gross_director_3"
   ]
  },
  {
   "cell_type": "code",
   "execution_count": null,
   "metadata": {},
   "outputs": [],
   "source": []
  },
  {
   "cell_type": "code",
   "execution_count": 306,
   "metadata": {},
   "outputs": [
    {
     "data": {
      "text/html": [
       "<div>\n",
       "<style scoped>\n",
       "    .dataframe tbody tr th:only-of-type {\n",
       "        vertical-align: middle;\n",
       "    }\n",
       "\n",
       "    .dataframe tbody tr th {\n",
       "        vertical-align: top;\n",
       "    }\n",
       "\n",
       "    .dataframe thead th {\n",
       "        text-align: right;\n",
       "    }\n",
       "</style>\n",
       "<table border=\"1\" class=\"dataframe\">\n",
       "  <thead>\n",
       "    <tr style=\"text-align: right;\">\n",
       "      <th></th>\n",
       "      <th>number of Top 25 movies</th>\n",
       "      <th>Director</th>\n",
       "    </tr>\n",
       "  </thead>\n",
       "  <tbody>\n",
       "    <tr>\n",
       "      <th>0</th>\n",
       "      <td>2</td>\n",
       "      <td>Kyle Balda</td>\n",
       "    </tr>\n",
       "    <tr>\n",
       "      <th>1</th>\n",
       "      <td>2</td>\n",
       "      <td>Pierre Coffin</td>\n",
       "    </tr>\n",
       "    <tr>\n",
       "      <th>2</th>\n",
       "      <td>2</td>\n",
       "      <td>Anthony Russo</td>\n",
       "    </tr>\n",
       "    <tr>\n",
       "      <th>3</th>\n",
       "      <td>2</td>\n",
       "      <td>Joe Russo</td>\n",
       "    </tr>\n",
       "    <tr>\n",
       "      <th>4</th>\n",
       "      <td>1</td>\n",
       "      <td>Jake Kasdan</td>\n",
       "    </tr>\n",
       "    <tr>\n",
       "      <th>5</th>\n",
       "      <td>1</td>\n",
       "      <td>Jared Bush</td>\n",
       "    </tr>\n",
       "    <tr>\n",
       "      <th>6</th>\n",
       "      <td>1</td>\n",
       "      <td>Byron Howard</td>\n",
       "    </tr>\n",
       "    <tr>\n",
       "      <th>7</th>\n",
       "      <td>1</td>\n",
       "      <td>Rich Moore</td>\n",
       "    </tr>\n",
       "    <tr>\n",
       "      <th>8</th>\n",
       "      <td>1</td>\n",
       "      <td>Andrew Stanton</td>\n",
       "    </tr>\n",
       "    <tr>\n",
       "      <th>9</th>\n",
       "      <td>1</td>\n",
       "      <td>Angus MacLane</td>\n",
       "    </tr>\n",
       "    <tr>\n",
       "      <th>10</th>\n",
       "      <td>1</td>\n",
       "      <td>Eric Guillon</td>\n",
       "    </tr>\n",
       "    <tr>\n",
       "      <th>11</th>\n",
       "      <td>1</td>\n",
       "      <td>Ryan Fleck</td>\n",
       "    </tr>\n",
       "    <tr>\n",
       "      <th>12</th>\n",
       "      <td>1</td>\n",
       "      <td>Anna Boden</td>\n",
       "    </tr>\n",
       "    <tr>\n",
       "      <th>13</th>\n",
       "      <td>1</td>\n",
       "      <td>James Wan</td>\n",
       "    </tr>\n",
       "    <tr>\n",
       "      <th>14</th>\n",
       "      <td>1</td>\n",
       "      <td>F. Gary Gray</td>\n",
       "    </tr>\n",
       "    <tr>\n",
       "      <th>15</th>\n",
       "      <td>1</td>\n",
       "      <td>Brad Bird</td>\n",
       "    </tr>\n",
       "    <tr>\n",
       "      <th>16</th>\n",
       "      <td>1</td>\n",
       "      <td>Bill Condon</td>\n",
       "    </tr>\n",
       "    <tr>\n",
       "      <th>17</th>\n",
       "      <td>1</td>\n",
       "      <td>J.A. Bayona</td>\n",
       "    </tr>\n",
       "    <tr>\n",
       "      <th>18</th>\n",
       "      <td>1</td>\n",
       "      <td>Ryan Coogler</td>\n",
       "    </tr>\n",
       "    <tr>\n",
       "      <th>19</th>\n",
       "      <td>1</td>\n",
       "      <td>Joss Whedon</td>\n",
       "    </tr>\n",
       "    <tr>\n",
       "      <th>20</th>\n",
       "      <td>1</td>\n",
       "      <td>Colin Trevorrow</td>\n",
       "    </tr>\n",
       "  </tbody>\n",
       "</table>\n",
       "</div>"
      ],
      "text/plain": [
       "    number of Top 25 movies         Director\n",
       "0                         2       Kyle Balda\n",
       "1                         2    Pierre Coffin\n",
       "2                         2    Anthony Russo\n",
       "3                         2        Joe Russo\n",
       "4                         1      Jake Kasdan\n",
       "5                         1       Jared Bush\n",
       "6                         1     Byron Howard\n",
       "7                         1       Rich Moore\n",
       "8                         1   Andrew Stanton\n",
       "9                         1    Angus MacLane\n",
       "10                        1     Eric Guillon\n",
       "11                        1       Ryan Fleck\n",
       "12                        1       Anna Boden\n",
       "13                        1        James Wan\n",
       "14                        1     F. Gary Gray\n",
       "15                        1        Brad Bird\n",
       "16                        1      Bill Condon\n",
       "17                        1      J.A. Bayona\n",
       "18                        1     Ryan Coogler\n",
       "19                        1      Joss Whedon\n",
       "20                        1  Colin Trevorrow"
      ]
     },
     "execution_count": 306,
     "metadata": {},
     "output_type": "execute_result"
    }
   ],
   "source": [
    "#Let's make the table look nicer by deleting some columns\n",
    "\n",
    "gross_director_4 = gross_director_3.drop(['nconst','birth_year', 'death_year','primary_profession', 'known_for_titles'], axis = 1)\n",
    "gross_director_4 = gross_director_4.rename(columns={'primary_name': 'Director', 'repetition' : 'number of Top 25 movies'})\n",
    "gross_director_4"
   ]
  },
  {
   "cell_type": "code",
   "execution_count": 310,
   "metadata": {},
   "outputs": [
    {
     "data": {
      "image/png": "[encoded data removed]",
      "text/plain": [
       "<Figure size 432x288 with 1 Axes>"
      ]
     },
     "metadata": {
      "needs_background": "light"
     },
     "output_type": "display_data"
    }
   ],
   "source": [
    "from pandas.plotting import table  # EDIT: see deprecation warnings below\n",
    "\n",
    "ax = plt.subplot(frame_on=False) # no visible frame\n",
    "ax.xaxis.set_visible(False)  # hide the x axis\n",
    "ax.yaxis.set_visible(False)  # hide the y axis\n",
    "\n",
    "table(ax, gross_director_4)  # where df is your data frame\n",
    "\n",
    "plt.savefig('directors_table.png')"
   ]
  },
  {
   "cell_type": "code",
   "execution_count": null,
   "metadata": {},
   "outputs": [],
   "source": []
  },
  {
   "cell_type": "code",
   "execution_count": null,
   "metadata": {},
   "outputs": [],
   "source": []
  },
  {
   "cell_type": "code",
   "execution_count": null,
   "metadata": {},
   "outputs": [],
   "source": []
  },
  {
   "cell_type": "code",
   "execution_count": null,
   "metadata": {},
   "outputs": [],
   "source": []
  },
  {
   "cell_type": "code",
   "execution_count": null,
   "metadata": {},
   "outputs": [],
   "source": []
  },
  {
   "cell_type": "code",
   "execution_count": null,
   "metadata": {},
   "outputs": [],
   "source": []
  },
  {
   "cell_type": "code",
   "execution_count": null,
   "metadata": {},
   "outputs": [],
   "source": []
  },
  {
   "cell_type": "code",
   "execution_count": null,
   "metadata": {},
   "outputs": [],
   "source": []
  },
  {
   "cell_type": "code",
   "execution_count": null,
   "metadata": {},
   "outputs": [],
   "source": []
  },
  {
   "cell_type": "code",
   "execution_count": null,
   "metadata": {},
   "outputs": [],
   "source": []
  },
  {
   "cell_type": "markdown",
   "metadata": {},
   "source": [
    "## Evaluation\n",
    "Evaluate how well your work solves the stated business problem.\n",
    "\n",
    "***\n",
    "Questions to consider:\n",
    "* How do you interpret the results?\n",
    "* How well does your model fit your data? How much better is this than your baseline model?\n",
    "* How confident are you that your results would generalize beyond the data you have?\n",
    "* How confident are you that this model would benefit the business if put into use?\n",
    "***"
   ]
  },
  {
   "cell_type": "code",
   "execution_count": null,
   "metadata": {},
   "outputs": [],
   "source": []
  },
  {
   "cell_type": "code",
   "execution_count": null,
   "metadata": {},
   "outputs": [],
   "source": []
  },
  {
   "cell_type": "code",
   "execution_count": null,
   "metadata": {},
   "outputs": [],
   "source": []
  },
  {
   "cell_type": "code",
   "execution_count": null,
   "metadata": {},
   "outputs": [],
   "source": []
  },
  {
   "cell_type": "markdown",
   "metadata": {},
   "source": [
    "## Conclusions\n",
    "Provide your conclusions about the work you've done, including any limitations or next steps.\n",
    "\n",
    "***\n",
    "Questions to consider:\n",
    "* What would you recommend the business do as a result of this work?\n",
    "* What are some reasons why your analysis might not fully solve the business problem?\n",
    "* What else could you do in the future to improve this project?\n",
    "***"
   ]
  },
  {
   "cell_type": "code",
   "execution_count": null,
   "metadata": {},
   "outputs": [],
   "source": []
  },
  {
   "cell_type": "code",
   "execution_count": null,
   "metadata": {},
   "outputs": [],
   "source": [
    "rt_reviews = pd.read_csv('./data/zippedData/rt.reviews.tsv.gz', sep='\\t', encoding=\"latin-1\")\n",
    "rt_movies = pd.read_csv('./data/zippedData/rt.movie_info.tsv.gz', sep='\\t', encoding=\"latin-1\")\n"
   ]
  },
  {
   "cell_type": "code",
   "execution_count": null,
   "metadata": {},
   "outputs": [],
   "source": [
    "rt_movies = pd.read_csv('./data/zippedData/rt.csv')\n"
   ]
  },
  {
   "cell_type": "code",
   "execution_count": null,
   "metadata": {},
   "outputs": [],
   "source": [
    "I was having problems reading this file, I tried latin-1, UT8-8, unviersal... phyton engine.... erros false and i READ SOMEONE THAt said open the file and save it as csv WITH utf-8"
   ]
  },
  {
   "cell_type": "code",
   "execution_count": null,
   "metadata": {},
   "outputs": [],
   "source": [
    "rt_movies.info()"
   ]
  },
  {
   "cell_type": "code",
   "execution_count": null,
   "metadata": {},
   "outputs": [],
   "source": [
    "rt_movies.head()"
   ]
  },
  {
   "cell_type": "code",
   "execution_count": 193,
   "metadata": {},
   "outputs": [
    {
     "ename": "NameError",
     "evalue": "name 'rt_reviews' is not defined",
     "output_type": "error",
     "traceback": [
      "\u001b[0;31m---------------------------------------------------------------------------\u001b[0m",
      "\u001b[0;31mNameError\u001b[0m                                 Traceback (most recent call last)",
      "\u001b[0;32m<ipython-input-193-62fde0594660>\u001b[0m in \u001b[0;36m<module>\u001b[0;34m\u001b[0m\n\u001b[0;32m----> 1\u001b[0;31m \u001b[0mrt_reviews\u001b[0m\u001b[0;34m.\u001b[0m\u001b[0minfo\u001b[0m\u001b[0;34m(\u001b[0m\u001b[0;34m)\u001b[0m\u001b[0;34m\u001b[0m\u001b[0;34m\u001b[0m\u001b[0m\n\u001b[0m",
      "\u001b[0;31mNameError\u001b[0m: name 'rt_reviews' is not defined"
     ]
    }
   ],
   "source": [
    "rt_reviews.info()"
   ]
  },
  {
   "cell_type": "code",
   "execution_count": null,
   "metadata": {},
   "outputs": [],
   "source": [
    "rt_reviews.head(15)"
   ]
  },
  {
   "cell_type": "code",
   "execution_count": null,
   "metadata": {},
   "outputs": [],
   "source": [
    "tmdb = pd.read_csv('./data/zippedData/tmdb.movies.csv.gz')\n"
   ]
  },
  {
   "cell_type": "code",
   "execution_count": null,
   "metadata": {},
   "outputs": [],
   "source": [
    "tmdb.info()"
   ]
  },
  {
   "cell_type": "code",
   "execution_count": null,
   "metadata": {},
   "outputs": [],
   "source": [
    "tmdb.head()"
   ]
  },
  {
   "cell_type": "code",
   "execution_count": null,
   "metadata": {},
   "outputs": [],
   "source": []
  },
  {
   "cell_type": "code",
   "execution_count": null,
   "metadata": {},
   "outputs": [],
   "source": []
  },
  {
   "cell_type": "code",
   "execution_count": null,
   "metadata": {},
   "outputs": [],
   "source": []
  },
  {
   "cell_type": "code",
   "execution_count": null,
   "metadata": {},
   "outputs": [],
   "source": [
    "rt_reviews.head(15)"
   ]
  },
  {
   "cell_type": "code",
   "execution_count": null,
   "metadata": {},
   "outputs": [],
   "source": [
    "rt_reviews['rating_new'] = rt_reviews['rating']"
   ]
  },
  {
   "cell_type": "code",
   "execution_count": null,
   "metadata": {},
   "outputs": [],
   "source": [
    "rt_reviews.dropna(subset = ['rating_new'], inplace=True)"
   ]
  },
  {
   "cell_type": "code",
   "execution_count": null,
   "metadata": {},
   "outputs": [],
   "source": [
    "rt_reviews.head()"
   ]
  },
  {
   "cell_type": "code",
   "execution_count": null,
   "metadata": {},
   "outputs": [],
   "source": [
    "a = rt_reviews[rt_reviews['rating_new'].astype(str).str.isdigit()]\n"
   ]
  },
  {
   "cell_type": "code",
   "execution_count": null,
   "metadata": {},
   "outputs": [],
   "source": [
    "rt_movies.head()"
   ]
  },
  {
   "cell_type": "code",
   "execution_count": null,
   "metadata": {},
   "outputs": [],
   "source": [
    "imdb_principals.head()"
   ]
  },
  {
   "cell_type": "code",
   "execution_count": null,
   "metadata": {},
   "outputs": [],
   "source": []
  },
  {
   "cell_type": "code",
   "execution_count": null,
   "metadata": {},
   "outputs": [],
   "source": []
  }
 ],
 "metadata": {
  "kernelspec": {
   "display_name": "Python 3",
   "language": "python",
   "name": "python3"
  },
  "language_info": {
   "codemirror_mode": {
    "name": "ipython",
    "version": 3
   },
   "file_extension": ".py",
   "mimetype": "text/x-python",
   "name": "python",
   "nbconvert_exporter": "python",
   "pygments_lexer": "ipython3",
   "version": "3.8.5"
  }
 },
 "nbformat": 4,
 "nbformat_minor": 4
}
