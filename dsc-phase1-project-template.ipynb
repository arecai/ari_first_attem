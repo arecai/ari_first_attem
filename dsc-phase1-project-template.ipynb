{
 "cells": [
  {
   "cell_type": "markdown",
   "metadata": {},
   "source": [
    "![example](images/director_shot.jpeg)"
   ]
  },
  {
   "cell_type": "markdown",
   "metadata": {},
   "source": [
    "# Project Title\n",
    "\n",
    "**Authors:** Student 1, Student 2, Student 3\n",
    "***"
   ]
  },
  {
   "cell_type": "markdown",
   "metadata": {},
   "source": [
    "## Overview\n",
    "\n",
    "A one-paragraph overview of the project, including the business problem, data, methods, results and recommendations."
   ]
  },
  {
   "cell_type": "markdown",
   "metadata": {},
   "source": [
    "## Business Problem\n",
    "\n",
    "Summary of the business problem you are trying to solve, and the data questions that you plan to answer to solve them.\n",
    "\n",
    "***\n",
    "Questions to consider:\n",
    "* What are the business's pain points related to this project?\n",
    "* How did you pick the data analysis question(s) that you did?\n",
    "* Why are these questions important from a business perspective?\n",
    "***"
   ]
  },
  {
   "cell_type": "markdown",
   "metadata": {},
   "source": [
    "## Data Understanding\n",
    "\n",
    "Describe the data being used for this project.\n",
    "***\n",
    "Questions to consider:\n",
    "* Where did the data come from, and how do they relate to the data analysis questions?\n",
    "* What do the data represent? Who is in the sample and what variables are included?\n",
    "* What is the target variable?\n",
    "* What are the properties of the variables you intend to use?\n",
    "***"
   ]
  },
  {
   "cell_type": "code",
   "execution_count": 1,
   "metadata": {},
   "outputs": [],
   "source": [
    "# Import standard packages\n",
    "import pandas as pd\n",
    "import numpy as np\n",
    "import matplotlib.pyplot as plt\n",
    "import seaborn as sns\n",
    "from scipy import stats\n",
    "import statistics \n",
    "\n",
    "%matplotlib inline"
   ]
  },
  {
   "cell_type": "code",
   "execution_count": 2,
   "metadata": {},
   "outputs": [],
   "source": [
    "# Converting some of the csv files into panda dataframes\n",
    "\n",
    "imdb_title = pd.read_csv('./data/zippedData/imdb.title.basics.csv.gz')\n",
    "imdb_title_akas = pd.read_csv('./data/zippedData/imdb.title.akas.csv.gz')\n",
    "imdb_ratings = pd.read_csv('./data/zippedData/imdb.title.ratings.csv.gz')\n",
    "imdb_names = pd.read_csv('./data/zippedData/imdb.name.basics.csv.gz') \n",
    "imdb_principals = pd.read_csv('./data/zippedData/imdb.title.principals.csv.gz') \n",
    "imdb_crew = pd.read_csv('./data/zippedData/imdb.title.crew.csv.gz') \n",
    "\n",
    "bom_gross = pd.read_csv('./data/zippedData/bom.movie_gross.csv.gz')\n",
    "\n",
    "\n",
    "#bom_gross_raw = pd.read_csv('./data/zippedData/bom.movie_gross.csv.gz')\n"
   ]
  },
  {
   "cell_type": "code",
   "execution_count": 3,
   "metadata": {},
   "outputs": [
    {
     "name": "stdout",
     "output_type": "stream",
     "text": [
      "<class 'pandas.core.frame.DataFrame'>\n",
      "RangeIndex: 146144 entries, 0 to 146143\n",
      "Data columns (total 6 columns):\n",
      " #   Column           Non-Null Count   Dtype  \n",
      "---  ------           --------------   -----  \n",
      " 0   tconst           146144 non-null  object \n",
      " 1   primary_title    146144 non-null  object \n",
      " 2   original_title   146123 non-null  object \n",
      " 3   start_year       146144 non-null  int64  \n",
      " 4   runtime_minutes  114405 non-null  float64\n",
      " 5   genres           140736 non-null  object \n",
      "dtypes: float64(1), int64(1), object(4)\n",
      "memory usage: 6.7+ MB\n"
     ]
    }
   ],
   "source": [
    "imdb_title.info()\n"
   ]
  },
  {
   "cell_type": "markdown",
   "metadata": {},
   "source": [
    "**OBSERVATION:** We can notice from here that only the columns runtime_minutes and genres have null values"
   ]
  },
  {
   "cell_type": "code",
   "execution_count": 4,
   "metadata": {},
   "outputs": [
    {
     "name": "stdout",
     "output_type": "stream",
     "text": [
      "<class 'pandas.core.frame.DataFrame'>\n",
      "RangeIndex: 331703 entries, 0 to 331702\n",
      "Data columns (total 8 columns):\n",
      " #   Column             Non-Null Count   Dtype  \n",
      "---  ------             --------------   -----  \n",
      " 0   title_id           331703 non-null  object \n",
      " 1   ordering           331703 non-null  int64  \n",
      " 2   title              331703 non-null  object \n",
      " 3   region             278410 non-null  object \n",
      " 4   language           41715 non-null   object \n",
      " 5   types              168447 non-null  object \n",
      " 6   attributes         14925 non-null   object \n",
      " 7   is_original_title  331678 non-null  float64\n",
      "dtypes: float64(1), int64(1), object(6)\n",
      "memory usage: 20.2+ MB\n"
     ]
    }
   ],
   "source": [
    "imdb_title_akas.info()\n"
   ]
  },
  {
   "cell_type": "markdown",
   "metadata": {},
   "source": [
    "**OBSERVATION:** We can notice from here that few columns have null values"
   ]
  },
  {
   "cell_type": "code",
   "execution_count": 5,
   "metadata": {},
   "outputs": [
    {
     "name": "stdout",
     "output_type": "stream",
     "text": [
      "<class 'pandas.core.frame.DataFrame'>\n",
      "RangeIndex: 73856 entries, 0 to 73855\n",
      "Data columns (total 3 columns):\n",
      " #   Column         Non-Null Count  Dtype  \n",
      "---  ------         --------------  -----  \n",
      " 0   tconst         73856 non-null  object \n",
      " 1   averagerating  73856 non-null  float64\n",
      " 2   numvotes       73856 non-null  int64  \n",
      "dtypes: float64(1), int64(1), object(1)\n",
      "memory usage: 1.7+ MB\n"
     ]
    }
   ],
   "source": [
    "imdb_ratings.info()\n"
   ]
  },
  {
   "cell_type": "markdown",
   "metadata": {},
   "source": [
    "**OBSERVATION:** We can notice from here that all columns have values"
   ]
  },
  {
   "cell_type": "code",
   "execution_count": 6,
   "metadata": {},
   "outputs": [
    {
     "name": "stdout",
     "output_type": "stream",
     "text": [
      "<class 'pandas.core.frame.DataFrame'>\n",
      "RangeIndex: 3387 entries, 0 to 3386\n",
      "Data columns (total 5 columns):\n",
      " #   Column          Non-Null Count  Dtype  \n",
      "---  ------          --------------  -----  \n",
      " 0   title           3387 non-null   object \n",
      " 1   studio          3382 non-null   object \n",
      " 2   domestic_gross  3359 non-null   float64\n",
      " 3   foreign_gross   2037 non-null   object \n",
      " 4   year            3387 non-null   int64  \n",
      "dtypes: float64(1), int64(1), object(3)\n",
      "memory usage: 132.4+ KB\n"
     ]
    }
   ],
   "source": [
    "bom_gross.info()\n"
   ]
  },
  {
   "cell_type": "markdown",
   "metadata": {},
   "source": [
    "**OBSERVATION:** We can notice from here that all columns except title have null values"
   ]
  },
  {
   "cell_type": "markdown",
   "metadata": {},
   "source": [
    "**IMDB TITLES DATA**"
   ]
  },
  {
   "cell_type": "code",
   "execution_count": 7,
   "metadata": {},
   "outputs": [
    {
     "data": {
      "text/html": [
       "<div>\n",
       "<style scoped>\n",
       "    .dataframe tbody tr th:only-of-type {\n",
       "        vertical-align: middle;\n",
       "    }\n",
       "\n",
       "    .dataframe tbody tr th {\n",
       "        vertical-align: top;\n",
       "    }\n",
       "\n",
       "    .dataframe thead th {\n",
       "        text-align: right;\n",
       "    }\n",
       "</style>\n",
       "<table border=\"1\" class=\"dataframe\">\n",
       "  <thead>\n",
       "    <tr style=\"text-align: right;\">\n",
       "      <th></th>\n",
       "      <th>tconst</th>\n",
       "      <th>primary_title</th>\n",
       "      <th>original_title</th>\n",
       "      <th>start_year</th>\n",
       "      <th>runtime_minutes</th>\n",
       "      <th>genres</th>\n",
       "    </tr>\n",
       "  </thead>\n",
       "  <tbody>\n",
       "    <tr>\n",
       "      <th>0</th>\n",
       "      <td>tt0063540</td>\n",
       "      <td>Sunghursh</td>\n",
       "      <td>Sunghursh</td>\n",
       "      <td>2013</td>\n",
       "      <td>175.0</td>\n",
       "      <td>Action,Crime,Drama</td>\n",
       "    </tr>\n",
       "    <tr>\n",
       "      <th>1</th>\n",
       "      <td>tt0066787</td>\n",
       "      <td>One Day Before the Rainy Season</td>\n",
       "      <td>Ashad Ka Ek Din</td>\n",
       "      <td>2019</td>\n",
       "      <td>114.0</td>\n",
       "      <td>Biography,Drama</td>\n",
       "    </tr>\n",
       "    <tr>\n",
       "      <th>2</th>\n",
       "      <td>tt0069049</td>\n",
       "      <td>The Other Side of the Wind</td>\n",
       "      <td>The Other Side of the Wind</td>\n",
       "      <td>2018</td>\n",
       "      <td>122.0</td>\n",
       "      <td>Drama</td>\n",
       "    </tr>\n",
       "    <tr>\n",
       "      <th>3</th>\n",
       "      <td>tt0069204</td>\n",
       "      <td>Sabse Bada Sukh</td>\n",
       "      <td>Sabse Bada Sukh</td>\n",
       "      <td>2018</td>\n",
       "      <td>NaN</td>\n",
       "      <td>Comedy,Drama</td>\n",
       "    </tr>\n",
       "    <tr>\n",
       "      <th>4</th>\n",
       "      <td>tt0100275</td>\n",
       "      <td>The Wandering Soap Opera</td>\n",
       "      <td>La Telenovela Errante</td>\n",
       "      <td>2017</td>\n",
       "      <td>80.0</td>\n",
       "      <td>Comedy,Drama,Fantasy</td>\n",
       "    </tr>\n",
       "  </tbody>\n",
       "</table>\n",
       "</div>"
      ],
      "text/plain": [
       "      tconst                    primary_title              original_title  \\\n",
       "0  tt0063540                        Sunghursh                   Sunghursh   \n",
       "1  tt0066787  One Day Before the Rainy Season             Ashad Ka Ek Din   \n",
       "2  tt0069049       The Other Side of the Wind  The Other Side of the Wind   \n",
       "3  tt0069204                  Sabse Bada Sukh             Sabse Bada Sukh   \n",
       "4  tt0100275         The Wandering Soap Opera       La Telenovela Errante   \n",
       "\n",
       "   start_year  runtime_minutes                genres  \n",
       "0        2013            175.0    Action,Crime,Drama  \n",
       "1        2019            114.0       Biography,Drama  \n",
       "2        2018            122.0                 Drama  \n",
       "3        2018              NaN          Comedy,Drama  \n",
       "4        2017             80.0  Comedy,Drama,Fantasy  "
      ]
     },
     "execution_count": 7,
     "metadata": {},
     "output_type": "execute_result"
    }
   ],
   "source": [
    "imdb_title.head()"
   ]
  },
  {
   "cell_type": "code",
   "execution_count": 8,
   "metadata": {},
   "outputs": [
    {
     "data": {
      "text/plain": [
       "tt3542186    1\n",
       "tt8007154    1\n",
       "tt2770434    1\n",
       "tt6459694    1\n",
       "tt1740762    1\n",
       "            ..\n",
       "tt6354648    1\n",
       "tt2238470    1\n",
       "tt6579164    1\n",
       "tt7262346    1\n",
       "tt1511354    1\n",
       "Name: tconst, Length: 146144, dtype: int64"
      ]
     },
     "execution_count": 8,
     "metadata": {},
     "output_type": "execute_result"
    }
   ],
   "source": [
    "imdb_title['tconst'].value_counts()"
   ]
  },
  {
   "cell_type": "markdown",
   "metadata": {},
   "source": [
    "**OBSERVATION:** each tconst have a unique value. From IMDB webstie it says: alphanumer unique identifier of the title. As such, we will use tconst to merge title_basics and ratins"
   ]
  },
  {
   "cell_type": "code",
   "execution_count": 9,
   "metadata": {},
   "outputs": [
    {
     "data": {
      "text/plain": [
       "Home                  24\n",
       "The Return            20\n",
       "Broken                20\n",
       "Alone                 16\n",
       "Homecoming            16\n",
       "                      ..\n",
       "Sardaar Ji             1\n",
       "Chhakka Panja          1\n",
       "Time Does Not Pass     1\n",
       "3 Blind Saints         1\n",
       "Rotgut                 1\n",
       "Name: primary_title, Length: 136071, dtype: int64"
      ]
     },
     "execution_count": 9,
     "metadata": {},
     "output_type": "execute_result"
    }
   ],
   "source": [
    "imdb_title['primary_title'].value_counts()\n"
   ]
  },
  {
   "cell_type": "markdown",
   "metadata": {},
   "source": [
    "**Note to me:** Primary title: the more popular title / the title used by the filmmakers on promotional materials at the point of release"
   ]
  },
  {
   "cell_type": "code",
   "execution_count": 10,
   "metadata": {},
   "outputs": [
    {
     "data": {
      "text/plain": [
       "Broken                                               19\n",
       "Home                                                 18\n",
       "The Return                                           17\n",
       "The Gift                                             13\n",
       "Homecoming                                           13\n",
       "                                                     ..\n",
       "Poor Greg Drowning                                    1\n",
       "The Luft Gangster: Memoirs of a Second Class Hero     1\n",
       "La luz de aquella tierra                              1\n",
       "Indignados                                            1\n",
       "Rotgut                                                1\n",
       "Name: original_title, Length: 137773, dtype: int64"
      ]
     },
     "execution_count": 10,
     "metadata": {},
     "output_type": "execute_result"
    }
   ],
   "source": [
    "imdb_title['original_title'].value_counts()\n"
   ]
  },
  {
   "cell_type": "code",
   "execution_count": 11,
   "metadata": {},
   "outputs": [
    {
     "data": {
      "text/plain": [
       "2017    17504\n",
       "2016    17272\n",
       "2018    16849\n",
       "2015    16243\n",
       "2014    15589\n",
       "2013    14709\n",
       "2012    13787\n",
       "2011    12900\n",
       "2010    11849\n",
       "2019     8379\n",
       "2020      937\n",
       "2021       83\n",
       "2022       32\n",
       "2023        5\n",
       "2024        2\n",
       "2027        1\n",
       "2026        1\n",
       "2025        1\n",
       "2115        1\n",
       "Name: start_year, dtype: int64"
      ]
     },
     "execution_count": 11,
     "metadata": {},
     "output_type": "execute_result"
    }
   ],
   "source": [
    "imdb_title['start_year'].value_counts()\n"
   ]
  },
  {
   "cell_type": "markdown",
   "metadata": {},
   "source": [
    "**OBSERVATION:** How is it possible that the start year are beyon actual year? eg 2115"
   ]
  },
  {
   "cell_type": "code",
   "execution_count": 12,
   "metadata": {},
   "outputs": [
    {
     "data": {
      "text/plain": [
       "90.0     7131\n",
       "80.0     3526\n",
       "85.0     2915\n",
       "100.0    2662\n",
       "95.0     2549\n",
       "         ... \n",
       "382.0       1\n",
       "724.0       1\n",
       "808.0       1\n",
       "287.0       1\n",
       "540.0       1\n",
       "Name: runtime_minutes, Length: 367, dtype: int64"
      ]
     },
     "execution_count": 12,
     "metadata": {},
     "output_type": "execute_result"
    }
   ],
   "source": [
    "imdb_title['runtime_minutes'].value_counts()\n"
   ]
  },
  {
   "cell_type": "markdown",
   "metadata": {},
   "source": [
    "**Note to me** is this information necessary for my project? well indeed it owuld be good to know whether movies should be long or short..."
   ]
  },
  {
   "cell_type": "code",
   "execution_count": 13,
   "metadata": {},
   "outputs": [
    {
     "data": {
      "text/plain": [
       "Documentary                 32185\n",
       "Drama                       21486\n",
       "Comedy                       9177\n",
       "Horror                       4372\n",
       "Comedy,Drama                 3519\n",
       "                            ...  \n",
       "War,Western                     1\n",
       "Comedy,Documentary,War          1\n",
       "Comedy,Romance,Short            1\n",
       "Adventure,Romance,Sci-Fi        1\n",
       "Crime,Western                   1\n",
       "Name: genres, Length: 1085, dtype: int64"
      ]
     },
     "execution_count": 13,
     "metadata": {},
     "output_type": "execute_result"
    }
   ],
   "source": [
    "imdb_title['genres'].value_counts()\n"
   ]
  },
  {
   "cell_type": "markdown",
   "metadata": {},
   "source": [
    "**IMDB RATINGS DATA**"
   ]
  },
  {
   "cell_type": "code",
   "execution_count": 14,
   "metadata": {},
   "outputs": [
    {
     "data": {
      "text/html": [
       "<div>\n",
       "<style scoped>\n",
       "    .dataframe tbody tr th:only-of-type {\n",
       "        vertical-align: middle;\n",
       "    }\n",
       "\n",
       "    .dataframe tbody tr th {\n",
       "        vertical-align: top;\n",
       "    }\n",
       "\n",
       "    .dataframe thead th {\n",
       "        text-align: right;\n",
       "    }\n",
       "</style>\n",
       "<table border=\"1\" class=\"dataframe\">\n",
       "  <thead>\n",
       "    <tr style=\"text-align: right;\">\n",
       "      <th></th>\n",
       "      <th>tconst</th>\n",
       "      <th>averagerating</th>\n",
       "      <th>numvotes</th>\n",
       "    </tr>\n",
       "  </thead>\n",
       "  <tbody>\n",
       "    <tr>\n",
       "      <th>0</th>\n",
       "      <td>tt10356526</td>\n",
       "      <td>8.3</td>\n",
       "      <td>31</td>\n",
       "    </tr>\n",
       "    <tr>\n",
       "      <th>1</th>\n",
       "      <td>tt10384606</td>\n",
       "      <td>8.9</td>\n",
       "      <td>559</td>\n",
       "    </tr>\n",
       "    <tr>\n",
       "      <th>2</th>\n",
       "      <td>tt1042974</td>\n",
       "      <td>6.4</td>\n",
       "      <td>20</td>\n",
       "    </tr>\n",
       "    <tr>\n",
       "      <th>3</th>\n",
       "      <td>tt1043726</td>\n",
       "      <td>4.2</td>\n",
       "      <td>50352</td>\n",
       "    </tr>\n",
       "    <tr>\n",
       "      <th>4</th>\n",
       "      <td>tt1060240</td>\n",
       "      <td>6.5</td>\n",
       "      <td>21</td>\n",
       "    </tr>\n",
       "  </tbody>\n",
       "</table>\n",
       "</div>"
      ],
      "text/plain": [
       "       tconst  averagerating  numvotes\n",
       "0  tt10356526            8.3        31\n",
       "1  tt10384606            8.9       559\n",
       "2   tt1042974            6.4        20\n",
       "3   tt1043726            4.2     50352\n",
       "4   tt1060240            6.5        21"
      ]
     },
     "execution_count": 14,
     "metadata": {},
     "output_type": "execute_result"
    }
   ],
   "source": [
    "imdb_ratings.head()\n"
   ]
  },
  {
   "cell_type": "code",
   "execution_count": 15,
   "metadata": {},
   "outputs": [
    {
     "data": {
      "text/plain": [
       "tt3896102    1\n",
       "tt3474600    1\n",
       "tt3040098    1\n",
       "tt4451610    1\n",
       "tt4132548    1\n",
       "            ..\n",
       "tt1670684    1\n",
       "tt3981442    1\n",
       "tt7207398    1\n",
       "tt2073154    1\n",
       "tt1511354    1\n",
       "Name: tconst, Length: 73856, dtype: int64"
      ]
     },
     "execution_count": 15,
     "metadata": {},
     "output_type": "execute_result"
    }
   ],
   "source": [
    "imdb_ratings['tconst'].value_counts()"
   ]
  },
  {
   "cell_type": "code",
   "execution_count": 16,
   "metadata": {},
   "outputs": [
    {
     "data": {
      "text/plain": [
       "7.0     2262\n",
       "6.6     2251\n",
       "7.2     2249\n",
       "6.8     2239\n",
       "6.5     2221\n",
       "        ... \n",
       "9.6       18\n",
       "10.0      16\n",
       "9.8       15\n",
       "9.7       12\n",
       "9.9        5\n",
       "Name: averagerating, Length: 91, dtype: int64"
      ]
     },
     "execution_count": 16,
     "metadata": {},
     "output_type": "execute_result"
    }
   ],
   "source": [
    "imdb_ratings['averagerating'].value_counts()"
   ]
  },
  {
   "cell_type": "code",
   "execution_count": 17,
   "metadata": {},
   "outputs": [
    {
     "data": {
      "text/plain": [
       "6        2875\n",
       "5        2699\n",
       "7        2476\n",
       "8        2167\n",
       "9        1929\n",
       "         ... \n",
       "18286       1\n",
       "16289       1\n",
       "1958        1\n",
       "4007        1\n",
       "4098        1\n",
       "Name: numvotes, Length: 7349, dtype: int64"
      ]
     },
     "execution_count": 17,
     "metadata": {},
     "output_type": "execute_result"
    }
   ],
   "source": [
    "imdb_ratings['numvotes'].value_counts()"
   ]
  },
  {
   "cell_type": "code",
   "execution_count": null,
   "metadata": {},
   "outputs": [],
   "source": []
  },
  {
   "cell_type": "code",
   "execution_count": null,
   "metadata": {},
   "outputs": [],
   "source": []
  },
  {
   "cell_type": "code",
   "execution_count": null,
   "metadata": {},
   "outputs": [],
   "source": []
  },
  {
   "cell_type": "code",
   "execution_count": null,
   "metadata": {},
   "outputs": [],
   "source": []
  },
  {
   "cell_type": "markdown",
   "metadata": {},
   "source": [
    "THINGS TO CONSIDER:\n",
    "- each title id has several rows, with different region, languages... \n",
    "- there are different titles for the same movie, maybe when combining with other database I have to select the original title"
   ]
  },
  {
   "cell_type": "code",
   "execution_count": null,
   "metadata": {},
   "outputs": [],
   "source": []
  },
  {
   "cell_type": "code",
   "execution_count": null,
   "metadata": {},
   "outputs": [],
   "source": []
  },
  {
   "cell_type": "markdown",
   "metadata": {},
   "source": [
    "## Data Preparation\n",
    "\n",
    "Describe and justify the process for preparing the data for analysis.\n",
    "\n",
    "***\n",
    "Questions to consider:\n",
    "* Were there variables you dropped or created?\n",
    "* How did you address missing values or outliers?\n",
    "* Why are these choices appropriate given the data and the business problem?\n",
    "***"
   ]
  },
  {
   "cell_type": "code",
   "execution_count": 18,
   "metadata": {},
   "outputs": [],
   "source": [
    "# Here you run your code to clean the data"
   ]
  },
  {
   "cell_type": "markdown",
   "metadata": {},
   "source": [
    "**DATA CLEANING**\n",
    "in imbd title basics and ratins all the columns follow the same format, lowercase and \"_\" between words\n",
    "\n",
    "do I need to drop columns? At the moment I will keep it, as I may draw more conclusions with more data"
   ]
  },
  {
   "cell_type": "code",
   "execution_count": null,
   "metadata": {},
   "outputs": [],
   "source": []
  },
  {
   "cell_type": "code",
   "execution_count": 19,
   "metadata": {},
   "outputs": [],
   "source": [
    "# Merge imdb_title and imdb_ratins on animal id and year\n",
    "imdb_title_rating  = pd.merge(imdb_title, \n",
    "                              imdb_ratings, \n",
    "                              on=['tconst'], \n",
    "                              how='left') \n",
    "#I choose left and this order because imdb_title has more raws, and up to date, I want to maintain all the info."
   ]
  },
  {
   "cell_type": "code",
   "execution_count": 20,
   "metadata": {},
   "outputs": [
    {
     "data": {
      "text/html": [
       "<div>\n",
       "<style scoped>\n",
       "    .dataframe tbody tr th:only-of-type {\n",
       "        vertical-align: middle;\n",
       "    }\n",
       "\n",
       "    .dataframe tbody tr th {\n",
       "        vertical-align: top;\n",
       "    }\n",
       "\n",
       "    .dataframe thead th {\n",
       "        text-align: right;\n",
       "    }\n",
       "</style>\n",
       "<table border=\"1\" class=\"dataframe\">\n",
       "  <thead>\n",
       "    <tr style=\"text-align: right;\">\n",
       "      <th></th>\n",
       "      <th>tconst</th>\n",
       "      <th>primary_title</th>\n",
       "      <th>original_title</th>\n",
       "      <th>start_year</th>\n",
       "      <th>runtime_minutes</th>\n",
       "      <th>genres</th>\n",
       "      <th>averagerating</th>\n",
       "      <th>numvotes</th>\n",
       "    </tr>\n",
       "  </thead>\n",
       "  <tbody>\n",
       "    <tr>\n",
       "      <th>0</th>\n",
       "      <td>tt0063540</td>\n",
       "      <td>Sunghursh</td>\n",
       "      <td>Sunghursh</td>\n",
       "      <td>2013</td>\n",
       "      <td>175.0</td>\n",
       "      <td>Action,Crime,Drama</td>\n",
       "      <td>7.0</td>\n",
       "      <td>77.0</td>\n",
       "    </tr>\n",
       "    <tr>\n",
       "      <th>1</th>\n",
       "      <td>tt0066787</td>\n",
       "      <td>One Day Before the Rainy Season</td>\n",
       "      <td>Ashad Ka Ek Din</td>\n",
       "      <td>2019</td>\n",
       "      <td>114.0</td>\n",
       "      <td>Biography,Drama</td>\n",
       "      <td>7.2</td>\n",
       "      <td>43.0</td>\n",
       "    </tr>\n",
       "    <tr>\n",
       "      <th>2</th>\n",
       "      <td>tt0069049</td>\n",
       "      <td>The Other Side of the Wind</td>\n",
       "      <td>The Other Side of the Wind</td>\n",
       "      <td>2018</td>\n",
       "      <td>122.0</td>\n",
       "      <td>Drama</td>\n",
       "      <td>6.9</td>\n",
       "      <td>4517.0</td>\n",
       "    </tr>\n",
       "    <tr>\n",
       "      <th>3</th>\n",
       "      <td>tt0069204</td>\n",
       "      <td>Sabse Bada Sukh</td>\n",
       "      <td>Sabse Bada Sukh</td>\n",
       "      <td>2018</td>\n",
       "      <td>NaN</td>\n",
       "      <td>Comedy,Drama</td>\n",
       "      <td>6.1</td>\n",
       "      <td>13.0</td>\n",
       "    </tr>\n",
       "    <tr>\n",
       "      <th>4</th>\n",
       "      <td>tt0100275</td>\n",
       "      <td>The Wandering Soap Opera</td>\n",
       "      <td>La Telenovela Errante</td>\n",
       "      <td>2017</td>\n",
       "      <td>80.0</td>\n",
       "      <td>Comedy,Drama,Fantasy</td>\n",
       "      <td>6.5</td>\n",
       "      <td>119.0</td>\n",
       "    </tr>\n",
       "  </tbody>\n",
       "</table>\n",
       "</div>"
      ],
      "text/plain": [
       "      tconst                    primary_title              original_title  \\\n",
       "0  tt0063540                        Sunghursh                   Sunghursh   \n",
       "1  tt0066787  One Day Before the Rainy Season             Ashad Ka Ek Din   \n",
       "2  tt0069049       The Other Side of the Wind  The Other Side of the Wind   \n",
       "3  tt0069204                  Sabse Bada Sukh             Sabse Bada Sukh   \n",
       "4  tt0100275         The Wandering Soap Opera       La Telenovela Errante   \n",
       "\n",
       "   start_year  runtime_minutes                genres  averagerating  numvotes  \n",
       "0        2013            175.0    Action,Crime,Drama            7.0      77.0  \n",
       "1        2019            114.0       Biography,Drama            7.2      43.0  \n",
       "2        2018            122.0                 Drama            6.9    4517.0  \n",
       "3        2018              NaN          Comedy,Drama            6.1      13.0  \n",
       "4        2017             80.0  Comedy,Drama,Fantasy            6.5     119.0  "
      ]
     },
     "execution_count": 20,
     "metadata": {},
     "output_type": "execute_result"
    }
   ],
   "source": [
    "imdb_title_rating.head()"
   ]
  },
  {
   "cell_type": "code",
   "execution_count": 21,
   "metadata": {},
   "outputs": [
    {
     "name": "stdout",
     "output_type": "stream",
     "text": [
      "<class 'pandas.core.frame.DataFrame'>\n",
      "Int64Index: 146144 entries, 0 to 146143\n",
      "Data columns (total 8 columns):\n",
      " #   Column           Non-Null Count   Dtype  \n",
      "---  ------           --------------   -----  \n",
      " 0   tconst           146144 non-null  object \n",
      " 1   primary_title    146144 non-null  object \n",
      " 2   original_title   146123 non-null  object \n",
      " 3   start_year       146144 non-null  int64  \n",
      " 4   runtime_minutes  114405 non-null  float64\n",
      " 5   genres           140736 non-null  object \n",
      " 6   averagerating    73856 non-null   float64\n",
      " 7   numvotes         73856 non-null   float64\n",
      "dtypes: float64(3), int64(1), object(4)\n",
      "memory usage: 10.0+ MB\n"
     ]
    }
   ],
   "source": [
    "imdb_title_rating.info()"
   ]
  },
  {
   "cell_type": "code",
   "execution_count": 22,
   "metadata": {},
   "outputs": [],
   "source": [
    "#we want to delet the columns that have no averagerating\n",
    "imdb_title_rating.dropna(subset = ['averagerating'], inplace=True)"
   ]
  },
  {
   "cell_type": "markdown",
   "metadata": {},
   "source": [
    "we can notince that hte num of votes of those ones who averageratin is 10 is very low. In the IMDB website, they mentioned m = minimum votes required to be listed in the Top Rated 250 list (currently 25,000)\n",
    "\n",
    "More info in this link: https://help.imdb.com/article/imdb/track-movies-tv/ratings-faq/G67Y87TFYYP6TWAV#"
   ]
  },
  {
   "cell_type": "code",
   "execution_count": 23,
   "metadata": {},
   "outputs": [],
   "source": [
    "#we want to delete the columns with less than 25000 votes\n",
    "imdb_title_rating.drop(imdb_title_rating[imdb_title_rating['numvotes'] < 25000].index, inplace=True)\n",
    "\n",
    "\n",
    "\n"
   ]
  },
  {
   "cell_type": "code",
   "execution_count": 24,
   "metadata": {},
   "outputs": [
    {
     "data": {
      "text/html": [
       "<div>\n",
       "<style scoped>\n",
       "    .dataframe tbody tr th:only-of-type {\n",
       "        vertical-align: middle;\n",
       "    }\n",
       "\n",
       "    .dataframe tbody tr th {\n",
       "        vertical-align: top;\n",
       "    }\n",
       "\n",
       "    .dataframe thead th {\n",
       "        text-align: right;\n",
       "    }\n",
       "</style>\n",
       "<table border=\"1\" class=\"dataframe\">\n",
       "  <thead>\n",
       "    <tr style=\"text-align: right;\">\n",
       "      <th></th>\n",
       "      <th>tconst</th>\n",
       "      <th>primary_title</th>\n",
       "      <th>original_title</th>\n",
       "      <th>start_year</th>\n",
       "      <th>runtime_minutes</th>\n",
       "      <th>genres</th>\n",
       "      <th>averagerating</th>\n",
       "      <th>numvotes</th>\n",
       "    </tr>\n",
       "  </thead>\n",
       "  <tbody>\n",
       "    <tr>\n",
       "      <th>107713</th>\n",
       "      <td>tt6316138</td>\n",
       "      <td>Ayla: The Daughter of War</td>\n",
       "      <td>Ayla: The Daughter of War</td>\n",
       "      <td>2017</td>\n",
       "      <td>125.0</td>\n",
       "      <td>Drama,History,War</td>\n",
       "      <td>8.7</td>\n",
       "      <td>26743.0</td>\n",
       "    </tr>\n",
       "    <tr>\n",
       "      <th>7066</th>\n",
       "      <td>tt1375666</td>\n",
       "      <td>Inception</td>\n",
       "      <td>Inception</td>\n",
       "      <td>2010</td>\n",
       "      <td>148.0</td>\n",
       "      <td>Action,Adventure,Sci-Fi</td>\n",
       "      <td>8.8</td>\n",
       "      <td>1841066.0</td>\n",
       "    </tr>\n",
       "    <tr>\n",
       "      <th>72821</th>\n",
       "      <td>tt4154796</td>\n",
       "      <td>Avengers: Endgame</td>\n",
       "      <td>Avengers: Endgame</td>\n",
       "      <td>2019</td>\n",
       "      <td>181.0</td>\n",
       "      <td>Action,Adventure,Sci-Fi</td>\n",
       "      <td>8.8</td>\n",
       "      <td>441135.0</td>\n",
       "    </tr>\n",
       "    <tr>\n",
       "      <th>43533</th>\n",
       "      <td>tt2592910</td>\n",
       "      <td>CM101MMXI Fundamentals</td>\n",
       "      <td>CM101MMXI Fundamentals</td>\n",
       "      <td>2013</td>\n",
       "      <td>139.0</td>\n",
       "      <td>Comedy,Documentary</td>\n",
       "      <td>9.2</td>\n",
       "      <td>41560.0</td>\n",
       "    </tr>\n",
       "    <tr>\n",
       "      <th>99483</th>\n",
       "      <td>tt5813916</td>\n",
       "      <td>The Mountain II</td>\n",
       "      <td>Dag II</td>\n",
       "      <td>2016</td>\n",
       "      <td>135.0</td>\n",
       "      <td>Action,Drama,War</td>\n",
       "      <td>9.3</td>\n",
       "      <td>100568.0</td>\n",
       "    </tr>\n",
       "  </tbody>\n",
       "</table>\n",
       "</div>"
      ],
      "text/plain": [
       "           tconst              primary_title             original_title  \\\n",
       "107713  tt6316138  Ayla: The Daughter of War  Ayla: The Daughter of War   \n",
       "7066    tt1375666                  Inception                  Inception   \n",
       "72821   tt4154796          Avengers: Endgame          Avengers: Endgame   \n",
       "43533   tt2592910     CM101MMXI Fundamentals     CM101MMXI Fundamentals   \n",
       "99483   tt5813916            The Mountain II                     Dag II   \n",
       "\n",
       "        start_year  runtime_minutes                   genres  averagerating  \\\n",
       "107713        2017            125.0        Drama,History,War            8.7   \n",
       "7066          2010            148.0  Action,Adventure,Sci-Fi            8.8   \n",
       "72821         2019            181.0  Action,Adventure,Sci-Fi            8.8   \n",
       "43533         2013            139.0       Comedy,Documentary            9.2   \n",
       "99483         2016            135.0         Action,Drama,War            9.3   \n",
       "\n",
       "         numvotes  \n",
       "107713    26743.0  \n",
       "7066    1841066.0  \n",
       "72821    441135.0  \n",
       "43533     41560.0  \n",
       "99483    100568.0  "
      ]
     },
     "execution_count": 24,
     "metadata": {},
     "output_type": "execute_result"
    }
   ],
   "source": [
    "imdb_title_rating.sort_values('averagerating').tail()"
   ]
  },
  {
   "cell_type": "markdown",
   "metadata": {},
   "source": [
    "We can select from the past 5 years"
   ]
  },
  {
   "cell_type": "code",
   "execution_count": 25,
   "metadata": {},
   "outputs": [],
   "source": [
    "imdb_top25 = imdb_title_rating[imdb_title_rating['start_year'] >= 2015].sort_values('averagerating').tail(25)"
   ]
  },
  {
   "cell_type": "code",
   "execution_count": 26,
   "metadata": {},
   "outputs": [
    {
     "data": {
      "text/html": [
       "<div>\n",
       "<style scoped>\n",
       "    .dataframe tbody tr th:only-of-type {\n",
       "        vertical-align: middle;\n",
       "    }\n",
       "\n",
       "    .dataframe tbody tr th {\n",
       "        vertical-align: top;\n",
       "    }\n",
       "\n",
       "    .dataframe thead th {\n",
       "        text-align: right;\n",
       "    }\n",
       "</style>\n",
       "<table border=\"1\" class=\"dataframe\">\n",
       "  <thead>\n",
       "    <tr style=\"text-align: right;\">\n",
       "      <th></th>\n",
       "      <th>tconst</th>\n",
       "      <th>primary_title</th>\n",
       "      <th>original_title</th>\n",
       "      <th>start_year</th>\n",
       "      <th>runtime_minutes</th>\n",
       "      <th>genres</th>\n",
       "      <th>averagerating</th>\n",
       "      <th>numvotes</th>\n",
       "    </tr>\n",
       "  </thead>\n",
       "  <tbody>\n",
       "    <tr>\n",
       "      <th>70269</th>\n",
       "      <td>tt4016934</td>\n",
       "      <td>The Handmaiden</td>\n",
       "      <td>Ah-ga-ssi</td>\n",
       "      <td>2016</td>\n",
       "      <td>145.0</td>\n",
       "      <td>Drama,Romance,Thriller</td>\n",
       "      <td>8.1</td>\n",
       "      <td>79272.0</td>\n",
       "    </tr>\n",
       "    <tr>\n",
       "      <th>76697</th>\n",
       "      <td>tt4387040</td>\n",
       "      <td>Airlift</td>\n",
       "      <td>Airlift</td>\n",
       "      <td>2016</td>\n",
       "      <td>130.0</td>\n",
       "      <td>Drama,History</td>\n",
       "      <td>8.1</td>\n",
       "      <td>48323.0</td>\n",
       "    </tr>\n",
       "    <tr>\n",
       "      <th>29109</th>\n",
       "      <td>tt2119532</td>\n",
       "      <td>Hacksaw Ridge</td>\n",
       "      <td>Hacksaw Ridge</td>\n",
       "      <td>2016</td>\n",
       "      <td>139.0</td>\n",
       "      <td>Biography,Drama,History</td>\n",
       "      <td>8.1</td>\n",
       "      <td>366904.0</td>\n",
       "    </tr>\n",
       "    <tr>\n",
       "      <th>21849</th>\n",
       "      <td>tt1895587</td>\n",
       "      <td>Spotlight</td>\n",
       "      <td>Spotlight</td>\n",
       "      <td>2015</td>\n",
       "      <td>129.0</td>\n",
       "      <td>Crime,Drama</td>\n",
       "      <td>8.1</td>\n",
       "      <td>365110.0</td>\n",
       "    </tr>\n",
       "    <tr>\n",
       "      <th>56763</th>\n",
       "      <td>tt3315342</td>\n",
       "      <td>Logan</td>\n",
       "      <td>Logan</td>\n",
       "      <td>2017</td>\n",
       "      <td>137.0</td>\n",
       "      <td>Action,Drama,Sci-Fi</td>\n",
       "      <td>8.1</td>\n",
       "      <td>560270.0</td>\n",
       "    </tr>\n",
       "    <tr>\n",
       "      <th>7213</th>\n",
       "      <td>tt1392190</td>\n",
       "      <td>Mad Max: Fury Road</td>\n",
       "      <td>Mad Max: Fury Road</td>\n",
       "      <td>2015</td>\n",
       "      <td>120.0</td>\n",
       "      <td>Action,Adventure,Sci-Fi</td>\n",
       "      <td>8.1</td>\n",
       "      <td>780910.0</td>\n",
       "    </tr>\n",
       "    <tr>\n",
       "      <th>127087</th>\n",
       "      <td>tt7775622</td>\n",
       "      <td>Free Solo</td>\n",
       "      <td>Free Solo</td>\n",
       "      <td>2018</td>\n",
       "      <td>100.0</td>\n",
       "      <td>Documentary,Sport</td>\n",
       "      <td>8.2</td>\n",
       "      <td>32250.0</td>\n",
       "    </tr>\n",
       "    <tr>\n",
       "      <th>85228</th>\n",
       "      <td>tt4934950</td>\n",
       "      <td>Talvar</td>\n",
       "      <td>Talvar</td>\n",
       "      <td>2015</td>\n",
       "      <td>132.0</td>\n",
       "      <td>Crime,Drama,Mystery</td>\n",
       "      <td>8.2</td>\n",
       "      <td>25443.0</td>\n",
       "    </tr>\n",
       "    <tr>\n",
       "      <th>53866</th>\n",
       "      <td>tt3170832</td>\n",
       "      <td>Room</td>\n",
       "      <td>Room</td>\n",
       "      <td>2015</td>\n",
       "      <td>118.0</td>\n",
       "      <td>Drama,Thriller</td>\n",
       "      <td>8.2</td>\n",
       "      <td>316791.0</td>\n",
       "    </tr>\n",
       "    <tr>\n",
       "      <th>86657</th>\n",
       "      <td>tt5027774</td>\n",
       "      <td>Three Billboards Outside Ebbing, Missouri</td>\n",
       "      <td>Three Billboards Outside Ebbing, Missouri</td>\n",
       "      <td>2017</td>\n",
       "      <td>115.0</td>\n",
       "      <td>Crime,Drama</td>\n",
       "      <td>8.2</td>\n",
       "      <td>344047.0</td>\n",
       "    </tr>\n",
       "    <tr>\n",
       "      <th>95481</th>\n",
       "      <td>tt5571734</td>\n",
       "      <td>Pink</td>\n",
       "      <td>Pink</td>\n",
       "      <td>2016</td>\n",
       "      <td>136.0</td>\n",
       "      <td>Drama,Thriller</td>\n",
       "      <td>8.2</td>\n",
       "      <td>32238.0</td>\n",
       "    </tr>\n",
       "    <tr>\n",
       "      <th>28269</th>\n",
       "      <td>tt2096673</td>\n",
       "      <td>Inside Out</td>\n",
       "      <td>Inside Out</td>\n",
       "      <td>2015</td>\n",
       "      <td>95.0</td>\n",
       "      <td>Adventure,Animation,Comedy</td>\n",
       "      <td>8.2</td>\n",
       "      <td>536181.0</td>\n",
       "    </tr>\n",
       "    <tr>\n",
       "      <th>117014</th>\n",
       "      <td>tt6966692</td>\n",
       "      <td>Green Book</td>\n",
       "      <td>Green Book</td>\n",
       "      <td>2018</td>\n",
       "      <td>130.0</td>\n",
       "      <td>Biography,Comedy,Drama</td>\n",
       "      <td>8.3</td>\n",
       "      <td>204972.0</td>\n",
       "    </tr>\n",
       "    <tr>\n",
       "      <th>77309</th>\n",
       "      <td>tt4430212</td>\n",
       "      <td>Drishyam</td>\n",
       "      <td>Drishyam</td>\n",
       "      <td>2015</td>\n",
       "      <td>163.0</td>\n",
       "      <td>Crime,Drama,Mystery</td>\n",
       "      <td>8.3</td>\n",
       "      <td>54991.0</td>\n",
       "    </tr>\n",
       "    <tr>\n",
       "      <th>83932</th>\n",
       "      <td>tt4849438</td>\n",
       "      <td>Baahubali 2: The Conclusion</td>\n",
       "      <td>Baahubali 2: The Conclusion</td>\n",
       "      <td>2017</td>\n",
       "      <td>167.0</td>\n",
       "      <td>Action,Drama</td>\n",
       "      <td>8.3</td>\n",
       "      <td>65656.0</td>\n",
       "    </tr>\n",
       "    <tr>\n",
       "      <th>38424</th>\n",
       "      <td>tt2380307</td>\n",
       "      <td>Coco</td>\n",
       "      <td>Coco</td>\n",
       "      <td>2017</td>\n",
       "      <td>105.0</td>\n",
       "      <td>Adventure,Animation,Comedy</td>\n",
       "      <td>8.4</td>\n",
       "      <td>277194.0</td>\n",
       "    </tr>\n",
       "    <tr>\n",
       "      <th>91844</th>\n",
       "      <td>tt5311514</td>\n",
       "      <td>Your Name.</td>\n",
       "      <td>Kimi no na wa.</td>\n",
       "      <td>2016</td>\n",
       "      <td>106.0</td>\n",
       "      <td>Animation,Drama,Fantasy</td>\n",
       "      <td>8.4</td>\n",
       "      <td>134084.0</td>\n",
       "    </tr>\n",
       "    <tr>\n",
       "      <th>87402</th>\n",
       "      <td>tt5074352</td>\n",
       "      <td>Dangal</td>\n",
       "      <td>Dangal</td>\n",
       "      <td>2016</td>\n",
       "      <td>161.0</td>\n",
       "      <td>Action,Biography,Drama</td>\n",
       "      <td>8.5</td>\n",
       "      <td>123638.0</td>\n",
       "    </tr>\n",
       "    <tr>\n",
       "      <th>80655</th>\n",
       "      <td>tt4633694</td>\n",
       "      <td>Spider-Man: Into the Spider-Verse</td>\n",
       "      <td>Spider-Man: Into the Spider-Verse</td>\n",
       "      <td>2018</td>\n",
       "      <td>117.0</td>\n",
       "      <td>Action,Adventure,Animation</td>\n",
       "      <td>8.5</td>\n",
       "      <td>210869.0</td>\n",
       "    </tr>\n",
       "    <tr>\n",
       "      <th>72820</th>\n",
       "      <td>tt4154756</td>\n",
       "      <td>Avengers: Infinity War</td>\n",
       "      <td>Avengers: Infinity War</td>\n",
       "      <td>2018</td>\n",
       "      <td>149.0</td>\n",
       "      <td>Action,Adventure,Sci-Fi</td>\n",
       "      <td>8.5</td>\n",
       "      <td>670926.0</td>\n",
       "    </tr>\n",
       "    <tr>\n",
       "      <th>130754</th>\n",
       "      <td>tt8108198</td>\n",
       "      <td>Andhadhun</td>\n",
       "      <td>Andhadhun</td>\n",
       "      <td>2018</td>\n",
       "      <td>139.0</td>\n",
       "      <td>Crime,Thriller</td>\n",
       "      <td>8.5</td>\n",
       "      <td>43409.0</td>\n",
       "    </tr>\n",
       "    <tr>\n",
       "      <th>132555</th>\n",
       "      <td>tt8291224</td>\n",
       "      <td>Uri: The Surgical Strike</td>\n",
       "      <td>Uri: The Surgical Strike</td>\n",
       "      <td>2019</td>\n",
       "      <td>138.0</td>\n",
       "      <td>Action,Drama,War</td>\n",
       "      <td>8.6</td>\n",
       "      <td>30292.0</td>\n",
       "    </tr>\n",
       "    <tr>\n",
       "      <th>107713</th>\n",
       "      <td>tt6316138</td>\n",
       "      <td>Ayla: The Daughter of War</td>\n",
       "      <td>Ayla: The Daughter of War</td>\n",
       "      <td>2017</td>\n",
       "      <td>125.0</td>\n",
       "      <td>Drama,History,War</td>\n",
       "      <td>8.7</td>\n",
       "      <td>26743.0</td>\n",
       "    </tr>\n",
       "    <tr>\n",
       "      <th>72821</th>\n",
       "      <td>tt4154796</td>\n",
       "      <td>Avengers: Endgame</td>\n",
       "      <td>Avengers: Endgame</td>\n",
       "      <td>2019</td>\n",
       "      <td>181.0</td>\n",
       "      <td>Action,Adventure,Sci-Fi</td>\n",
       "      <td>8.8</td>\n",
       "      <td>441135.0</td>\n",
       "    </tr>\n",
       "    <tr>\n",
       "      <th>99483</th>\n",
       "      <td>tt5813916</td>\n",
       "      <td>The Mountain II</td>\n",
       "      <td>Dag II</td>\n",
       "      <td>2016</td>\n",
       "      <td>135.0</td>\n",
       "      <td>Action,Drama,War</td>\n",
       "      <td>9.3</td>\n",
       "      <td>100568.0</td>\n",
       "    </tr>\n",
       "  </tbody>\n",
       "</table>\n",
       "</div>"
      ],
      "text/plain": [
       "           tconst                              primary_title  \\\n",
       "70269   tt4016934                             The Handmaiden   \n",
       "76697   tt4387040                                    Airlift   \n",
       "29109   tt2119532                              Hacksaw Ridge   \n",
       "21849   tt1895587                                  Spotlight   \n",
       "56763   tt3315342                                      Logan   \n",
       "7213    tt1392190                         Mad Max: Fury Road   \n",
       "127087  tt7775622                                  Free Solo   \n",
       "85228   tt4934950                                     Talvar   \n",
       "53866   tt3170832                                       Room   \n",
       "86657   tt5027774  Three Billboards Outside Ebbing, Missouri   \n",
       "95481   tt5571734                                       Pink   \n",
       "28269   tt2096673                                 Inside Out   \n",
       "117014  tt6966692                                 Green Book   \n",
       "77309   tt4430212                                   Drishyam   \n",
       "83932   tt4849438                Baahubali 2: The Conclusion   \n",
       "38424   tt2380307                                       Coco   \n",
       "91844   tt5311514                                 Your Name.   \n",
       "87402   tt5074352                                     Dangal   \n",
       "80655   tt4633694          Spider-Man: Into the Spider-Verse   \n",
       "72820   tt4154756                     Avengers: Infinity War   \n",
       "130754  tt8108198                                  Andhadhun   \n",
       "132555  tt8291224                   Uri: The Surgical Strike   \n",
       "107713  tt6316138                  Ayla: The Daughter of War   \n",
       "72821   tt4154796                          Avengers: Endgame   \n",
       "99483   tt5813916                            The Mountain II   \n",
       "\n",
       "                                   original_title  start_year  \\\n",
       "70269                                   Ah-ga-ssi        2016   \n",
       "76697                                     Airlift        2016   \n",
       "29109                               Hacksaw Ridge        2016   \n",
       "21849                                   Spotlight        2015   \n",
       "56763                                       Logan        2017   \n",
       "7213                           Mad Max: Fury Road        2015   \n",
       "127087                                  Free Solo        2018   \n",
       "85228                                      Talvar        2015   \n",
       "53866                                        Room        2015   \n",
       "86657   Three Billboards Outside Ebbing, Missouri        2017   \n",
       "95481                                        Pink        2016   \n",
       "28269                                  Inside Out        2015   \n",
       "117014                                 Green Book        2018   \n",
       "77309                                    Drishyam        2015   \n",
       "83932                 Baahubali 2: The Conclusion        2017   \n",
       "38424                                        Coco        2017   \n",
       "91844                              Kimi no na wa.        2016   \n",
       "87402                                      Dangal        2016   \n",
       "80655           Spider-Man: Into the Spider-Verse        2018   \n",
       "72820                      Avengers: Infinity War        2018   \n",
       "130754                                  Andhadhun        2018   \n",
       "132555                   Uri: The Surgical Strike        2019   \n",
       "107713                  Ayla: The Daughter of War        2017   \n",
       "72821                           Avengers: Endgame        2019   \n",
       "99483                                      Dag II        2016   \n",
       "\n",
       "        runtime_minutes                      genres  averagerating  numvotes  \n",
       "70269             145.0      Drama,Romance,Thriller            8.1   79272.0  \n",
       "76697             130.0               Drama,History            8.1   48323.0  \n",
       "29109             139.0     Biography,Drama,History            8.1  366904.0  \n",
       "21849             129.0                 Crime,Drama            8.1  365110.0  \n",
       "56763             137.0         Action,Drama,Sci-Fi            8.1  560270.0  \n",
       "7213              120.0     Action,Adventure,Sci-Fi            8.1  780910.0  \n",
       "127087            100.0           Documentary,Sport            8.2   32250.0  \n",
       "85228             132.0         Crime,Drama,Mystery            8.2   25443.0  \n",
       "53866             118.0              Drama,Thriller            8.2  316791.0  \n",
       "86657             115.0                 Crime,Drama            8.2  344047.0  \n",
       "95481             136.0              Drama,Thriller            8.2   32238.0  \n",
       "28269              95.0  Adventure,Animation,Comedy            8.2  536181.0  \n",
       "117014            130.0      Biography,Comedy,Drama            8.3  204972.0  \n",
       "77309             163.0         Crime,Drama,Mystery            8.3   54991.0  \n",
       "83932             167.0                Action,Drama            8.3   65656.0  \n",
       "38424             105.0  Adventure,Animation,Comedy            8.4  277194.0  \n",
       "91844             106.0     Animation,Drama,Fantasy            8.4  134084.0  \n",
       "87402             161.0      Action,Biography,Drama            8.5  123638.0  \n",
       "80655             117.0  Action,Adventure,Animation            8.5  210869.0  \n",
       "72820             149.0     Action,Adventure,Sci-Fi            8.5  670926.0  \n",
       "130754            139.0              Crime,Thriller            8.5   43409.0  \n",
       "132555            138.0            Action,Drama,War            8.6   30292.0  \n",
       "107713            125.0           Drama,History,War            8.7   26743.0  \n",
       "72821             181.0     Action,Adventure,Sci-Fi            8.8  441135.0  \n",
       "99483             135.0            Action,Drama,War            9.3  100568.0  "
      ]
     },
     "execution_count": 26,
     "metadata": {},
     "output_type": "execute_result"
    }
   ],
   "source": [
    "imdb_top25"
   ]
  },
  {
   "cell_type": "markdown",
   "metadata": {},
   "source": [
    "can we from here gain some insights? For example, whatare the most common genres? leng of movie?  We could do a box plot of running times, and also genres we have to cut after each comma. What is the most common genre? can we merge all of them and group by genre and then pick the top 3?\n",
    "\n"
   ]
  },
  {
   "cell_type": "code",
   "execution_count": 27,
   "metadata": {},
   "outputs": [
    {
     "data": {
      "text/plain": [
       "<AxesSubplot:ylabel='Frequency'>"
      ]
     },
     "execution_count": 27,
     "metadata": {},
     "output_type": "execute_result"
    },
    {
     "data": {
      "image/png": "[encoded data removed]",
      "text/plain": [
       "<Figure size 432x288 with 1 Axes>"
      ]
     },
     "metadata": {
      "needs_background": "light"
     },
     "output_type": "display_data"
    }
   ],
   "source": [
    "imdb_top25['runtime_minutes'].plot.hist()"
   ]
  },
  {
   "cell_type": "code",
   "execution_count": 28,
   "metadata": {},
   "outputs": [
    {
     "data": {
      "image/png": "[encoded data removed]",
      "text/plain": [
       "<Figure size 432x288 with 1 Axes>"
      ]
     },
     "metadata": {
      "needs_background": "light"
     },
     "output_type": "display_data"
    }
   ],
   "source": [
    "imdb_top25['runtime_minutes'].plot.box();"
   ]
  },
  {
   "cell_type": "code",
   "execution_count": 29,
   "metadata": {},
   "outputs": [
    {
     "data": {
      "text/plain": [
       "132.0"
      ]
     },
     "execution_count": 29,
     "metadata": {},
     "output_type": "execute_result"
    }
   ],
   "source": [
    "imdb_top25['runtime_minutes'].median()"
   ]
  },
  {
   "cell_type": "markdown",
   "metadata": {},
   "source": [
    "can we create a list with the different genres?"
   ]
  },
  {
   "cell_type": "code",
   "execution_count": 30,
   "metadata": {},
   "outputs": [],
   "source": [
    "genres = imdb_top25['genres'].map(lambda x: x.split(','))"
   ]
  },
  {
   "cell_type": "code",
   "execution_count": 31,
   "metadata": {},
   "outputs": [
    {
     "data": {
      "text/plain": [
       "pandas.core.series.Series"
      ]
     },
     "execution_count": 31,
     "metadata": {},
     "output_type": "execute_result"
    }
   ],
   "source": [
    "type(genres)\n"
   ]
  },
  {
   "cell_type": "code",
   "execution_count": 32,
   "metadata": {},
   "outputs": [
    {
     "data": {
      "text/plain": [
       "['Drama',\n",
       " 'Romance',\n",
       " 'Thriller',\n",
       " 'Drama',\n",
       " 'History',\n",
       " 'Biography',\n",
       " 'Drama',\n",
       " 'History',\n",
       " 'Crime',\n",
       " 'Drama',\n",
       " 'Action',\n",
       " 'Drama',\n",
       " 'Sci-Fi',\n",
       " 'Action',\n",
       " 'Adventure',\n",
       " 'Sci-Fi',\n",
       " 'Documentary',\n",
       " 'Sport',\n",
       " 'Crime',\n",
       " 'Drama',\n",
       " 'Mystery',\n",
       " 'Drama',\n",
       " 'Thriller',\n",
       " 'Crime',\n",
       " 'Drama',\n",
       " 'Drama',\n",
       " 'Thriller',\n",
       " 'Adventure',\n",
       " 'Animation',\n",
       " 'Comedy',\n",
       " 'Biography',\n",
       " 'Comedy',\n",
       " 'Drama',\n",
       " 'Crime',\n",
       " 'Drama',\n",
       " 'Mystery',\n",
       " 'Action',\n",
       " 'Drama',\n",
       " 'Adventure',\n",
       " 'Animation',\n",
       " 'Comedy',\n",
       " 'Animation',\n",
       " 'Drama',\n",
       " 'Fantasy',\n",
       " 'Action',\n",
       " 'Biography',\n",
       " 'Drama',\n",
       " 'Action',\n",
       " 'Adventure',\n",
       " 'Animation',\n",
       " 'Action',\n",
       " 'Adventure',\n",
       " 'Sci-Fi',\n",
       " 'Crime',\n",
       " 'Thriller',\n",
       " 'Action',\n",
       " 'Drama',\n",
       " 'War',\n",
       " 'Drama',\n",
       " 'History',\n",
       " 'War',\n",
       " 'Action',\n",
       " 'Adventure',\n",
       " 'Sci-Fi',\n",
       " 'Action',\n",
       " 'Drama',\n",
       " 'War',\n",
       " '']"
      ]
     },
     "execution_count": 32,
     "metadata": {},
     "output_type": "execute_result"
    }
   ],
   "source": [
    "col_one_list = imdb_top25['genres'].tolist()\n",
    "\n",
    "sent_str = \"\"\n",
    "for x in col_one_list:\n",
    "    sent_str += str(x) + \",\"\n",
    "\n",
    "sent_str = sent_str.split(',')\n",
    "sent_str"
   ]
  },
  {
   "cell_type": "code",
   "execution_count": 33,
   "metadata": {},
   "outputs": [],
   "source": [
    "from collections import Counter\n"
   ]
  },
  {
   "cell_type": "code",
   "execution_count": 34,
   "metadata": {},
   "outputs": [
    {
     "name": "stdout",
     "output_type": "stream",
     "text": [
      "[('Drama', 17), ('Action', 9), ('Adventure', 6), ('Crime', 5), ('Thriller', 4), ('Sci-Fi', 4), ('Animation', 4), ('History', 3), ('Biography', 3), ('Comedy', 3), ('War', 3), ('Mystery', 2), ('Romance', 1), ('Documentary', 1), ('Sport', 1), ('Fantasy', 1), ('', 1)]\n"
     ]
    },
    {
     "data": {
      "text/plain": [
       "list"
      ]
     },
     "execution_count": 34,
     "metadata": {},
     "output_type": "execute_result"
    }
   ],
   "source": [
    "counts = Counter(sent_str).most_common()\n",
    "print(counts)\n",
    "type(counts)"
   ]
  },
  {
   "cell_type": "code",
   "execution_count": 35,
   "metadata": {},
   "outputs": [
    {
     "name": "stdout",
     "output_type": "stream",
     "text": [
      "['Drama', 'Action', 'Adventure', 'Crime', 'Thriller', 'Sci-Fi', 'Animation', 'History', 'Biography', 'Comedy', 'War', 'Mystery', 'Romance', 'Documentary', 'Sport', 'Fantasy', '']\n",
      "[17, 9, 6, 5, 4, 4, 4, 3, 3, 3, 3, 2, 1, 1, 1, 1, 1]\n"
     ]
    }
   ],
   "source": [
    "names = []\n",
    "for x in counts:\n",
    "    names.append(x[0])\n",
    "\n",
    "\n",
    "values = []\n",
    "for x in counts:\n",
    "    values.append(x[1])\n",
    "\n",
    "print(names)\n",
    "print(values)"
   ]
  },
  {
   "cell_type": "code",
   "execution_count": 36,
   "metadata": {},
   "outputs": [
    {
     "data": {
      "image/png": "[encoded data removed]",
      "text/plain": [
       "<Figure size 432x288 with 1 Axes>"
      ]
     },
     "metadata": {
      "needs_background": "light"
     },
     "output_type": "display_data"
    }
   ],
   "source": [
    "fig, ax = plt.subplots()\n",
    "plt.bar(range(len(counts)), values, tick_label=names)\n",
    "plt.xticks(rotation=90)\n",
    "ax.set_ylabel('Number of movies for each genre')\n",
    "ax.set_title('Most common genres in the TOP25 movies between 2015-2019')\n",
    "plt.show()"
   ]
  },
  {
   "cell_type": "code",
   "execution_count": 37,
   "metadata": {},
   "outputs": [],
   "source": [
    "def Convert(lst):\n",
    "    res_dct = {lst[i][0]: lst[i][1] for i in range(0, len(lst), 2)}\n",
    "    return res_dct\n",
    "         "
   ]
  },
  {
   "cell_type": "markdown",
   "metadata": {},
   "source": [
    "**Now I want to repeat the same for 2021 and do an study from each region**"
   ]
  },
  {
   "cell_type": "code",
   "execution_count": 38,
   "metadata": {},
   "outputs": [],
   "source": [
    "counts_dict=(Convert(counts))\n"
   ]
  },
  {
   "cell_type": "markdown",
   "metadata": {},
   "source": [
    "I want to see how drama change over the years. So I need to create a new dictionary that adds the value of drama for each year"
   ]
  },
  {
   "cell_type": "code",
   "execution_count": 39,
   "metadata": {},
   "outputs": [
    {
     "data": {
      "text/plain": [
       "{'Drama': 17,\n",
       " 'Adventure': 6,\n",
       " 'Thriller': 4,\n",
       " 'Animation': 4,\n",
       " 'Biography': 3,\n",
       " 'War': 3,\n",
       " 'Romance': 1,\n",
       " 'Sport': 1,\n",
       " '': 1}"
      ]
     },
     "execution_count": 39,
     "metadata": {},
     "output_type": "execute_result"
    }
   ],
   "source": [
    "counts_dict\n"
   ]
  },
  {
   "cell_type": "code",
   "execution_count": 40,
   "metadata": {},
   "outputs": [
    {
     "data": {
      "text/plain": [
       "dict"
      ]
     },
     "execution_count": 40,
     "metadata": {},
     "output_type": "execute_result"
    }
   ],
   "source": [
    "type(counts_dict)"
   ]
  },
  {
   "cell_type": "code",
   "execution_count": 41,
   "metadata": {},
   "outputs": [
    {
     "name": "stdout",
     "output_type": "stream",
     "text": [
      "17\n"
     ]
    }
   ],
   "source": [
    "print(counts_dict.get('Drama'))"
   ]
  },
  {
   "cell_type": "code",
   "execution_count": 42,
   "metadata": {},
   "outputs": [],
   "source": [
    "imdb_top25_2017 = imdb_title_rating[imdb_title_rating['start_year'] == 2017].sort_values('averagerating').tail(25)\n",
    "imdb_top25_2018 = imdb_title_rating[imdb_title_rating['start_year'] == 2018].sort_values('averagerating').tail(25)\n",
    "imdb_top25_2019 = imdb_title_rating[imdb_title_rating['start_year'] == 2019].sort_values('averagerating').tail(25)\n",
    "imdb_top25_2016 = imdb_title_rating[imdb_title_rating['start_year'] == 2016].sort_values('averagerating').tail(25)\n",
    "imdb_top25_2015 = imdb_title_rating[imdb_title_rating['start_year'] == 2015].sort_values('averagerating').tail(25)"
   ]
  },
  {
   "cell_type": "code",
   "execution_count": 43,
   "metadata": {},
   "outputs": [],
   "source": [
    "genres_2017 = imdb_top25_2017['genres'].map(lambda x: x.split(','))\n",
    "genres_2018 = imdb_top25_2018['genres'].map(lambda x: x.split(','))\n",
    "genres_2019 = imdb_top25_2019['genres'].map(lambda x: x.split(','))\n",
    "genres_2016 = imdb_top25_2016['genres'].map(lambda x: x.split(','))\n",
    "genres_2015 = imdb_top25_2015['genres'].map(lambda x: x.split(','))"
   ]
  },
  {
   "cell_type": "code",
   "execution_count": 44,
   "metadata": {},
   "outputs": [],
   "source": [
    "col_one_list_2017 = imdb_top25_2017['genres'].tolist()\n",
    "col_one_list_2018 = imdb_top25_2018['genres'].tolist()\n",
    "col_one_list_2019 = imdb_top25_2019['genres'].tolist()\n",
    "col_one_list_2016 = imdb_top25_2016['genres'].tolist()\n",
    "col_one_list_2015 = imdb_top25_2015['genres'].tolist()\n",
    "\n"
   ]
  },
  {
   "cell_type": "code",
   "execution_count": 45,
   "metadata": {},
   "outputs": [
    {
     "data": {
      "text/plain": [
       "['Drama,History,Thriller',\n",
       " 'Drama',\n",
       " 'Crime,Drama,Romance',\n",
       " 'Comedy,Drama,Romance',\n",
       " 'Adventure,Animation,Drama',\n",
       " 'Drama,History,War',\n",
       " 'Biography,Documentary,Music',\n",
       " 'Comedy,Drama,Romance',\n",
       " 'Drama,War',\n",
       " 'Biography,Comedy,Drama',\n",
       " 'Crime,Drama,Mystery',\n",
       " 'Biography,Drama,History',\n",
       " 'Action,Adventure,Fantasy',\n",
       " 'Adventure,Drama,Sci-Fi',\n",
       " 'Action,Adventure,Biography',\n",
       " 'Documentary',\n",
       " 'Action,Thriller',\n",
       " 'Action,Comedy,Drama',\n",
       " 'Action,Adventure,Sci-Fi',\n",
       " 'Crime,Drama',\n",
       " 'Action,Drama',\n",
       " 'Adventure,Animation,Comedy',\n",
       " 'Drama,Thriller',\n",
       " 'Crime,Drama,Mystery',\n",
       " 'Crime,Drama,Mystery']"
      ]
     },
     "execution_count": 45,
     "metadata": {},
     "output_type": "execute_result"
    }
   ],
   "source": [
    "col_one_list_2015"
   ]
  },
  {
   "cell_type": "code",
   "execution_count": 46,
   "metadata": {},
   "outputs": [],
   "source": [
    "sent_str_2015 = \"\"\n",
    "for x in col_one_list_2015:\n",
    "    sent_str_2015 += str(x) + \",\"\n",
    "\n",
    "sent_str_2015 = sent_str_2015.split(',')"
   ]
  },
  {
   "cell_type": "code",
   "execution_count": 47,
   "metadata": {},
   "outputs": [],
   "source": [
    "sent_str_2016 = \"\"\n",
    "for x in col_one_list_2016:\n",
    "    sent_str_2016 += str(x) + \",\"\n",
    "\n",
    "sent_str_2016 = sent_str_2016.split(',')"
   ]
  },
  {
   "cell_type": "code",
   "execution_count": 48,
   "metadata": {},
   "outputs": [],
   "source": [
    "sent_str_2017 = \"\"\n",
    "for x in col_one_list_2017:\n",
    "    sent_str_2017 += str(x) + \",\"\n",
    "\n",
    "sent_str_2017 = sent_str_2017.split(',')"
   ]
  },
  {
   "cell_type": "code",
   "execution_count": 49,
   "metadata": {},
   "outputs": [],
   "source": [
    "sent_str_2018 = \"\"\n",
    "for x in col_one_list_2018:\n",
    "    sent_str_2018 += str(x) + \",\"\n",
    "\n",
    "sent_str_2018 = sent_str_2018.split(',')"
   ]
  },
  {
   "cell_type": "code",
   "execution_count": 50,
   "metadata": {},
   "outputs": [],
   "source": [
    "sent_str_2019 = \"\"\n",
    "for x in col_one_list_2019:\n",
    "    sent_str_2019 += str(x) + \",\"\n",
    "\n",
    "sent_str_2019 = sent_str_2019.split(',')"
   ]
  },
  {
   "cell_type": "code",
   "execution_count": 51,
   "metadata": {},
   "outputs": [
    {
     "name": "stdout",
     "output_type": "stream",
     "text": [
      "[('Drama', 18), ('Adventure', 6), ('Action', 6), ('Crime', 5), ('Comedy', 5), ('Biography', 4), ('History', 3), ('Thriller', 3), ('Romance', 3), ('Mystery', 3), ('Animation', 2), ('War', 2), ('Documentary', 2), ('Sci-Fi', 2), ('Music', 1), ('Fantasy', 1), ('', 1)]\n"
     ]
    }
   ],
   "source": [
    "counts_2015 = Counter(sent_str_2015).most_common()\n",
    "print(counts_2015)\n"
   ]
  },
  {
   "cell_type": "code",
   "execution_count": 52,
   "metadata": {},
   "outputs": [
    {
     "name": "stdout",
     "output_type": "stream",
     "text": [
      "[('Drama', 19), ('Comedy', 7), ('Action', 6), ('Adventure', 6), ('Biography', 5), ('Thriller', 4), ('Sci-Fi', 3), ('Animation', 3), ('History', 3), ('Mystery', 2), ('Music', 2), ('Sport', 1), ('Romance', 1), ('Crime', 1), ('Fantasy', 1), ('War', 1), ('', 1)]\n"
     ]
    }
   ],
   "source": [
    "counts_2016 = Counter(sent_str_2016).most_common()\n",
    "print(counts_2016)\n"
   ]
  },
  {
   "cell_type": "code",
   "execution_count": 53,
   "metadata": {},
   "outputs": [
    {
     "name": "stdout",
     "output_type": "stream",
     "text": [
      "[('Drama', 17), ('Action', 9), ('Crime', 6), ('Adventure', 5), ('Comedy', 5), ('Biography', 4), ('Thriller', 3), ('Mystery', 3), ('Romance', 2), ('Animation', 2), ('Family', 2), ('History', 2), ('Sci-Fi', 2), ('Musical', 1), ('Horror', 1), ('Documentary', 1), ('Sport', 1), ('War', 1), ('', 1)]\n"
     ]
    }
   ],
   "source": [
    "counts_2017 = Counter(sent_str_2017).most_common()\n",
    "print(counts_2017)\n"
   ]
  },
  {
   "cell_type": "code",
   "execution_count": null,
   "metadata": {},
   "outputs": [],
   "source": []
  },
  {
   "cell_type": "code",
   "execution_count": 54,
   "metadata": {},
   "outputs": [
    {
     "name": "stdout",
     "output_type": "stream",
     "text": [
      "[('Drama', 14), ('Action', 7), ('Adventure', 7), ('Comedy', 6), ('Sci-Fi', 5), ('Biography', 5), ('Thriller', 5), ('Crime', 4), ('Music', 3), ('Animation', 3), ('History', 2), ('Romance', 2), ('Horror', 1), ('Mystery', 1), ('Documentary', 1), ('Sport', 1), ('', 1)]\n"
     ]
    }
   ],
   "source": [
    "counts_2018 = Counter(sent_str_2018).most_common()\n",
    "print(counts_2018)\n"
   ]
  },
  {
   "cell_type": "code",
   "execution_count": 55,
   "metadata": {},
   "outputs": [
    {
     "name": "stdout",
     "output_type": "stream",
     "text": [
      "[('Action', 14), ('Adventure', 12), ('Drama', 9), ('Crime', 6), ('Sci-Fi', 5), ('Comedy', 5), ('Biography', 4), ('Thriller', 4), ('Horror', 3), ('Mystery', 2), ('Family', 2), ('Fantasy', 2), ('Animation', 2), ('Documentary', 1), ('Music', 1), ('War', 1), ('', 1)]\n"
     ]
    }
   ],
   "source": [
    "counts_2019 = Counter(sent_str_2019).most_common()\n",
    "print(counts_2019)\n"
   ]
  },
  {
   "cell_type": "code",
   "execution_count": 56,
   "metadata": {},
   "outputs": [],
   "source": [
    "counts_dict_2015=dict(counts_2015)\n",
    "counts_dict_2016=dict(counts_2016)\n",
    "counts_dict_2017=dict(counts_2017)\n",
    "counts_dict_2018=dict(counts_2018)\n",
    "counts_dict_2019=dict(counts_2019)\n"
   ]
  },
  {
   "cell_type": "code",
   "execution_count": 57,
   "metadata": {},
   "outputs": [
    {
     "name": "stdout",
     "output_type": "stream",
     "text": [
      "18\n",
      "19\n",
      "17\n",
      "14\n",
      "9\n"
     ]
    }
   ],
   "source": [
    "print(counts_dict_2015.get('Drama'))\n",
    "print(counts_dict_2016.get('Drama'))\n",
    "print(counts_dict_2017.get('Drama'))\n",
    "print(counts_dict_2018.get('Drama'))\n",
    "print(counts_dict_2019.get('Drama'))"
   ]
  },
  {
   "cell_type": "code",
   "execution_count": 58,
   "metadata": {},
   "outputs": [],
   "source": [
    "drama_list = [counts_dict_2015.get('Drama'), counts_dict_2016.get('Drama'), counts_dict_2017.get('Drama'), counts_dict_2018.get('Drama'), counts_dict_2019.get('Drama')]"
   ]
  },
  {
   "cell_type": "code",
   "execution_count": 59,
   "metadata": {},
   "outputs": [
    {
     "data": {
      "text/plain": [
       "[18, 19, 17, 14, 9]"
      ]
     },
     "execution_count": 59,
     "metadata": {},
     "output_type": "execute_result"
    }
   ],
   "source": [
    "drama_list"
   ]
  },
  {
   "cell_type": "code",
   "execution_count": 60,
   "metadata": {},
   "outputs": [
    {
     "name": "stdout",
     "output_type": "stream",
     "text": [
      "6\n",
      "6\n",
      "9\n",
      "7\n",
      "14\n"
     ]
    }
   ],
   "source": [
    "print(counts_dict_2015.get('Action'))\n",
    "print(counts_dict_2016.get('Action'))\n",
    "print(counts_dict_2017.get('Action'))\n",
    "print(counts_dict_2018.get('Action'))\n",
    "print(counts_dict_2019.get('Action'))"
   ]
  },
  {
   "cell_type": "code",
   "execution_count": 61,
   "metadata": {},
   "outputs": [],
   "source": [
    "#\n",
    "action_list = [counts_dict_2015.get('Action'), counts_dict_2016.get('Action'), counts_dict_2017.get('Action'), counts_dict_2018.get('Action'), counts_dict_2019.get('Action')]\n",
    "#"
   ]
  },
  {
   "cell_type": "code",
   "execution_count": 62,
   "metadata": {},
   "outputs": [
    {
     "name": "stdout",
     "output_type": "stream",
     "text": [
      "6\n",
      "6\n",
      "5\n",
      "7\n",
      "12\n"
     ]
    }
   ],
   "source": [
    "print(counts_dict_2015.get('Adventure'))\n",
    "print(counts_dict_2016.get('Adventure'))\n",
    "print(counts_dict_2017.get('Adventure'))\n",
    "print(counts_dict_2018.get('Adventure'))\n",
    "print(counts_dict_2019.get('Adventure'))"
   ]
  },
  {
   "cell_type": "code",
   "execution_count": 63,
   "metadata": {},
   "outputs": [],
   "source": [
    "#\n",
    "adventure_list = [counts_dict_2015.get('Adventure'), counts_dict_2016.get('Adventure'), counts_dict_2017.get('Adventure'), counts_dict_2018.get('Adventure'), counts_dict_2019.get('Adventure')]\n",
    "#"
   ]
  },
  {
   "cell_type": "code",
   "execution_count": 64,
   "metadata": {},
   "outputs": [
    {
     "name": "stdout",
     "output_type": "stream",
     "text": [
      "5\n",
      "1\n",
      "6\n",
      "4\n",
      "6\n"
     ]
    }
   ],
   "source": [
    "print(counts_dict_2015.get('Crime'))\n",
    "print(counts_dict_2016.get('Crime'))\n",
    "print(counts_dict_2017.get('Crime'))\n",
    "print(counts_dict_2018.get('Crime'))\n",
    "print(counts_dict_2019.get('Crime'))"
   ]
  },
  {
   "cell_type": "code",
   "execution_count": 65,
   "metadata": {},
   "outputs": [],
   "source": [
    "#\n",
    "crime_list = [counts_dict_2015.get('Crime'), counts_dict_2016.get('Crime'), counts_dict_2017.get('Crime'), counts_dict_2018.get('Crime'), counts_dict_2019.get('Crime')]\n",
    "#"
   ]
  },
  {
   "cell_type": "code",
   "execution_count": 66,
   "metadata": {},
   "outputs": [
    {
     "data": {
      "image/png": "[encoded data removed]",
      "text/plain": [
       "<Figure size 432x288 with 1 Axes>"
      ]
     },
     "metadata": {
      "needs_background": "light"
     },
     "output_type": "display_data"
    }
   ],
   "source": [
    "fig, ax = plt.subplots()\n",
    "barlist=plt.bar(range(len(counts)), values, tick_label=names)\n",
    "plt.xticks(rotation=90)\n",
    "ax.set_ylabel('Number of movies for each genre')\n",
    "ax.set_title('Most common genres in the TOP25 movies between 2015-2019')\n",
    "barlist[0].set_color('blue')\n",
    "barlist[1].set_color('green')\n",
    "barlist[2].set_color('red')\n",
    "barlist[3].set_color('purple')\n",
    "plt.show()\n",
    "\n"
   ]
  },
  {
   "cell_type": "code",
   "execution_count": 67,
   "metadata": {},
   "outputs": [
    {
     "data": {
      "image/png": "[encoded data removed]",
      "text/plain": [
       "<Figure size 432x288 with 1 Axes>"
      ]
     },
     "metadata": {
      "needs_background": "light"
     },
     "output_type": "display_data"
    }
   ],
   "source": [
    "fig, ax = plt.subplots()\n",
    "ax.plot(('2015','2016','2017','2018','2019'), drama_list , color=\"blue\", lw=3, ls='-.', marker='o')\n",
    "ax.plot(('2015','2016','2017','2018','2019'), action_list , color=\"green\", lw=3, ls='-', marker='s')\n",
    "ax.plot(('2015','2016','2017','2018','2019'), adventure_list , color=\"red\", lw=3, ls=':', marker='+')\n",
    "ax.plot(('2015','2016','2017','2018','2019'), crime_list , color=\"purple\", lw=3, ls='--', marker='o')\n",
    "ax.set_title('Evolution of genres preferences')\n",
    "fig.legend(labels=[\"Drama\", \"Action\", \"Adventure\", \"Crime\"], bbox_to_anchor=(1.25,0.98), loc = \"upper right\")\n",
    "fig.tight_layout();"
   ]
  },
  {
   "cell_type": "markdown",
   "metadata": {},
   "source": [
    "## Data Modeling\n",
    "Describe and justify the process for analyzing or modeling the data.\n",
    "\n",
    "***\n",
    "Questions to consider:\n",
    "* How did you analyze or model the data?\n",
    "* How did you iterate on your initial approach to make it better?\n",
    "* Why are these choices appropriate given the data and the business problem?\n",
    "***"
   ]
  },
  {
   "cell_type": "markdown",
   "metadata": {},
   "source": [
    "**NOW I WANT TO START PLAYING WITH THE MOB DATABASE**"
   ]
  },
  {
   "cell_type": "code",
   "execution_count": 68,
   "metadata": {},
   "outputs": [
    {
     "data": {
      "text/html": [
       "<div>\n",
       "<style scoped>\n",
       "    .dataframe tbody tr th:only-of-type {\n",
       "        vertical-align: middle;\n",
       "    }\n",
       "\n",
       "    .dataframe tbody tr th {\n",
       "        vertical-align: top;\n",
       "    }\n",
       "\n",
       "    .dataframe thead th {\n",
       "        text-align: right;\n",
       "    }\n",
       "</style>\n",
       "<table border=\"1\" class=\"dataframe\">\n",
       "  <thead>\n",
       "    <tr style=\"text-align: right;\">\n",
       "      <th></th>\n",
       "      <th>title</th>\n",
       "      <th>studio</th>\n",
       "      <th>domestic_gross</th>\n",
       "      <th>foreign_gross</th>\n",
       "      <th>year</th>\n",
       "    </tr>\n",
       "  </thead>\n",
       "  <tbody>\n",
       "    <tr>\n",
       "      <th>0</th>\n",
       "      <td>Toy Story 3</td>\n",
       "      <td>BV</td>\n",
       "      <td>415000000.0</td>\n",
       "      <td>652000000</td>\n",
       "      <td>2010</td>\n",
       "    </tr>\n",
       "    <tr>\n",
       "      <th>1</th>\n",
       "      <td>Alice in Wonderland (2010)</td>\n",
       "      <td>BV</td>\n",
       "      <td>334200000.0</td>\n",
       "      <td>691300000</td>\n",
       "      <td>2010</td>\n",
       "    </tr>\n",
       "    <tr>\n",
       "      <th>2</th>\n",
       "      <td>Harry Potter and the Deathly Hallows Part 1</td>\n",
       "      <td>WB</td>\n",
       "      <td>296000000.0</td>\n",
       "      <td>664300000</td>\n",
       "      <td>2010</td>\n",
       "    </tr>\n",
       "    <tr>\n",
       "      <th>3</th>\n",
       "      <td>Inception</td>\n",
       "      <td>WB</td>\n",
       "      <td>292600000.0</td>\n",
       "      <td>535700000</td>\n",
       "      <td>2010</td>\n",
       "    </tr>\n",
       "    <tr>\n",
       "      <th>4</th>\n",
       "      <td>Shrek Forever After</td>\n",
       "      <td>P/DW</td>\n",
       "      <td>238700000.0</td>\n",
       "      <td>513900000</td>\n",
       "      <td>2010</td>\n",
       "    </tr>\n",
       "  </tbody>\n",
       "</table>\n",
       "</div>"
      ],
      "text/plain": [
       "                                         title studio  domestic_gross  \\\n",
       "0                                  Toy Story 3     BV     415000000.0   \n",
       "1                   Alice in Wonderland (2010)     BV     334200000.0   \n",
       "2  Harry Potter and the Deathly Hallows Part 1     WB     296000000.0   \n",
       "3                                    Inception     WB     292600000.0   \n",
       "4                          Shrek Forever After   P/DW     238700000.0   \n",
       "\n",
       "  foreign_gross  year  \n",
       "0     652000000  2010  \n",
       "1     691300000  2010  \n",
       "2     664300000  2010  \n",
       "3     535700000  2010  \n",
       "4     513900000  2010  "
      ]
     },
     "execution_count": 68,
     "metadata": {},
     "output_type": "execute_result"
    }
   ],
   "source": [
    "bom_gross.head()"
   ]
  },
  {
   "cell_type": "code",
   "execution_count": 69,
   "metadata": {},
   "outputs": [
    {
     "name": "stdout",
     "output_type": "stream",
     "text": [
      "<class 'pandas.core.frame.DataFrame'>\n",
      "RangeIndex: 3387 entries, 0 to 3386\n",
      "Data columns (total 5 columns):\n",
      " #   Column          Non-Null Count  Dtype  \n",
      "---  ------          --------------  -----  \n",
      " 0   title           3387 non-null   object \n",
      " 1   studio          3382 non-null   object \n",
      " 2   domestic_gross  3359 non-null   float64\n",
      " 3   foreign_gross   2037 non-null   object \n",
      " 4   year            3387 non-null   int64  \n",
      "dtypes: float64(1), int64(1), object(3)\n",
      "memory usage: 132.4+ KB\n"
     ]
    }
   ],
   "source": [
    "bom_gross.info()"
   ]
  },
  {
   "cell_type": "markdown",
   "metadata": {},
   "source": [
    "from here we can see that foreign_gross is an obj, not an int. To change the type to int, first we have to delete the NaN values from that columns."
   ]
  },
  {
   "cell_type": "code",
   "execution_count": 70,
   "metadata": {},
   "outputs": [],
   "source": [
    "bom_gross.dropna(subset = ['foreign_gross'], inplace=True)"
   ]
  },
  {
   "cell_type": "code",
   "execution_count": 71,
   "metadata": {},
   "outputs": [],
   "source": [
    "\n",
    "# I am doing this step because i was having errors of not being able to convert into float \n",
    "bom_gross[\"foreign_gross\"] = [float(str(i).replace(\",\", \"\")) for i in bom_gross[\"foreign_gross\"]]\n"
   ]
  },
  {
   "cell_type": "code",
   "execution_count": 72,
   "metadata": {},
   "outputs": [],
   "source": [
    "bom_gross['foreign_gross'] = bom_gross['foreign_gross'].astype(float)"
   ]
  },
  {
   "cell_type": "code",
   "execution_count": 73,
   "metadata": {},
   "outputs": [],
   "source": [
    "#so far I don't want to delete columns, because maybe they have domestic gross but not foreign. So better to remove the column that total is n/v"
   ]
  },
  {
   "cell_type": "code",
   "execution_count": 74,
   "metadata": {},
   "outputs": [
    {
     "name": "stdout",
     "output_type": "stream",
     "text": [
      "<class 'pandas.core.frame.DataFrame'>\n",
      "Int64Index: 2037 entries, 0 to 3353\n",
      "Data columns (total 5 columns):\n",
      " #   Column          Non-Null Count  Dtype  \n",
      "---  ------          --------------  -----  \n",
      " 0   title           2037 non-null   object \n",
      " 1   studio          2033 non-null   object \n",
      " 2   domestic_gross  2009 non-null   float64\n",
      " 3   foreign_gross   2037 non-null   float64\n",
      " 4   year            2037 non-null   int64  \n",
      "dtypes: float64(2), int64(1), object(2)\n",
      "memory usage: 95.5+ KB\n"
     ]
    }
   ],
   "source": [
    "bom_gross.info()"
   ]
  },
  {
   "cell_type": "code",
   "execution_count": 75,
   "metadata": {},
   "outputs": [],
   "source": [
    "bom_gross['total_gross'] = bom_gross['foreign_gross'] + bom_gross['domestic_gross']"
   ]
  },
  {
   "cell_type": "code",
   "execution_count": 76,
   "metadata": {},
   "outputs": [
    {
     "data": {
      "text/html": [
       "<div>\n",
       "<style scoped>\n",
       "    .dataframe tbody tr th:only-of-type {\n",
       "        vertical-align: middle;\n",
       "    }\n",
       "\n",
       "    .dataframe tbody tr th {\n",
       "        vertical-align: top;\n",
       "    }\n",
       "\n",
       "    .dataframe thead th {\n",
       "        text-align: right;\n",
       "    }\n",
       "</style>\n",
       "<table border=\"1\" class=\"dataframe\">\n",
       "  <thead>\n",
       "    <tr style=\"text-align: right;\">\n",
       "      <th></th>\n",
       "      <th>title</th>\n",
       "      <th>studio</th>\n",
       "      <th>domestic_gross</th>\n",
       "      <th>foreign_gross</th>\n",
       "      <th>year</th>\n",
       "      <th>total_gross</th>\n",
       "    </tr>\n",
       "  </thead>\n",
       "  <tbody>\n",
       "    <tr>\n",
       "      <th>0</th>\n",
       "      <td>Toy Story 3</td>\n",
       "      <td>BV</td>\n",
       "      <td>415000000.0</td>\n",
       "      <td>652000000.0</td>\n",
       "      <td>2010</td>\n",
       "      <td>1.067000e+09</td>\n",
       "    </tr>\n",
       "    <tr>\n",
       "      <th>1</th>\n",
       "      <td>Alice in Wonderland (2010)</td>\n",
       "      <td>BV</td>\n",
       "      <td>334200000.0</td>\n",
       "      <td>691300000.0</td>\n",
       "      <td>2010</td>\n",
       "      <td>1.025500e+09</td>\n",
       "    </tr>\n",
       "    <tr>\n",
       "      <th>2</th>\n",
       "      <td>Harry Potter and the Deathly Hallows Part 1</td>\n",
       "      <td>WB</td>\n",
       "      <td>296000000.0</td>\n",
       "      <td>664300000.0</td>\n",
       "      <td>2010</td>\n",
       "      <td>9.603000e+08</td>\n",
       "    </tr>\n",
       "    <tr>\n",
       "      <th>3</th>\n",
       "      <td>Inception</td>\n",
       "      <td>WB</td>\n",
       "      <td>292600000.0</td>\n",
       "      <td>535700000.0</td>\n",
       "      <td>2010</td>\n",
       "      <td>8.283000e+08</td>\n",
       "    </tr>\n",
       "    <tr>\n",
       "      <th>4</th>\n",
       "      <td>Shrek Forever After</td>\n",
       "      <td>P/DW</td>\n",
       "      <td>238700000.0</td>\n",
       "      <td>513900000.0</td>\n",
       "      <td>2010</td>\n",
       "      <td>7.526000e+08</td>\n",
       "    </tr>\n",
       "  </tbody>\n",
       "</table>\n",
       "</div>"
      ],
      "text/plain": [
       "                                         title studio  domestic_gross  \\\n",
       "0                                  Toy Story 3     BV     415000000.0   \n",
       "1                   Alice in Wonderland (2010)     BV     334200000.0   \n",
       "2  Harry Potter and the Deathly Hallows Part 1     WB     296000000.0   \n",
       "3                                    Inception     WB     292600000.0   \n",
       "4                          Shrek Forever After   P/DW     238700000.0   \n",
       "\n",
       "   foreign_gross  year   total_gross  \n",
       "0    652000000.0  2010  1.067000e+09  \n",
       "1    691300000.0  2010  1.025500e+09  \n",
       "2    664300000.0  2010  9.603000e+08  \n",
       "3    535700000.0  2010  8.283000e+08  \n",
       "4    513900000.0  2010  7.526000e+08  "
      ]
     },
     "execution_count": 76,
     "metadata": {},
     "output_type": "execute_result"
    }
   ],
   "source": [
    "bom_gross.head()"
   ]
  },
  {
   "cell_type": "markdown",
   "metadata": {},
   "source": [
    "nicer to read"
   ]
  },
  {
   "cell_type": "code",
   "execution_count": 77,
   "metadata": {},
   "outputs": [],
   "source": [
    "bom_gross['nicer_gross'] = f\"{bom_gross['foreign_gross']}\"\n"
   ]
  },
  {
   "cell_type": "code",
   "execution_count": 78,
   "metadata": {},
   "outputs": [],
   "source": [
    "bom_gross.drop(['nicer_gross'], axis = 1, inplace=True)\n"
   ]
  },
  {
   "cell_type": "code",
   "execution_count": 79,
   "metadata": {},
   "outputs": [
    {
     "data": {
      "text/html": [
       "<div>\n",
       "<style scoped>\n",
       "    .dataframe tbody tr th:only-of-type {\n",
       "        vertical-align: middle;\n",
       "    }\n",
       "\n",
       "    .dataframe tbody tr th {\n",
       "        vertical-align: top;\n",
       "    }\n",
       "\n",
       "    .dataframe thead th {\n",
       "        text-align: right;\n",
       "    }\n",
       "</style>\n",
       "<table border=\"1\" class=\"dataframe\">\n",
       "  <thead>\n",
       "    <tr style=\"text-align: right;\">\n",
       "      <th></th>\n",
       "      <th>title</th>\n",
       "      <th>studio</th>\n",
       "      <th>domestic_gross</th>\n",
       "      <th>foreign_gross</th>\n",
       "      <th>year</th>\n",
       "      <th>total_gross</th>\n",
       "    </tr>\n",
       "  </thead>\n",
       "  <tbody>\n",
       "    <tr>\n",
       "      <th>0</th>\n",
       "      <td>Toy Story 3</td>\n",
       "      <td>BV</td>\n",
       "      <td>415000000.0</td>\n",
       "      <td>652000000.0</td>\n",
       "      <td>2010</td>\n",
       "      <td>1.067000e+09</td>\n",
       "    </tr>\n",
       "    <tr>\n",
       "      <th>1</th>\n",
       "      <td>Alice in Wonderland (2010)</td>\n",
       "      <td>BV</td>\n",
       "      <td>334200000.0</td>\n",
       "      <td>691300000.0</td>\n",
       "      <td>2010</td>\n",
       "      <td>1.025500e+09</td>\n",
       "    </tr>\n",
       "    <tr>\n",
       "      <th>2</th>\n",
       "      <td>Harry Potter and the Deathly Hallows Part 1</td>\n",
       "      <td>WB</td>\n",
       "      <td>296000000.0</td>\n",
       "      <td>664300000.0</td>\n",
       "      <td>2010</td>\n",
       "      <td>9.603000e+08</td>\n",
       "    </tr>\n",
       "    <tr>\n",
       "      <th>3</th>\n",
       "      <td>Inception</td>\n",
       "      <td>WB</td>\n",
       "      <td>292600000.0</td>\n",
       "      <td>535700000.0</td>\n",
       "      <td>2010</td>\n",
       "      <td>8.283000e+08</td>\n",
       "    </tr>\n",
       "    <tr>\n",
       "      <th>4</th>\n",
       "      <td>Shrek Forever After</td>\n",
       "      <td>P/DW</td>\n",
       "      <td>238700000.0</td>\n",
       "      <td>513900000.0</td>\n",
       "      <td>2010</td>\n",
       "      <td>7.526000e+08</td>\n",
       "    </tr>\n",
       "  </tbody>\n",
       "</table>\n",
       "</div>"
      ],
      "text/plain": [
       "                                         title studio  domestic_gross  \\\n",
       "0                                  Toy Story 3     BV     415000000.0   \n",
       "1                   Alice in Wonderland (2010)     BV     334200000.0   \n",
       "2  Harry Potter and the Deathly Hallows Part 1     WB     296000000.0   \n",
       "3                                    Inception     WB     292600000.0   \n",
       "4                          Shrek Forever After   P/DW     238700000.0   \n",
       "\n",
       "   foreign_gross  year   total_gross  \n",
       "0    652000000.0  2010  1.067000e+09  \n",
       "1    691300000.0  2010  1.025500e+09  \n",
       "2    664300000.0  2010  9.603000e+08  \n",
       "3    535700000.0  2010  8.283000e+08  \n",
       "4    513900000.0  2010  7.526000e+08  "
      ]
     },
     "execution_count": 79,
     "metadata": {},
     "output_type": "execute_result"
    }
   ],
   "source": [
    "bom_gross.head()"
   ]
  },
  {
   "cell_type": "code",
   "execution_count": 80,
   "metadata": {},
   "outputs": [
    {
     "data": {
      "text/html": [
       "<div>\n",
       "<style scoped>\n",
       "    .dataframe tbody tr th:only-of-type {\n",
       "        vertical-align: middle;\n",
       "    }\n",
       "\n",
       "    .dataframe tbody tr th {\n",
       "        vertical-align: top;\n",
       "    }\n",
       "\n",
       "    .dataframe thead th {\n",
       "        text-align: right;\n",
       "    }\n",
       "</style>\n",
       "<table border=\"1\" class=\"dataframe\">\n",
       "  <thead>\n",
       "    <tr style=\"text-align: right;\">\n",
       "      <th></th>\n",
       "      <th>title</th>\n",
       "      <th>studio</th>\n",
       "      <th>domestic_gross</th>\n",
       "      <th>foreign_gross</th>\n",
       "      <th>year</th>\n",
       "      <th>total_gross</th>\n",
       "    </tr>\n",
       "  </thead>\n",
       "  <tbody>\n",
       "    <tr>\n",
       "      <th>2322</th>\n",
       "      <td>Captain America: Civil War</td>\n",
       "      <td>BV</td>\n",
       "      <td>408100000.0</td>\n",
       "      <td>745200000.0</td>\n",
       "      <td>2016</td>\n",
       "      <td>1.153300e+09</td>\n",
       "    </tr>\n",
       "    <tr>\n",
       "      <th>3082</th>\n",
       "      <td>Incredibles 2</td>\n",
       "      <td>BV</td>\n",
       "      <td>608600000.0</td>\n",
       "      <td>634200000.0</td>\n",
       "      <td>2018</td>\n",
       "      <td>1.242800e+09</td>\n",
       "    </tr>\n",
       "    <tr>\n",
       "      <th>2759</th>\n",
       "      <td>Beauty and the Beast (2017)</td>\n",
       "      <td>BV</td>\n",
       "      <td>504000000.0</td>\n",
       "      <td>759500000.0</td>\n",
       "      <td>2017</td>\n",
       "      <td>1.263500e+09</td>\n",
       "    </tr>\n",
       "    <tr>\n",
       "      <th>3081</th>\n",
       "      <td>Jurassic World: Fallen Kingdom</td>\n",
       "      <td>Uni.</td>\n",
       "      <td>417700000.0</td>\n",
       "      <td>891800000.0</td>\n",
       "      <td>2018</td>\n",
       "      <td>1.309500e+09</td>\n",
       "    </tr>\n",
       "    <tr>\n",
       "      <th>2758</th>\n",
       "      <td>Star Wars: The Last Jedi</td>\n",
       "      <td>BV</td>\n",
       "      <td>620200000.0</td>\n",
       "      <td>712400000.0</td>\n",
       "      <td>2017</td>\n",
       "      <td>1.332600e+09</td>\n",
       "    </tr>\n",
       "    <tr>\n",
       "      <th>3080</th>\n",
       "      <td>Black Panther</td>\n",
       "      <td>BV</td>\n",
       "      <td>700100000.0</td>\n",
       "      <td>646900000.0</td>\n",
       "      <td>2018</td>\n",
       "      <td>1.347000e+09</td>\n",
       "    </tr>\n",
       "    <tr>\n",
       "      <th>2392</th>\n",
       "      <td>Finding Mr. Right 2</td>\n",
       "      <td>CL</td>\n",
       "      <td>NaN</td>\n",
       "      <td>114700000.0</td>\n",
       "      <td>2016</td>\n",
       "      <td>NaN</td>\n",
       "    </tr>\n",
       "    <tr>\n",
       "      <th>2468</th>\n",
       "      <td>Solace</td>\n",
       "      <td>LGP</td>\n",
       "      <td>NaN</td>\n",
       "      <td>22400000.0</td>\n",
       "      <td>2016</td>\n",
       "      <td>NaN</td>\n",
       "    </tr>\n",
       "    <tr>\n",
       "      <th>2595</th>\n",
       "      <td>Viral</td>\n",
       "      <td>W/Dim.</td>\n",
       "      <td>NaN</td>\n",
       "      <td>552000.0</td>\n",
       "      <td>2016</td>\n",
       "      <td>NaN</td>\n",
       "    </tr>\n",
       "    <tr>\n",
       "      <th>2825</th>\n",
       "      <td>Secret Superstar</td>\n",
       "      <td>NaN</td>\n",
       "      <td>NaN</td>\n",
       "      <td>122000000.0</td>\n",
       "      <td>2017</td>\n",
       "      <td>NaN</td>\n",
       "    </tr>\n",
       "  </tbody>\n",
       "</table>\n",
       "</div>"
      ],
      "text/plain": [
       "                               title  studio  domestic_gross  foreign_gross  \\\n",
       "2322      Captain America: Civil War      BV     408100000.0    745200000.0   \n",
       "3082                   Incredibles 2      BV     608600000.0    634200000.0   \n",
       "2759     Beauty and the Beast (2017)      BV     504000000.0    759500000.0   \n",
       "3081  Jurassic World: Fallen Kingdom    Uni.     417700000.0    891800000.0   \n",
       "2758        Star Wars: The Last Jedi      BV     620200000.0    712400000.0   \n",
       "3080                   Black Panther      BV     700100000.0    646900000.0   \n",
       "2392             Finding Mr. Right 2      CL             NaN    114700000.0   \n",
       "2468                          Solace     LGP             NaN     22400000.0   \n",
       "2595                           Viral  W/Dim.             NaN       552000.0   \n",
       "2825                Secret Superstar     NaN             NaN    122000000.0   \n",
       "\n",
       "      year   total_gross  \n",
       "2322  2016  1.153300e+09  \n",
       "3082  2018  1.242800e+09  \n",
       "2759  2017  1.263500e+09  \n",
       "3081  2018  1.309500e+09  \n",
       "2758  2017  1.332600e+09  \n",
       "3080  2018  1.347000e+09  \n",
       "2392  2016           NaN  \n",
       "2468  2016           NaN  \n",
       "2595  2016           NaN  \n",
       "2825  2017           NaN  "
      ]
     },
     "execution_count": 80,
     "metadata": {},
     "output_type": "execute_result"
    }
   ],
   "source": [
    "gross_top10 = bom_gross[bom_gross['year'] > 2015].sort_values('total_gross').tail(10)\n",
    "gross_top10"
   ]
  },
  {
   "cell_type": "code",
   "execution_count": 81,
   "metadata": {},
   "outputs": [
    {
     "data": {
      "image/png": "[encoded data removed]",
      "text/plain": [
       "<Figure size 432x288 with 1 Axes>"
      ]
     },
     "metadata": {
      "needs_background": "light"
     },
     "output_type": "display_data"
    }
   ],
   "source": [
    "\n",
    "x = gross_top10['title']\n",
    "y1 = gross_top10['domestic_gross']\n",
    "y2 = gross_top10['foreign_gross']\n",
    "  \n",
    "# plot bars in stack manner\n",
    "plt.bar(x, y1, color='r')\n",
    "plt.bar(x, y2, bottom=y1, color='b')\n",
    "plt.xticks(rotation=90)\n",
    "plt.show()"
   ]
  },
  {
   "cell_type": "code",
   "execution_count": 82,
   "metadata": {},
   "outputs": [
    {
     "data": {
      "text/html": [
       "<div>\n",
       "<style scoped>\n",
       "    .dataframe tbody tr th:only-of-type {\n",
       "        vertical-align: middle;\n",
       "    }\n",
       "\n",
       "    .dataframe tbody tr th {\n",
       "        vertical-align: top;\n",
       "    }\n",
       "\n",
       "    .dataframe thead th {\n",
       "        text-align: right;\n",
       "    }\n",
       "</style>\n",
       "<table border=\"1\" class=\"dataframe\">\n",
       "  <thead>\n",
       "    <tr style=\"text-align: right;\">\n",
       "      <th></th>\n",
       "      <th>title</th>\n",
       "      <th>studio</th>\n",
       "      <th>domestic_gross</th>\n",
       "      <th>foreign_gross</th>\n",
       "      <th>year</th>\n",
       "      <th>total_gross</th>\n",
       "    </tr>\n",
       "  </thead>\n",
       "  <tbody>\n",
       "    <tr>\n",
       "      <th>2327</th>\n",
       "      <td>The Secret Life of Pets</td>\n",
       "      <td>Uni.</td>\n",
       "      <td>368400000.0</td>\n",
       "      <td>507100000.0</td>\n",
       "      <td>2016</td>\n",
       "      <td>8.755000e+08</td>\n",
       "    </tr>\n",
       "    <tr>\n",
       "      <th>2763</th>\n",
       "      <td>Spider-Man: Homecoming</td>\n",
       "      <td>Sony</td>\n",
       "      <td>334200000.0</td>\n",
       "      <td>546000000.0</td>\n",
       "      <td>2017</td>\n",
       "      <td>8.802000e+08</td>\n",
       "    </tr>\n",
       "    <tr>\n",
       "      <th>1877</th>\n",
       "      <td>Spectre</td>\n",
       "      <td>Sony</td>\n",
       "      <td>200100000.0</td>\n",
       "      <td>680600000.0</td>\n",
       "      <td>2015</td>\n",
       "      <td>8.807000e+08</td>\n",
       "    </tr>\n",
       "    <tr>\n",
       "      <th>3084</th>\n",
       "      <td>Bohemian Rhapsody</td>\n",
       "      <td>Fox</td>\n",
       "      <td>216400000.0</td>\n",
       "      <td>687200000.0</td>\n",
       "      <td>2018</td>\n",
       "      <td>9.036000e+08</td>\n",
       "    </tr>\n",
       "    <tr>\n",
       "      <th>1872</th>\n",
       "      <td>Star Wars: The Force Awakens</td>\n",
       "      <td>BV</td>\n",
       "      <td>936700000.0</td>\n",
       "      <td>1131.6</td>\n",
       "      <td>2015</td>\n",
       "      <td>9.367011e+08</td>\n",
       "    </tr>\n",
       "    <tr>\n",
       "      <th>2762</th>\n",
       "      <td>Jumanji: Welcome to the Jungle</td>\n",
       "      <td>Sony</td>\n",
       "      <td>404500000.0</td>\n",
       "      <td>557600000.0</td>\n",
       "      <td>2017</td>\n",
       "      <td>9.621000e+08</td>\n",
       "    </tr>\n",
       "    <tr>\n",
       "      <th>2326</th>\n",
       "      <td>The Jungle Book (2016)</td>\n",
       "      <td>BV</td>\n",
       "      <td>364000000.0</td>\n",
       "      <td>602500000.0</td>\n",
       "      <td>2016</td>\n",
       "      <td>9.665000e+08</td>\n",
       "    </tr>\n",
       "    <tr>\n",
       "      <th>2325</th>\n",
       "      <td>Zootopia</td>\n",
       "      <td>BV</td>\n",
       "      <td>341300000.0</td>\n",
       "      <td>682500000.0</td>\n",
       "      <td>2016</td>\n",
       "      <td>1.023800e+09</td>\n",
       "    </tr>\n",
       "    <tr>\n",
       "      <th>2324</th>\n",
       "      <td>Finding Dory</td>\n",
       "      <td>BV</td>\n",
       "      <td>486300000.0</td>\n",
       "      <td>542300000.0</td>\n",
       "      <td>2016</td>\n",
       "      <td>1.028600e+09</td>\n",
       "    </tr>\n",
       "    <tr>\n",
       "      <th>2761</th>\n",
       "      <td>Despicable Me 3</td>\n",
       "      <td>Uni.</td>\n",
       "      <td>264600000.0</td>\n",
       "      <td>770200000.0</td>\n",
       "      <td>2017</td>\n",
       "      <td>1.034800e+09</td>\n",
       "    </tr>\n",
       "    <tr>\n",
       "      <th>2323</th>\n",
       "      <td>Rogue One: A Star Wars Story</td>\n",
       "      <td>BV</td>\n",
       "      <td>532200000.0</td>\n",
       "      <td>523900000.0</td>\n",
       "      <td>2016</td>\n",
       "      <td>1.056100e+09</td>\n",
       "    </tr>\n",
       "    <tr>\n",
       "      <th>3083</th>\n",
       "      <td>Aquaman</td>\n",
       "      <td>WB</td>\n",
       "      <td>335100000.0</td>\n",
       "      <td>812700000.0</td>\n",
       "      <td>2018</td>\n",
       "      <td>1.147800e+09</td>\n",
       "    </tr>\n",
       "    <tr>\n",
       "      <th>2322</th>\n",
       "      <td>Captain America: Civil War</td>\n",
       "      <td>BV</td>\n",
       "      <td>408100000.0</td>\n",
       "      <td>745200000.0</td>\n",
       "      <td>2016</td>\n",
       "      <td>1.153300e+09</td>\n",
       "    </tr>\n",
       "    <tr>\n",
       "      <th>1876</th>\n",
       "      <td>Minions</td>\n",
       "      <td>Uni.</td>\n",
       "      <td>336000000.0</td>\n",
       "      <td>823400000.0</td>\n",
       "      <td>2015</td>\n",
       "      <td>1.159400e+09</td>\n",
       "    </tr>\n",
       "    <tr>\n",
       "      <th>3082</th>\n",
       "      <td>Incredibles 2</td>\n",
       "      <td>BV</td>\n",
       "      <td>608600000.0</td>\n",
       "      <td>634200000.0</td>\n",
       "      <td>2018</td>\n",
       "      <td>1.242800e+09</td>\n",
       "    </tr>\n",
       "    <tr>\n",
       "      <th>2759</th>\n",
       "      <td>Beauty and the Beast (2017)</td>\n",
       "      <td>BV</td>\n",
       "      <td>504000000.0</td>\n",
       "      <td>759500000.0</td>\n",
       "      <td>2017</td>\n",
       "      <td>1.263500e+09</td>\n",
       "    </tr>\n",
       "    <tr>\n",
       "      <th>3081</th>\n",
       "      <td>Jurassic World: Fallen Kingdom</td>\n",
       "      <td>Uni.</td>\n",
       "      <td>417700000.0</td>\n",
       "      <td>891800000.0</td>\n",
       "      <td>2018</td>\n",
       "      <td>1.309500e+09</td>\n",
       "    </tr>\n",
       "    <tr>\n",
       "      <th>2758</th>\n",
       "      <td>Star Wars: The Last Jedi</td>\n",
       "      <td>BV</td>\n",
       "      <td>620200000.0</td>\n",
       "      <td>712400000.0</td>\n",
       "      <td>2017</td>\n",
       "      <td>1.332600e+09</td>\n",
       "    </tr>\n",
       "    <tr>\n",
       "      <th>3080</th>\n",
       "      <td>Black Panther</td>\n",
       "      <td>BV</td>\n",
       "      <td>700100000.0</td>\n",
       "      <td>646900000.0</td>\n",
       "      <td>2018</td>\n",
       "      <td>1.347000e+09</td>\n",
       "    </tr>\n",
       "    <tr>\n",
       "      <th>1875</th>\n",
       "      <td>Avengers: Age of Ultron</td>\n",
       "      <td>BV</td>\n",
       "      <td>459000000.0</td>\n",
       "      <td>946400000.0</td>\n",
       "      <td>2015</td>\n",
       "      <td>1.405400e+09</td>\n",
       "    </tr>\n",
       "  </tbody>\n",
       "</table>\n",
       "</div>"
      ],
      "text/plain": [
       "                               title studio  domestic_gross  foreign_gross  \\\n",
       "2327         The Secret Life of Pets   Uni.     368400000.0    507100000.0   \n",
       "2763          Spider-Man: Homecoming   Sony     334200000.0    546000000.0   \n",
       "1877                         Spectre   Sony     200100000.0    680600000.0   \n",
       "3084               Bohemian Rhapsody    Fox     216400000.0    687200000.0   \n",
       "1872    Star Wars: The Force Awakens     BV     936700000.0         1131.6   \n",
       "2762  Jumanji: Welcome to the Jungle   Sony     404500000.0    557600000.0   \n",
       "2326          The Jungle Book (2016)     BV     364000000.0    602500000.0   \n",
       "2325                        Zootopia     BV     341300000.0    682500000.0   \n",
       "2324                    Finding Dory     BV     486300000.0    542300000.0   \n",
       "2761                 Despicable Me 3   Uni.     264600000.0    770200000.0   \n",
       "2323    Rogue One: A Star Wars Story     BV     532200000.0    523900000.0   \n",
       "3083                         Aquaman     WB     335100000.0    812700000.0   \n",
       "2322      Captain America: Civil War     BV     408100000.0    745200000.0   \n",
       "1876                         Minions   Uni.     336000000.0    823400000.0   \n",
       "3082                   Incredibles 2     BV     608600000.0    634200000.0   \n",
       "2759     Beauty and the Beast (2017)     BV     504000000.0    759500000.0   \n",
       "3081  Jurassic World: Fallen Kingdom   Uni.     417700000.0    891800000.0   \n",
       "2758        Star Wars: The Last Jedi     BV     620200000.0    712400000.0   \n",
       "3080                   Black Panther     BV     700100000.0    646900000.0   \n",
       "1875         Avengers: Age of Ultron     BV     459000000.0    946400000.0   \n",
       "\n",
       "      year   total_gross  \n",
       "2327  2016  8.755000e+08  \n",
       "2763  2017  8.802000e+08  \n",
       "1877  2015  8.807000e+08  \n",
       "3084  2018  9.036000e+08  \n",
       "1872  2015  9.367011e+08  \n",
       "2762  2017  9.621000e+08  \n",
       "2326  2016  9.665000e+08  \n",
       "2325  2016  1.023800e+09  \n",
       "2324  2016  1.028600e+09  \n",
       "2761  2017  1.034800e+09  \n",
       "2323  2016  1.056100e+09  \n",
       "3083  2018  1.147800e+09  \n",
       "2322  2016  1.153300e+09  \n",
       "1876  2015  1.159400e+09  \n",
       "3082  2018  1.242800e+09  \n",
       "2759  2017  1.263500e+09  \n",
       "3081  2018  1.309500e+09  \n",
       "2758  2017  1.332600e+09  \n",
       "3080  2018  1.347000e+09  \n",
       "1875  2015  1.405400e+09  "
      ]
     },
     "execution_count": 82,
     "metadata": {},
     "output_type": "execute_result"
    }
   ],
   "source": [
    "gross_top25 = bom_gross[bom_gross['year'] >= 2015].sort_values('total_gross').tail(25)\n",
    "gross_top25.dropna(subset = ['total_gross'], inplace=True)\n",
    "gross_top25\n"
   ]
  },
  {
   "cell_type": "code",
   "execution_count": 83,
   "metadata": {},
   "outputs": [
    {
     "data": {
      "text/plain": [
       "{'BV': 11, 'Uni.': 4, 'Sony': 3, 'Fox': 1, 'WB': 1}"
      ]
     },
     "execution_count": 83,
     "metadata": {},
     "output_type": "execute_result"
    }
   ],
   "source": [
    "studios = dict(gross_top25['studio'].value_counts())\n",
    "studios"
   ]
  },
  {
   "cell_type": "code",
   "execution_count": 84,
   "metadata": {},
   "outputs": [],
   "source": [
    "studios_values = studios.values()"
   ]
  },
  {
   "cell_type": "code",
   "execution_count": 85,
   "metadata": {},
   "outputs": [],
   "source": [
    "studios_keys = studios.keys()"
   ]
  },
  {
   "cell_type": "code",
   "execution_count": 86,
   "metadata": {},
   "outputs": [
    {
     "data": {
      "text/plain": [
       "{'BV': 11, 'Uni.': 4, 'Sony': 3, 'Fox': 1, 'WB': 1}"
      ]
     },
     "execution_count": 86,
     "metadata": {},
     "output_type": "execute_result"
    }
   ],
   "source": [
    "studios"
   ]
  },
  {
   "cell_type": "code",
   "execution_count": null,
   "metadata": {},
   "outputs": [],
   "source": []
  },
  {
   "cell_type": "code",
   "execution_count": 87,
   "metadata": {},
   "outputs": [
    {
     "data": {
      "text/plain": [
       "1095.49505658"
      ]
     },
     "execution_count": 87,
     "metadata": {},
     "output_type": "execute_result"
    }
   ],
   "source": [
    "gross_top25['total_gross'].mean() / 1000000"
   ]
  },
  {
   "cell_type": "code",
   "execution_count": 88,
   "metadata": {},
   "outputs": [],
   "source": [
    "\n",
    "gross_top25_SEM = statistics.stdev(gross_top25['total_gross'])\n",
    "gross_top25_mean = statistics.mean(gross_top25['total_gross'])\n"
   ]
  },
  {
   "cell_type": "code",
   "execution_count": 89,
   "metadata": {},
   "outputs": [
    {
     "data": {
      "text/plain": [
       "173.75255092657858"
      ]
     },
     "execution_count": 89,
     "metadata": {},
     "output_type": "execute_result"
    }
   ],
   "source": [
    "gross_top25_SEM_M=gross_top25_SEM/1000000\n",
    "gross_top25_SEM_M"
   ]
  },
  {
   "cell_type": "code",
   "execution_count": 90,
   "metadata": {},
   "outputs": [
    {
     "data": {
      "text/plain": [
       "1095.49505658"
      ]
     },
     "execution_count": 90,
     "metadata": {},
     "output_type": "execute_result"
    }
   ],
   "source": [
    "gross_top25_mean_M=gross_top25_mean/1000000\n",
    "gross_top25_mean_M"
   ]
  },
  {
   "cell_type": "code",
   "execution_count": 91,
   "metadata": {},
   "outputs": [
    {
     "data": {
      "image/png": "[encoded data removed]",
      "text/plain": [
       "<Figure size 432x288 with 1 Axes>"
      ]
     },
     "metadata": {
      "needs_background": "light"
     },
     "output_type": "display_data"
    }
   ],
   "source": [
    "\n",
    "x = gross_top25['title']\n",
    "y1 = gross_top25['domestic_gross']/1000000\n",
    "y2 = gross_top25['foreign_gross']/1000000\n",
    "  \n",
    "# plot bars in stack manner\n",
    "plt.bar(x, y1, color='r')\n",
    "plt.bar(x, y2, bottom=y1, color='b')\n",
    "plt.xticks(rotation=90)\n",
    "plt.show()"
   ]
  },
  {
   "cell_type": "code",
   "execution_count": 92,
   "metadata": {},
   "outputs": [
    {
     "data": {
      "image/png": "[encoded data removed]",
      "text/plain": [
       "<Figure size 432x288 with 1 Axes>"
      ]
     },
     "metadata": {
      "needs_background": "light"
     },
     "output_type": "display_data"
    }
   ],
   "source": [
    "gross_top25['total_gross_M']=gross_top25['total_gross'] / 1000000\n",
    "gross_top25['total_gross_M'].plot.box();"
   ]
  },
  {
   "cell_type": "code",
   "execution_count": 93,
   "metadata": {},
   "outputs": [
    {
     "data": {
      "image/png": "[encoded data removed]",
      "text/plain": [
       "<Figure size 432x288 with 1 Axes>"
      ]
     },
     "metadata": {
      "needs_background": "light"
     },
     "output_type": "display_data"
    }
   ],
   "source": [
    "fig, ax = plt.subplots()\n",
    "plt.bar(studios_keys, studios_values,)\n",
    "ax.set_ylabel('Number of movies for each genre')\n",
    "ax.set_title('Most common genres in the TOP25 movies between 2015-2019')\n",
    "plt.show()"
   ]
  },
  {
   "cell_type": "markdown",
   "metadata": {},
   "source": [
    "that's a bit of a weird value...."
   ]
  },
  {
   "cell_type": "code",
   "execution_count": null,
   "metadata": {},
   "outputs": [],
   "source": []
  },
  {
   "cell_type": "code",
   "execution_count": null,
   "metadata": {},
   "outputs": [],
   "source": []
  },
  {
   "cell_type": "code",
   "execution_count": null,
   "metadata": {},
   "outputs": [],
   "source": []
  },
  {
   "cell_type": "code",
   "execution_count": null,
   "metadata": {},
   "outputs": [],
   "source": []
  },
  {
   "cell_type": "code",
   "execution_count": null,
   "metadata": {},
   "outputs": [],
   "source": []
  },
  {
   "cell_type": "markdown",
   "metadata": {},
   "source": [
    "**EXPLORING OTHER DATABASES**"
   ]
  },
  {
   "cell_type": "code",
   "execution_count": 94,
   "metadata": {},
   "outputs": [],
   "source": [
    "rt_reviews = pd.read_csv('./data/zippedData/rt.reviews.tsv.gz', sep='\\t', encoding=\"latin-1\")\n",
    "rt_movies = pd.read_csv('./data/zippedData/rt.movie_info.tsv.gz', sep='\\t', encoding=\"latin-1\")\n"
   ]
  },
  {
   "cell_type": "raw",
   "metadata": {},
   "source": []
  },
  {
   "cell_type": "code",
   "execution_count": 95,
   "metadata": {},
   "outputs": [],
   "source": [
    "rt_movies = pd.read_csv('./data/zippedData/rt.csv')\n",
    "\n"
   ]
  },
  {
   "cell_type": "markdown",
   "metadata": {},
   "source": [
    "I was having problems reading this file, I tried latin-1, UT8-8, unviersal... phyton engine.... erros false and i READ SOMEONE THAt said open the file and save it as csv WITH utf-8"
   ]
  },
  {
   "cell_type": "code",
   "execution_count": 96,
   "metadata": {},
   "outputs": [
    {
     "name": "stdout",
     "output_type": "stream",
     "text": [
      "<class 'pandas.core.frame.DataFrame'>\n",
      "RangeIndex: 1560 entries, 0 to 1559\n",
      "Data columns (total 12 columns):\n",
      " #   Column        Non-Null Count  Dtype \n",
      "---  ------        --------------  ----- \n",
      " 0   id            1560 non-null   int64 \n",
      " 1   synopsis      1498 non-null   object\n",
      " 2   rating        1557 non-null   object\n",
      " 3   genre         1552 non-null   object\n",
      " 4   director      1361 non-null   object\n",
      " 5   writer        1111 non-null   object\n",
      " 6   theater_date  1201 non-null   object\n",
      " 7   dvd_date      1201 non-null   object\n",
      " 8   currency      340 non-null    object\n",
      " 9   box_office    340 non-null    object\n",
      " 10  runtime       1530 non-null   object\n",
      " 11  studio        494 non-null    object\n",
      "dtypes: int64(1), object(11)\n",
      "memory usage: 146.4+ KB\n"
     ]
    }
   ],
   "source": [
    "rt_movies.info()"
   ]
  },
  {
   "cell_type": "code",
   "execution_count": 97,
   "metadata": {},
   "outputs": [
    {
     "data": {
      "text/html": [
       "<div>\n",
       "<style scoped>\n",
       "    .dataframe tbody tr th:only-of-type {\n",
       "        vertical-align: middle;\n",
       "    }\n",
       "\n",
       "    .dataframe tbody tr th {\n",
       "        vertical-align: top;\n",
       "    }\n",
       "\n",
       "    .dataframe thead th {\n",
       "        text-align: right;\n",
       "    }\n",
       "</style>\n",
       "<table border=\"1\" class=\"dataframe\">\n",
       "  <thead>\n",
       "    <tr style=\"text-align: right;\">\n",
       "      <th></th>\n",
       "      <th>id</th>\n",
       "      <th>synopsis</th>\n",
       "      <th>rating</th>\n",
       "      <th>genre</th>\n",
       "      <th>director</th>\n",
       "      <th>writer</th>\n",
       "      <th>theater_date</th>\n",
       "      <th>dvd_date</th>\n",
       "      <th>currency</th>\n",
       "      <th>box_office</th>\n",
       "      <th>runtime</th>\n",
       "      <th>studio</th>\n",
       "    </tr>\n",
       "  </thead>\n",
       "  <tbody>\n",
       "    <tr>\n",
       "      <th>0</th>\n",
       "      <td>1</td>\n",
       "      <td>This gritty, fast-paced, and innovative police...</td>\n",
       "      <td>R</td>\n",
       "      <td>Action and Adventure|Classics|Drama</td>\n",
       "      <td>William Friedkin</td>\n",
       "      <td>Ernest Tidyman</td>\n",
       "      <td>Oct 9, 1971</td>\n",
       "      <td>Sep 25, 2001</td>\n",
       "      <td>NaN</td>\n",
       "      <td>NaN</td>\n",
       "      <td>104 minutes</td>\n",
       "      <td>NaN</td>\n",
       "    </tr>\n",
       "    <tr>\n",
       "      <th>1</th>\n",
       "      <td>3</td>\n",
       "      <td>New York City, not-too-distant-future: Eric Pa...</td>\n",
       "      <td>R</td>\n",
       "      <td>Drama|Science Fiction and Fantasy</td>\n",
       "      <td>David Cronenberg</td>\n",
       "      <td>David Cronenberg|Don DeLillo</td>\n",
       "      <td>Aug 17, 2012</td>\n",
       "      <td>Jan 1, 2013</td>\n",
       "      <td>$</td>\n",
       "      <td>600,000</td>\n",
       "      <td>108 minutes</td>\n",
       "      <td>Entertainment One</td>\n",
       "    </tr>\n",
       "    <tr>\n",
       "      <th>2</th>\n",
       "      <td>5</td>\n",
       "      <td>Illeana Douglas delivers a superb performance ...</td>\n",
       "      <td>R</td>\n",
       "      <td>Drama|Musical and Performing Arts</td>\n",
       "      <td>Allison Anders</td>\n",
       "      <td>Allison Anders</td>\n",
       "      <td>Sep 13, 1996</td>\n",
       "      <td>Apr 18, 2000</td>\n",
       "      <td>NaN</td>\n",
       "      <td>NaN</td>\n",
       "      <td>116 minutes</td>\n",
       "      <td>NaN</td>\n",
       "    </tr>\n",
       "    <tr>\n",
       "      <th>3</th>\n",
       "      <td>6</td>\n",
       "      <td>Michael Douglas runs afoul of a treacherous su...</td>\n",
       "      <td>R</td>\n",
       "      <td>Drama|Mystery and Suspense</td>\n",
       "      <td>Barry Levinson</td>\n",
       "      <td>Paul Attanasio|Michael Crichton</td>\n",
       "      <td>Dec 9, 1994</td>\n",
       "      <td>Aug 27, 1997</td>\n",
       "      <td>NaN</td>\n",
       "      <td>NaN</td>\n",
       "      <td>128 minutes</td>\n",
       "      <td>NaN</td>\n",
       "    </tr>\n",
       "    <tr>\n",
       "      <th>4</th>\n",
       "      <td>7</td>\n",
       "      <td>NaN</td>\n",
       "      <td>NR</td>\n",
       "      <td>Drama|Romance</td>\n",
       "      <td>Rodney Bennett</td>\n",
       "      <td>Giles Cooper</td>\n",
       "      <td>NaN</td>\n",
       "      <td>NaN</td>\n",
       "      <td>NaN</td>\n",
       "      <td>NaN</td>\n",
       "      <td>200 minutes</td>\n",
       "      <td>NaN</td>\n",
       "    </tr>\n",
       "  </tbody>\n",
       "</table>\n",
       "</div>"
      ],
      "text/plain": [
       "   id                                           synopsis rating  \\\n",
       "0   1  This gritty, fast-paced, and innovative police...      R   \n",
       "1   3  New York City, not-too-distant-future: Eric Pa...      R   \n",
       "2   5  Illeana Douglas delivers a superb performance ...      R   \n",
       "3   6  Michael Douglas runs afoul of a treacherous su...      R   \n",
       "4   7                                                NaN     NR   \n",
       "\n",
       "                                 genre          director  \\\n",
       "0  Action and Adventure|Classics|Drama  William Friedkin   \n",
       "1    Drama|Science Fiction and Fantasy  David Cronenberg   \n",
       "2    Drama|Musical and Performing Arts    Allison Anders   \n",
       "3           Drama|Mystery and Suspense    Barry Levinson   \n",
       "4                        Drama|Romance    Rodney Bennett   \n",
       "\n",
       "                            writer  theater_date      dvd_date currency  \\\n",
       "0                   Ernest Tidyman   Oct 9, 1971  Sep 25, 2001      NaN   \n",
       "1     David Cronenberg|Don DeLillo  Aug 17, 2012   Jan 1, 2013        $   \n",
       "2                   Allison Anders  Sep 13, 1996  Apr 18, 2000      NaN   \n",
       "3  Paul Attanasio|Michael Crichton   Dec 9, 1994  Aug 27, 1997      NaN   \n",
       "4                     Giles Cooper           NaN           NaN      NaN   \n",
       "\n",
       "  box_office      runtime             studio  \n",
       "0        NaN  104 minutes                NaN  \n",
       "1    600,000  108 minutes  Entertainment One  \n",
       "2        NaN  116 minutes                NaN  \n",
       "3        NaN  128 minutes                NaN  \n",
       "4        NaN  200 minutes                NaN  "
      ]
     },
     "execution_count": 97,
     "metadata": {},
     "output_type": "execute_result"
    }
   ],
   "source": [
    "rt_movies.head()"
   ]
  },
  {
   "cell_type": "code",
   "execution_count": 98,
   "metadata": {},
   "outputs": [
    {
     "name": "stdout",
     "output_type": "stream",
     "text": [
      "<class 'pandas.core.frame.DataFrame'>\n",
      "RangeIndex: 54432 entries, 0 to 54431\n",
      "Data columns (total 8 columns):\n",
      " #   Column      Non-Null Count  Dtype \n",
      "---  ------      --------------  ----- \n",
      " 0   id          54432 non-null  int64 \n",
      " 1   review      48869 non-null  object\n",
      " 2   rating      40915 non-null  object\n",
      " 3   fresh       54432 non-null  object\n",
      " 4   critic      51710 non-null  object\n",
      " 5   top_critic  54432 non-null  int64 \n",
      " 6   publisher   54123 non-null  object\n",
      " 7   date        54432 non-null  object\n",
      "dtypes: int64(2), object(6)\n",
      "memory usage: 3.3+ MB\n"
     ]
    }
   ],
   "source": [
    "rt_reviews.info()"
   ]
  },
  {
   "cell_type": "code",
   "execution_count": 99,
   "metadata": {},
   "outputs": [
    {
     "data": {
      "text/html": [
       "<div>\n",
       "<style scoped>\n",
       "    .dataframe tbody tr th:only-of-type {\n",
       "        vertical-align: middle;\n",
       "    }\n",
       "\n",
       "    .dataframe tbody tr th {\n",
       "        vertical-align: top;\n",
       "    }\n",
       "\n",
       "    .dataframe thead th {\n",
       "        text-align: right;\n",
       "    }\n",
       "</style>\n",
       "<table border=\"1\" class=\"dataframe\">\n",
       "  <thead>\n",
       "    <tr style=\"text-align: right;\">\n",
       "      <th></th>\n",
       "      <th>id</th>\n",
       "      <th>review</th>\n",
       "      <th>rating</th>\n",
       "      <th>fresh</th>\n",
       "      <th>critic</th>\n",
       "      <th>top_critic</th>\n",
       "      <th>publisher</th>\n",
       "      <th>date</th>\n",
       "    </tr>\n",
       "  </thead>\n",
       "  <tbody>\n",
       "    <tr>\n",
       "      <th>0</th>\n",
       "      <td>3</td>\n",
       "      <td>A distinctly gallows take on contemporary fina...</td>\n",
       "      <td>3/5</td>\n",
       "      <td>fresh</td>\n",
       "      <td>PJ Nabarro</td>\n",
       "      <td>0</td>\n",
       "      <td>Patrick Nabarro</td>\n",
       "      <td>November 10, 2018</td>\n",
       "    </tr>\n",
       "    <tr>\n",
       "      <th>1</th>\n",
       "      <td>3</td>\n",
       "      <td>It's an allegory in search of a meaning that n...</td>\n",
       "      <td>NaN</td>\n",
       "      <td>rotten</td>\n",
       "      <td>Annalee Newitz</td>\n",
       "      <td>0</td>\n",
       "      <td>io9.com</td>\n",
       "      <td>May 23, 2018</td>\n",
       "    </tr>\n",
       "    <tr>\n",
       "      <th>2</th>\n",
       "      <td>3</td>\n",
       "      <td>... life lived in a bubble in financial dealin...</td>\n",
       "      <td>NaN</td>\n",
       "      <td>fresh</td>\n",
       "      <td>Sean Axmaker</td>\n",
       "      <td>0</td>\n",
       "      <td>Stream on Demand</td>\n",
       "      <td>January 4, 2018</td>\n",
       "    </tr>\n",
       "    <tr>\n",
       "      <th>3</th>\n",
       "      <td>3</td>\n",
       "      <td>Continuing along a line introduced in last yea...</td>\n",
       "      <td>NaN</td>\n",
       "      <td>fresh</td>\n",
       "      <td>Daniel Kasman</td>\n",
       "      <td>0</td>\n",
       "      <td>MUBI</td>\n",
       "      <td>November 16, 2017</td>\n",
       "    </tr>\n",
       "    <tr>\n",
       "      <th>4</th>\n",
       "      <td>3</td>\n",
       "      <td>... a perverse twist on neorealism...</td>\n",
       "      <td>NaN</td>\n",
       "      <td>fresh</td>\n",
       "      <td>NaN</td>\n",
       "      <td>0</td>\n",
       "      <td>Cinema Scope</td>\n",
       "      <td>October 12, 2017</td>\n",
       "    </tr>\n",
       "    <tr>\n",
       "      <th>5</th>\n",
       "      <td>3</td>\n",
       "      <td>... Cronenberg's Cosmopolis expresses somethin...</td>\n",
       "      <td>NaN</td>\n",
       "      <td>fresh</td>\n",
       "      <td>Michelle Orange</td>\n",
       "      <td>0</td>\n",
       "      <td>Capital New York</td>\n",
       "      <td>September 11, 2017</td>\n",
       "    </tr>\n",
       "    <tr>\n",
       "      <th>6</th>\n",
       "      <td>3</td>\n",
       "      <td>Quickly grows repetitive and tiresome, meander...</td>\n",
       "      <td>C</td>\n",
       "      <td>rotten</td>\n",
       "      <td>Eric D. Snider</td>\n",
       "      <td>0</td>\n",
       "      <td>EricDSnider.com</td>\n",
       "      <td>July 17, 2013</td>\n",
       "    </tr>\n",
       "    <tr>\n",
       "      <th>7</th>\n",
       "      <td>3</td>\n",
       "      <td>Cronenberg is not a director to be daunted by ...</td>\n",
       "      <td>2/5</td>\n",
       "      <td>rotten</td>\n",
       "      <td>Matt Kelemen</td>\n",
       "      <td>0</td>\n",
       "      <td>Las Vegas CityLife</td>\n",
       "      <td>April 21, 2013</td>\n",
       "    </tr>\n",
       "    <tr>\n",
       "      <th>8</th>\n",
       "      <td>3</td>\n",
       "      <td>Cronenberg's cold, exacting precision and emot...</td>\n",
       "      <td>NaN</td>\n",
       "      <td>fresh</td>\n",
       "      <td>Sean Axmaker</td>\n",
       "      <td>0</td>\n",
       "      <td>Parallax View</td>\n",
       "      <td>March 24, 2013</td>\n",
       "    </tr>\n",
       "    <tr>\n",
       "      <th>9</th>\n",
       "      <td>3</td>\n",
       "      <td>Over and above its topical urgency or the bit ...</td>\n",
       "      <td>NaN</td>\n",
       "      <td>fresh</td>\n",
       "      <td>Kong Rithdee</td>\n",
       "      <td>0</td>\n",
       "      <td>Bangkok Post</td>\n",
       "      <td>March 4, 2013</td>\n",
       "    </tr>\n",
       "    <tr>\n",
       "      <th>10</th>\n",
       "      <td>3</td>\n",
       "      <td>Cosmopolis\" is a hypnotic examination of our m...</td>\n",
       "      <td>NaN</td>\n",
       "      <td>fresh</td>\n",
       "      <td>Tim Grierson</td>\n",
       "      <td>0</td>\n",
       "      <td>Deadspin</td>\n",
       "      <td>February 12, 2013</td>\n",
       "    </tr>\n",
       "    <tr>\n",
       "      <th>11</th>\n",
       "      <td>3</td>\n",
       "      <td>While not one of Cronenberg's stronger films, ...</td>\n",
       "      <td>B-</td>\n",
       "      <td>fresh</td>\n",
       "      <td>Emanuel Levy</td>\n",
       "      <td>0</td>\n",
       "      <td>EmanuelLevy.Com</td>\n",
       "      <td>February 3, 2013</td>\n",
       "    </tr>\n",
       "    <tr>\n",
       "      <th>12</th>\n",
       "      <td>3</td>\n",
       "      <td>Robert Pattinson works mighty hard to make Cos...</td>\n",
       "      <td>2/4</td>\n",
       "      <td>rotten</td>\n",
       "      <td>Christian Toto</td>\n",
       "      <td>0</td>\n",
       "      <td>Big Hollywood</td>\n",
       "      <td>January 15, 2013</td>\n",
       "    </tr>\n",
       "    <tr>\n",
       "      <th>13</th>\n",
       "      <td>3</td>\n",
       "      <td>The anger over the injustice of the financial ...</td>\n",
       "      <td>B</td>\n",
       "      <td>fresh</td>\n",
       "      <td>Robert Roten</td>\n",
       "      <td>0</td>\n",
       "      <td>Laramie Movie Scope</td>\n",
       "      <td>January 7, 2013</td>\n",
       "    </tr>\n",
       "    <tr>\n",
       "      <th>14</th>\n",
       "      <td>3</td>\n",
       "      <td>For those who like their Cronenberg thick and ...</td>\n",
       "      <td>3/4</td>\n",
       "      <td>fresh</td>\n",
       "      <td>Marty Mapes</td>\n",
       "      <td>0</td>\n",
       "      <td>Movie Habit</td>\n",
       "      <td>October 20, 2012</td>\n",
       "    </tr>\n",
       "  </tbody>\n",
       "</table>\n",
       "</div>"
      ],
      "text/plain": [
       "    id                                             review rating   fresh  \\\n",
       "0    3  A distinctly gallows take on contemporary fina...    3/5   fresh   \n",
       "1    3  It's an allegory in search of a meaning that n...    NaN  rotten   \n",
       "2    3  ... life lived in a bubble in financial dealin...    NaN   fresh   \n",
       "3    3  Continuing along a line introduced in last yea...    NaN   fresh   \n",
       "4    3             ... a perverse twist on neorealism...     NaN   fresh   \n",
       "5    3  ... Cronenberg's Cosmopolis expresses somethin...    NaN   fresh   \n",
       "6    3  Quickly grows repetitive and tiresome, meander...      C  rotten   \n",
       "7    3  Cronenberg is not a director to be daunted by ...    2/5  rotten   \n",
       "8    3  Cronenberg's cold, exacting precision and emot...    NaN   fresh   \n",
       "9    3  Over and above its topical urgency or the bit ...    NaN   fresh   \n",
       "10   3  Cosmopolis\" is a hypnotic examination of our m...    NaN   fresh   \n",
       "11   3  While not one of Cronenberg's stronger films, ...     B-   fresh   \n",
       "12   3  Robert Pattinson works mighty hard to make Cos...    2/4  rotten   \n",
       "13   3  The anger over the injustice of the financial ...      B   fresh   \n",
       "14   3  For those who like their Cronenberg thick and ...    3/4   fresh   \n",
       "\n",
       "             critic  top_critic            publisher                date  \n",
       "0        PJ Nabarro           0      Patrick Nabarro   November 10, 2018  \n",
       "1    Annalee Newitz           0              io9.com        May 23, 2018  \n",
       "2      Sean Axmaker           0     Stream on Demand     January 4, 2018  \n",
       "3     Daniel Kasman           0                 MUBI   November 16, 2017  \n",
       "4               NaN           0         Cinema Scope    October 12, 2017  \n",
       "5   Michelle Orange           0     Capital New York  September 11, 2017  \n",
       "6    Eric D. Snider           0      EricDSnider.com       July 17, 2013  \n",
       "7      Matt Kelemen           0   Las Vegas CityLife      April 21, 2013  \n",
       "8      Sean Axmaker           0        Parallax View      March 24, 2013  \n",
       "9      Kong Rithdee           0         Bangkok Post       March 4, 2013  \n",
       "10     Tim Grierson           0             Deadspin   February 12, 2013  \n",
       "11     Emanuel Levy           0      EmanuelLevy.Com    February 3, 2013  \n",
       "12   Christian Toto           0        Big Hollywood    January 15, 2013  \n",
       "13     Robert Roten           0  Laramie Movie Scope     January 7, 2013  \n",
       "14      Marty Mapes           0          Movie Habit    October 20, 2012  "
      ]
     },
     "execution_count": 99,
     "metadata": {},
     "output_type": "execute_result"
    }
   ],
   "source": [
    "rt_reviews.head(15)"
   ]
  },
  {
   "cell_type": "code",
   "execution_count": null,
   "metadata": {},
   "outputs": [],
   "source": []
  },
  {
   "cell_type": "code",
   "execution_count": null,
   "metadata": {},
   "outputs": [],
   "source": []
  },
  {
   "cell_type": "code",
   "execution_count": null,
   "metadata": {},
   "outputs": [],
   "source": []
  },
  {
   "cell_type": "code",
   "execution_count": null,
   "metadata": {},
   "outputs": [],
   "source": []
  },
  {
   "cell_type": "code",
   "execution_count": 100,
   "metadata": {},
   "outputs": [],
   "source": [
    "tmdb = pd.read_csv('./data/zippedData/tmdb.movies.csv.gz')\n"
   ]
  },
  {
   "cell_type": "code",
   "execution_count": 101,
   "metadata": {},
   "outputs": [
    {
     "name": "stdout",
     "output_type": "stream",
     "text": [
      "<class 'pandas.core.frame.DataFrame'>\n",
      "RangeIndex: 26517 entries, 0 to 26516\n",
      "Data columns (total 10 columns):\n",
      " #   Column             Non-Null Count  Dtype  \n",
      "---  ------             --------------  -----  \n",
      " 0   Unnamed: 0         26517 non-null  int64  \n",
      " 1   genre_ids          26517 non-null  object \n",
      " 2   id                 26517 non-null  int64  \n",
      " 3   original_language  26517 non-null  object \n",
      " 4   original_title     26517 non-null  object \n",
      " 5   popularity         26517 non-null  float64\n",
      " 6   release_date       26517 non-null  object \n",
      " 7   title              26517 non-null  object \n",
      " 8   vote_average       26517 non-null  float64\n",
      " 9   vote_count         26517 non-null  int64  \n",
      "dtypes: float64(2), int64(3), object(5)\n",
      "memory usage: 2.0+ MB\n"
     ]
    }
   ],
   "source": [
    "tmdb.info()"
   ]
  },
  {
   "cell_type": "code",
   "execution_count": 102,
   "metadata": {},
   "outputs": [
    {
     "data": {
      "text/html": [
       "<div>\n",
       "<style scoped>\n",
       "    .dataframe tbody tr th:only-of-type {\n",
       "        vertical-align: middle;\n",
       "    }\n",
       "\n",
       "    .dataframe tbody tr th {\n",
       "        vertical-align: top;\n",
       "    }\n",
       "\n",
       "    .dataframe thead th {\n",
       "        text-align: right;\n",
       "    }\n",
       "</style>\n",
       "<table border=\"1\" class=\"dataframe\">\n",
       "  <thead>\n",
       "    <tr style=\"text-align: right;\">\n",
       "      <th></th>\n",
       "      <th>Unnamed: 0</th>\n",
       "      <th>genre_ids</th>\n",
       "      <th>id</th>\n",
       "      <th>original_language</th>\n",
       "      <th>original_title</th>\n",
       "      <th>popularity</th>\n",
       "      <th>release_date</th>\n",
       "      <th>title</th>\n",
       "      <th>vote_average</th>\n",
       "      <th>vote_count</th>\n",
       "    </tr>\n",
       "  </thead>\n",
       "  <tbody>\n",
       "    <tr>\n",
       "      <th>0</th>\n",
       "      <td>0</td>\n",
       "      <td>[12, 14, 10751]</td>\n",
       "      <td>12444</td>\n",
       "      <td>en</td>\n",
       "      <td>Harry Potter and the Deathly Hallows: Part 1</td>\n",
       "      <td>33.533</td>\n",
       "      <td>2010-11-19</td>\n",
       "      <td>Harry Potter and the Deathly Hallows: Part 1</td>\n",
       "      <td>7.7</td>\n",
       "      <td>10788</td>\n",
       "    </tr>\n",
       "    <tr>\n",
       "      <th>1</th>\n",
       "      <td>1</td>\n",
       "      <td>[14, 12, 16, 10751]</td>\n",
       "      <td>10191</td>\n",
       "      <td>en</td>\n",
       "      <td>How to Train Your Dragon</td>\n",
       "      <td>28.734</td>\n",
       "      <td>2010-03-26</td>\n",
       "      <td>How to Train Your Dragon</td>\n",
       "      <td>7.7</td>\n",
       "      <td>7610</td>\n",
       "    </tr>\n",
       "    <tr>\n",
       "      <th>2</th>\n",
       "      <td>2</td>\n",
       "      <td>[12, 28, 878]</td>\n",
       "      <td>10138</td>\n",
       "      <td>en</td>\n",
       "      <td>Iron Man 2</td>\n",
       "      <td>28.515</td>\n",
       "      <td>2010-05-07</td>\n",
       "      <td>Iron Man 2</td>\n",
       "      <td>6.8</td>\n",
       "      <td>12368</td>\n",
       "    </tr>\n",
       "    <tr>\n",
       "      <th>3</th>\n",
       "      <td>3</td>\n",
       "      <td>[16, 35, 10751]</td>\n",
       "      <td>862</td>\n",
       "      <td>en</td>\n",
       "      <td>Toy Story</td>\n",
       "      <td>28.005</td>\n",
       "      <td>1995-11-22</td>\n",
       "      <td>Toy Story</td>\n",
       "      <td>7.9</td>\n",
       "      <td>10174</td>\n",
       "    </tr>\n",
       "    <tr>\n",
       "      <th>4</th>\n",
       "      <td>4</td>\n",
       "      <td>[28, 878, 12]</td>\n",
       "      <td>27205</td>\n",
       "      <td>en</td>\n",
       "      <td>Inception</td>\n",
       "      <td>27.920</td>\n",
       "      <td>2010-07-16</td>\n",
       "      <td>Inception</td>\n",
       "      <td>8.3</td>\n",
       "      <td>22186</td>\n",
       "    </tr>\n",
       "  </tbody>\n",
       "</table>\n",
       "</div>"
      ],
      "text/plain": [
       "   Unnamed: 0            genre_ids     id original_language  \\\n",
       "0           0      [12, 14, 10751]  12444                en   \n",
       "1           1  [14, 12, 16, 10751]  10191                en   \n",
       "2           2        [12, 28, 878]  10138                en   \n",
       "3           3      [16, 35, 10751]    862                en   \n",
       "4           4        [28, 878, 12]  27205                en   \n",
       "\n",
       "                                 original_title  popularity release_date  \\\n",
       "0  Harry Potter and the Deathly Hallows: Part 1      33.533   2010-11-19   \n",
       "1                      How to Train Your Dragon      28.734   2010-03-26   \n",
       "2                                    Iron Man 2      28.515   2010-05-07   \n",
       "3                                     Toy Story      28.005   1995-11-22   \n",
       "4                                     Inception      27.920   2010-07-16   \n",
       "\n",
       "                                          title  vote_average  vote_count  \n",
       "0  Harry Potter and the Deathly Hallows: Part 1           7.7       10788  \n",
       "1                      How to Train Your Dragon           7.7        7610  \n",
       "2                                    Iron Man 2           6.8       12368  \n",
       "3                                     Toy Story           7.9       10174  \n",
       "4                                     Inception           8.3       22186  "
      ]
     },
     "execution_count": 102,
     "metadata": {},
     "output_type": "execute_result"
    }
   ],
   "source": [
    "tmdb.head()"
   ]
  },
  {
   "cell_type": "code",
   "execution_count": null,
   "metadata": {},
   "outputs": [],
   "source": []
  },
  {
   "cell_type": "code",
   "execution_count": 103,
   "metadata": {},
   "outputs": [],
   "source": [
    "tn_movie = pd.read_csv('./data/zippedData/tn.movie_budgets.csv.gz')\n"
   ]
  },
  {
   "cell_type": "code",
   "execution_count": 104,
   "metadata": {},
   "outputs": [
    {
     "name": "stdout",
     "output_type": "stream",
     "text": [
      "<class 'pandas.core.frame.DataFrame'>\n",
      "RangeIndex: 5782 entries, 0 to 5781\n",
      "Data columns (total 6 columns):\n",
      " #   Column             Non-Null Count  Dtype \n",
      "---  ------             --------------  ----- \n",
      " 0   id                 5782 non-null   int64 \n",
      " 1   release_date       5782 non-null   object\n",
      " 2   movie              5782 non-null   object\n",
      " 3   production_budget  5782 non-null   object\n",
      " 4   domestic_gross     5782 non-null   object\n",
      " 5   worldwide_gross    5782 non-null   object\n",
      "dtypes: int64(1), object(5)\n",
      "memory usage: 271.2+ KB\n"
     ]
    }
   ],
   "source": [
    "tn_movie.info()"
   ]
  },
  {
   "cell_type": "code",
   "execution_count": 105,
   "metadata": {},
   "outputs": [
    {
     "data": {
      "text/html": [
       "<div>\n",
       "<style scoped>\n",
       "    .dataframe tbody tr th:only-of-type {\n",
       "        vertical-align: middle;\n",
       "    }\n",
       "\n",
       "    .dataframe tbody tr th {\n",
       "        vertical-align: top;\n",
       "    }\n",
       "\n",
       "    .dataframe thead th {\n",
       "        text-align: right;\n",
       "    }\n",
       "</style>\n",
       "<table border=\"1\" class=\"dataframe\">\n",
       "  <thead>\n",
       "    <tr style=\"text-align: right;\">\n",
       "      <th></th>\n",
       "      <th>id</th>\n",
       "      <th>release_date</th>\n",
       "      <th>movie</th>\n",
       "      <th>production_budget</th>\n",
       "      <th>domestic_gross</th>\n",
       "      <th>worldwide_gross</th>\n",
       "    </tr>\n",
       "  </thead>\n",
       "  <tbody>\n",
       "    <tr>\n",
       "      <th>0</th>\n",
       "      <td>1</td>\n",
       "      <td>Dec 18, 2009</td>\n",
       "      <td>Avatar</td>\n",
       "      <td>$425,000,000</td>\n",
       "      <td>$760,507,625</td>\n",
       "      <td>$2,776,345,279</td>\n",
       "    </tr>\n",
       "    <tr>\n",
       "      <th>1</th>\n",
       "      <td>2</td>\n",
       "      <td>May 20, 2011</td>\n",
       "      <td>Pirates of the Caribbean: On Stranger Tides</td>\n",
       "      <td>$410,600,000</td>\n",
       "      <td>$241,063,875</td>\n",
       "      <td>$1,045,663,875</td>\n",
       "    </tr>\n",
       "    <tr>\n",
       "      <th>2</th>\n",
       "      <td>3</td>\n",
       "      <td>Jun 7, 2019</td>\n",
       "      <td>Dark Phoenix</td>\n",
       "      <td>$350,000,000</td>\n",
       "      <td>$42,762,350</td>\n",
       "      <td>$149,762,350</td>\n",
       "    </tr>\n",
       "    <tr>\n",
       "      <th>3</th>\n",
       "      <td>4</td>\n",
       "      <td>May 1, 2015</td>\n",
       "      <td>Avengers: Age of Ultron</td>\n",
       "      <td>$330,600,000</td>\n",
       "      <td>$459,005,868</td>\n",
       "      <td>$1,403,013,963</td>\n",
       "    </tr>\n",
       "    <tr>\n",
       "      <th>4</th>\n",
       "      <td>5</td>\n",
       "      <td>Dec 15, 2017</td>\n",
       "      <td>Star Wars Ep. VIII: The Last Jedi</td>\n",
       "      <td>$317,000,000</td>\n",
       "      <td>$620,181,382</td>\n",
       "      <td>$1,316,721,747</td>\n",
       "    </tr>\n",
       "  </tbody>\n",
       "</table>\n",
       "</div>"
      ],
      "text/plain": [
       "   id  release_date                                        movie  \\\n",
       "0   1  Dec 18, 2009                                       Avatar   \n",
       "1   2  May 20, 2011  Pirates of the Caribbean: On Stranger Tides   \n",
       "2   3   Jun 7, 2019                                 Dark Phoenix   \n",
       "3   4   May 1, 2015                      Avengers: Age of Ultron   \n",
       "4   5  Dec 15, 2017            Star Wars Ep. VIII: The Last Jedi   \n",
       "\n",
       "  production_budget domestic_gross worldwide_gross  \n",
       "0      $425,000,000   $760,507,625  $2,776,345,279  \n",
       "1      $410,600,000   $241,063,875  $1,045,663,875  \n",
       "2      $350,000,000    $42,762,350    $149,762,350  \n",
       "3      $330,600,000   $459,005,868  $1,403,013,963  \n",
       "4      $317,000,000   $620,181,382  $1,316,721,747  "
      ]
     },
     "execution_count": 105,
     "metadata": {},
     "output_type": "execute_result"
    }
   ],
   "source": [
    "tn_movie.head()"
   ]
  },
  {
   "cell_type": "code",
   "execution_count": 106,
   "metadata": {},
   "outputs": [],
   "source": [
    "tn_movie['worldwide_gross_new'] = tn_movie['worldwide_gross'].str.replace('$', '')\n"
   ]
  },
  {
   "cell_type": "code",
   "execution_count": 107,
   "metadata": {},
   "outputs": [
    {
     "data": {
      "text/html": [
       "<div>\n",
       "<style scoped>\n",
       "    .dataframe tbody tr th:only-of-type {\n",
       "        vertical-align: middle;\n",
       "    }\n",
       "\n",
       "    .dataframe tbody tr th {\n",
       "        vertical-align: top;\n",
       "    }\n",
       "\n",
       "    .dataframe thead th {\n",
       "        text-align: right;\n",
       "    }\n",
       "</style>\n",
       "<table border=\"1\" class=\"dataframe\">\n",
       "  <thead>\n",
       "    <tr style=\"text-align: right;\">\n",
       "      <th></th>\n",
       "      <th>id</th>\n",
       "      <th>release_date</th>\n",
       "      <th>movie</th>\n",
       "      <th>production_budget</th>\n",
       "      <th>domestic_gross</th>\n",
       "      <th>worldwide_gross</th>\n",
       "      <th>worldwide_gross_new</th>\n",
       "    </tr>\n",
       "  </thead>\n",
       "  <tbody>\n",
       "    <tr>\n",
       "      <th>0</th>\n",
       "      <td>1</td>\n",
       "      <td>Dec 18, 2009</td>\n",
       "      <td>Avatar</td>\n",
       "      <td>$425,000,000</td>\n",
       "      <td>$760,507,625</td>\n",
       "      <td>$2,776,345,279</td>\n",
       "      <td>2,776,345,279</td>\n",
       "    </tr>\n",
       "    <tr>\n",
       "      <th>1</th>\n",
       "      <td>2</td>\n",
       "      <td>May 20, 2011</td>\n",
       "      <td>Pirates of the Caribbean: On Stranger Tides</td>\n",
       "      <td>$410,600,000</td>\n",
       "      <td>$241,063,875</td>\n",
       "      <td>$1,045,663,875</td>\n",
       "      <td>1,045,663,875</td>\n",
       "    </tr>\n",
       "    <tr>\n",
       "      <th>2</th>\n",
       "      <td>3</td>\n",
       "      <td>Jun 7, 2019</td>\n",
       "      <td>Dark Phoenix</td>\n",
       "      <td>$350,000,000</td>\n",
       "      <td>$42,762,350</td>\n",
       "      <td>$149,762,350</td>\n",
       "      <td>149,762,350</td>\n",
       "    </tr>\n",
       "    <tr>\n",
       "      <th>3</th>\n",
       "      <td>4</td>\n",
       "      <td>May 1, 2015</td>\n",
       "      <td>Avengers: Age of Ultron</td>\n",
       "      <td>$330,600,000</td>\n",
       "      <td>$459,005,868</td>\n",
       "      <td>$1,403,013,963</td>\n",
       "      <td>1,403,013,963</td>\n",
       "    </tr>\n",
       "    <tr>\n",
       "      <th>4</th>\n",
       "      <td>5</td>\n",
       "      <td>Dec 15, 2017</td>\n",
       "      <td>Star Wars Ep. VIII: The Last Jedi</td>\n",
       "      <td>$317,000,000</td>\n",
       "      <td>$620,181,382</td>\n",
       "      <td>$1,316,721,747</td>\n",
       "      <td>1,316,721,747</td>\n",
       "    </tr>\n",
       "  </tbody>\n",
       "</table>\n",
       "</div>"
      ],
      "text/plain": [
       "   id  release_date                                        movie  \\\n",
       "0   1  Dec 18, 2009                                       Avatar   \n",
       "1   2  May 20, 2011  Pirates of the Caribbean: On Stranger Tides   \n",
       "2   3   Jun 7, 2019                                 Dark Phoenix   \n",
       "3   4   May 1, 2015                      Avengers: Age of Ultron   \n",
       "4   5  Dec 15, 2017            Star Wars Ep. VIII: The Last Jedi   \n",
       "\n",
       "  production_budget domestic_gross worldwide_gross worldwide_gross_new  \n",
       "0      $425,000,000   $760,507,625  $2,776,345,279       2,776,345,279  \n",
       "1      $410,600,000   $241,063,875  $1,045,663,875       1,045,663,875  \n",
       "2      $350,000,000    $42,762,350    $149,762,350         149,762,350  \n",
       "3      $330,600,000   $459,005,868  $1,403,013,963       1,403,013,963  \n",
       "4      $317,000,000   $620,181,382  $1,316,721,747       1,316,721,747  "
      ]
     },
     "execution_count": 107,
     "metadata": {},
     "output_type": "execute_result"
    }
   ],
   "source": [
    "tn_movie.head()"
   ]
  },
  {
   "cell_type": "code",
   "execution_count": 108,
   "metadata": {},
   "outputs": [
    {
     "data": {
      "text/plain": [
       "id                                                               2\n",
       "release_date                                          May 20, 2011\n",
       "movie                  Pirates of the Caribbean: On Stranger Tides\n",
       "production_budget                                     $410,600,000\n",
       "domestic_gross                                        $241,063,875\n",
       "worldwide_gross                                     $1,045,663,875\n",
       "worldwide_gross_new                                  1,045,663,875\n",
       "Name: 1, dtype: object"
      ]
     },
     "execution_count": 108,
     "metadata": {},
     "output_type": "execute_result"
    }
   ],
   "source": [
    "tn_1 = tn_movie.iloc[1]\n",
    "tn_1"
   ]
  },
  {
   "cell_type": "code",
   "execution_count": 109,
   "metadata": {},
   "outputs": [],
   "source": [
    "tn_movie['worldwide_gross_new'] = tn_movie['worldwide_gross'].str.replace(',', '')\n"
   ]
  },
  {
   "cell_type": "code",
   "execution_count": 110,
   "metadata": {},
   "outputs": [],
   "source": [
    "tn_movie['worldwide_gross_new'] = tn_movie['worldwide_gross_new'].str.replace('$', '')\n"
   ]
  },
  {
   "cell_type": "code",
   "execution_count": 111,
   "metadata": {},
   "outputs": [
    {
     "data": {
      "text/plain": [
       "id                                                               2\n",
       "release_date                                          May 20, 2011\n",
       "movie                  Pirates of the Caribbean: On Stranger Tides\n",
       "production_budget                                     $410,600,000\n",
       "domestic_gross                                        $241,063,875\n",
       "worldwide_gross                                     $1,045,663,875\n",
       "worldwide_gross_new                                     1045663875\n",
       "Name: 1, dtype: object"
      ]
     },
     "execution_count": 111,
     "metadata": {},
     "output_type": "execute_result"
    }
   ],
   "source": [
    "tn_1 = tn_movie.iloc[1]\n",
    "tn_1"
   ]
  },
  {
   "cell_type": "code",
   "execution_count": 112,
   "metadata": {},
   "outputs": [
    {
     "data": {
      "text/plain": [
       "'1045663'"
      ]
     },
     "execution_count": 112,
     "metadata": {},
     "output_type": "execute_result"
    }
   ],
   "source": [
    "tn_1.loc['worldwide_gross_new'][:-3]"
   ]
  },
  {
   "cell_type": "code",
   "execution_count": 113,
   "metadata": {},
   "outputs": [],
   "source": [
    "tn_movie['worldwide_gross_new'] = tn_movie['worldwide_gross_new'].astype(float)"
   ]
  },
  {
   "cell_type": "code",
   "execution_count": null,
   "metadata": {},
   "outputs": [],
   "source": [
    "\n"
   ]
  },
  {
   "cell_type": "code",
   "execution_count": 114,
   "metadata": {},
   "outputs": [
    {
     "data": {
      "text/html": [
       "<div>\n",
       "<style scoped>\n",
       "    .dataframe tbody tr th:only-of-type {\n",
       "        vertical-align: middle;\n",
       "    }\n",
       "\n",
       "    .dataframe tbody tr th {\n",
       "        vertical-align: top;\n",
       "    }\n",
       "\n",
       "    .dataframe thead th {\n",
       "        text-align: right;\n",
       "    }\n",
       "</style>\n",
       "<table border=\"1\" class=\"dataframe\">\n",
       "  <thead>\n",
       "    <tr style=\"text-align: right;\">\n",
       "      <th></th>\n",
       "      <th>id</th>\n",
       "      <th>release_date</th>\n",
       "      <th>movie</th>\n",
       "      <th>production_budget</th>\n",
       "      <th>domestic_gross</th>\n",
       "      <th>worldwide_gross</th>\n",
       "      <th>worldwide_gross_new</th>\n",
       "    </tr>\n",
       "  </thead>\n",
       "  <tbody>\n",
       "    <tr>\n",
       "      <th>0</th>\n",
       "      <td>1</td>\n",
       "      <td>Dec 18, 2009</td>\n",
       "      <td>Avatar</td>\n",
       "      <td>$425,000,000</td>\n",
       "      <td>$760,507,625</td>\n",
       "      <td>$2,776,345,279</td>\n",
       "      <td>2.776345e+09</td>\n",
       "    </tr>\n",
       "    <tr>\n",
       "      <th>1</th>\n",
       "      <td>2</td>\n",
       "      <td>May 20, 2011</td>\n",
       "      <td>Pirates of the Caribbean: On Stranger Tides</td>\n",
       "      <td>$410,600,000</td>\n",
       "      <td>$241,063,875</td>\n",
       "      <td>$1,045,663,875</td>\n",
       "      <td>1.045664e+09</td>\n",
       "    </tr>\n",
       "    <tr>\n",
       "      <th>2</th>\n",
       "      <td>3</td>\n",
       "      <td>Jun 7, 2019</td>\n",
       "      <td>Dark Phoenix</td>\n",
       "      <td>$350,000,000</td>\n",
       "      <td>$42,762,350</td>\n",
       "      <td>$149,762,350</td>\n",
       "      <td>1.497624e+08</td>\n",
       "    </tr>\n",
       "    <tr>\n",
       "      <th>3</th>\n",
       "      <td>4</td>\n",
       "      <td>May 1, 2015</td>\n",
       "      <td>Avengers: Age of Ultron</td>\n",
       "      <td>$330,600,000</td>\n",
       "      <td>$459,005,868</td>\n",
       "      <td>$1,403,013,963</td>\n",
       "      <td>1.403014e+09</td>\n",
       "    </tr>\n",
       "    <tr>\n",
       "      <th>4</th>\n",
       "      <td>5</td>\n",
       "      <td>Dec 15, 2017</td>\n",
       "      <td>Star Wars Ep. VIII: The Last Jedi</td>\n",
       "      <td>$317,000,000</td>\n",
       "      <td>$620,181,382</td>\n",
       "      <td>$1,316,721,747</td>\n",
       "      <td>1.316722e+09</td>\n",
       "    </tr>\n",
       "  </tbody>\n",
       "</table>\n",
       "</div>"
      ],
      "text/plain": [
       "   id  release_date                                        movie  \\\n",
       "0   1  Dec 18, 2009                                       Avatar   \n",
       "1   2  May 20, 2011  Pirates of the Caribbean: On Stranger Tides   \n",
       "2   3   Jun 7, 2019                                 Dark Phoenix   \n",
       "3   4   May 1, 2015                      Avengers: Age of Ultron   \n",
       "4   5  Dec 15, 2017            Star Wars Ep. VIII: The Last Jedi   \n",
       "\n",
       "  production_budget domestic_gross worldwide_gross  worldwide_gross_new  \n",
       "0      $425,000,000   $760,507,625  $2,776,345,279         2.776345e+09  \n",
       "1      $410,600,000   $241,063,875  $1,045,663,875         1.045664e+09  \n",
       "2      $350,000,000    $42,762,350    $149,762,350         1.497624e+08  \n",
       "3      $330,600,000   $459,005,868  $1,403,013,963         1.403014e+09  \n",
       "4      $317,000,000   $620,181,382  $1,316,721,747         1.316722e+09  "
      ]
     },
     "execution_count": 114,
     "metadata": {},
     "output_type": "execute_result"
    }
   ],
   "source": [
    "tn_movie.head()"
   ]
  },
  {
   "cell_type": "code",
   "execution_count": 115,
   "metadata": {},
   "outputs": [],
   "source": [
    "tn_movie['production_budget_new'] = tn_movie['production_budget'].str.replace('$', '')\n"
   ]
  },
  {
   "cell_type": "code",
   "execution_count": 116,
   "metadata": {},
   "outputs": [],
   "source": [
    "tn_movie['production_budget_new'] = tn_movie['production_budget_new'].str.replace(',', '')\n"
   ]
  },
  {
   "cell_type": "code",
   "execution_count": 117,
   "metadata": {},
   "outputs": [],
   "source": [
    "tn_movie['production_budget_new'] = tn_movie['production_budget_new'].astype(float)"
   ]
  },
  {
   "cell_type": "code",
   "execution_count": null,
   "metadata": {},
   "outputs": [],
   "source": []
  },
  {
   "cell_type": "code",
   "execution_count": 118,
   "metadata": {},
   "outputs": [
    {
     "data": {
      "text/plain": [
       "5778     Apr 2, 1999\n",
       "5779    Jul 13, 2005\n",
       "5780    Sep 29, 2015\n",
       "5781     Aug 5, 2005\n",
       "Name: release_date, dtype: object"
      ]
     },
     "execution_count": 118,
     "metadata": {},
     "output_type": "execute_result"
    }
   ],
   "source": [
    "tn_movie['release_date'][-4:]"
   ]
  },
  {
   "cell_type": "code",
   "execution_count": 119,
   "metadata": {},
   "outputs": [],
   "source": [
    "tn_movie['release_date']=pd.to_datetime(tn_movie['release_date'])"
   ]
  },
  {
   "cell_type": "code",
   "execution_count": 120,
   "metadata": {},
   "outputs": [],
   "source": [
    "tn_top25 = tn_movie[tn_movie['release_date'].dt.year == 2015]\n"
   ]
  },
  {
   "cell_type": "code",
   "execution_count": 121,
   "metadata": {},
   "outputs": [
    {
     "data": {
      "text/html": [
       "<div>\n",
       "<style scoped>\n",
       "    .dataframe tbody tr th:only-of-type {\n",
       "        vertical-align: middle;\n",
       "    }\n",
       "\n",
       "    .dataframe tbody tr th {\n",
       "        vertical-align: top;\n",
       "    }\n",
       "\n",
       "    .dataframe thead th {\n",
       "        text-align: right;\n",
       "    }\n",
       "</style>\n",
       "<table border=\"1\" class=\"dataframe\">\n",
       "  <thead>\n",
       "    <tr style=\"text-align: right;\">\n",
       "      <th></th>\n",
       "      <th>id</th>\n",
       "      <th>release_date</th>\n",
       "      <th>movie</th>\n",
       "      <th>production_budget</th>\n",
       "      <th>domestic_gross</th>\n",
       "      <th>worldwide_gross</th>\n",
       "      <th>worldwide_gross_new</th>\n",
       "      <th>production_budget_new</th>\n",
       "    </tr>\n",
       "  </thead>\n",
       "  <tbody>\n",
       "    <tr>\n",
       "      <th>3</th>\n",
       "      <td>4</td>\n",
       "      <td>2015-05-01</td>\n",
       "      <td>Avengers: Age of Ultron</td>\n",
       "      <td>$330,600,000</td>\n",
       "      <td>$459,005,868</td>\n",
       "      <td>$1,403,013,963</td>\n",
       "      <td>1.403014e+09</td>\n",
       "      <td>330600000.0</td>\n",
       "    </tr>\n",
       "    <tr>\n",
       "      <th>5</th>\n",
       "      <td>6</td>\n",
       "      <td>2015-12-18</td>\n",
       "      <td>Star Wars Ep. VII: The Force Awakens</td>\n",
       "      <td>$306,000,000</td>\n",
       "      <td>$936,662,225</td>\n",
       "      <td>$2,053,311,220</td>\n",
       "      <td>2.053311e+09</td>\n",
       "      <td>306000000.0</td>\n",
       "    </tr>\n",
       "    <tr>\n",
       "      <th>9</th>\n",
       "      <td>10</td>\n",
       "      <td>2015-11-06</td>\n",
       "      <td>Spectre</td>\n",
       "      <td>$300,000,000</td>\n",
       "      <td>$200,074,175</td>\n",
       "      <td>$879,620,923</td>\n",
       "      <td>8.796209e+08</td>\n",
       "      <td>300000000.0</td>\n",
       "    </tr>\n",
       "    <tr>\n",
       "      <th>33</th>\n",
       "      <td>34</td>\n",
       "      <td>2015-06-12</td>\n",
       "      <td>Jurassic World</td>\n",
       "      <td>$215,000,000</td>\n",
       "      <td>$652,270,625</td>\n",
       "      <td>$1,648,854,864</td>\n",
       "      <td>1.648855e+09</td>\n",
       "      <td>215000000.0</td>\n",
       "    </tr>\n",
       "    <tr>\n",
       "      <th>66</th>\n",
       "      <td>67</td>\n",
       "      <td>2015-04-03</td>\n",
       "      <td>Furious 7</td>\n",
       "      <td>$190,000,000</td>\n",
       "      <td>$353,007,020</td>\n",
       "      <td>$1,518,722,794</td>\n",
       "      <td>1.518723e+09</td>\n",
       "      <td>190000000.0</td>\n",
       "    </tr>\n",
       "    <tr>\n",
       "      <th>...</th>\n",
       "      <td>...</td>\n",
       "      <td>...</td>\n",
       "      <td>...</td>\n",
       "      <td>...</td>\n",
       "      <td>...</td>\n",
       "      <td>...</td>\n",
       "      <td>...</td>\n",
       "      <td>...</td>\n",
       "    </tr>\n",
       "    <tr>\n",
       "      <th>5750</th>\n",
       "      <td>51</td>\n",
       "      <td>2015-04-21</td>\n",
       "      <td>Ten</td>\n",
       "      <td>$25,000</td>\n",
       "      <td>$0</td>\n",
       "      <td>$0</td>\n",
       "      <td>0.000000e+00</td>\n",
       "      <td>25000.0</td>\n",
       "    </tr>\n",
       "    <tr>\n",
       "      <th>5751</th>\n",
       "      <td>52</td>\n",
       "      <td>2015-12-01</td>\n",
       "      <td>Dutch Kills</td>\n",
       "      <td>$25,000</td>\n",
       "      <td>$0</td>\n",
       "      <td>$0</td>\n",
       "      <td>0.000000e+00</td>\n",
       "      <td>25000.0</td>\n",
       "    </tr>\n",
       "    <tr>\n",
       "      <th>5756</th>\n",
       "      <td>57</td>\n",
       "      <td>2015-04-21</td>\n",
       "      <td>The Front Man</td>\n",
       "      <td>$20,000</td>\n",
       "      <td>$0</td>\n",
       "      <td>$0</td>\n",
       "      <td>0.000000e+00</td>\n",
       "      <td>20000.0</td>\n",
       "    </tr>\n",
       "    <tr>\n",
       "      <th>5771</th>\n",
       "      <td>72</td>\n",
       "      <td>2015-05-19</td>\n",
       "      <td>Family Motocross</td>\n",
       "      <td>$10,000</td>\n",
       "      <td>$0</td>\n",
       "      <td>$0</td>\n",
       "      <td>0.000000e+00</td>\n",
       "      <td>10000.0</td>\n",
       "    </tr>\n",
       "    <tr>\n",
       "      <th>5780</th>\n",
       "      <td>81</td>\n",
       "      <td>2015-09-29</td>\n",
       "      <td>A Plague So Pleasant</td>\n",
       "      <td>$1,400</td>\n",
       "      <td>$0</td>\n",
       "      <td>$0</td>\n",
       "      <td>0.000000e+00</td>\n",
       "      <td>1400.0</td>\n",
       "    </tr>\n",
       "  </tbody>\n",
       "</table>\n",
       "<p>338 rows × 8 columns</p>\n",
       "</div>"
      ],
      "text/plain": [
       "      id release_date                                 movie production_budget  \\\n",
       "3      4   2015-05-01               Avengers: Age of Ultron      $330,600,000   \n",
       "5      6   2015-12-18  Star Wars Ep. VII: The Force Awakens      $306,000,000   \n",
       "9     10   2015-11-06                               Spectre      $300,000,000   \n",
       "33    34   2015-06-12                        Jurassic World      $215,000,000   \n",
       "66    67   2015-04-03                             Furious 7      $190,000,000   \n",
       "...   ..          ...                                   ...               ...   \n",
       "5750  51   2015-04-21                                   Ten           $25,000   \n",
       "5751  52   2015-12-01                           Dutch Kills           $25,000   \n",
       "5756  57   2015-04-21                         The Front Man           $20,000   \n",
       "5771  72   2015-05-19                      Family Motocross           $10,000   \n",
       "5780  81   2015-09-29                  A Plague So Pleasant            $1,400   \n",
       "\n",
       "     domestic_gross worldwide_gross  worldwide_gross_new  \\\n",
       "3      $459,005,868  $1,403,013,963         1.403014e+09   \n",
       "5      $936,662,225  $2,053,311,220         2.053311e+09   \n",
       "9      $200,074,175    $879,620,923         8.796209e+08   \n",
       "33     $652,270,625  $1,648,854,864         1.648855e+09   \n",
       "66     $353,007,020  $1,518,722,794         1.518723e+09   \n",
       "...             ...             ...                  ...   \n",
       "5750             $0              $0         0.000000e+00   \n",
       "5751             $0              $0         0.000000e+00   \n",
       "5756             $0              $0         0.000000e+00   \n",
       "5771             $0              $0         0.000000e+00   \n",
       "5780             $0              $0         0.000000e+00   \n",
       "\n",
       "      production_budget_new  \n",
       "3               330600000.0  \n",
       "5               306000000.0  \n",
       "9               300000000.0  \n",
       "33              215000000.0  \n",
       "66              190000000.0  \n",
       "...                     ...  \n",
       "5750                25000.0  \n",
       "5751                25000.0  \n",
       "5756                20000.0  \n",
       "5771                10000.0  \n",
       "5780                 1400.0  \n",
       "\n",
       "[338 rows x 8 columns]"
      ]
     },
     "execution_count": 121,
     "metadata": {},
     "output_type": "execute_result"
    }
   ],
   "source": [
    "tn_top25"
   ]
  },
  {
   "cell_type": "code",
   "execution_count": 122,
   "metadata": {},
   "outputs": [],
   "source": [
    "tn_movie_top25 = tn_movie[tn_movie['release_date'].dt.year >= 2015].sort_values('worldwide_gross_new').tail(25)\n"
   ]
  },
  {
   "cell_type": "code",
   "execution_count": 123,
   "metadata": {},
   "outputs": [
    {
     "data": {
      "text/html": [
       "<div>\n",
       "<style scoped>\n",
       "    .dataframe tbody tr th:only-of-type {\n",
       "        vertical-align: middle;\n",
       "    }\n",
       "\n",
       "    .dataframe tbody tr th {\n",
       "        vertical-align: top;\n",
       "    }\n",
       "\n",
       "    .dataframe thead th {\n",
       "        text-align: right;\n",
       "    }\n",
       "</style>\n",
       "<table border=\"1\" class=\"dataframe\">\n",
       "  <thead>\n",
       "    <tr style=\"text-align: right;\">\n",
       "      <th></th>\n",
       "      <th>id</th>\n",
       "      <th>release_date</th>\n",
       "      <th>movie</th>\n",
       "      <th>production_budget</th>\n",
       "      <th>domestic_gross</th>\n",
       "      <th>worldwide_gross</th>\n",
       "      <th>worldwide_gross_new</th>\n",
       "      <th>production_budget_new</th>\n",
       "    </tr>\n",
       "  </thead>\n",
       "  <tbody>\n",
       "    <tr>\n",
       "      <th>9</th>\n",
       "      <td>10</td>\n",
       "      <td>2015-11-06</td>\n",
       "      <td>Spectre</td>\n",
       "      <td>$300,000,000</td>\n",
       "      <td>$200,074,175</td>\n",
       "      <td>$879,620,923</td>\n",
       "      <td>8.796209e+08</td>\n",
       "      <td>300000000.0</td>\n",
       "    </tr>\n",
       "    <tr>\n",
       "      <th>98</th>\n",
       "      <td>99</td>\n",
       "      <td>2017-07-07</td>\n",
       "      <td>Spider-Man: Homecoming</td>\n",
       "      <td>$175,000,000</td>\n",
       "      <td>$334,201,140</td>\n",
       "      <td>$880,166,350</td>\n",
       "      <td>8.801664e+08</td>\n",
       "      <td>175000000.0</td>\n",
       "    </tr>\n",
       "    <tr>\n",
       "      <th>625</th>\n",
       "      <td>26</td>\n",
       "      <td>2016-07-08</td>\n",
       "      <td>The Secret Life of Pets</td>\n",
       "      <td>$75,000,000</td>\n",
       "      <td>$368,384,330</td>\n",
       "      <td>$886,750,534</td>\n",
       "      <td>8.867505e+08</td>\n",
       "      <td>75000000.0</td>\n",
       "    </tr>\n",
       "    <tr>\n",
       "      <th>983</th>\n",
       "      <td>84</td>\n",
       "      <td>2018-11-02</td>\n",
       "      <td>Bohemian Rhapsody</td>\n",
       "      <td>$55,000,000</td>\n",
       "      <td>$216,303,339</td>\n",
       "      <td>$894,985,342</td>\n",
       "      <td>8.949853e+08</td>\n",
       "      <td>55000000.0</td>\n",
       "    </tr>\n",
       "    <tr>\n",
       "      <th>96</th>\n",
       "      <td>97</td>\n",
       "      <td>2016-04-15</td>\n",
       "      <td>The Jungle Book</td>\n",
       "      <td>$175,000,000</td>\n",
       "      <td>$364,001,123</td>\n",
       "      <td>$962,854,547</td>\n",
       "      <td>9.628545e+08</td>\n",
       "      <td>175000000.0</td>\n",
       "    </tr>\n",
       "    <tr>\n",
       "      <th>437</th>\n",
       "      <td>38</td>\n",
       "      <td>2017-12-20</td>\n",
       "      <td>Jumanji: Welcome to the Jungle</td>\n",
       "      <td>$90,000,000</td>\n",
       "      <td>$404,508,916</td>\n",
       "      <td>$964,496,193</td>\n",
       "      <td>9.644962e+08</td>\n",
       "      <td>90000000.0</td>\n",
       "    </tr>\n",
       "    <tr>\n",
       "      <th>156</th>\n",
       "      <td>57</td>\n",
       "      <td>2016-03-04</td>\n",
       "      <td>Zootopia</td>\n",
       "      <td>$150,000,000</td>\n",
       "      <td>$341,268,248</td>\n",
       "      <td>$1,019,429,616</td>\n",
       "      <td>1.019430e+09</td>\n",
       "      <td>150000000.0</td>\n",
       "    </tr>\n",
       "    <tr>\n",
       "      <th>45</th>\n",
       "      <td>46</td>\n",
       "      <td>2016-06-17</td>\n",
       "      <td>Finding Dory</td>\n",
       "      <td>$200,000,000</td>\n",
       "      <td>$486,295,561</td>\n",
       "      <td>$1,021,215,193</td>\n",
       "      <td>1.021215e+09</td>\n",
       "      <td>200000000.0</td>\n",
       "    </tr>\n",
       "    <tr>\n",
       "      <th>629</th>\n",
       "      <td>30</td>\n",
       "      <td>2017-06-30</td>\n",
       "      <td>Despicable Me 3</td>\n",
       "      <td>$75,000,000</td>\n",
       "      <td>$264,624,300</td>\n",
       "      <td>$1,034,727,750</td>\n",
       "      <td>1.034728e+09</td>\n",
       "      <td>75000000.0</td>\n",
       "    </tr>\n",
       "    <tr>\n",
       "      <th>44</th>\n",
       "      <td>45</td>\n",
       "      <td>2016-12-16</td>\n",
       "      <td>Rogue One: A Star Wars Story</td>\n",
       "      <td>$200,000,000</td>\n",
       "      <td>$532,177,324</td>\n",
       "      <td>$1,049,102,856</td>\n",
       "      <td>1.049103e+09</td>\n",
       "      <td>200000000.0</td>\n",
       "    </tr>\n",
       "    <tr>\n",
       "      <th>95</th>\n",
       "      <td>96</td>\n",
       "      <td>2019-03-08</td>\n",
       "      <td>Captain Marvel</td>\n",
       "      <td>$175,000,000</td>\n",
       "      <td>$426,525,952</td>\n",
       "      <td>$1,123,061,550</td>\n",
       "      <td>1.123062e+09</td>\n",
       "      <td>175000000.0</td>\n",
       "    </tr>\n",
       "    <tr>\n",
       "      <th>16</th>\n",
       "      <td>17</td>\n",
       "      <td>2016-05-06</td>\n",
       "      <td>Captain America: Civil War</td>\n",
       "      <td>$250,000,000</td>\n",
       "      <td>$408,084,349</td>\n",
       "      <td>$1,140,069,413</td>\n",
       "      <td>1.140069e+09</td>\n",
       "      <td>250000000.0</td>\n",
       "    </tr>\n",
       "    <tr>\n",
       "      <th>135</th>\n",
       "      <td>36</td>\n",
       "      <td>2018-12-21</td>\n",
       "      <td>Aquaman</td>\n",
       "      <td>$160,000,000</td>\n",
       "      <td>$335,061,807</td>\n",
       "      <td>$1,146,894,640</td>\n",
       "      <td>1.146895e+09</td>\n",
       "      <td>160000000.0</td>\n",
       "    </tr>\n",
       "    <tr>\n",
       "      <th>672</th>\n",
       "      <td>73</td>\n",
       "      <td>2015-07-10</td>\n",
       "      <td>Minions</td>\n",
       "      <td>$74,000,000</td>\n",
       "      <td>$336,045,770</td>\n",
       "      <td>$1,160,336,173</td>\n",
       "      <td>1.160336e+09</td>\n",
       "      <td>74000000.0</td>\n",
       "    </tr>\n",
       "    <tr>\n",
       "      <th>22</th>\n",
       "      <td>23</td>\n",
       "      <td>2017-04-14</td>\n",
       "      <td>The Fate of the Furious</td>\n",
       "      <td>$250,000,000</td>\n",
       "      <td>$225,764,765</td>\n",
       "      <td>$1,234,846,267</td>\n",
       "      <td>1.234846e+09</td>\n",
       "      <td>250000000.0</td>\n",
       "    </tr>\n",
       "    <tr>\n",
       "      <th>43</th>\n",
       "      <td>44</td>\n",
       "      <td>2018-06-15</td>\n",
       "      <td>Incredibles 2</td>\n",
       "      <td>$200,000,000</td>\n",
       "      <td>$608,581,744</td>\n",
       "      <td>$1,242,520,711</td>\n",
       "      <td>1.242521e+09</td>\n",
       "      <td>200000000.0</td>\n",
       "    </tr>\n",
       "    <tr>\n",
       "      <th>134</th>\n",
       "      <td>35</td>\n",
       "      <td>2017-03-17</td>\n",
       "      <td>Beauty and the Beast</td>\n",
       "      <td>$160,000,000</td>\n",
       "      <td>$504,014,165</td>\n",
       "      <td>$1,259,199,706</td>\n",
       "      <td>1.259200e+09</td>\n",
       "      <td>160000000.0</td>\n",
       "    </tr>\n",
       "    <tr>\n",
       "      <th>112</th>\n",
       "      <td>13</td>\n",
       "      <td>2018-06-22</td>\n",
       "      <td>Jurassic World: Fallen Kingdom</td>\n",
       "      <td>$170,000,000</td>\n",
       "      <td>$417,719,760</td>\n",
       "      <td>$1,305,772,799</td>\n",
       "      <td>1.305773e+09</td>\n",
       "      <td>170000000.0</td>\n",
       "    </tr>\n",
       "    <tr>\n",
       "      <th>4</th>\n",
       "      <td>5</td>\n",
       "      <td>2017-12-15</td>\n",
       "      <td>Star Wars Ep. VIII: The Last Jedi</td>\n",
       "      <td>$317,000,000</td>\n",
       "      <td>$620,181,382</td>\n",
       "      <td>$1,316,721,747</td>\n",
       "      <td>1.316722e+09</td>\n",
       "      <td>317000000.0</td>\n",
       "    </tr>\n",
       "    <tr>\n",
       "      <th>41</th>\n",
       "      <td>42</td>\n",
       "      <td>2018-02-16</td>\n",
       "      <td>Black Panther</td>\n",
       "      <td>$200,000,000</td>\n",
       "      <td>$700,059,566</td>\n",
       "      <td>$1,348,258,224</td>\n",
       "      <td>1.348258e+09</td>\n",
       "      <td>200000000.0</td>\n",
       "    </tr>\n",
       "    <tr>\n",
       "      <th>3</th>\n",
       "      <td>4</td>\n",
       "      <td>2015-05-01</td>\n",
       "      <td>Avengers: Age of Ultron</td>\n",
       "      <td>$330,600,000</td>\n",
       "      <td>$459,005,868</td>\n",
       "      <td>$1,403,013,963</td>\n",
       "      <td>1.403014e+09</td>\n",
       "      <td>330600000.0</td>\n",
       "    </tr>\n",
       "    <tr>\n",
       "      <th>66</th>\n",
       "      <td>67</td>\n",
       "      <td>2015-04-03</td>\n",
       "      <td>Furious 7</td>\n",
       "      <td>$190,000,000</td>\n",
       "      <td>$353,007,020</td>\n",
       "      <td>$1,518,722,794</td>\n",
       "      <td>1.518723e+09</td>\n",
       "      <td>190000000.0</td>\n",
       "    </tr>\n",
       "    <tr>\n",
       "      <th>33</th>\n",
       "      <td>34</td>\n",
       "      <td>2015-06-12</td>\n",
       "      <td>Jurassic World</td>\n",
       "      <td>$215,000,000</td>\n",
       "      <td>$652,270,625</td>\n",
       "      <td>$1,648,854,864</td>\n",
       "      <td>1.648855e+09</td>\n",
       "      <td>215000000.0</td>\n",
       "    </tr>\n",
       "    <tr>\n",
       "      <th>6</th>\n",
       "      <td>7</td>\n",
       "      <td>2018-04-27</td>\n",
       "      <td>Avengers: Infinity War</td>\n",
       "      <td>$300,000,000</td>\n",
       "      <td>$678,815,482</td>\n",
       "      <td>$2,048,134,200</td>\n",
       "      <td>2.048134e+09</td>\n",
       "      <td>300000000.0</td>\n",
       "    </tr>\n",
       "    <tr>\n",
       "      <th>5</th>\n",
       "      <td>6</td>\n",
       "      <td>2015-12-18</td>\n",
       "      <td>Star Wars Ep. VII: The Force Awakens</td>\n",
       "      <td>$306,000,000</td>\n",
       "      <td>$936,662,225</td>\n",
       "      <td>$2,053,311,220</td>\n",
       "      <td>2.053311e+09</td>\n",
       "      <td>306000000.0</td>\n",
       "    </tr>\n",
       "  </tbody>\n",
       "</table>\n",
       "</div>"
      ],
      "text/plain": [
       "     id release_date                                 movie production_budget  \\\n",
       "9    10   2015-11-06                               Spectre      $300,000,000   \n",
       "98   99   2017-07-07                Spider-Man: Homecoming      $175,000,000   \n",
       "625  26   2016-07-08               The Secret Life of Pets       $75,000,000   \n",
       "983  84   2018-11-02                     Bohemian Rhapsody       $55,000,000   \n",
       "96   97   2016-04-15                       The Jungle Book      $175,000,000   \n",
       "437  38   2017-12-20        Jumanji: Welcome to the Jungle       $90,000,000   \n",
       "156  57   2016-03-04                              Zootopia      $150,000,000   \n",
       "45   46   2016-06-17                          Finding Dory      $200,000,000   \n",
       "629  30   2017-06-30                       Despicable Me 3       $75,000,000   \n",
       "44   45   2016-12-16          Rogue One: A Star Wars Story      $200,000,000   \n",
       "95   96   2019-03-08                        Captain Marvel      $175,000,000   \n",
       "16   17   2016-05-06            Captain America: Civil War      $250,000,000   \n",
       "135  36   2018-12-21                               Aquaman      $160,000,000   \n",
       "672  73   2015-07-10                               Minions       $74,000,000   \n",
       "22   23   2017-04-14               The Fate of the Furious      $250,000,000   \n",
       "43   44   2018-06-15                         Incredibles 2      $200,000,000   \n",
       "134  35   2017-03-17                  Beauty and the Beast      $160,000,000   \n",
       "112  13   2018-06-22        Jurassic World: Fallen Kingdom      $170,000,000   \n",
       "4     5   2017-12-15     Star Wars Ep. VIII: The Last Jedi      $317,000,000   \n",
       "41   42   2018-02-16                         Black Panther      $200,000,000   \n",
       "3     4   2015-05-01               Avengers: Age of Ultron      $330,600,000   \n",
       "66   67   2015-04-03                             Furious 7      $190,000,000   \n",
       "33   34   2015-06-12                        Jurassic World      $215,000,000   \n",
       "6     7   2018-04-27                Avengers: Infinity War      $300,000,000   \n",
       "5     6   2015-12-18  Star Wars Ep. VII: The Force Awakens      $306,000,000   \n",
       "\n",
       "    domestic_gross worldwide_gross  worldwide_gross_new  production_budget_new  \n",
       "9     $200,074,175    $879,620,923         8.796209e+08            300000000.0  \n",
       "98    $334,201,140    $880,166,350         8.801664e+08            175000000.0  \n",
       "625   $368,384,330    $886,750,534         8.867505e+08             75000000.0  \n",
       "983   $216,303,339    $894,985,342         8.949853e+08             55000000.0  \n",
       "96    $364,001,123    $962,854,547         9.628545e+08            175000000.0  \n",
       "437   $404,508,916    $964,496,193         9.644962e+08             90000000.0  \n",
       "156   $341,268,248  $1,019,429,616         1.019430e+09            150000000.0  \n",
       "45    $486,295,561  $1,021,215,193         1.021215e+09            200000000.0  \n",
       "629   $264,624,300  $1,034,727,750         1.034728e+09             75000000.0  \n",
       "44    $532,177,324  $1,049,102,856         1.049103e+09            200000000.0  \n",
       "95    $426,525,952  $1,123,061,550         1.123062e+09            175000000.0  \n",
       "16    $408,084,349  $1,140,069,413         1.140069e+09            250000000.0  \n",
       "135   $335,061,807  $1,146,894,640         1.146895e+09            160000000.0  \n",
       "672   $336,045,770  $1,160,336,173         1.160336e+09             74000000.0  \n",
       "22    $225,764,765  $1,234,846,267         1.234846e+09            250000000.0  \n",
       "43    $608,581,744  $1,242,520,711         1.242521e+09            200000000.0  \n",
       "134   $504,014,165  $1,259,199,706         1.259200e+09            160000000.0  \n",
       "112   $417,719,760  $1,305,772,799         1.305773e+09            170000000.0  \n",
       "4     $620,181,382  $1,316,721,747         1.316722e+09            317000000.0  \n",
       "41    $700,059,566  $1,348,258,224         1.348258e+09            200000000.0  \n",
       "3     $459,005,868  $1,403,013,963         1.403014e+09            330600000.0  \n",
       "66    $353,007,020  $1,518,722,794         1.518723e+09            190000000.0  \n",
       "33    $652,270,625  $1,648,854,864         1.648855e+09            215000000.0  \n",
       "6     $678,815,482  $2,048,134,200         2.048134e+09            300000000.0  \n",
       "5     $936,662,225  $2,053,311,220         2.053311e+09            306000000.0  "
      ]
     },
     "execution_count": 123,
     "metadata": {},
     "output_type": "execute_result"
    }
   ],
   "source": [
    "tn_movie_top25"
   ]
  },
  {
   "cell_type": "code",
   "execution_count": 135,
   "metadata": {},
   "outputs": [],
   "source": [
    "tn_movie_top25_nice = tn_movie_top25[['release_date', 'movie']]"
   ]
  },
  {
   "cell_type": "code",
   "execution_count": 136,
   "metadata": {},
   "outputs": [
    {
     "data": {
      "text/html": [
       "<div>\n",
       "<style scoped>\n",
       "    .dataframe tbody tr th:only-of-type {\n",
       "        vertical-align: middle;\n",
       "    }\n",
       "\n",
       "    .dataframe tbody tr th {\n",
       "        vertical-align: top;\n",
       "    }\n",
       "\n",
       "    .dataframe thead th {\n",
       "        text-align: right;\n",
       "    }\n",
       "</style>\n",
       "<table border=\"1\" class=\"dataframe\">\n",
       "  <thead>\n",
       "    <tr style=\"text-align: right;\">\n",
       "      <th></th>\n",
       "      <th>release_date</th>\n",
       "      <th>movie</th>\n",
       "    </tr>\n",
       "  </thead>\n",
       "  <tbody>\n",
       "    <tr>\n",
       "      <th>9</th>\n",
       "      <td>2015-11-06</td>\n",
       "      <td>Spectre</td>\n",
       "    </tr>\n",
       "    <tr>\n",
       "      <th>98</th>\n",
       "      <td>2017-07-07</td>\n",
       "      <td>Spider-Man: Homecoming</td>\n",
       "    </tr>\n",
       "    <tr>\n",
       "      <th>625</th>\n",
       "      <td>2016-07-08</td>\n",
       "      <td>The Secret Life of Pets</td>\n",
       "    </tr>\n",
       "    <tr>\n",
       "      <th>983</th>\n",
       "      <td>2018-11-02</td>\n",
       "      <td>Bohemian Rhapsody</td>\n",
       "    </tr>\n",
       "    <tr>\n",
       "      <th>96</th>\n",
       "      <td>2016-04-15</td>\n",
       "      <td>The Jungle Book</td>\n",
       "    </tr>\n",
       "    <tr>\n",
       "      <th>437</th>\n",
       "      <td>2017-12-20</td>\n",
       "      <td>Jumanji: Welcome to the Jungle</td>\n",
       "    </tr>\n",
       "    <tr>\n",
       "      <th>156</th>\n",
       "      <td>2016-03-04</td>\n",
       "      <td>Zootopia</td>\n",
       "    </tr>\n",
       "    <tr>\n",
       "      <th>45</th>\n",
       "      <td>2016-06-17</td>\n",
       "      <td>Finding Dory</td>\n",
       "    </tr>\n",
       "    <tr>\n",
       "      <th>629</th>\n",
       "      <td>2017-06-30</td>\n",
       "      <td>Despicable Me 3</td>\n",
       "    </tr>\n",
       "    <tr>\n",
       "      <th>44</th>\n",
       "      <td>2016-12-16</td>\n",
       "      <td>Rogue One: A Star Wars Story</td>\n",
       "    </tr>\n",
       "    <tr>\n",
       "      <th>95</th>\n",
       "      <td>2019-03-08</td>\n",
       "      <td>Captain Marvel</td>\n",
       "    </tr>\n",
       "    <tr>\n",
       "      <th>16</th>\n",
       "      <td>2016-05-06</td>\n",
       "      <td>Captain America: Civil War</td>\n",
       "    </tr>\n",
       "    <tr>\n",
       "      <th>135</th>\n",
       "      <td>2018-12-21</td>\n",
       "      <td>Aquaman</td>\n",
       "    </tr>\n",
       "    <tr>\n",
       "      <th>672</th>\n",
       "      <td>2015-07-10</td>\n",
       "      <td>Minions</td>\n",
       "    </tr>\n",
       "    <tr>\n",
       "      <th>22</th>\n",
       "      <td>2017-04-14</td>\n",
       "      <td>The Fate of the Furious</td>\n",
       "    </tr>\n",
       "    <tr>\n",
       "      <th>43</th>\n",
       "      <td>2018-06-15</td>\n",
       "      <td>Incredibles 2</td>\n",
       "    </tr>\n",
       "    <tr>\n",
       "      <th>134</th>\n",
       "      <td>2017-03-17</td>\n",
       "      <td>Beauty and the Beast</td>\n",
       "    </tr>\n",
       "    <tr>\n",
       "      <th>112</th>\n",
       "      <td>2018-06-22</td>\n",
       "      <td>Jurassic World: Fallen Kingdom</td>\n",
       "    </tr>\n",
       "    <tr>\n",
       "      <th>4</th>\n",
       "      <td>2017-12-15</td>\n",
       "      <td>Star Wars Ep. VIII: The Last Jedi</td>\n",
       "    </tr>\n",
       "    <tr>\n",
       "      <th>41</th>\n",
       "      <td>2018-02-16</td>\n",
       "      <td>Black Panther</td>\n",
       "    </tr>\n",
       "    <tr>\n",
       "      <th>3</th>\n",
       "      <td>2015-05-01</td>\n",
       "      <td>Avengers: Age of Ultron</td>\n",
       "    </tr>\n",
       "    <tr>\n",
       "      <th>66</th>\n",
       "      <td>2015-04-03</td>\n",
       "      <td>Furious 7</td>\n",
       "    </tr>\n",
       "    <tr>\n",
       "      <th>33</th>\n",
       "      <td>2015-06-12</td>\n",
       "      <td>Jurassic World</td>\n",
       "    </tr>\n",
       "    <tr>\n",
       "      <th>6</th>\n",
       "      <td>2018-04-27</td>\n",
       "      <td>Avengers: Infinity War</td>\n",
       "    </tr>\n",
       "    <tr>\n",
       "      <th>5</th>\n",
       "      <td>2015-12-18</td>\n",
       "      <td>Star Wars Ep. VII: The Force Awakens</td>\n",
       "    </tr>\n",
       "  </tbody>\n",
       "</table>\n",
       "</div>"
      ],
      "text/plain": [
       "    release_date                                 movie\n",
       "9     2015-11-06                               Spectre\n",
       "98    2017-07-07                Spider-Man: Homecoming\n",
       "625   2016-07-08               The Secret Life of Pets\n",
       "983   2018-11-02                     Bohemian Rhapsody\n",
       "96    2016-04-15                       The Jungle Book\n",
       "437   2017-12-20        Jumanji: Welcome to the Jungle\n",
       "156   2016-03-04                              Zootopia\n",
       "45    2016-06-17                          Finding Dory\n",
       "629   2017-06-30                       Despicable Me 3\n",
       "44    2016-12-16          Rogue One: A Star Wars Story\n",
       "95    2019-03-08                        Captain Marvel\n",
       "16    2016-05-06            Captain America: Civil War\n",
       "135   2018-12-21                               Aquaman\n",
       "672   2015-07-10                               Minions\n",
       "22    2017-04-14               The Fate of the Furious\n",
       "43    2018-06-15                         Incredibles 2\n",
       "134   2017-03-17                  Beauty and the Beast\n",
       "112   2018-06-22        Jurassic World: Fallen Kingdom\n",
       "4     2017-12-15     Star Wars Ep. VIII: The Last Jedi\n",
       "41    2018-02-16                         Black Panther\n",
       "3     2015-05-01               Avengers: Age of Ultron\n",
       "66    2015-04-03                             Furious 7\n",
       "33    2015-06-12                        Jurassic World\n",
       "6     2018-04-27                Avengers: Infinity War\n",
       "5     2015-12-18  Star Wars Ep. VII: The Force Awakens"
      ]
     },
     "execution_count": 136,
     "metadata": {},
     "output_type": "execute_result"
    }
   ],
   "source": [
    "\n",
    "tn_movie_top25_nice"
   ]
  },
  {
   "cell_type": "code",
   "execution_count": 134,
   "metadata": {},
   "outputs": [
    {
     "data": {
      "text/html": [
       "<div>\n",
       "<style scoped>\n",
       "    .dataframe tbody tr th:only-of-type {\n",
       "        vertical-align: middle;\n",
       "    }\n",
       "\n",
       "    .dataframe tbody tr th {\n",
       "        vertical-align: top;\n",
       "    }\n",
       "\n",
       "    .dataframe thead th {\n",
       "        text-align: right;\n",
       "    }\n",
       "</style>\n",
       "<table border=\"1\" class=\"dataframe\">\n",
       "  <thead>\n",
       "    <tr style=\"text-align: right;\">\n",
       "      <th></th>\n",
       "      <th>release_date</th>\n",
       "      <th>movie</th>\n",
       "    </tr>\n",
       "  </thead>\n",
       "  <tbody>\n",
       "    <tr>\n",
       "      <th>9</th>\n",
       "      <td>1970-01-01 00:00:00.000002015</td>\n",
       "      <td>Spectre</td>\n",
       "    </tr>\n",
       "    <tr>\n",
       "      <th>98</th>\n",
       "      <td>1970-01-01 00:00:00.000002017</td>\n",
       "      <td>Spider-Man: Homecoming</td>\n",
       "    </tr>\n",
       "    <tr>\n",
       "      <th>625</th>\n",
       "      <td>1970-01-01 00:00:00.000002016</td>\n",
       "      <td>The Secret Life of Pets</td>\n",
       "    </tr>\n",
       "    <tr>\n",
       "      <th>983</th>\n",
       "      <td>1970-01-01 00:00:00.000002018</td>\n",
       "      <td>Bohemian Rhapsody</td>\n",
       "    </tr>\n",
       "    <tr>\n",
       "      <th>96</th>\n",
       "      <td>1970-01-01 00:00:00.000002016</td>\n",
       "      <td>The Jungle Book</td>\n",
       "    </tr>\n",
       "    <tr>\n",
       "      <th>437</th>\n",
       "      <td>1970-01-01 00:00:00.000002017</td>\n",
       "      <td>Jumanji: Welcome to the Jungle</td>\n",
       "    </tr>\n",
       "    <tr>\n",
       "      <th>156</th>\n",
       "      <td>1970-01-01 00:00:00.000002016</td>\n",
       "      <td>Zootopia</td>\n",
       "    </tr>\n",
       "    <tr>\n",
       "      <th>45</th>\n",
       "      <td>1970-01-01 00:00:00.000002016</td>\n",
       "      <td>Finding Dory</td>\n",
       "    </tr>\n",
       "    <tr>\n",
       "      <th>629</th>\n",
       "      <td>1970-01-01 00:00:00.000002017</td>\n",
       "      <td>Despicable Me 3</td>\n",
       "    </tr>\n",
       "    <tr>\n",
       "      <th>44</th>\n",
       "      <td>1970-01-01 00:00:00.000002016</td>\n",
       "      <td>Rogue One: A Star Wars Story</td>\n",
       "    </tr>\n",
       "    <tr>\n",
       "      <th>95</th>\n",
       "      <td>1970-01-01 00:00:00.000002019</td>\n",
       "      <td>Captain Marvel</td>\n",
       "    </tr>\n",
       "    <tr>\n",
       "      <th>16</th>\n",
       "      <td>1970-01-01 00:00:00.000002016</td>\n",
       "      <td>Captain America: Civil War</td>\n",
       "    </tr>\n",
       "    <tr>\n",
       "      <th>135</th>\n",
       "      <td>1970-01-01 00:00:00.000002018</td>\n",
       "      <td>Aquaman</td>\n",
       "    </tr>\n",
       "    <tr>\n",
       "      <th>672</th>\n",
       "      <td>1970-01-01 00:00:00.000002015</td>\n",
       "      <td>Minions</td>\n",
       "    </tr>\n",
       "    <tr>\n",
       "      <th>22</th>\n",
       "      <td>1970-01-01 00:00:00.000002017</td>\n",
       "      <td>The Fate of the Furious</td>\n",
       "    </tr>\n",
       "    <tr>\n",
       "      <th>43</th>\n",
       "      <td>1970-01-01 00:00:00.000002018</td>\n",
       "      <td>Incredibles 2</td>\n",
       "    </tr>\n",
       "    <tr>\n",
       "      <th>134</th>\n",
       "      <td>1970-01-01 00:00:00.000002017</td>\n",
       "      <td>Beauty and the Beast</td>\n",
       "    </tr>\n",
       "    <tr>\n",
       "      <th>112</th>\n",
       "      <td>1970-01-01 00:00:00.000002018</td>\n",
       "      <td>Jurassic World: Fallen Kingdom</td>\n",
       "    </tr>\n",
       "    <tr>\n",
       "      <th>4</th>\n",
       "      <td>1970-01-01 00:00:00.000002017</td>\n",
       "      <td>Star Wars Ep. VIII: The Last Jedi</td>\n",
       "    </tr>\n",
       "    <tr>\n",
       "      <th>41</th>\n",
       "      <td>1970-01-01 00:00:00.000002018</td>\n",
       "      <td>Black Panther</td>\n",
       "    </tr>\n",
       "    <tr>\n",
       "      <th>3</th>\n",
       "      <td>1970-01-01 00:00:00.000002015</td>\n",
       "      <td>Avengers: Age of Ultron</td>\n",
       "    </tr>\n",
       "    <tr>\n",
       "      <th>66</th>\n",
       "      <td>1970-01-01 00:00:00.000002015</td>\n",
       "      <td>Furious 7</td>\n",
       "    </tr>\n",
       "    <tr>\n",
       "      <th>33</th>\n",
       "      <td>1970-01-01 00:00:00.000002015</td>\n",
       "      <td>Jurassic World</td>\n",
       "    </tr>\n",
       "    <tr>\n",
       "      <th>6</th>\n",
       "      <td>1970-01-01 00:00:00.000002018</td>\n",
       "      <td>Avengers: Infinity War</td>\n",
       "    </tr>\n",
       "    <tr>\n",
       "      <th>5</th>\n",
       "      <td>1970-01-01 00:00:00.000002015</td>\n",
       "      <td>Star Wars Ep. VII: The Force Awakens</td>\n",
       "    </tr>\n",
       "  </tbody>\n",
       "</table>\n",
       "</div>"
      ],
      "text/plain": [
       "                     release_date                                 movie\n",
       "9   1970-01-01 00:00:00.000002015                               Spectre\n",
       "98  1970-01-01 00:00:00.000002017                Spider-Man: Homecoming\n",
       "625 1970-01-01 00:00:00.000002016               The Secret Life of Pets\n",
       "983 1970-01-01 00:00:00.000002018                     Bohemian Rhapsody\n",
       "96  1970-01-01 00:00:00.000002016                       The Jungle Book\n",
       "437 1970-01-01 00:00:00.000002017        Jumanji: Welcome to the Jungle\n",
       "156 1970-01-01 00:00:00.000002016                              Zootopia\n",
       "45  1970-01-01 00:00:00.000002016                          Finding Dory\n",
       "629 1970-01-01 00:00:00.000002017                       Despicable Me 3\n",
       "44  1970-01-01 00:00:00.000002016          Rogue One: A Star Wars Story\n",
       "95  1970-01-01 00:00:00.000002019                        Captain Marvel\n",
       "16  1970-01-01 00:00:00.000002016            Captain America: Civil War\n",
       "135 1970-01-01 00:00:00.000002018                               Aquaman\n",
       "672 1970-01-01 00:00:00.000002015                               Minions\n",
       "22  1970-01-01 00:00:00.000002017               The Fate of the Furious\n",
       "43  1970-01-01 00:00:00.000002018                         Incredibles 2\n",
       "134 1970-01-01 00:00:00.000002017                  Beauty and the Beast\n",
       "112 1970-01-01 00:00:00.000002018        Jurassic World: Fallen Kingdom\n",
       "4   1970-01-01 00:00:00.000002017     Star Wars Ep. VIII: The Last Jedi\n",
       "41  1970-01-01 00:00:00.000002018                         Black Panther\n",
       "3   1970-01-01 00:00:00.000002015               Avengers: Age of Ultron\n",
       "66  1970-01-01 00:00:00.000002015                             Furious 7\n",
       "33  1970-01-01 00:00:00.000002015                        Jurassic World\n",
       "6   1970-01-01 00:00:00.000002018                Avengers: Infinity War\n",
       "5   1970-01-01 00:00:00.000002015  Star Wars Ep. VII: The Force Awakens"
      ]
     },
     "execution_count": 134,
     "metadata": {},
     "output_type": "execute_result"
    }
   ],
   "source": [
    "tn_movie_top25_nice"
   ]
  },
  {
   "cell_type": "code",
   "execution_count": 127,
   "metadata": {},
   "outputs": [
    {
     "ename": "KeyError",
     "evalue": "('release_date', 'movie')",
     "output_type": "error",
     "traceback": [
      "\u001b[0;31m---------------------------------------------------------------------------\u001b[0m",
      "\u001b[0;31mKeyError\u001b[0m                                  Traceback (most recent call last)",
      "\u001b[0;32m~/opt/anaconda3/envs/learn-env/lib/python3.8/site-packages/pandas/core/indexes/base.py\u001b[0m in \u001b[0;36mget_loc\u001b[0;34m(self, key, method, tolerance)\u001b[0m\n\u001b[1;32m   2894\u001b[0m             \u001b[0;32mtry\u001b[0m\u001b[0;34m:\u001b[0m\u001b[0;34m\u001b[0m\u001b[0;34m\u001b[0m\u001b[0m\n\u001b[0;32m-> 2895\u001b[0;31m                 \u001b[0;32mreturn\u001b[0m \u001b[0mself\u001b[0m\u001b[0;34m.\u001b[0m\u001b[0m_engine\u001b[0m\u001b[0;34m.\u001b[0m\u001b[0mget_loc\u001b[0m\u001b[0;34m(\u001b[0m\u001b[0mcasted_key\u001b[0m\u001b[0;34m)\u001b[0m\u001b[0;34m\u001b[0m\u001b[0;34m\u001b[0m\u001b[0m\n\u001b[0m\u001b[1;32m   2896\u001b[0m             \u001b[0;32mexcept\u001b[0m \u001b[0mKeyError\u001b[0m \u001b[0;32mas\u001b[0m \u001b[0merr\u001b[0m\u001b[0;34m:\u001b[0m\u001b[0;34m\u001b[0m\u001b[0;34m\u001b[0m\u001b[0m\n",
      "\u001b[0;32mpandas/_libs/index.pyx\u001b[0m in \u001b[0;36mpandas._libs.index.IndexEngine.get_loc\u001b[0;34m()\u001b[0m\n",
      "\u001b[0;32mpandas/_libs/index.pyx\u001b[0m in \u001b[0;36mpandas._libs.index.IndexEngine.get_loc\u001b[0;34m()\u001b[0m\n",
      "\u001b[0;32mpandas/_libs/hashtable_class_helper.pxi\u001b[0m in \u001b[0;36mpandas._libs.hashtable.PyObjectHashTable.get_item\u001b[0;34m()\u001b[0m\n",
      "\u001b[0;32mpandas/_libs/hashtable_class_helper.pxi\u001b[0m in \u001b[0;36mpandas._libs.hashtable.PyObjectHashTable.get_item\u001b[0;34m()\u001b[0m\n",
      "\u001b[0;31mKeyError\u001b[0m: ('release_date', 'movie')",
      "\nThe above exception was the direct cause of the following exception:\n",
      "\u001b[0;31mKeyError\u001b[0m                                  Traceback (most recent call last)",
      "\u001b[0;32m<ipython-input-127-8749a60af34e>\u001b[0m in \u001b[0;36m<module>\u001b[0;34m\u001b[0m\n\u001b[0;32m----> 1\u001b[0;31m \u001b[0mtn_movie_top25_nice\u001b[0m \u001b[0;34m=\u001b[0m \u001b[0mtn_movie_top25\u001b[0m\u001b[0;34m(\u001b[0m\u001b[0mtn_movie_top25\u001b[0m\u001b[0;34m[\u001b[0m\u001b[0;34m'release_date'\u001b[0m\u001b[0;34m,\u001b[0m \u001b[0;34m'movie'\u001b[0m\u001b[0;34m]\u001b[0m\u001b[0;34m)\u001b[0m\u001b[0;34m\u001b[0m\u001b[0;34m\u001b[0m\u001b[0m\n\u001b[0m",
      "\u001b[0;32m~/opt/anaconda3/envs/learn-env/lib/python3.8/site-packages/pandas/core/frame.py\u001b[0m in \u001b[0;36m__getitem__\u001b[0;34m(self, key)\u001b[0m\n\u001b[1;32m   2900\u001b[0m             \u001b[0;32mif\u001b[0m \u001b[0mself\u001b[0m\u001b[0;34m.\u001b[0m\u001b[0mcolumns\u001b[0m\u001b[0;34m.\u001b[0m\u001b[0mnlevels\u001b[0m \u001b[0;34m>\u001b[0m \u001b[0;36m1\u001b[0m\u001b[0;34m:\u001b[0m\u001b[0;34m\u001b[0m\u001b[0;34m\u001b[0m\u001b[0m\n\u001b[1;32m   2901\u001b[0m                 \u001b[0;32mreturn\u001b[0m \u001b[0mself\u001b[0m\u001b[0;34m.\u001b[0m\u001b[0m_getitem_multilevel\u001b[0m\u001b[0;34m(\u001b[0m\u001b[0mkey\u001b[0m\u001b[0;34m)\u001b[0m\u001b[0;34m\u001b[0m\u001b[0;34m\u001b[0m\u001b[0m\n\u001b[0;32m-> 2902\u001b[0;31m             \u001b[0mindexer\u001b[0m \u001b[0;34m=\u001b[0m \u001b[0mself\u001b[0m\u001b[0;34m.\u001b[0m\u001b[0mcolumns\u001b[0m\u001b[0;34m.\u001b[0m\u001b[0mget_loc\u001b[0m\u001b[0;34m(\u001b[0m\u001b[0mkey\u001b[0m\u001b[0;34m)\u001b[0m\u001b[0;34m\u001b[0m\u001b[0;34m\u001b[0m\u001b[0m\n\u001b[0m\u001b[1;32m   2903\u001b[0m             \u001b[0;32mif\u001b[0m \u001b[0mis_integer\u001b[0m\u001b[0;34m(\u001b[0m\u001b[0mindexer\u001b[0m\u001b[0;34m)\u001b[0m\u001b[0;34m:\u001b[0m\u001b[0;34m\u001b[0m\u001b[0;34m\u001b[0m\u001b[0m\n\u001b[1;32m   2904\u001b[0m                 \u001b[0mindexer\u001b[0m \u001b[0;34m=\u001b[0m \u001b[0;34m[\u001b[0m\u001b[0mindexer\u001b[0m\u001b[0;34m]\u001b[0m\u001b[0;34m\u001b[0m\u001b[0;34m\u001b[0m\u001b[0m\n",
      "\u001b[0;32m~/opt/anaconda3/envs/learn-env/lib/python3.8/site-packages/pandas/core/indexes/base.py\u001b[0m in \u001b[0;36mget_loc\u001b[0;34m(self, key, method, tolerance)\u001b[0m\n\u001b[1;32m   2895\u001b[0m                 \u001b[0;32mreturn\u001b[0m \u001b[0mself\u001b[0m\u001b[0;34m.\u001b[0m\u001b[0m_engine\u001b[0m\u001b[0;34m.\u001b[0m\u001b[0mget_loc\u001b[0m\u001b[0;34m(\u001b[0m\u001b[0mcasted_key\u001b[0m\u001b[0;34m)\u001b[0m\u001b[0;34m\u001b[0m\u001b[0;34m\u001b[0m\u001b[0m\n\u001b[1;32m   2896\u001b[0m             \u001b[0;32mexcept\u001b[0m \u001b[0mKeyError\u001b[0m \u001b[0;32mas\u001b[0m \u001b[0merr\u001b[0m\u001b[0;34m:\u001b[0m\u001b[0;34m\u001b[0m\u001b[0;34m\u001b[0m\u001b[0m\n\u001b[0;32m-> 2897\u001b[0;31m                 \u001b[0;32mraise\u001b[0m \u001b[0mKeyError\u001b[0m\u001b[0;34m(\u001b[0m\u001b[0mkey\u001b[0m\u001b[0;34m)\u001b[0m \u001b[0;32mfrom\u001b[0m \u001b[0merr\u001b[0m\u001b[0;34m\u001b[0m\u001b[0;34m\u001b[0m\u001b[0m\n\u001b[0m\u001b[1;32m   2898\u001b[0m \u001b[0;34m\u001b[0m\u001b[0m\n\u001b[1;32m   2899\u001b[0m         \u001b[0;32mif\u001b[0m \u001b[0mtolerance\u001b[0m \u001b[0;32mis\u001b[0m \u001b[0;32mnot\u001b[0m \u001b[0;32mNone\u001b[0m\u001b[0;34m:\u001b[0m\u001b[0;34m\u001b[0m\u001b[0;34m\u001b[0m\u001b[0m\n",
      "\u001b[0;31mKeyError\u001b[0m: ('release_date', 'movie')"
     ]
    }
   ],
   "source": []
  },
  {
   "cell_type": "code",
   "execution_count": null,
   "metadata": {},
   "outputs": [],
   "source": [
    "tn_movie_top25_nice_2 = tn_movie_top25.drop(['release_date'], axis=1)"
   ]
  },
  {
   "cell_type": "code",
   "execution_count": null,
   "metadata": {},
   "outputs": [],
   "source": [
    "tn_movie_top25_nice_2"
   ]
  },
  {
   "cell_type": "code",
   "execution_count": null,
   "metadata": {},
   "outputs": [],
   "source": [
    "tn_movie_top25['production_budget_new'].mean() / 1000000"
   ]
  },
  {
   "cell_type": "code",
   "execution_count": null,
   "metadata": {},
   "outputs": [],
   "source": [
    "tn_movie_top25['worldwide_gross_new'].mean() / 1000000"
   ]
  },
  {
   "cell_type": "code",
   "execution_count": null,
   "metadata": {},
   "outputs": [],
   "source": [
    "fig, ax = plt.subplots()\n",
    "\n",
    "# Graph X vs. Y as a scatter plot\n",
    "ax.scatter(tn_movie_top25['production_budget_new'], tn_movie_top25['worldwide_gross_new'], s=60, alpha=0.7, edgecolors=\"k\")\n",
    "\n",
    "\n",
    "\n",
    "m, b = np.polyfit(tn_movie_top25['production_budget_new'], tn_movie_top25['worldwide_gross_new'], 1)\n",
    "\n",
    "\n",
    "plt.plot(tn_movie_top25['production_budget_new'], m*tn_movie_top25['production_budget_new'] + b,  color=\"black\", lw=0.5)\n",
    "\n"
   ]
  },
  {
   "cell_type": "code",
   "execution_count": null,
   "metadata": {},
   "outputs": [],
   "source": [
    "stats.pearsonr(tn_movie_top25['production_budget_new'], tn_movie_top25['worldwide_gross_new'])\n",
    "\n",
    "#Pearson’s r (0,4063—same as we got in Excel, R, etc.)\n",
    "#A p-value. This is the probability that the true value of r is zero (no correlation).\n",
    "\n"
   ]
  },
  {
   "cell_type": "code",
   "execution_count": null,
   "metadata": {},
   "outputs": [],
   "source": []
  },
  {
   "cell_type": "code",
   "execution_count": null,
   "metadata": {},
   "outputs": [],
   "source": [
    "imdb_names.head()"
   ]
  },
  {
   "cell_type": "code",
   "execution_count": null,
   "metadata": {},
   "outputs": [],
   "source": []
  },
  {
   "cell_type": "code",
   "execution_count": null,
   "metadata": {},
   "outputs": [],
   "source": []
  },
  {
   "cell_type": "code",
   "execution_count": null,
   "metadata": {},
   "outputs": [],
   "source": []
  },
  {
   "cell_type": "code",
   "execution_count": null,
   "metadata": {},
   "outputs": [],
   "source": []
  },
  {
   "cell_type": "code",
   "execution_count": null,
   "metadata": {},
   "outputs": [],
   "source": []
  },
  {
   "cell_type": "code",
   "execution_count": null,
   "metadata": {},
   "outputs": [],
   "source": []
  },
  {
   "cell_type": "code",
   "execution_count": null,
   "metadata": {},
   "outputs": [],
   "source": []
  },
  {
   "cell_type": "code",
   "execution_count": null,
   "metadata": {},
   "outputs": [],
   "source": []
  },
  {
   "cell_type": "code",
   "execution_count": null,
   "metadata": {},
   "outputs": [],
   "source": [
    "rt_reviews.head(15)"
   ]
  },
  {
   "cell_type": "code",
   "execution_count": null,
   "metadata": {},
   "outputs": [],
   "source": [
    "rt_reviews['rating_new'] = rt_reviews['rating']"
   ]
  },
  {
   "cell_type": "code",
   "execution_count": null,
   "metadata": {},
   "outputs": [],
   "source": [
    "rt_reviews.dropna(subset = ['rating_new'], inplace=True)"
   ]
  },
  {
   "cell_type": "code",
   "execution_count": null,
   "metadata": {},
   "outputs": [],
   "source": [
    "rt_reviews.head()"
   ]
  },
  {
   "cell_type": "code",
   "execution_count": null,
   "metadata": {},
   "outputs": [],
   "source": [
    "a = rt_reviews[rt_reviews['rating_new'].astype(str).str.isdigit()]\n",
    "\n",
    "\n",
    "\n"
   ]
  },
  {
   "cell_type": "code",
   "execution_count": null,
   "metadata": {},
   "outputs": [],
   "source": [
    "rt_movies.head()"
   ]
  },
  {
   "cell_type": "code",
   "execution_count": null,
   "metadata": {},
   "outputs": [],
   "source": [
    "imdb_principals.head()"
   ]
  },
  {
   "cell_type": "code",
   "execution_count": null,
   "metadata": {},
   "outputs": [],
   "source": [
    "tn_movie_top25.head(2)"
   ]
  },
  {
   "cell_type": "code",
   "execution_count": null,
   "metadata": {},
   "outputs": [],
   "source": [
    "imdb_title_rating.head(2)"
   ]
  },
  {
   "cell_type": "code",
   "execution_count": null,
   "metadata": {},
   "outputs": [],
   "source": [
    "tn_movie_top25 = tn_movie_top25.rename(columns={'movie': 'original_title'})\n",
    "tn_movie_top25.head(2)"
   ]
  },
  {
   "cell_type": "code",
   "execution_count": null,
   "metadata": {},
   "outputs": [],
   "source": [
    "gross_director_1  = pd.merge(tn_movie_top25, \n",
    "                              imdb_title_rating, \n",
    "                              on=['original_title'], \n",
    "                              how='inner') "
   ]
  },
  {
   "cell_type": "code",
   "execution_count": null,
   "metadata": {},
   "outputs": [],
   "source": [
    "gross_director_2  = pd.merge(gross_director_1, \n",
    "                              imdb_crew, \n",
    "                              on=['tconst'], \n",
    "                              how='inner') "
   ]
  },
  {
   "cell_type": "code",
   "execution_count": null,
   "metadata": {},
   "outputs": [],
   "source": []
  },
  {
   "cell_type": "code",
   "execution_count": null,
   "metadata": {},
   "outputs": [],
   "source": [
    "gross_director_3 = gross_director_2.rename(columns={'directors': 'directors'})\n"
   ]
  },
  {
   "cell_type": "code",
   "execution_count": null,
   "metadata": {},
   "outputs": [],
   "source": [
    "gross_director_3.head(2)"
   ]
  },
  {
   "cell_type": "code",
   "execution_count": null,
   "metadata": {},
   "outputs": [],
   "source": [
    "gross_director_3['directors'].value_counts()\n"
   ]
  },
  {
   "cell_type": "code",
   "execution_count": null,
   "metadata": {},
   "outputs": [],
   "source": [
    "col_one_directors = gross_director_3['directors'].tolist()\n",
    "\n",
    "sent_str = \"\"\n",
    "for x in col_one_directors:\n",
    "    sent_str += str(x) + \",\"\n",
    "\n",
    "directors_str = sent_str.split(',')\n",
    "directors_str"
   ]
  },
  {
   "cell_type": "code",
   "execution_count": null,
   "metadata": {},
   "outputs": [],
   "source": [
    "directors = Counter(directors_str).most_common()\n",
    "print(directors)\n",
    "type(directors)"
   ]
  },
  {
   "cell_type": "code",
   "execution_count": null,
   "metadata": {},
   "outputs": [],
   "source": [
    "directors[0][0]"
   ]
  },
  {
   "cell_type": "code",
   "execution_count": null,
   "metadata": {},
   "outputs": [],
   "source": [
    "imdb_names.head()"
   ]
  },
  {
   "cell_type": "code",
   "execution_count": null,
   "metadata": {},
   "outputs": [],
   "source": [
    "const_directors = []\n",
    "for x in directors:\n",
    "    const_directors.append(x[0])\n",
    "\n",
    "\n",
    "repetitions_directors = []\n",
    "for x in directors:\n",
    "    repetitions_directors.append(x[1])\n"
   ]
  },
  {
   "cell_type": "code",
   "execution_count": null,
   "metadata": {},
   "outputs": [],
   "source": [
    "d = {'directors':const_directors,'repetition':repetitions_directors}\n",
    "df_directors = pd.DataFrame(d)\n",
    "\n",
    "df_directors = df_directors.rename(columns={'directors': 'nconst'})\n",
    "df_directors"
   ]
  },
  {
   "cell_type": "code",
   "execution_count": null,
   "metadata": {},
   "outputs": [],
   "source": [
    "gross_director_4  = pd.merge(df_directors, \n",
    "                              imdb_names, \n",
    "                              on=['nconst'], \n",
    "                              how='inner') "
   ]
  },
  {
   "cell_type": "code",
   "execution_count": null,
   "metadata": {},
   "outputs": [],
   "source": []
  },
  {
   "cell_type": "code",
   "execution_count": null,
   "metadata": {},
   "outputs": [],
   "source": [
    "gross_director_5 = gross_director_4.drop(['nconst','birth_year', 'death_year','primary_profession', 'known_for_titles'], axis = 1)\n",
    "gross_director_5.head(2)"
   ]
  },
  {
   "cell_type": "code",
   "execution_count": null,
   "metadata": {},
   "outputs": [],
   "source": [
    "gross_director_5 = gross_director_5.rename(columns={'primary_name': 'Director', 'repetition' : 'number of Top 25 movies'})\n",
    "gross_director_5"
   ]
  },
  {
   "cell_type": "code",
   "execution_count": null,
   "metadata": {},
   "outputs": [],
   "source": []
  },
  {
   "cell_type": "code",
   "execution_count": null,
   "metadata": {},
   "outputs": [],
   "source": []
  },
  {
   "cell_type": "code",
   "execution_count": null,
   "metadata": {},
   "outputs": [],
   "source": []
  },
  {
   "cell_type": "code",
   "execution_count": null,
   "metadata": {},
   "outputs": [],
   "source": []
  },
  {
   "cell_type": "code",
   "execution_count": null,
   "metadata": {},
   "outputs": [],
   "source": []
  },
  {
   "cell_type": "code",
   "execution_count": null,
   "metadata": {},
   "outputs": [],
   "source": []
  },
  {
   "cell_type": "code",
   "execution_count": null,
   "metadata": {},
   "outputs": [],
   "source": []
  },
  {
   "cell_type": "code",
   "execution_count": null,
   "metadata": {},
   "outputs": [],
   "source": []
  },
  {
   "cell_type": "code",
   "execution_count": null,
   "metadata": {},
   "outputs": [],
   "source": []
  },
  {
   "cell_type": "markdown",
   "metadata": {},
   "source": [
    "## Evaluation\n",
    "Evaluate how well your work solves the stated business problem.\n",
    "\n",
    "***\n",
    "Questions to consider:\n",
    "* How do you interpret the results?\n",
    "* How well does your model fit your data? How much better is this than your baseline model?\n",
    "* How confident are you that your results would generalize beyond the data you have?\n",
    "* How confident are you that this model would benefit the business if put into use?\n",
    "***"
   ]
  },
  {
   "cell_type": "code",
   "execution_count": null,
   "metadata": {},
   "outputs": [],
   "source": []
  },
  {
   "cell_type": "code",
   "execution_count": null,
   "metadata": {},
   "outputs": [],
   "source": []
  },
  {
   "cell_type": "code",
   "execution_count": null,
   "metadata": {},
   "outputs": [],
   "source": []
  },
  {
   "cell_type": "code",
   "execution_count": null,
   "metadata": {},
   "outputs": [],
   "source": []
  },
  {
   "cell_type": "markdown",
   "metadata": {},
   "source": [
    "## Conclusions\n",
    "Provide your conclusions about the work you've done, including any limitations or next steps.\n",
    "\n",
    "***\n",
    "Questions to consider:\n",
    "* What would you recommend the business do as a result of this work?\n",
    "* What are some reasons why your analysis might not fully solve the business problem?\n",
    "* What else could you do in the future to improve this project?\n",
    "***"
   ]
  },
  {
   "cell_type": "code",
   "execution_count": null,
   "metadata": {},
   "outputs": [],
   "source": []
  },
  {
   "cell_type": "code",
   "execution_count": null,
   "metadata": {},
   "outputs": [],
   "source": []
  },
  {
   "cell_type": "code",
   "execution_count": null,
   "metadata": {},
   "outputs": [],
   "source": []
  }
 ],
 "metadata": {
  "kernelspec": {
   "display_name": "Python 3",
   "language": "python",
   "name": "python3"
  },
  "language_info": {
   "codemirror_mode": {
    "name": "ipython",
    "version": 3
   },
   "file_extension": ".py",
   "mimetype": "text/x-python",
   "name": "python",
   "nbconvert_exporter": "python",
   "pygments_lexer": "ipython3",
   "version": "3.8.5"
  }
 },
 "nbformat": 4,
 "nbformat_minor": 4
}
